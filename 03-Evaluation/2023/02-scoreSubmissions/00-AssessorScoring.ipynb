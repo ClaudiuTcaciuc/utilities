{
 "cells": [
  {
   "cell_type": "markdown",
   "id": "6ec60998",
   "metadata": {},
   "source": [
    "# Score Against NIST Assessors"
   ]
  },
  {
   "cell_type": "code",
   "execution_count": 34,
   "id": "af157e5d",
   "metadata": {},
   "outputs": [],
   "source": [
    "import collections\n",
    "import glob \n",
    "import json\n",
    "\n",
    "import networkx as nx\n",
    "import pandas as pd\n",
    "import os\n",
    "\n",
    "import matplotlib.pyplot as plt"
   ]
  },
  {
   "cell_type": "code",
   "execution_count": null,
   "id": "aa821960",
   "metadata": {},
   "outputs": [],
   "source": []
  },
  {
   "cell_type": "code",
   "execution_count": 35,
   "id": "9a238532",
   "metadata": {},
   "outputs": [],
   "source": [
    "with open(\"final-annotated-facts-results.json\", \"r\") as in_file:\n",
    "    annotation_data = json.load(in_file)"
   ]
  },
  {
   "cell_type": "code",
   "execution_count": 36,
   "id": "263294bb",
   "metadata": {},
   "outputs": [],
   "source": [
    "# fact_score = {\n",
    "#     \"USEFUL_FACT\": 1.0,\n",
    "#     \"REDUNDANT_FACT\": 0.67,\n",
    "#     \"POOR_FACT\": 0.33,\n",
    "#     \"LAGGED_FACT\": 0.0,\n",
    "# }\n",
    "\n",
    "fact_score = {\n",
    "    \"USEFUL_FACT\": 1.0,\n",
    "    \"REDUNDANT_FACT\": 0.5,\n",
    "    \"POOR_FACT\": 0.0,\n",
    "    \"LAGGED_FACT\": 0.0,\n",
    "}\n",
    "\n",
    "\n",
    "# fact_score = {\n",
    "#     \"USEFUL_FACT\": 1.0,\n",
    "#     \"REDUNDANT_FACT\": 0.0,\n",
    "#     \"POOR_FACT\": 0.0,\n",
    "#     \"LAGGED_FACT\": 0.0,\n",
    "# }"
   ]
  },
  {
   "cell_type": "code",
   "execution_count": null,
   "id": "fc02b301",
   "metadata": {},
   "outputs": [],
   "source": []
  },
  {
   "cell_type": "code",
   "execution_count": 37,
   "id": "ee7d13fb",
   "metadata": {},
   "outputs": [
    {
     "name": "stdout",
     "output_type": "stream",
     "text": [
      "CrisisFACTS-003-r5\n",
      "CrisisFACTS-003-r6\n",
      "CrisisFACTS-003-r7\n",
      "CrisisFACTS-003-r8\n",
      "CrisisFACTS-003-r9\n",
      "CrisisFACTS-003-r10\n",
      "CrisisFACTS-003-r11\n",
      "CrisisFACTS-004-r8\n",
      "CrisisFACTS-004-r9\n",
      "CrisisFACTS-004-r10\n",
      "CrisisFACTS-004-r11\n",
      "CrisisFACTS-004-r12\n",
      "CrisisFACTS-004-r13\n",
      "CrisisFACTS-004-r14\n",
      "CrisisFACTS-004-r15\n",
      "CrisisFACTS-004-r16\n",
      "CrisisFACTS-004-r17\n",
      "CrisisFACTS-004-r18\n",
      "CrisisFACTS-004-r19\n",
      "CrisisFACTS-004-r20\n",
      "CrisisFACTS-004-r21\n",
      "CrisisFACTS-004-r22\n",
      "CrisisFACTS-006-r4\n",
      "CrisisFACTS-006-r5\n",
      "CrisisFACTS-006-r6\n",
      "CrisisFACTS-006-r7\n",
      "CrisisFACTS-007-r13\n",
      "CrisisFACTS-007-r14\n",
      "CrisisFACTS-013-r0\n",
      "CrisisFACTS-013-r1\n",
      "CrisisFACTS-013-r2\n",
      "CrisisFACTS-013-r3\n",
      "CrisisFACTS-013-r4\n",
      "CrisisFACTS-013-r5\n",
      "CrisisFACTS-014-r0\n",
      "CrisisFACTS-014-r1\n",
      "CrisisFACTS-014-r2\n",
      "CrisisFACTS-014-r3\n",
      "CrisisFACTS-014-r4\n",
      "CrisisFACTS-014-r5\n",
      "CrisisFACTS-014-r6\n",
      "CrisisFACTS-001-r3\n",
      "CrisisFACTS-001-r4\n",
      "CrisisFACTS-001-r5\n",
      "CrisisFACTS-001-r6\n",
      "CrisisFACTS-001-r7\n",
      "CrisisFACTS-001-r8\n",
      "CrisisFACTS-001-r9\n",
      "CrisisFACTS-001-r10\n",
      "CrisisFACTS-001-r11\n",
      "CrisisFACTS-011-r0\n",
      "CrisisFACTS-011-r1\n",
      "CrisisFACTS-011-r2\n",
      "CrisisFACTS-011-r3\n",
      "CrisisFACTS-012-r0\n",
      "CrisisFACTS-012-r1\n",
      "CrisisFACTS-012-r2\n",
      "CrisisFACTS-012-r3\n",
      "CrisisFACTS-012-r4\n",
      "CrisisFACTS-012-r5\n",
      "CAUTION: No relevant facts in [CrisisFACTS-012-r5]\n",
      "CrisisFACTS-012-r6\n",
      "CAUTION: No relevant facts in [CrisisFACTS-012-r6]\n",
      "CrisisFACTS-016-r0\n",
      "CrisisFACTS-016-r1\n",
      "CrisisFACTS-016-r2\n",
      "CrisisFACTS-016-r3\n",
      "CrisisFACTS-017-r0\n",
      "CrisisFACTS-017-r1\n",
      "CrisisFACTS-017-r2\n",
      "CrisisFACTS-017-r3\n",
      "CrisisFACTS-017-r4\n",
      "CrisisFACTS-017-r5\n",
      "CrisisFACTS-018-r0\n",
      "CrisisFACTS-018-r1\n",
      "CrisisFACTS-018-r2\n",
      "CrisisFACTS-018-r3\n",
      "CrisisFACTS-018-r4\n",
      "CrisisFACTS-002-r2\n",
      "CrisisFACTS-002-r1\n",
      "CrisisFACTS-002-r3\n",
      "CrisisFACTS-002-r4\n",
      "CrisisFACTS-002-r5\n",
      "CrisisFACTS-002-r6\n",
      "CrisisFACTS-008-r3\n",
      "CrisisFACTS-008-r4\n",
      "CrisisFACTS-008-r5\n",
      "CrisisFACTS-008-r6\n",
      "CrisisFACTS-008-r7\n",
      "CrisisFACTS-008-r9\n",
      "CrisisFACTS-008-r8\n",
      "CrisisFACTS-008-r10\n",
      "CrisisFACTS-013-r6\n",
      "CAUTION: No relevant facts in [CrisisFACTS-013-r6]\n",
      "CrisisFACTS-005-r3\n",
      "CrisisFACTS-005-r4\n",
      "CrisisFACTS-005-r5\n",
      "CrisisFACTS-005-r6\n",
      "CrisisFACTS-010-r0\n",
      "CrisisFACTS-010-r1\n",
      "CrisisFACTS-010-r2\n",
      "CrisisFACTS-010-r3\n",
      "CrisisFACTS-010-r4\n",
      "CrisisFACTS-010-r5\n",
      "CrisisFACTS-011-r4\n",
      "CrisisFACTS-015-r0\n",
      "CrisisFACTS-015-r1\n",
      "CrisisFACTS-015-r2\n",
      "CrisisFACTS-015-r3\n",
      "CrisisFACTS-015-r4\n",
      "CrisisFACTS-015-r5\n",
      "CrisisFACTS-015-r6\n",
      "CrisisFACTS-016-r4\n",
      "CrisisFACTS-009-r1\n",
      "CrisisFACTS-009-r2\n",
      "CrisisFACTS-009-r3\n",
      "CrisisFACTS-009-r4\n",
      "CrisisFACTS-009-r5\n",
      "CrisisFACTS-009-r6\n",
      "CrisisFACTS-018-r5\n",
      "CrisisFACTS-009-r0\n"
     ]
    }
   ],
   "source": [
    "run_scores = []\n",
    "\n",
    "for req_id,req_data in annotation_data.items():\n",
    "    print(req_id)\n",
    "    \n",
    "    if not os.path.exists(\"../00-createSummaries/collapsed-event-days/Collapsed-%s.json\" % req_id):\n",
    "        print(\"CAUTION: No collapsed data for [%s]\" % req_id)\n",
    "        continue\n",
    "    \n",
    "    with open(\"../00-createSummaries/collapsed-event-days/Collapsed-%s.json\" % req_id, \"r\") as in_file:\n",
    "        collapsed_fact_data = json.load(in_file)\n",
    "        \n",
    "    # Generate the scores for each relevant fact the assessor scored\n",
    "    #. We take the MAXIMUM value associated with a fact for instances\n",
    "    #. where assessors provided multiple values for a single fact\n",
    "    fact_df = pd.DataFrame(req_data[\"fact_list\"], columns=[\"fact_id\", \"assessor\", \"label\"])\n",
    "    fact_df[\"score\"] = fact_df[\"label\"].apply(fact_score.get)\n",
    "    fact_score_df = fact_df[[\"fact_id\", \"score\"]].groupby(\"fact_id\").max()\n",
    "    fact_score_map = {idx:row[\"score\"] for idx,row in fact_score_df.iterrows()}\n",
    "    \n",
    "    g = nx.Graph()\n",
    "    for element in collapsed_fact_data:\n",
    "        collapsed_fact_id = element[\"collapsed_fact_id\"]\n",
    "        related_facts = element[\"relevant_facts\"]\n",
    "        \n",
    "        g.add_node(collapsed_fact_id, vtype=\"meta\", score=fact_score_map.get(collapsed_fact_id,0))\n",
    "        for sub_fact_id in related_facts:\n",
    "            g.add_node(sub_fact_id, vtype=\"raw\")\n",
    "            g.add_edge(sub_fact_id, collapsed_fact_id)\n",
    "    \n",
    "\n",
    "    \n",
    "    # Score this run\n",
    "    run2facts = [\n",
    "        (v.replace(\"%s-\" % req_id, \"\").rpartition(\"-\")[0], v) \n",
    "        for v,vd in g.nodes(data=True) if vd[\"vtype\"] != \"meta\"\n",
    "    ]\n",
    "\n",
    "    runsets = {}\n",
    "    for runtag,fact_id in run2facts:\n",
    "        this_run_facts = runsets.get(runtag, [])\n",
    "        this_run_facts.append(fact_id)\n",
    "        runsets[runtag] = this_run_facts\n",
    "\n",
    "    nonzero_facts = {v for v,vd in g.nodes(data=True) if vd[\"vtype\"] == \"meta\" and vd[\"score\"] > 0}\n",
    "    if len(nonzero_facts) == 0:\n",
    "        print(\"CAUTION: No relevant facts in [%s]\" % req_id)\n",
    "        continue\n",
    "    \n",
    "    for k,v in runsets.items():\n",
    "\n",
    "        neighbors = {n_id for f_id in v for n_id in g.neighbors(f_id)}\n",
    "        local_score = sum([g.nodes[v][\"score\"] for v in neighbors])\n",
    "        precision = local_score / len(neighbors)\n",
    "        recall = len(nonzero_facts.intersection(neighbors)) / len(nonzero_facts)\n",
    "\n",
    "        run_scores.append((req_id, k, precision, recall))"
   ]
  },
  {
   "cell_type": "code",
   "execution_count": null,
   "id": "c133a1b2",
   "metadata": {},
   "outputs": [],
   "source": []
  },
  {
   "cell_type": "code",
   "execution_count": 38,
   "id": "a187c4fd",
   "metadata": {},
   "outputs": [
    {
     "data": {
      "text/plain": [
       "[('nm-gpt35-bm25', 'CrisisFACTS-009-r0-nm-gpt35-bm25-0016'),\n",
       " ('IRLabIITBHU_DFReeKLIM_1',\n",
       "  'CrisisFACTS-009-r0-IRLabIITBHU_DFReeKLIM_1-0013'),\n",
       " ('baseline.v1', 'CrisisFACTS-009-r0-baseline.v1-0013'),\n",
       " ('nm-gpt35', 'CrisisFACTS-009-r0-nm-gpt35-0011'),\n",
       " ('nm-gpt35-bm25', 'CrisisFACTS-009-r0-nm-gpt35-bm25-0013'),\n",
       " ('Thesis_Retriver', 'CrisisFACTS-009-r0-Thesis_Retriver-0000'),\n",
       " ('nm-gpt35', 'CrisisFACTS-009-r0-nm-gpt35-0013'),\n",
       " ('nut-kslab01', 'CrisisFACTS-009-r0-nut-kslab01-0012'),\n",
       " ('Siena.WikiTrigrams1', 'CrisisFACTS-009-r0-Siena.WikiTrigrams1-0019'),\n",
       " ('baseline.v2', 'CrisisFACTS-009-r0-baseline.v2-0013'),\n",
       " ('IDACCS_occams_extract', 'CrisisFACTS-009-r0-IDACCS_occams_extract-0010'),\n",
       " ('IRLabIITBHU_BM25_1', 'CrisisFACTS-009-r0-IRLabIITBHU_BM25_1-0012'),\n",
       " ('nm-gpt35', 'CrisisFACTS-009-r0-nm-gpt35-0052'),\n",
       " ('nm-gpt35-bm25', 'CrisisFACTS-009-r0-nm-gpt35-bm25-0046'),\n",
       " ('nm-gpt35', 'CrisisFACTS-009-r0-nm-gpt35-0048'),\n",
       " ('nm-gpt35-bm25', 'CrisisFACTS-009-r0-nm-gpt35-bm25-0038'),\n",
       " ('nm-gpt35', 'CrisisFACTS-009-r0-nm-gpt35-0010'),\n",
       " ('nm-gpt35-bm25', 'CrisisFACTS-009-r0-nm-gpt35-bm25-0015'),\n",
       " ('nm-gpt35', 'CrisisFACTS-009-r0-nm-gpt35-0047'),\n",
       " ('nm-gpt35-bm25', 'CrisisFACTS-009-r0-nm-gpt35-bm25-0037'),\n",
       " ('Human_Info_Lab-FM-A', 'CrisisFACTS-009-r0-Human_Info_Lab-FM-A-0019'),\n",
       " ('IDACCS_occamsHybridGPT3.5',\n",
       "  'CrisisFACTS-009-r0-IDACCS_occamsHybridGPT3.5-0000'),\n",
       " ('IDACCS_occamsHybridGPT3.5',\n",
       "  'CrisisFACTS-009-r0-IDACCS_occamsHybridGPT3.5-0001'),\n",
       " ('IDACCS_occamsHybridGPT3.5',\n",
       "  'CrisisFACTS-009-r0-IDACCS_occamsHybridGPT3.5-0002'),\n",
       " ('IDACCS_occamsHybridGPT3.5',\n",
       "  'CrisisFACTS-009-r0-IDACCS_occamsHybridGPT3.5-0004'),\n",
       " ('IDACCS_occamsHybridGPT3.5',\n",
       "  'CrisisFACTS-009-r0-IDACCS_occamsHybridGPT3.5-0005'),\n",
       " ('IDACCS_occamsHybridGPT3.5',\n",
       "  'CrisisFACTS-009-r0-IDACCS_occamsHybridGPT3.5-0006'),\n",
       " ('IDACCS_occamsHybridGPT3.5',\n",
       "  'CrisisFACTS-009-r0-IDACCS_occamsHybridGPT3.5-0007'),\n",
       " ('IDACCS_occamsHybridGPT3.5',\n",
       "  'CrisisFACTS-009-r0-IDACCS_occamsHybridGPT3.5-0008'),\n",
       " ('V-TorontoMU_USE_4', 'CrisisFACTS-009-r0-V-TorontoMU_USE_4-0059'),\n",
       " ('llama', 'CrisisFACTS-009-r0-llama-0000'),\n",
       " ('nm-gpt35-bm25', 'CrisisFACTS-009-r0-nm-gpt35-bm25-0031'),\n",
       " ('nm-gpt35-bm25', 'CrisisFACTS-009-r0-nm-gpt35-bm25-0042'),\n",
       " ('nm-gpt35-bm25', 'CrisisFACTS-009-r0-nm-gpt35-bm25-0043'),\n",
       " ('nm-gpt35-bm25', 'CrisisFACTS-009-r0-nm-gpt35-bm25-0030'),\n",
       " ('nm-gpt35-bm25', 'CrisisFACTS-009-r0-nm-gpt35-bm25-0012'),\n",
       " ('nm-gpt35-bm25', 'CrisisFACTS-009-r0-nm-gpt35-bm25-0039'),\n",
       " ('nm-gpt35-bm25', 'CrisisFACTS-009-r0-nm-gpt35-bm25-0045'),\n",
       " ('nm-gpt35-bm25', 'CrisisFACTS-009-r0-nm-gpt35-bm25-0052'),\n",
       " ('nm-gpt35-bm25', 'CrisisFACTS-009-r0-nm-gpt35-bm25-0019'),\n",
       " ('nm-gpt35', 'CrisisFACTS-009-r0-nm-gpt35-0060'),\n",
       " ('nm-gpt35-bm25', 'CrisisFACTS-009-r0-nm-gpt35-bm25-0053'),\n",
       " ('IDACCS_occamsHybridGPT3.5',\n",
       "  'CrisisFACTS-009-r0-IDACCS_occamsHybridGPT3.5-0003'),\n",
       " ('Human_Info_Lab-FM-B', 'CrisisFACTS-009-r0-Human_Info_Lab-FM-B-0048'),\n",
       " ('IRLabIITBHU_BM25_1', 'CrisisFACTS-009-r0-IRLabIITBHU_BM25_1-0048'),\n",
       " ('IRLabIITBHU_DFReeKLIM_1',\n",
       "  'CrisisFACTS-009-r0-IRLabIITBHU_DFReeKLIM_1-0047'),\n",
       " ('baseline.v2', 'CrisisFACTS-009-r0-baseline.v2-0047'),\n",
       " ('nm-gpt35-bm25', 'CrisisFACTS-009-r0-nm-gpt35-bm25-0056'),\n",
       " ('Human_Info_Lab-FM-B', 'CrisisFACTS-009-r0-Human_Info_Lab-FM-B-0029'),\n",
       " ('IDACCS_occams_extract', 'CrisisFACTS-009-r0-IDACCS_occams_extract-0023'),\n",
       " ('IRLabIITBHU_BM25_1', 'CrisisFACTS-009-r0-IRLabIITBHU_BM25_1-0027'),\n",
       " ('IRLabIITBHU_DFReeKLIM_1',\n",
       "  'CrisisFACTS-009-r0-IRLabIITBHU_DFReeKLIM_1-0027'),\n",
       " ('Siena.WikiTrigrams1', 'CrisisFACTS-009-r0-Siena.WikiTrigrams1-0044'),\n",
       " ('baseline.v1', 'CrisisFACTS-009-r0-baseline.v1-0027'),\n",
       " ('baseline.v2', 'CrisisFACTS-009-r0-baseline.v2-0027'),\n",
       " ('nm-gpt35', 'CrisisFACTS-009-r0-nm-gpt35-0041'),\n",
       " ('nut-kslab01', 'CrisisFACTS-009-r0-nut-kslab01-0027'),\n",
       " ('IDACCS_occams_extract', 'CrisisFACTS-009-r0-IDACCS_occams_extract-0027'),\n",
       " ('baseline.v1', 'CrisisFACTS-009-r0-baseline.v1-0032'),\n",
       " ('nut-kslab01', 'CrisisFACTS-009-r0-nut-kslab01-0034'),\n",
       " ('IDACCS_occamsHybridGPT3.5',\n",
       "  'CrisisFACTS-009-r0-IDACCS_occamsHybridGPT3.5-0009'),\n",
       " ('IDACCS_occams_extract', 'CrisisFACTS-009-r0-IDACCS_occams_extract-0035'),\n",
       " ('IRLabIITBHU_BM25_1', 'CrisisFACTS-009-r0-IRLabIITBHU_BM25_1-0044'),\n",
       " ('baseline.v1', 'CrisisFACTS-009-r0-baseline.v1-0044'),\n",
       " ('nut-kslab01', 'CrisisFACTS-009-r0-nut-kslab01-0044'),\n",
       " ('llama_13b_chat', 'CrisisFACTS-009-r0-llama_13b_chat-0037'),\n",
       " ('IDACCS_occams_extract', 'CrisisFACTS-009-r0-IDACCS_occams_extract-0002'),\n",
       " ('baseline.v1', 'CrisisFACTS-009-r0-baseline.v1-0034'),\n",
       " ('baseline.v1', 'CrisisFACTS-009-r0-baseline.v1-0035'),\n",
       " ('nut-kslab01', 'CrisisFACTS-009-r0-nut-kslab01-0032'),\n",
       " ('nut-kslab01', 'CrisisFACTS-009-r0-nut-kslab01-0033'),\n",
       " ('nm-gpt35-bm25', 'CrisisFACTS-009-r0-nm-gpt35-bm25-0041'),\n",
       " ('nm-gpt35-bm25', 'CrisisFACTS-009-r0-nm-gpt35-bm25-0055'),\n",
       " ('Human_Info_Lab-FM-B', 'CrisisFACTS-009-r0-Human_Info_Lab-FM-B-0043'),\n",
       " ('Siena.FactTrigrams1', 'CrisisFACTS-009-r0-Siena.FactTrigrams1-0172'),\n",
       " ('baseline.v1', 'CrisisFACTS-009-r0-baseline.v1-0039'),\n",
       " ('nut-kslab01', 'CrisisFACTS-009-r0-nut-kslab01-0039'),\n",
       " ('Human_Info_Lab-FM-A', 'CrisisFACTS-009-r0-Human_Info_Lab-FM-A-0004'),\n",
       " ('Human_Info_Lab-FM-A', 'CrisisFACTS-009-r0-Human_Info_Lab-FM-A-0027'),\n",
       " ('Human_Info_Lab-FM-B', 'CrisisFACTS-009-r0-Human_Info_Lab-FM-B-0042'),\n",
       " ('Human_Info_Lab-FM-A', 'CrisisFACTS-009-r0-Human_Info_Lab-FM-A-0007'),\n",
       " ('Thesis_Retriver', 'CrisisFACTS-009-r0-Thesis_Retriver-0001'),\n",
       " ('Siena.WikiTrigrams1', 'CrisisFACTS-009-r0-Siena.WikiTrigrams1-0020'),\n",
       " ('baseline.v1', 'CrisisFACTS-009-r0-baseline.v1-0012'),\n",
       " ('Human_Info_Lab-FM-B', 'CrisisFACTS-009-r0-Human_Info_Lab-FM-B-0013'),\n",
       " ('baseline.v2', 'CrisisFACTS-009-r0-baseline.v2-0012'),\n",
       " ('IDACCS_occams_extract', 'CrisisFACTS-009-r0-IDACCS_occams_extract-0009'),\n",
       " ('Siena.FactTrigrams1', 'CrisisFACTS-009-r0-Siena.FactTrigrams1-0047'),\n",
       " ('V-TorontoMU_USE_4', 'CrisisFACTS-009-r0-V-TorontoMU_USE_4-0031'),\n",
       " ('IRLabIITBHU_BM25_1', 'CrisisFACTS-009-r0-IRLabIITBHU_BM25_1-0013'),\n",
       " ('IRLabIITBHU_DFReeKLIM_1',\n",
       "  'CrisisFACTS-009-r0-IRLabIITBHU_DFReeKLIM_1-0012'),\n",
       " ('nut-kslab01', 'CrisisFACTS-009-r0-nut-kslab01-0013'),\n",
       " ('Human_Info_Lab-FM-B', 'CrisisFACTS-009-r0-Human_Info_Lab-FM-B-0015'),\n",
       " ('IRLabIITBHU_BM25_1', 'CrisisFACTS-009-r0-IRLabIITBHU_BM25_1-0014'),\n",
       " ('IRLabIITBHU_DFReeKLIM_1',\n",
       "  'CrisisFACTS-009-r0-IRLabIITBHU_DFReeKLIM_1-0014'),\n",
       " ('Siena.WikiTrigrams1', 'CrisisFACTS-009-r0-Siena.WikiTrigrams1-0022'),\n",
       " ('baseline.v1', 'CrisisFACTS-009-r0-baseline.v1-0014'),\n",
       " ('baseline.v2', 'CrisisFACTS-009-r0-baseline.v2-0014'),\n",
       " ('nut-kslab01', 'CrisisFACTS-009-r0-nut-kslab01-0014'),\n",
       " ('Human_Info_Lab-FM-A', 'CrisisFACTS-009-r0-Human_Info_Lab-FM-A-0015'),\n",
       " ('nm-gpt35', 'CrisisFACTS-009-r0-nm-gpt35-0044'),\n",
       " ('Human_Info_Lab-FM-A', 'CrisisFACTS-009-r0-Human_Info_Lab-FM-A-0016'),\n",
       " ('Human_Info_Lab-FM-B', 'CrisisFACTS-009-r0-Human_Info_Lab-FM-B-0026'),\n",
       " ('nm-gpt35-bm25', 'CrisisFACTS-009-r0-nm-gpt35-bm25-0004'),\n",
       " ('IDACCS_occams_extract', 'CrisisFACTS-009-r0-IDACCS_occams_extract-0003'),\n",
       " ('V-TorontoMU_USE_4', 'CrisisFACTS-009-r0-V-TorontoMU_USE_4-0086'),\n",
       " ('Human_Info_Lab-FM-A', 'CrisisFACTS-009-r0-Human_Info_Lab-FM-A-0020'),\n",
       " ('Human_Info_Lab-FM-B', 'CrisisFACTS-009-r0-Human_Info_Lab-FM-B-0030'),\n",
       " ('IRLabIITBHU_DFReeKLIM_1',\n",
       "  'CrisisFACTS-009-r0-IRLabIITBHU_DFReeKLIM_1-0030'),\n",
       " ('Siena.FactTrigrams1', 'CrisisFACTS-009-r0-Siena.FactTrigrams1-0121'),\n",
       " ('Siena.WikiTrigrams1', 'CrisisFACTS-009-r0-Siena.WikiTrigrams1-0047'),\n",
       " ('baseline.v2', 'CrisisFACTS-009-r0-baseline.v2-0030'),\n",
       " ('Human_Info_Lab-FM-B', 'CrisisFACTS-009-r0-Human_Info_Lab-FM-B-0027'),\n",
       " ('IDACCS_occams_extract', 'CrisisFACTS-009-r0-IDACCS_occams_extract-0021'),\n",
       " ('Siena.WikiTrigrams1', 'CrisisFACTS-009-r0-Siena.WikiTrigrams1-0040'),\n",
       " ('Human_Info_Lab-FM-B', 'CrisisFACTS-009-r0-Human_Info_Lab-FM-B-0003'),\n",
       " ('Human_Info_Lab-FM-A', 'CrisisFACTS-009-r0-Human_Info_Lab-FM-A-0008'),\n",
       " ('Human_Info_Lab-FM-A', 'CrisisFACTS-009-r0-Human_Info_Lab-FM-A-0014'),\n",
       " ('Human_Info_Lab-FM-B', 'CrisisFACTS-009-r0-Human_Info_Lab-FM-B-0004'),\n",
       " ('IDACCS_occams_extract', 'CrisisFACTS-009-r0-IDACCS_occams_extract-0022'),\n",
       " ('Siena.FactTrigrams1', 'CrisisFACTS-009-r0-Siena.FactTrigrams1-0116'),\n",
       " ('Human_Info_Lab-FM-A', 'CrisisFACTS-009-r0-Human_Info_Lab-FM-A-0006'),\n",
       " ('Human_Info_Lab-FM-B', 'CrisisFACTS-009-r0-Human_Info_Lab-FM-B-0024'),\n",
       " ('Human_Info_Lab-FM-B', 'CrisisFACTS-009-r0-Human_Info_Lab-FM-B-0050'),\n",
       " ('Human_Info_Lab-FM-B', 'CrisisFACTS-009-r0-Human_Info_Lab-FM-B-0031'),\n",
       " ('IDACCS_occams_extract', 'CrisisFACTS-009-r0-IDACCS_occams_extract-0026'),\n",
       " ('baseline.v1', 'CrisisFACTS-009-r0-baseline.v1-0033'),\n",
       " ('nut-kslab01', 'CrisisFACTS-009-r0-nut-kslab01-0035'),\n",
       " ('Human_Info_Lab-FM-A', 'CrisisFACTS-009-r0-Human_Info_Lab-FM-A-0021'),\n",
       " ('V-TorontoMU_USE_4', 'CrisisFACTS-009-r0-V-TorontoMU_USE_4-0020'),\n",
       " ('llama_13b_chat', 'CrisisFACTS-009-r0-llama_13b_chat-0010'),\n",
       " ('Human_Info_Lab-FM-A', 'CrisisFACTS-009-r0-Human_Info_Lab-FM-A-0026'),\n",
       " ('nm-gpt35', 'CrisisFACTS-009-r0-nm-gpt35-0012'),\n",
       " ('Human_Info_Lab-FM-B', 'CrisisFACTS-009-r0-Human_Info_Lab-FM-B-0036'),\n",
       " ('IRLabIITBHU_BM25_1', 'CrisisFACTS-009-r0-IRLabIITBHU_BM25_1-0037'),\n",
       " ('IRLabIITBHU_DFReeKLIM_1',\n",
       "  'CrisisFACTS-009-r0-IRLabIITBHU_DFReeKLIM_1-0037'),\n",
       " ('Siena.FactTrigrams1', 'CrisisFACTS-009-r0-Siena.FactTrigrams1-0153'),\n",
       " ('Siena.WikiTrigrams1', 'CrisisFACTS-009-r0-Siena.WikiTrigrams1-0059'),\n",
       " ('baseline.v1', 'CrisisFACTS-009-r0-baseline.v1-0037'),\n",
       " ('baseline.v2', 'CrisisFACTS-009-r0-baseline.v2-0037'),\n",
       " ('llama_13b_chat', 'CrisisFACTS-009-r0-llama_13b_chat-0065'),\n",
       " ('nut-kslab01', 'CrisisFACTS-009-r0-nut-kslab01-0037'),\n",
       " ('Siena.FactTrigrams1', 'CrisisFACTS-009-r0-Siena.FactTrigrams1-0070'),\n",
       " ('IDACCS_occams_extract', 'CrisisFACTS-009-r0-IDACCS_occams_extract-0016'),\n",
       " ('Human_Info_Lab-FM-B', 'CrisisFACTS-009-r0-Human_Info_Lab-FM-B-0018'),\n",
       " ('Human_Info_Lab-FM-B', 'CrisisFACTS-009-r0-Human_Info_Lab-FM-B-0049'),\n",
       " ('Human_Info_Lab-FM-A', 'CrisisFACTS-009-r0-Human_Info_Lab-FM-A-0005'),\n",
       " ('Siena.FactTrigrams1', 'CrisisFACTS-009-r0-Siena.FactTrigrams1-0122'),\n",
       " ('Siena.FactTrigrams1', 'CrisisFACTS-009-r0-Siena.FactTrigrams1-0137'),\n",
       " ('V-TorontoMU_USE_4', 'CrisisFACTS-009-r0-V-TorontoMU_USE_4-0080'),\n",
       " ('Human_Info_Lab-FM-B', 'CrisisFACTS-009-r0-Human_Info_Lab-FM-B-0039'),\n",
       " ('IDACCS_occams_extract', 'CrisisFACTS-009-r0-IDACCS_occams_extract-0030'),\n",
       " ('IRLabIITBHU_DFReeKLIM_1',\n",
       "  'CrisisFACTS-009-r0-IRLabIITBHU_DFReeKLIM_1-0038'),\n",
       " ('baseline.v1', 'CrisisFACTS-009-r0-baseline.v1-0038'),\n",
       " ('baseline.v2', 'CrisisFACTS-009-r0-baseline.v2-0038'),\n",
       " ('nut-kslab01', 'CrisisFACTS-009-r0-nut-kslab01-0038'),\n",
       " ('nm-gpt35', 'CrisisFACTS-009-r0-nm-gpt35-0031'),\n",
       " ('Human_Info_Lab-FM-A', 'CrisisFACTS-009-r0-Human_Info_Lab-FM-A-0018'),\n",
       " ('Human_Info_Lab-FM-B', 'CrisisFACTS-009-r0-Human_Info_Lab-FM-B-0014'),\n",
       " ('IDACCS_occams_extract', 'CrisisFACTS-009-r0-IDACCS_occams_extract-0006'),\n",
       " ('IRLabIITBHU_BM25_1', 'CrisisFACTS-009-r0-IRLabIITBHU_BM25_1-0008'),\n",
       " ('IRLabIITBHU_DFReeKLIM_1',\n",
       "  'CrisisFACTS-009-r0-IRLabIITBHU_DFReeKLIM_1-0008'),\n",
       " ('V-TorontoMU_USE_4', 'CrisisFACTS-009-r0-V-TorontoMU_USE_4-0024'),\n",
       " ('baseline.v2', 'CrisisFACTS-009-r0-baseline.v2-0008'),\n",
       " ('Human_Info_Lab-FM-A', 'CrisisFACTS-009-r0-Human_Info_Lab-FM-A-0032'),\n",
       " ('Human_Info_Lab-FM-B', 'CrisisFACTS-009-r0-Human_Info_Lab-FM-B-0028'),\n",
       " ('Siena.FactTrigrams1', 'CrisisFACTS-009-r0-Siena.FactTrigrams1-0114'),\n",
       " ('Siena.FactTrigrams1', 'CrisisFACTS-009-r0-Siena.FactTrigrams1-0032'),\n",
       " ('Siena.FactTrigrams1', 'CrisisFACTS-009-r0-Siena.FactTrigrams1-0154'),\n",
       " ('IRLabIITBHU_DFReeKLIM_1',\n",
       "  'CrisisFACTS-009-r0-IRLabIITBHU_DFReeKLIM_1-0048'),\n",
       " ('Siena.FactTrigrams1', 'CrisisFACTS-009-r0-Siena.FactTrigrams1-0195'),\n",
       " ('baseline.v2', 'CrisisFACTS-009-r0-baseline.v2-0048'),\n",
       " ('Human_Info_Lab-FM-A', 'CrisisFACTS-009-r0-Human_Info_Lab-FM-A-0031'),\n",
       " ('IDACCS_occams_extract', 'CrisisFACTS-009-r0-IDACCS_occams_extract-0020'),\n",
       " ('Siena.WikiTrigrams1', 'CrisisFACTS-009-r0-Siena.WikiTrigrams1-0037'),\n",
       " ('IDACCS_occams_extract', 'CrisisFACTS-009-r0-IDACCS_occams_extract-0012'),\n",
       " ('Siena.FactTrigrams1', 'CrisisFACTS-009-r0-Siena.FactTrigrams1-0057'),\n",
       " ('Siena.WikiTrigrams1', 'CrisisFACTS-009-r0-Siena.WikiTrigrams1-0024'),\n",
       " ('IRLabIITBHU_BM25_1', 'CrisisFACTS-009-r0-IRLabIITBHU_BM25_1-0043'),\n",
       " ('IRLabIITBHU_DFReeKLIM_1',\n",
       "  'CrisisFACTS-009-r0-IRLabIITBHU_DFReeKLIM_1-0043'),\n",
       " ('Siena.FactTrigrams1', 'CrisisFACTS-009-r0-Siena.FactTrigrams1-0178'),\n",
       " ('Siena.WikiTrigrams1', 'CrisisFACTS-009-r0-Siena.WikiTrigrams1-0070'),\n",
       " ('baseline.v1', 'CrisisFACTS-009-r0-baseline.v1-0043'),\n",
       " ('baseline.v2', 'CrisisFACTS-009-r0-baseline.v2-0043'),\n",
       " ('nut-kslab01', 'CrisisFACTS-009-r0-nut-kslab01-0043'),\n",
       " ('IDACCS_occams_extract', 'CrisisFACTS-009-r0-IDACCS_occams_extract-0019'),\n",
       " ('IRLabIITBHU_DFReeKLIM_1',\n",
       "  'CrisisFACTS-009-r0-IRLabIITBHU_DFReeKLIM_1-0031'),\n",
       " ('Siena.FactTrigrams1', 'CrisisFACTS-009-r0-Siena.FactTrigrams1-0123'),\n",
       " ('baseline.v2', 'CrisisFACTS-009-r0-baseline.v2-0031'),\n",
       " ('IDACCS_occams_extract', 'CrisisFACTS-009-r0-IDACCS_occams_extract-0001'),\n",
       " ('IRLabIITBHU_BM25_1', 'CrisisFACTS-009-r0-IRLabIITBHU_BM25_1-0001'),\n",
       " ('Siena.FactTrigrams1', 'CrisisFACTS-009-r0-Siena.FactTrigrams1-0009'),\n",
       " ('Siena.WikiTrigrams1', 'CrisisFACTS-009-r0-Siena.WikiTrigrams1-0002'),\n",
       " ('Siena.FactTrigrams1', 'CrisisFACTS-009-r0-Siena.FactTrigrams1-0179'),\n",
       " ('Siena.FactTrigrams1', 'CrisisFACTS-009-r0-Siena.FactTrigrams1-0206'),\n",
       " ('IDACCS_occams_extract', 'CrisisFACTS-009-r0-IDACCS_occams_extract-0033'),\n",
       " ('IRLabIITBHU_BM25_1', 'CrisisFACTS-009-r0-IRLabIITBHU_BM25_1-0042'),\n",
       " ('IRLabIITBHU_DFReeKLIM_1',\n",
       "  'CrisisFACTS-009-r0-IRLabIITBHU_DFReeKLIM_1-0042'),\n",
       " ('Siena.FactTrigrams1', 'CrisisFACTS-009-r0-Siena.FactTrigrams1-0177'),\n",
       " ('Siena.WikiTrigrams1', 'CrisisFACTS-009-r0-Siena.WikiTrigrams1-0069'),\n",
       " ('baseline.v1', 'CrisisFACTS-009-r0-baseline.v1-0042'),\n",
       " ('baseline.v2', 'CrisisFACTS-009-r0-baseline.v2-0042'),\n",
       " ('nut-kslab01', 'CrisisFACTS-009-r0-nut-kslab01-0042'),\n",
       " ('Human_Info_Lab-FM-A', 'CrisisFACTS-009-r0-Human_Info_Lab-FM-A-0013'),\n",
       " ('V-TorontoMU_USE_4', 'CrisisFACTS-009-r0-V-TorontoMU_USE_4-0001'),\n",
       " ('Siena.FactTrigrams1', 'CrisisFACTS-009-r0-Siena.FactTrigrams1-0166'),\n",
       " ('Human_Info_Lab-FM-A', 'CrisisFACTS-009-r0-Human_Info_Lab-FM-A-0024'),\n",
       " ('Human_Info_Lab-FM-A', 'CrisisFACTS-009-r0-Human_Info_Lab-FM-A-0010'),\n",
       " ('Human_Info_Lab-FM-A', 'CrisisFACTS-009-r0-Human_Info_Lab-FM-A-0022'),\n",
       " ('V-TorontoMU_USE_4', 'CrisisFACTS-009-r0-V-TorontoMU_USE_4-0023'),\n",
       " ('llama_13b_chat', 'CrisisFACTS-009-r0-llama_13b_chat-0038'),\n",
       " ('IDACCS_occams_extract', 'CrisisFACTS-009-r0-IDACCS_occams_extract-0004'),\n",
       " ('IRLabIITBHU_BM25_1', 'CrisisFACTS-009-r0-IRLabIITBHU_BM25_1-0004'),\n",
       " ('V-TorontoMU_USE_4', 'CrisisFACTS-009-r0-V-TorontoMU_USE_4-0083'),\n",
       " ('V-TorontoMU_USE_4', 'CrisisFACTS-009-r0-V-TorontoMU_USE_4-0037'),\n",
       " ('V-TorontoMU_USE_4', 'CrisisFACTS-009-r0-V-TorontoMU_USE_4-0123'),\n",
       " ('V-TorontoMU_USE_4', 'CrisisFACTS-009-r0-V-TorontoMU_USE_4-0073'),\n",
       " ('llama_13b_chat', 'CrisisFACTS-009-r0-llama_13b_chat-0000'),\n",
       " ('IDACCS_occams_extract', 'CrisisFACTS-009-r0-IDACCS_occams_extract-0007'),\n",
       " ('IRLabIITBHU_DFReeKLIM_1',\n",
       "  'CrisisFACTS-009-r0-IRLabIITBHU_DFReeKLIM_1-0009'),\n",
       " ('baseline.v2', 'CrisisFACTS-009-r0-baseline.v2-0009'),\n",
       " ('V-TorontoMU_USE_4', 'CrisisFACTS-009-r0-V-TorontoMU_USE_4-0027'),\n",
       " ('V-TorontoMU_USE_4', 'CrisisFACTS-009-r0-V-TorontoMU_USE_4-0084'),\n",
       " ('llama_13b_chat', 'CrisisFACTS-009-r0-llama_13b_chat-0076'),\n",
       " ('V-TorontoMU_USE_4', 'CrisisFACTS-009-r0-V-TorontoMU_USE_4-0013'),\n",
       " ('V-TorontoMU_USE_4', 'CrisisFACTS-009-r0-V-TorontoMU_USE_4-0033'),\n",
       " ('IRLabIITBHU_BM25_1', 'CrisisFACTS-009-r0-IRLabIITBHU_BM25_1-0019'),\n",
       " ('V-TorontoMU_USE_4', 'CrisisFACTS-009-r0-V-TorontoMU_USE_4-0050'),\n",
       " ('llama_13b_chat', 'CrisisFACTS-009-r0-llama_13b_chat-0064'),\n",
       " ('Siena.WikiTrigrams1', 'CrisisFACTS-009-r0-Siena.WikiTrigrams1-0034'),\n",
       " ('V-TorontoMU_USE_4', 'CrisisFACTS-009-r0-V-TorontoMU_USE_4-0052'),\n",
       " ('llama_13b_chat', 'CrisisFACTS-009-r0-llama_13b_chat-0015'),\n",
       " ('V-TorontoMU_USE_4', 'CrisisFACTS-009-r0-V-TorontoMU_USE_4-0058'),\n",
       " ('V-TorontoMU_USE_4', 'CrisisFACTS-009-r0-V-TorontoMU_USE_4-0096'),\n",
       " ('llama_13b_chat', 'CrisisFACTS-009-r0-llama_13b_chat-0001'),\n",
       " ('llama_13b_chat', 'CrisisFACTS-009-r0-llama_13b_chat-0080'),\n",
       " ('llama_13b_chat', 'CrisisFACTS-009-r0-llama_13b_chat-0068'),\n",
       " ('llama_13b_chat', 'CrisisFACTS-009-r0-llama_13b_chat-0079'),\n",
       " ('llama_13b_chat', 'CrisisFACTS-009-r0-llama_13b_chat-0002'),\n",
       " ('llama_13b_chat', 'CrisisFACTS-009-r0-llama_13b_chat-0016'),\n",
       " ('llama_13b_chat', 'CrisisFACTS-009-r0-llama_13b_chat-0078'),\n",
       " ('llama_13b_chat', 'CrisisFACTS-009-r0-llama_13b_chat-0018'),\n",
       " ('llama_13b_chat', 'CrisisFACTS-009-r0-llama_13b_chat-0074'),\n",
       " ('llama_13b_chat', 'CrisisFACTS-009-r0-llama_13b_chat-0058'),\n",
       " ('llama_13b_chat', 'CrisisFACTS-009-r0-llama_13b_chat-0047'),\n",
       " ('llama_13b_chat', 'CrisisFACTS-009-r0-llama_13b_chat-0059'),\n",
       " ('IRLabIITBHU_BM25_1', 'CrisisFACTS-009-r0-IRLabIITBHU_BM25_1-0011'),\n",
       " ('IRLabIITBHU_DFReeKLIM_1',\n",
       "  'CrisisFACTS-009-r0-IRLabIITBHU_DFReeKLIM_1-0011'),\n",
       " ('Siena.WikiTrigrams1', 'CrisisFACTS-009-r0-Siena.WikiTrigrams1-0021'),\n",
       " ('baseline.v1', 'CrisisFACTS-009-r0-baseline.v1-0011'),\n",
       " ('baseline.v2', 'CrisisFACTS-009-r0-baseline.v2-0011'),\n",
       " ('nut-kslab01', 'CrisisFACTS-009-r0-nut-kslab01-0011'),\n",
       " ('nm-gpt35', 'CrisisFACTS-009-r0-nm-gpt35-0014'),\n",
       " ('Siena.WikiTrigrams1', 'CrisisFACTS-009-r0-Siena.WikiTrigrams1-0056'),\n",
       " ('IRLabIITBHU_BM25_1', 'CrisisFACTS-009-r0-IRLabIITBHU_BM25_1-0016'),\n",
       " ('IRLabIITBHU_DFReeKLIM_1',\n",
       "  'CrisisFACTS-009-r0-IRLabIITBHU_DFReeKLIM_1-0016'),\n",
       " ('Siena.WikiTrigrams1', 'CrisisFACTS-009-r0-Siena.WikiTrigrams1-0026'),\n",
       " ('baseline.v1', 'CrisisFACTS-009-r0-baseline.v1-0016'),\n",
       " ('baseline.v2', 'CrisisFACTS-009-r0-baseline.v2-0016'),\n",
       " ('nut-kslab01', 'CrisisFACTS-009-r0-nut-kslab01-0016'),\n",
       " ('IRLabIITBHU_BM25_1', 'CrisisFACTS-009-r0-IRLabIITBHU_BM25_1-0046'),\n",
       " ('IRLabIITBHU_DFReeKLIM_1',\n",
       "  'CrisisFACTS-009-r0-IRLabIITBHU_DFReeKLIM_1-0046'),\n",
       " ('Siena.WikiTrigrams1', 'CrisisFACTS-009-r0-Siena.WikiTrigrams1-0074'),\n",
       " ('baseline.v1', 'CrisisFACTS-009-r0-baseline.v1-0046'),\n",
       " ('baseline.v2', 'CrisisFACTS-009-r0-baseline.v2-0046'),\n",
       " ('nut-kslab01', 'CrisisFACTS-009-r0-nut-kslab01-0046'),\n",
       " ('Siena.WikiTrigrams1', 'CrisisFACTS-009-r0-Siena.WikiTrigrams1-0030'),\n",
       " ('Siena.WikiTrigrams1', 'CrisisFACTS-009-r0-Siena.WikiTrigrams1-0064'),\n",
       " ('IRLabIITBHU_BM25_1', 'CrisisFACTS-009-r0-IRLabIITBHU_BM25_1-0000'),\n",
       " ('Siena.WikiTrigrams1', 'CrisisFACTS-009-r0-Siena.WikiTrigrams1-0001'),\n",
       " ('nm-gpt35', 'CrisisFACTS-009-r0-nm-gpt35-0034'),\n",
       " ('IRLabIITBHU_BM25_1', 'CrisisFACTS-009-r0-IRLabIITBHU_BM25_1-0017'),\n",
       " ('IRLabIITBHU_DFReeKLIM_1',\n",
       "  'CrisisFACTS-009-r0-IRLabIITBHU_DFReeKLIM_1-0017'),\n",
       " ('baseline.v1', 'CrisisFACTS-009-r0-baseline.v1-0017'),\n",
       " ('baseline.v2', 'CrisisFACTS-009-r0-baseline.v2-0017'),\n",
       " ('nut-kslab01', 'CrisisFACTS-009-r0-nut-kslab01-0017'),\n",
       " ('IRLabIITBHU_BM25_1', 'CrisisFACTS-009-r0-IRLabIITBHU_BM25_1-0045'),\n",
       " ('IRLabIITBHU_BM25_1', 'CrisisFACTS-009-r0-IRLabIITBHU_BM25_1-0025'),\n",
       " ('nm-gpt35', 'CrisisFACTS-009-r0-nm-gpt35-0018'),\n",
       " ('baseline.v1', 'CrisisFACTS-009-r0-baseline.v1-0036'),\n",
       " ('nut-kslab01', 'CrisisFACTS-009-r0-nut-kslab01-0036'),\n",
       " ('baseline.v1', 'CrisisFACTS-009-r0-baseline.v1-0052'),\n",
       " ('nut-kslab01', 'CrisisFACTS-009-r0-nut-kslab01-0052'),\n",
       " ('IRLabIITBHU_DFReeKLIM_1',\n",
       "  'CrisisFACTS-009-r0-IRLabIITBHU_DFReeKLIM_1-0049'),\n",
       " ('baseline.v2', 'CrisisFACTS-009-r0-baseline.v2-0049'),\n",
       " ('IRLabIITBHU_DFReeKLIM_1',\n",
       "  'CrisisFACTS-009-r0-IRLabIITBHU_DFReeKLIM_1-0007'),\n",
       " ('baseline.v2', 'CrisisFACTS-009-r0-baseline.v2-0007'),\n",
       " ('nm-gpt35', 'CrisisFACTS-009-r0-nm-gpt35-0059'),\n",
       " ('nm-gpt35', 'CrisisFACTS-009-r0-nm-gpt35-0030'),\n",
       " ('nm-gpt35', 'CrisisFACTS-009-r0-nm-gpt35-0029'),\n",
       " ('nm-gpt35', 'CrisisFACTS-009-r0-nm-gpt35-0053'),\n",
       " ('nm-gpt35', 'CrisisFACTS-009-r0-nm-gpt35-0025'),\n",
       " ('nm-gpt35', 'CrisisFACTS-009-r0-nm-gpt35-0026')]"
      ]
     },
     "execution_count": 38,
     "metadata": {},
     "output_type": "execute_result"
    }
   ],
   "source": [
    "run2facts"
   ]
  },
  {
   "cell_type": "code",
   "execution_count": 39,
   "id": "c6c19fef",
   "metadata": {},
   "outputs": [],
   "source": [
    "score_df = pd.DataFrame(run_scores, columns=[\"req_id\", \"run\", \"redundancy\", \"comprehensiveness\"])"
   ]
  },
  {
   "cell_type": "code",
   "execution_count": 40,
   "id": "abbd6430",
   "metadata": {},
   "outputs": [
    {
     "data": {
      "text/plain": [
       "<Axes: ylabel='req_id'>"
      ]
     },
     "execution_count": 40,
     "metadata": {},
     "output_type": "execute_result"
    },
    {
     "data": {
      "image/png": "[encoded data removed]",
      "text/plain": [
       "<Figure size 900x2400 with 1 Axes>"
      ]
     },
     "metadata": {},
     "output_type": "display_data"
    }
   ],
   "source": [
    "fig = plt.figure(figsize=(9,24))\n",
    "ax = fig.add_subplot(1,1,1)\n",
    "\n",
    "score_df[[\"req_id\", \"redundancy\", \"comprehensiveness\"]].groupby(\"req_id\").mean().plot.barh(ax=ax)"
   ]
  },
  {
   "cell_type": "code",
   "execution_count": null,
   "id": "93bb8b54",
   "metadata": {},
   "outputs": [],
   "source": []
  },
  {
   "cell_type": "markdown",
   "id": "aad2039d",
   "metadata": {},
   "source": [
    "## Export Run Results"
   ]
  },
  {
   "cell_type": "code",
   "execution_count": 41,
   "id": "c99e5a4d",
   "metadata": {},
   "outputs": [],
   "source": [
    "run_metadata_df = pd.read_csv(\"submissions.csv\")"
   ]
  },
  {
   "cell_type": "code",
   "execution_count": 42,
   "id": "6d4d4a8c",
   "metadata": {},
   "outputs": [
    {
     "data": {
      "text/plain": [
       "{'Thesis_Retriver': 'thesis.v1'}"
      ]
     },
     "execution_count": 42,
     "metadata": {},
     "output_type": "execute_result"
    }
   ],
   "source": [
    "runtag_map = {idx:row[\"team\"] for idx,row in run_metadata_df.set_index(\"runtag\").iterrows()}\n",
    "runtag_map"
   ]
  },
  {
   "cell_type": "code",
   "execution_count": 43,
   "id": "5b6b6920",
   "metadata": {},
   "outputs": [
    {
     "data": {
      "application/vnd.microsoft.datawrangler.viewer.v0+json": {
       "columns": [
        {
         "name": "index",
         "rawType": "int64",
         "type": "integer"
        },
        {
         "name": "req_id",
         "rawType": "object",
         "type": "string"
        },
        {
         "name": "run",
         "rawType": "object",
         "type": "string"
        },
        {
         "name": "redundancy",
         "rawType": "float64",
         "type": "float"
        },
        {
         "name": "comprehensiveness",
         "rawType": "float64",
         "type": "float"
        }
       ],
       "conversionMethod": "pd.DataFrame",
       "ref": "3bcebf72-3327-4338-bbb2-ccb63109ec4d",
       "rows": [
        [
         "0",
         "CrisisFACTS-003-r5",
         "llama",
         "0.45",
         "0.14705882352941177"
        ],
        [
         "1",
         "CrisisFACTS-003-r5",
         "nm-gpt35-bm25",
         "0.225",
         "0.08823529411764706"
        ],
        [
         "2",
         "CrisisFACTS-003-r5",
         "Human_Info_Lab-FM-A",
         "0.275",
         "0.08823529411764706"
        ],
        [
         "3",
         "CrisisFACTS-003-r5",
         "nm-gpt35",
         "0.775",
         "0.25"
        ],
        [
         "4",
         "CrisisFACTS-003-r5",
         "V-TorontoMU_USE_4",
         "0.1",
         "0.04411764705882353"
        ],
        [
         "5",
         "CrisisFACTS-003-r5",
         "Human_Info_Lab-FM-B",
         "0.275",
         "0.10294117647058823"
        ],
        [
         "6",
         "CrisisFACTS-003-r5",
         "nut-kslab01",
         "0.6",
         "0.19117647058823528"
        ],
        [
         "7",
         "CrisisFACTS-003-r5",
         "IRLabIITBHU_DFReeKLIM_1",
         "0.575",
         "0.17647058823529413"
        ],
        [
         "8",
         "CrisisFACTS-003-r5",
         "Siena.WikiTrigrams1",
         "0.425",
         "0.1323529411764706"
        ],
        [
         "9",
         "CrisisFACTS-003-r5",
         "baseline.v2",
         "0.575",
         "0.17647058823529413"
        ],
        [
         "10",
         "CrisisFACTS-003-r5",
         "Thesis_Retriver",
         "0.5526315789473685",
         "0.16176470588235295"
        ],
        [
         "11",
         "CrisisFACTS-003-r5",
         "baseline.v1",
         "0.525",
         "0.17647058823529413"
        ],
        [
         "12",
         "CrisisFACTS-003-r5",
         "Siena.FactTrigrams1",
         "0.55",
         "0.17647058823529413"
        ],
        [
         "13",
         "CrisisFACTS-003-r5",
         "IRLabIITBHU_BM25_1",
         "0.425",
         "0.1323529411764706"
        ],
        [
         "14",
         "CrisisFACTS-003-r6",
         "nm-gpt35-bm25",
         "0.15789473684210525",
         "0.047619047619047616"
        ],
        [
         "15",
         "CrisisFACTS-003-r6",
         "V-TorontoMU_USE_4",
         "0.1",
         "0.031746031746031744"
        ],
        [
         "16",
         "CrisisFACTS-003-r6",
         "Siena.FactTrigrams1",
         "0.325",
         "0.1111111111111111"
        ],
        [
         "17",
         "CrisisFACTS-003-r6",
         "Siena.WikiTrigrams1",
         "0.5",
         "0.15873015873015872"
        ],
        [
         "18",
         "CrisisFACTS-003-r6",
         "Human_Info_Lab-FM-A",
         "0.175",
         "0.07936507936507936"
        ],
        [
         "19",
         "CrisisFACTS-003-r6",
         "Human_Info_Lab-FM-B",
         "0.375",
         "0.12698412698412698"
        ],
        [
         "20",
         "CrisisFACTS-003-r6",
         "llama",
         "0.35",
         "0.1111111111111111"
        ],
        [
         "21",
         "CrisisFACTS-003-r6",
         "nm-gpt35",
         "0.6944444444444444",
         "0.2222222222222222"
        ],
        [
         "22",
         "CrisisFACTS-003-r6",
         "Thesis_Retriver",
         "0.525",
         "0.1746031746031746"
        ],
        [
         "23",
         "CrisisFACTS-003-r6",
         "baseline.v1",
         "0.5263157894736842",
         "0.20634920634920634"
        ],
        [
         "24",
         "CrisisFACTS-003-r6",
         "nut-kslab01",
         "0.5789473684210527",
         "0.2222222222222222"
        ],
        [
         "25",
         "CrisisFACTS-003-r6",
         "IRLabIITBHU_DFReeKLIM_1",
         "0.525",
         "0.1746031746031746"
        ],
        [
         "26",
         "CrisisFACTS-003-r6",
         "baseline.v2",
         "0.525",
         "0.1746031746031746"
        ],
        [
         "27",
         "CrisisFACTS-003-r6",
         "IRLabIITBHU_BM25_1",
         "0.5",
         "0.1746031746031746"
        ],
        [
         "28",
         "CrisisFACTS-003-r7",
         "nm-gpt35-bm25",
         "0.4",
         "0.09195402298850575"
        ],
        [
         "29",
         "CrisisFACTS-003-r7",
         "Human_Info_Lab-FM-B",
         "0.425",
         "0.10344827586206896"
        ],
        [
         "30",
         "CrisisFACTS-003-r7",
         "V-TorontoMU_USE_4",
         "0.2",
         "0.04597701149425287"
        ],
        [
         "31",
         "CrisisFACTS-003-r7",
         "IRLabIITBHU_BM25_1",
         "0.525",
         "0.12643678160919541"
        ],
        [
         "32",
         "CrisisFACTS-003-r7",
         "Thesis_Retriver",
         "0.75",
         "0.1724137931034483"
        ],
        [
         "33",
         "CrisisFACTS-003-r7",
         "baseline.v2",
         "0.7",
         "0.16091954022988506"
        ],
        [
         "34",
         "CrisisFACTS-003-r7",
         "IRLabIITBHU_DFReeKLIM_1",
         "0.7",
         "0.16091954022988506"
        ],
        [
         "35",
         "CrisisFACTS-003-r7",
         "nm-gpt35",
         "0.7631578947368421",
         "0.1839080459770115"
        ],
        [
         "36",
         "CrisisFACTS-003-r7",
         "Human_Info_Lab-FM-A",
         "0.425",
         "0.10344827586206896"
        ],
        [
         "37",
         "CrisisFACTS-003-r7",
         "llama",
         "0.3157894736842105",
         "0.06896551724137931"
        ],
        [
         "38",
         "CrisisFACTS-003-r7",
         "Siena.FactTrigrams1",
         "0.4166666666666667",
         "0.09195402298850575"
        ],
        [
         "39",
         "CrisisFACTS-003-r7",
         "Siena.WikiTrigrams1",
         "0.7368421052631579",
         "0.16091954022988506"
        ],
        [
         "40",
         "CrisisFACTS-003-r7",
         "nut-kslab01",
         "0.9",
         "0.20689655172413793"
        ],
        [
         "41",
         "CrisisFACTS-003-r7",
         "baseline.v1",
         "0.85",
         "0.19540229885057472"
        ],
        [
         "42",
         "CrisisFACTS-003-r8",
         "baseline.v1",
         "0.7105263157894737",
         "0.15730337078651685"
        ],
        [
         "43",
         "CrisisFACTS-003-r8",
         "Thesis_Retriver",
         "0.575",
         "0.1348314606741573"
        ],
        [
         "44",
         "CrisisFACTS-003-r8",
         "nm-gpt35-bm25",
         "0.5",
         "0.12359550561797752"
        ],
        [
         "45",
         "CrisisFACTS-003-r8",
         "nut-kslab01",
         "0.6578947368421053",
         "0.14606741573033707"
        ],
        [
         "46",
         "CrisisFACTS-003-r8",
         "baseline.v2",
         "0.5263157894736842",
         "0.11235955056179775"
        ],
        [
         "47",
         "CrisisFACTS-003-r8",
         "IRLabIITBHU_BM25_1",
         "0.4473684210526316",
         "0.10112359550561797"
        ],
        [
         "48",
         "CrisisFACTS-003-r8",
         "IRLabIITBHU_DFReeKLIM_1",
         "0.5263157894736842",
         "0.11235955056179775"
        ],
        [
         "49",
         "CrisisFACTS-003-r8",
         "llama",
         "0.35",
         "0.0898876404494382"
        ]
       ],
       "shape": {
        "columns": 4,
        "rows": 1877
       }
      },
      "text/html": [
       "<div>\n",
       "<style scoped>\n",
       "    .dataframe tbody tr th:only-of-type {\n",
       "        vertical-align: middle;\n",
       "    }\n",
       "\n",
       "    .dataframe tbody tr th {\n",
       "        vertical-align: top;\n",
       "    }\n",
       "\n",
       "    .dataframe thead th {\n",
       "        text-align: right;\n",
       "    }\n",
       "</style>\n",
       "<table border=\"1\" class=\"dataframe\">\n",
       "  <thead>\n",
       "    <tr style=\"text-align: right;\">\n",
       "      <th></th>\n",
       "      <th>req_id</th>\n",
       "      <th>run</th>\n",
       "      <th>redundancy</th>\n",
       "      <th>comprehensiveness</th>\n",
       "    </tr>\n",
       "  </thead>\n",
       "  <tbody>\n",
       "    <tr>\n",
       "      <th>0</th>\n",
       "      <td>CrisisFACTS-003-r5</td>\n",
       "      <td>llama</td>\n",
       "      <td>0.450</td>\n",
       "      <td>0.147059</td>\n",
       "    </tr>\n",
       "    <tr>\n",
       "      <th>1</th>\n",
       "      <td>CrisisFACTS-003-r5</td>\n",
       "      <td>nm-gpt35-bm25</td>\n",
       "      <td>0.225</td>\n",
       "      <td>0.088235</td>\n",
       "    </tr>\n",
       "    <tr>\n",
       "      <th>2</th>\n",
       "      <td>CrisisFACTS-003-r5</td>\n",
       "      <td>Human_Info_Lab-FM-A</td>\n",
       "      <td>0.275</td>\n",
       "      <td>0.088235</td>\n",
       "    </tr>\n",
       "    <tr>\n",
       "      <th>3</th>\n",
       "      <td>CrisisFACTS-003-r5</td>\n",
       "      <td>nm-gpt35</td>\n",
       "      <td>0.775</td>\n",
       "      <td>0.250000</td>\n",
       "    </tr>\n",
       "    <tr>\n",
       "      <th>4</th>\n",
       "      <td>CrisisFACTS-003-r5</td>\n",
       "      <td>V-TorontoMU_USE_4</td>\n",
       "      <td>0.100</td>\n",
       "      <td>0.044118</td>\n",
       "    </tr>\n",
       "    <tr>\n",
       "      <th>...</th>\n",
       "      <td>...</td>\n",
       "      <td>...</td>\n",
       "      <td>...</td>\n",
       "      <td>...</td>\n",
       "    </tr>\n",
       "    <tr>\n",
       "      <th>1872</th>\n",
       "      <td>CrisisFACTS-009-r0</td>\n",
       "      <td>V-TorontoMU_USE_4</td>\n",
       "      <td>0.000</td>\n",
       "      <td>0.000000</td>\n",
       "    </tr>\n",
       "    <tr>\n",
       "      <th>1873</th>\n",
       "      <td>CrisisFACTS-009-r0</td>\n",
       "      <td>llama</td>\n",
       "      <td>1.000</td>\n",
       "      <td>0.090909</td>\n",
       "    </tr>\n",
       "    <tr>\n",
       "      <th>1874</th>\n",
       "      <td>CrisisFACTS-009-r0</td>\n",
       "      <td>Human_Info_Lab-FM-B</td>\n",
       "      <td>0.100</td>\n",
       "      <td>0.181818</td>\n",
       "    </tr>\n",
       "    <tr>\n",
       "      <th>1875</th>\n",
       "      <td>CrisisFACTS-009-r0</td>\n",
       "      <td>llama_13b_chat</td>\n",
       "      <td>0.000</td>\n",
       "      <td>0.000000</td>\n",
       "    </tr>\n",
       "    <tr>\n",
       "      <th>1876</th>\n",
       "      <td>CrisisFACTS-009-r0</td>\n",
       "      <td>Siena.FactTrigrams1</td>\n",
       "      <td>0.050</td>\n",
       "      <td>0.090909</td>\n",
       "    </tr>\n",
       "  </tbody>\n",
       "</table>\n",
       "<p>1877 rows × 4 columns</p>\n",
       "</div>"
      ],
      "text/plain": [
       "                  req_id                  run  redundancy  comprehensiveness\n",
       "0     CrisisFACTS-003-r5                llama       0.450           0.147059\n",
       "1     CrisisFACTS-003-r5        nm-gpt35-bm25       0.225           0.088235\n",
       "2     CrisisFACTS-003-r5  Human_Info_Lab-FM-A       0.275           0.088235\n",
       "3     CrisisFACTS-003-r5             nm-gpt35       0.775           0.250000\n",
       "4     CrisisFACTS-003-r5    V-TorontoMU_USE_4       0.100           0.044118\n",
       "...                  ...                  ...         ...                ...\n",
       "1872  CrisisFACTS-009-r0    V-TorontoMU_USE_4       0.000           0.000000\n",
       "1873  CrisisFACTS-009-r0                llama       1.000           0.090909\n",
       "1874  CrisisFACTS-009-r0  Human_Info_Lab-FM-B       0.100           0.181818\n",
       "1875  CrisisFACTS-009-r0       llama_13b_chat       0.000           0.000000\n",
       "1876  CrisisFACTS-009-r0  Siena.FactTrigrams1       0.050           0.090909\n",
       "\n",
       "[1877 rows x 4 columns]"
      ]
     },
     "execution_count": 43,
     "metadata": {},
     "output_type": "execute_result"
    }
   ],
   "source": [
    "score_df"
   ]
  },
  {
   "cell_type": "code",
   "execution_count": 44,
   "id": "7fa3b989",
   "metadata": {},
   "outputs": [
    {
     "name": "stdout",
     "output_type": "stream",
     "text": [
      "Skipping [Human_Info_Lab-FM-A]\n",
      "Skipping [Human_Info_Lab-FM-B]\n",
      "Skipping [IDACCS_occamsHybridGPT3.5]\n",
      "Skipping [IDACCS_occams_extract]\n",
      "Skipping [IRLabIITBHU_BM25_1]\n",
      "Skipping [IRLabIITBHU_DFReeKLIM_1]\n",
      "Skipping [Siena.FactTrigrams1]\n",
      "Skipping [Siena.WikiTrigrams1]\n",
      "Thesis_Retriver --> thesis.v1.Thesis_Retriver.csv\n",
      "Skipping [V-TorontoMU_USE_4]\n",
      "Skipping [baseline.v1]\n",
      "Skipping [baseline.v2]\n",
      "Skipping [drdqn-all]\n",
      "Skipping [drdqn-notopic]\n",
      "Skipping [llama]\n",
      "Skipping [llama_13b_chat]\n",
      "Skipping [nm-gpt35]\n",
      "Skipping [nm-gpt35-bm25]\n",
      "Skipping [nut-kslab01]\n"
     ]
    }
   ],
   "source": [
    "for run_tag,group in score_df.groupby(\"run\"):\n",
    "    if run_tag not in runtag_map:\n",
    "        print(\"Skipping [%s]\" % run_tag)\n",
    "        continue\n",
    "    runname = \"%s.%s.csv\" % (runtag_map[run_tag], run_tag)\n",
    "    print(run_tag, \"-->\", runname)\n",
    "    try:\n",
    "        group.to_csv(\"evaluation.output.assessors/%s\" % runname)\n",
    "    except:\n",
    "        os.makedirs(\"evaluation.output.assessors\")\n",
    "        group.to_csv(\"evaluation.output.assessors/%s\" % runname)"
   ]
  },
  {
   "cell_type": "code",
   "execution_count": 45,
   "id": "1721c1e0",
   "metadata": {},
   "outputs": [],
   "source": [
    "score_df[\"team\"] = score_df[\"run\"].apply(runtag_map.get)"
   ]
  },
  {
   "cell_type": "code",
   "execution_count": 46,
   "id": "d5d13ada",
   "metadata": {},
   "outputs": [],
   "source": [
    "score_df.to_csv(\"evaluation.output.assessors/all_runs.csv\")"
   ]
  },
  {
   "cell_type": "code",
   "execution_count": null,
   "id": "ed2bc8cb",
   "metadata": {},
   "outputs": [],
   "source": []
  },
  {
   "cell_type": "code",
   "execution_count": 47,
   "id": "96779f80",
   "metadata": {},
   "outputs": [],
   "source": [
    "score_df = pd.read_csv(\"evaluation.output.assessors/all_runs.csv\", index_col=0)"
   ]
  },
  {
   "cell_type": "code",
   "execution_count": 48,
   "metadata": {},
   "outputs": [
    {
     "data": {
      "application/vnd.microsoft.datawrangler.viewer.v0+json": {
       "columns": [
        {
         "name": "index",
         "rawType": "int64",
         "type": "integer"
        },
        {
         "name": "req_id",
         "rawType": "object",
         "type": "string"
        },
        {
         "name": "run",
         "rawType": "object",
         "type": "string"
        },
        {
         "name": "redundancy",
         "rawType": "float64",
         "type": "float"
        },
        {
         "name": "comprehensiveness",
         "rawType": "float64",
         "type": "float"
        },
        {
         "name": "team",
         "rawType": "object",
         "type": "unknown"
        }
       ],
       "conversionMethod": "pd.DataFrame",
       "ref": "c1bb7fa5-4fe3-43f4-9b64-9e933f0ebbc5",
       "rows": [
        [
         "0",
         "CrisisFACTS-003-r5",
         "llama",
         "0.45",
         "0.1470588235294117",
         null
        ],
        [
         "1",
         "CrisisFACTS-003-r5",
         "nm-gpt35-bm25",
         "0.225",
         "0.088235294117647",
         null
        ],
        [
         "2",
         "CrisisFACTS-003-r5",
         "Human_Info_Lab-FM-A",
         "0.275",
         "0.088235294117647",
         null
        ],
        [
         "3",
         "CrisisFACTS-003-r5",
         "nm-gpt35",
         "0.775",
         "0.25",
         null
        ],
        [
         "4",
         "CrisisFACTS-003-r5",
         "V-TorontoMU_USE_4",
         "0.1",
         "0.0441176470588235",
         null
        ],
        [
         "5",
         "CrisisFACTS-003-r5",
         "Human_Info_Lab-FM-B",
         "0.275",
         "0.1029411764705882",
         null
        ],
        [
         "6",
         "CrisisFACTS-003-r5",
         "nut-kslab01",
         "0.6",
         "0.1911764705882352",
         null
        ],
        [
         "7",
         "CrisisFACTS-003-r5",
         "IRLabIITBHU_DFReeKLIM_1",
         "0.575",
         "0.1764705882352941",
         null
        ],
        [
         "8",
         "CrisisFACTS-003-r5",
         "Siena.WikiTrigrams1",
         "0.425",
         "0.1323529411764706",
         null
        ],
        [
         "9",
         "CrisisFACTS-003-r5",
         "baseline.v2",
         "0.575",
         "0.1764705882352941",
         null
        ],
        [
         "10",
         "CrisisFACTS-003-r5",
         "Thesis_Retriver",
         "0.5526315789473685",
         "0.1617647058823529",
         "thesis.v1"
        ],
        [
         "11",
         "CrisisFACTS-003-r5",
         "baseline.v1",
         "0.525",
         "0.1764705882352941",
         null
        ],
        [
         "12",
         "CrisisFACTS-003-r5",
         "Siena.FactTrigrams1",
         "0.55",
         "0.1764705882352941",
         null
        ],
        [
         "13",
         "CrisisFACTS-003-r5",
         "IRLabIITBHU_BM25_1",
         "0.425",
         "0.1323529411764706",
         null
        ],
        [
         "14",
         "CrisisFACTS-003-r6",
         "nm-gpt35-bm25",
         "0.1578947368421052",
         "0.0476190476190476",
         null
        ],
        [
         "15",
         "CrisisFACTS-003-r6",
         "V-TorontoMU_USE_4",
         "0.1",
         "0.0317460317460317",
         null
        ],
        [
         "16",
         "CrisisFACTS-003-r6",
         "Siena.FactTrigrams1",
         "0.325",
         "0.1111111111111111",
         null
        ],
        [
         "17",
         "CrisisFACTS-003-r6",
         "Siena.WikiTrigrams1",
         "0.5",
         "0.1587301587301587",
         null
        ],
        [
         "18",
         "CrisisFACTS-003-r6",
         "Human_Info_Lab-FM-A",
         "0.175",
         "0.0793650793650793",
         null
        ],
        [
         "19",
         "CrisisFACTS-003-r6",
         "Human_Info_Lab-FM-B",
         "0.375",
         "0.1269841269841269",
         null
        ],
        [
         "20",
         "CrisisFACTS-003-r6",
         "llama",
         "0.35",
         "0.1111111111111111",
         null
        ],
        [
         "21",
         "CrisisFACTS-003-r6",
         "nm-gpt35",
         "0.6944444444444444",
         "0.2222222222222222",
         null
        ],
        [
         "22",
         "CrisisFACTS-003-r6",
         "Thesis_Retriver",
         "0.525",
         "0.1746031746031746",
         "thesis.v1"
        ],
        [
         "23",
         "CrisisFACTS-003-r6",
         "baseline.v1",
         "0.5263157894736842",
         "0.2063492063492063",
         null
        ],
        [
         "24",
         "CrisisFACTS-003-r6",
         "nut-kslab01",
         "0.5789473684210527",
         "0.2222222222222222",
         null
        ],
        [
         "25",
         "CrisisFACTS-003-r6",
         "IRLabIITBHU_DFReeKLIM_1",
         "0.525",
         "0.1746031746031746",
         null
        ],
        [
         "26",
         "CrisisFACTS-003-r6",
         "baseline.v2",
         "0.525",
         "0.1746031746031746",
         null
        ],
        [
         "27",
         "CrisisFACTS-003-r6",
         "IRLabIITBHU_BM25_1",
         "0.5",
         "0.1746031746031746",
         null
        ],
        [
         "28",
         "CrisisFACTS-003-r7",
         "nm-gpt35-bm25",
         "0.4",
         "0.0919540229885057",
         null
        ],
        [
         "29",
         "CrisisFACTS-003-r7",
         "Human_Info_Lab-FM-B",
         "0.425",
         "0.1034482758620689",
         null
        ],
        [
         "30",
         "CrisisFACTS-003-r7",
         "V-TorontoMU_USE_4",
         "0.2",
         "0.0459770114942528",
         null
        ],
        [
         "31",
         "CrisisFACTS-003-r7",
         "IRLabIITBHU_BM25_1",
         "0.525",
         "0.1264367816091954",
         null
        ],
        [
         "32",
         "CrisisFACTS-003-r7",
         "Thesis_Retriver",
         "0.75",
         "0.1724137931034483",
         "thesis.v1"
        ],
        [
         "33",
         "CrisisFACTS-003-r7",
         "baseline.v2",
         "0.7",
         "0.160919540229885",
         null
        ],
        [
         "34",
         "CrisisFACTS-003-r7",
         "IRLabIITBHU_DFReeKLIM_1",
         "0.7",
         "0.160919540229885",
         null
        ],
        [
         "35",
         "CrisisFACTS-003-r7",
         "nm-gpt35",
         "0.7631578947368421",
         "0.1839080459770115",
         null
        ],
        [
         "36",
         "CrisisFACTS-003-r7",
         "Human_Info_Lab-FM-A",
         "0.425",
         "0.1034482758620689",
         null
        ],
        [
         "37",
         "CrisisFACTS-003-r7",
         "llama",
         "0.3157894736842105",
         "0.0689655172413793",
         null
        ],
        [
         "38",
         "CrisisFACTS-003-r7",
         "Siena.FactTrigrams1",
         "0.4166666666666667",
         "0.0919540229885057",
         null
        ],
        [
         "39",
         "CrisisFACTS-003-r7",
         "Siena.WikiTrigrams1",
         "0.7368421052631579",
         "0.160919540229885",
         null
        ],
        [
         "40",
         "CrisisFACTS-003-r7",
         "nut-kslab01",
         "0.9",
         "0.2068965517241379",
         null
        ],
        [
         "41",
         "CrisisFACTS-003-r7",
         "baseline.v1",
         "0.85",
         "0.1954022988505747",
         null
        ],
        [
         "42",
         "CrisisFACTS-003-r8",
         "baseline.v1",
         "0.7105263157894737",
         "0.1573033707865168",
         null
        ],
        [
         "43",
         "CrisisFACTS-003-r8",
         "Thesis_Retriver",
         "0.575",
         "0.1348314606741573",
         "thesis.v1"
        ],
        [
         "44",
         "CrisisFACTS-003-r8",
         "nm-gpt35-bm25",
         "0.5",
         "0.1235955056179775",
         null
        ],
        [
         "45",
         "CrisisFACTS-003-r8",
         "nut-kslab01",
         "0.6578947368421053",
         "0.146067415730337",
         null
        ],
        [
         "46",
         "CrisisFACTS-003-r8",
         "baseline.v2",
         "0.5263157894736842",
         "0.1123595505617977",
         null
        ],
        [
         "47",
         "CrisisFACTS-003-r8",
         "IRLabIITBHU_BM25_1",
         "0.4473684210526316",
         "0.1011235955056179",
         null
        ],
        [
         "48",
         "CrisisFACTS-003-r8",
         "IRLabIITBHU_DFReeKLIM_1",
         "0.5263157894736842",
         "0.1123595505617977",
         null
        ],
        [
         "49",
         "CrisisFACTS-003-r8",
         "llama",
         "0.35",
         "0.0898876404494382",
         null
        ]
       ],
       "shape": {
        "columns": 5,
        "rows": 1877
       }
      },
      "text/html": [
       "<div>\n",
       "<style scoped>\n",
       "    .dataframe tbody tr th:only-of-type {\n",
       "        vertical-align: middle;\n",
       "    }\n",
       "\n",
       "    .dataframe tbody tr th {\n",
       "        vertical-align: top;\n",
       "    }\n",
       "\n",
       "    .dataframe thead th {\n",
       "        text-align: right;\n",
       "    }\n",
       "</style>\n",
       "<table border=\"1\" class=\"dataframe\">\n",
       "  <thead>\n",
       "    <tr style=\"text-align: right;\">\n",
       "      <th></th>\n",
       "      <th>req_id</th>\n",
       "      <th>run</th>\n",
       "      <th>redundancy</th>\n",
       "      <th>comprehensiveness</th>\n",
       "      <th>team</th>\n",
       "    </tr>\n",
       "  </thead>\n",
       "  <tbody>\n",
       "    <tr>\n",
       "      <th>0</th>\n",
       "      <td>CrisisFACTS-003-r5</td>\n",
       "      <td>llama</td>\n",
       "      <td>0.450</td>\n",
       "      <td>0.147059</td>\n",
       "      <td>NaN</td>\n",
       "    </tr>\n",
       "    <tr>\n",
       "      <th>1</th>\n",
       "      <td>CrisisFACTS-003-r5</td>\n",
       "      <td>nm-gpt35-bm25</td>\n",
       "      <td>0.225</td>\n",
       "      <td>0.088235</td>\n",
       "      <td>NaN</td>\n",
       "    </tr>\n",
       "    <tr>\n",
       "      <th>2</th>\n",
       "      <td>CrisisFACTS-003-r5</td>\n",
       "      <td>Human_Info_Lab-FM-A</td>\n",
       "      <td>0.275</td>\n",
       "      <td>0.088235</td>\n",
       "      <td>NaN</td>\n",
       "    </tr>\n",
       "    <tr>\n",
       "      <th>3</th>\n",
       "      <td>CrisisFACTS-003-r5</td>\n",
       "      <td>nm-gpt35</td>\n",
       "      <td>0.775</td>\n",
       "      <td>0.250000</td>\n",
       "      <td>NaN</td>\n",
       "    </tr>\n",
       "    <tr>\n",
       "      <th>4</th>\n",
       "      <td>CrisisFACTS-003-r5</td>\n",
       "      <td>V-TorontoMU_USE_4</td>\n",
       "      <td>0.100</td>\n",
       "      <td>0.044118</td>\n",
       "      <td>NaN</td>\n",
       "    </tr>\n",
       "    <tr>\n",
       "      <th>...</th>\n",
       "      <td>...</td>\n",
       "      <td>...</td>\n",
       "      <td>...</td>\n",
       "      <td>...</td>\n",
       "      <td>...</td>\n",
       "    </tr>\n",
       "    <tr>\n",
       "      <th>1872</th>\n",
       "      <td>CrisisFACTS-009-r0</td>\n",
       "      <td>V-TorontoMU_USE_4</td>\n",
       "      <td>0.000</td>\n",
       "      <td>0.000000</td>\n",
       "      <td>NaN</td>\n",
       "    </tr>\n",
       "    <tr>\n",
       "      <th>1873</th>\n",
       "      <td>CrisisFACTS-009-r0</td>\n",
       "      <td>llama</td>\n",
       "      <td>1.000</td>\n",
       "      <td>0.090909</td>\n",
       "      <td>NaN</td>\n",
       "    </tr>\n",
       "    <tr>\n",
       "      <th>1874</th>\n",
       "      <td>CrisisFACTS-009-r0</td>\n",
       "      <td>Human_Info_Lab-FM-B</td>\n",
       "      <td>0.100</td>\n",
       "      <td>0.181818</td>\n",
       "      <td>NaN</td>\n",
       "    </tr>\n",
       "    <tr>\n",
       "      <th>1875</th>\n",
       "      <td>CrisisFACTS-009-r0</td>\n",
       "      <td>llama_13b_chat</td>\n",
       "      <td>0.000</td>\n",
       "      <td>0.000000</td>\n",
       "      <td>NaN</td>\n",
       "    </tr>\n",
       "    <tr>\n",
       "      <th>1876</th>\n",
       "      <td>CrisisFACTS-009-r0</td>\n",
       "      <td>Siena.FactTrigrams1</td>\n",
       "      <td>0.050</td>\n",
       "      <td>0.090909</td>\n",
       "      <td>NaN</td>\n",
       "    </tr>\n",
       "  </tbody>\n",
       "</table>\n",
       "<p>1877 rows × 5 columns</p>\n",
       "</div>"
      ],
      "text/plain": [
       "                  req_id                  run  redundancy  comprehensiveness  \\\n",
       "0     CrisisFACTS-003-r5                llama       0.450           0.147059   \n",
       "1     CrisisFACTS-003-r5        nm-gpt35-bm25       0.225           0.088235   \n",
       "2     CrisisFACTS-003-r5  Human_Info_Lab-FM-A       0.275           0.088235   \n",
       "3     CrisisFACTS-003-r5             nm-gpt35       0.775           0.250000   \n",
       "4     CrisisFACTS-003-r5    V-TorontoMU_USE_4       0.100           0.044118   \n",
       "...                  ...                  ...         ...                ...   \n",
       "1872  CrisisFACTS-009-r0    V-TorontoMU_USE_4       0.000           0.000000   \n",
       "1873  CrisisFACTS-009-r0                llama       1.000           0.090909   \n",
       "1874  CrisisFACTS-009-r0  Human_Info_Lab-FM-B       0.100           0.181818   \n",
       "1875  CrisisFACTS-009-r0       llama_13b_chat       0.000           0.000000   \n",
       "1876  CrisisFACTS-009-r0  Siena.FactTrigrams1       0.050           0.090909   \n",
       "\n",
       "     team  \n",
       "0     NaN  \n",
       "1     NaN  \n",
       "2     NaN  \n",
       "3     NaN  \n",
       "4     NaN  \n",
       "...   ...  \n",
       "1872  NaN  \n",
       "1873  NaN  \n",
       "1874  NaN  \n",
       "1875  NaN  \n",
       "1876  NaN  \n",
       "\n",
       "[1877 rows x 5 columns]"
      ]
     },
     "execution_count": 48,
     "metadata": {},
     "output_type": "execute_result"
    }
   ],
   "source": [
    "score_df"
   ]
  },
  {
   "cell_type": "code",
   "execution_count": 50,
   "metadata": {},
   "outputs": [
    {
     "data": {
      "application/vnd.microsoft.datawrangler.viewer.v0+json": {
       "columns": [
        {
         "name": "req_id",
         "rawType": "object",
         "type": "string"
        },
        {
         "name": "redundancy",
         "rawType": "float64",
         "type": "float"
        },
        {
         "name": "comprehensiveness",
         "rawType": "float64",
         "type": "float"
        }
       ],
       "conversionMethod": "pd.DataFrame",
       "ref": "b108bb9d-2c20-424d-8102-9373d59812f1",
       "rows": [
        [
         "CrisisFACTS-001-r10",
         "0.09860066833751044",
         "0.07417582417582415"
        ],
        [
         "CrisisFACTS-001-r11",
         "0.020804988662131513",
         "0.1"
        ],
        [
         "CrisisFACTS-001-r3",
         "0.39087301587301587",
         "0.12244897959183668"
        ],
        [
         "CrisisFACTS-001-r4",
         "0.308453118089341",
         "0.10379464285714286"
        ],
        [
         "CrisisFACTS-001-r5",
         "0.21375098284928004",
         "0.10892857142857144"
        ],
        [
         "CrisisFACTS-001-r6",
         "0.2683270676691729",
         "0.12380952380952374"
        ],
        [
         "CrisisFACTS-001-r7",
         "0.2506861516536439",
         "0.11011904761904759"
        ],
        [
         "CrisisFACTS-001-r8",
         "0.2591712005314946",
         "0.12369337979094075"
        ],
        [
         "CrisisFACTS-001-r9",
         "0.27092992898913953",
         "0.12362637362637359"
        ],
        [
         "CrisisFACTS-002-r1",
         "0.5671846589512998",
         "0.13186813186813182"
        ],
        [
         "CrisisFACTS-002-r2",
         "0.3178626713843432",
         "0.09027777777777775"
        ],
        [
         "CrisisFACTS-002-r3",
         "0.23774018379281533",
         "0.1049562682215743"
        ],
        [
         "CrisisFACTS-002-r4",
         "0.22753820826576243",
         "0.1373626373626373"
        ],
        [
         "CrisisFACTS-002-r5",
         "0.2916368082320647",
         "0.11224489795918365"
        ],
        [
         "CrisisFACTS-002-r6",
         "0.3551627648667122",
         "0.28231292517006795"
        ],
        [
         "CrisisFACTS-003-r10",
         "0.5003654970760234",
         "0.14915966386554616"
        ],
        [
         "CrisisFACTS-003-r11",
         "0.01582519647535127",
         "0.3076923076923077"
        ],
        [
         "CrisisFACTS-003-r5",
         "0.4519736842105263",
         "0.1460084033613445"
        ],
        [
         "CrisisFACTS-003-r6",
         "0.4184001670843776",
         "0.14399092970521538"
        ],
        [
         "CrisisFACTS-003-r7",
         "0.5791040100250626",
         "0.1338259441707717"
        ],
        [
         "CrisisFACTS-003-r8",
         "0.5493421052631579",
         "0.12680577849117172"
        ],
        [
         "CrisisFACTS-003-r9",
         "0.4465695488721804",
         "0.1275510204081632"
        ],
        [
         "CrisisFACTS-004-r10",
         "0.26348460436806304",
         "0.11734693877551015"
        ],
        [
         "CrisisFACTS-004-r11",
         "0.3829051796157059",
         "0.09693877551020405"
        ],
        [
         "CrisisFACTS-004-r12",
         "0.3156537176274018",
         "0.11558441558441554"
        ],
        [
         "CrisisFACTS-004-r13",
         "0.5153195488721805",
         "0.09746328437917219"
        ],
        [
         "CrisisFACTS-004-r14",
         "0.3178571428571429",
         "0.09594882729211084"
        ],
        [
         "CrisisFACTS-004-r15",
         "0.3818609022556391",
         "0.10380952380952378"
        ],
        [
         "CrisisFACTS-004-r16",
         "0.30224458204334365",
         "0.08718487394957981"
        ],
        [
         "CrisisFACTS-004-r17",
         "0.31574524546660765",
         "0.09907834101382484"
        ],
        [
         "CrisisFACTS-004-r18",
         "0.40921052631578947",
         "0.10907335907335904"
        ],
        [
         "CrisisFACTS-004-r19",
         "0.24081711632021227",
         "0.10571428571428572"
        ],
        [
         "CrisisFACTS-004-r20",
         "0.19379699248120302",
         "0.09090909090909087"
        ],
        [
         "CrisisFACTS-004-r21",
         "0.25456349206349205",
         "0.11269841269841266"
        ],
        [
         "CrisisFACTS-004-r22",
         "0.2487308013623803",
         "0.22377622377622375"
        ],
        [
         "CrisisFACTS-004-r8",
         "0.17982640424590887",
         "0.07936507936507933"
        ],
        [
         "CrisisFACTS-004-r9",
         "0.7164115646258503",
         "0.21307506053268763"
        ],
        [
         "CrisisFACTS-005-r3",
         "0.5131898373384441",
         "0.125"
        ],
        [
         "CrisisFACTS-005-r4",
         "0.4928887783183448",
         "0.11499999999999999"
        ],
        [
         "CrisisFACTS-005-r5",
         "0.3217522974101921",
         "0.11111111111111106"
        ],
        [
         "CrisisFACTS-005-r6",
         "0.10779276622929872",
         "0.14285714285714285"
        ],
        [
         "CrisisFACTS-006-r4",
         "0.4375",
         "0.14285714285714282"
        ],
        [
         "CrisisFACTS-006-r5",
         "0.31694879031234624",
         "0.09230769230769229"
        ],
        [
         "CrisisFACTS-006-r6",
         "0.29406236178682",
         "0.10119047619047616"
        ],
        [
         "CrisisFACTS-006-r7",
         "0.31829819647157104",
         "0.12668463611859834"
        ],
        [
         "CrisisFACTS-007-r13",
         "0.5791324205120645",
         "0.0989515072083879"
        ],
        [
         "CrisisFACTS-007-r14",
         "0.7231203007518797",
         "0.11771428571428573"
        ],
        [
         "CrisisFACTS-008-r10",
         "0.6303571428571428",
         "0.13203463203463203"
        ],
        [
         "CrisisFACTS-008-r3",
         "0.3714285714285714",
         "0.10408163265306118"
        ],
        [
         "CrisisFACTS-008-r4",
         "0.4545189330793046",
         "0.11206077872744534"
        ]
       ],
       "shape": {
        "columns": 2,
        "rows": 115
       }
      },
      "text/html": [
       "<div>\n",
       "<style scoped>\n",
       "    .dataframe tbody tr th:only-of-type {\n",
       "        vertical-align: middle;\n",
       "    }\n",
       "\n",
       "    .dataframe tbody tr th {\n",
       "        vertical-align: top;\n",
       "    }\n",
       "\n",
       "    .dataframe thead th {\n",
       "        text-align: right;\n",
       "    }\n",
       "</style>\n",
       "<table border=\"1\" class=\"dataframe\">\n",
       "  <thead>\n",
       "    <tr style=\"text-align: right;\">\n",
       "      <th></th>\n",
       "      <th>redundancy</th>\n",
       "      <th>comprehensiveness</th>\n",
       "    </tr>\n",
       "    <tr>\n",
       "      <th>req_id</th>\n",
       "      <th></th>\n",
       "      <th></th>\n",
       "    </tr>\n",
       "  </thead>\n",
       "  <tbody>\n",
       "    <tr>\n",
       "      <th>CrisisFACTS-001-r10</th>\n",
       "      <td>0.098601</td>\n",
       "      <td>0.074176</td>\n",
       "    </tr>\n",
       "    <tr>\n",
       "      <th>CrisisFACTS-001-r11</th>\n",
       "      <td>0.020805</td>\n",
       "      <td>0.100000</td>\n",
       "    </tr>\n",
       "    <tr>\n",
       "      <th>CrisisFACTS-001-r3</th>\n",
       "      <td>0.390873</td>\n",
       "      <td>0.122449</td>\n",
       "    </tr>\n",
       "    <tr>\n",
       "      <th>CrisisFACTS-001-r4</th>\n",
       "      <td>0.308453</td>\n",
       "      <td>0.103795</td>\n",
       "    </tr>\n",
       "    <tr>\n",
       "      <th>CrisisFACTS-001-r5</th>\n",
       "      <td>0.213751</td>\n",
       "      <td>0.108929</td>\n",
       "    </tr>\n",
       "    <tr>\n",
       "      <th>...</th>\n",
       "      <td>...</td>\n",
       "      <td>...</td>\n",
       "    </tr>\n",
       "    <tr>\n",
       "      <th>CrisisFACTS-018-r1</th>\n",
       "      <td>0.718787</td>\n",
       "      <td>0.063947</td>\n",
       "    </tr>\n",
       "    <tr>\n",
       "      <th>CrisisFACTS-018-r2</th>\n",
       "      <td>0.558193</td>\n",
       "      <td>0.066035</td>\n",
       "    </tr>\n",
       "    <tr>\n",
       "      <th>CrisisFACTS-018-r3</th>\n",
       "      <td>0.386423</td>\n",
       "      <td>0.072239</td>\n",
       "    </tr>\n",
       "    <tr>\n",
       "      <th>CrisisFACTS-018-r4</th>\n",
       "      <td>0.421484</td>\n",
       "      <td>0.096094</td>\n",
       "    </tr>\n",
       "    <tr>\n",
       "      <th>CrisisFACTS-018-r5</th>\n",
       "      <td>0.289336</td>\n",
       "      <td>0.151773</td>\n",
       "    </tr>\n",
       "  </tbody>\n",
       "</table>\n",
       "<p>115 rows × 2 columns</p>\n",
       "</div>"
      ],
      "text/plain": [
       "                     redundancy  comprehensiveness\n",
       "req_id                                            \n",
       "CrisisFACTS-001-r10    0.098601           0.074176\n",
       "CrisisFACTS-001-r11    0.020805           0.100000\n",
       "CrisisFACTS-001-r3     0.390873           0.122449\n",
       "CrisisFACTS-001-r4     0.308453           0.103795\n",
       "CrisisFACTS-001-r5     0.213751           0.108929\n",
       "...                         ...                ...\n",
       "CrisisFACTS-018-r1     0.718787           0.063947\n",
       "CrisisFACTS-018-r2     0.558193           0.066035\n",
       "CrisisFACTS-018-r3     0.386423           0.072239\n",
       "CrisisFACTS-018-r4     0.421484           0.096094\n",
       "CrisisFACTS-018-r5     0.289336           0.151773\n",
       "\n",
       "[115 rows x 2 columns]"
      ]
     },
     "execution_count": 50,
     "metadata": {},
     "output_type": "execute_result"
    }
   ],
   "source": [
    "score_df.groupby(\"req_id\").agg({\"redundancy\": \"mean\", \"comprehensiveness\": \"mean\"})"
   ]
  },
  {
   "cell_type": "code",
   "execution_count": null,
   "id": "53c18844",
   "metadata": {},
   "outputs": [],
   "source": []
  }
 ],
 "metadata": {
  "kernelspec": {
   "display_name": ".venv",
   "language": "python",
   "name": "python3"
  },
  "language_info": {
   "codemirror_mode": {
    "name": "ipython",
    "version": 3
   },
   "file_extension": ".py",
   "mimetype": "text/x-python",
   "name": "python",
   "nbconvert_exporter": "python",
   "pygments_lexer": "ipython3",
   "version": "3.11.2"
  }
 },
 "nbformat": 4,
 "nbformat_minor": 5
}
