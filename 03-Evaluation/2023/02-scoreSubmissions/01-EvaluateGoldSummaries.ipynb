{
 "cells": [
  {
   "cell_type": "markdown",
   "id": "8aae8826",
   "metadata": {},
   "source": [
    "# Compare Wiki Summary and NIST Assessors\n",
    "\n",
    "This copies our assessment against whole-event summaries from CrisisFACTS 2022."
   ]
  },
  {
   "cell_type": "code",
   "execution_count": 1,
   "id": "a6553dd3",
   "metadata": {},
   "outputs": [],
   "source": [
    "%matplotlib inline"
   ]
  },
  {
   "cell_type": "code",
   "execution_count": 2,
   "id": "06bdae86",
   "metadata": {},
   "outputs": [],
   "source": [
    "import pandas as pd\n",
    "import numpy as np\n",
    "import json\n",
    "import glob\n",
    "import gzip\n",
    "\n",
    "import scipy.stats\n",
    "\n",
    "import matplotlib.pyplot as plt"
   ]
  },
  {
   "cell_type": "code",
   "execution_count": 3,
   "id": "dce70bfb",
   "metadata": {},
   "outputs": [
    {
     "data": {
      "text/plain": [
       "'0.3.12'"
      ]
     },
     "execution_count": 3,
     "metadata": {},
     "output_type": "execute_result"
    }
   ],
   "source": [
    "from torchmetrics.text.rouge import ROUGEScore\n",
    "\n",
    "import bert_score\n",
    "\n",
    "bert_score.__version__"
   ]
  },
  {
   "cell_type": "code",
   "execution_count": null,
   "id": "bf2337c4",
   "metadata": {},
   "outputs": [],
   "source": []
  },
  {
   "cell_type": "code",
   "execution_count": 17,
   "id": "bf795674",
   "metadata": {},
   "outputs": [],
   "source": [
    "summaries = pd.read_json(\"CrisisFACTs-2022to2023.topics.withSummaries.json\")"
   ]
  },
  {
   "cell_type": "code",
   "execution_count": 24,
   "id": "4c8c6c0a",
   "metadata": {},
   "outputs": [
    {
     "data": {
      "text/html": [
       "<div>\n",
       "<style scoped>\n",
       "    .dataframe tbody tr th:only-of-type {\n",
       "        vertical-align: middle;\n",
       "    }\n",
       "\n",
       "    .dataframe tbody tr th {\n",
       "        vertical-align: top;\n",
       "    }\n",
       "\n",
       "    .dataframe thead th {\n",
       "        text-align: right;\n",
       "    }\n",
       "</style>\n",
       "<table border=\"1\" class=\"dataframe\">\n",
       "  <thead>\n",
       "    <tr style=\"text-align: right;\">\n",
       "      <th></th>\n",
       "      <th>trecisID</th>\n",
       "      <th>dataset</th>\n",
       "      <th>title</th>\n",
       "      <th>type</th>\n",
       "      <th>url</th>\n",
       "      <th>description</th>\n",
       "      <th>wiki.summary</th>\n",
       "      <th>nist.summary</th>\n",
       "    </tr>\n",
       "  </thead>\n",
       "  <tbody>\n",
       "    <tr>\n",
       "      <th>CrisisFACTS-001</th>\n",
       "      <td>TRECIS-CTIT-H-092</td>\n",
       "      <td>2017_12_07_lilac_wildfire.2017</td>\n",
       "      <td>Lilac Wildfire 2017</td>\n",
       "      <td>Wildfire</td>\n",
       "      <td>https://en.wikipedia.org/wiki/Lilac_Fire</td>\n",
       "      <td>The Lilac Fire was a fire that burned in north...</td>\n",
       "      <td>The Lilac Fire was a fire that burned in north...</td>\n",
       "      <td>Wind gusts have been recorded at 40-50 mph in ...</td>\n",
       "    </tr>\n",
       "    <tr>\n",
       "      <th>CrisisFACTS-002</th>\n",
       "      <td>TRECIS-CTIT-H-095</td>\n",
       "      <td>2018_07_23_cranston_wildfire.2018</td>\n",
       "      <td>Cranston Wildfire 2018</td>\n",
       "      <td>Wildfire</td>\n",
       "      <td>https://en.wikipedia.org/wiki/Cranston_Fire</td>\n",
       "      <td>The Cranston Fire was a wildfire that burned i...</td>\n",
       "      <td>The Cranston Fire was a wildfire that burned i...</td>\n",
       "      <td>An evacuation center had been set up at Bannin...</td>\n",
       "    </tr>\n",
       "    <tr>\n",
       "      <th>CrisisFACTS-003</th>\n",
       "      <td>TRECIS-CTIT-H-097</td>\n",
       "      <td>2018_08_05_holy_wildfire.2018</td>\n",
       "      <td>Holy Wildfire 2018</td>\n",
       "      <td>Wildfire</td>\n",
       "      <td>https://en.wikipedia.org/wiki/Holy_Fire_(2018)</td>\n",
       "      <td>The Holy Fire was a wildfire that burned in th...</td>\n",
       "      <td>The Holy Fire was a wildfire that burned in th...</td>\n",
       "      <td>The Holy Fire in California has forced the clo...</td>\n",
       "    </tr>\n",
       "    <tr>\n",
       "      <th>CrisisFACTS-004</th>\n",
       "      <td>TRECIS-CTIT-H-098</td>\n",
       "      <td>2018_09_07_hurricane_florence.2018</td>\n",
       "      <td>Hurricane Florence 2018</td>\n",
       "      <td>Hurricane</td>\n",
       "      <td>https://en.wikipedia.org/wiki/Hurricane_Florence</td>\n",
       "      <td>Hurricane Florence was a powerful and long-liv...</td>\n",
       "      <td>Hurricane Florence was a powerful and long-liv...</td>\n",
       "      <td>The hurricane has made landfall in the Carolin...</td>\n",
       "    </tr>\n",
       "    <tr>\n",
       "      <th>CrisisFACTS-005</th>\n",
       "      <td>TRECIS-CTIT-H-101</td>\n",
       "      <td>2018_maryland_flood</td>\n",
       "      <td>2018 Maryland Flood</td>\n",
       "      <td>Flood</td>\n",
       "      <td>https://en.wikipedia.org/wiki/2018_Maryland_flood</td>\n",
       "      <td>In the afternoon of May 27, 2018, after over 8...</td>\n",
       "      <td>In the afternoon of May 27, 2018, after over 8...</td>\n",
       "      <td>Officials evacuated the area due to a gas leak...</td>\n",
       "    </tr>\n",
       "    <tr>\n",
       "      <th>CrisisFACTS-006</th>\n",
       "      <td>TRECIS-CTIT-H-106</td>\n",
       "      <td>2019_10_10_saddleridge_wildfire.2019</td>\n",
       "      <td>Saddleridge Wildfire 2019</td>\n",
       "      <td>Wildfire</td>\n",
       "      <td>https://en.wikipedia.org/wiki/Saddleridge_Fire</td>\n",
       "      <td>The Saddleridge Fire was a wildfire burning ne...</td>\n",
       "      <td>The Saddleridge Fire was a wildfire burning ne...</td>\n",
       "      <td>4,500 customers in Los Angeles and surrounding...</td>\n",
       "    </tr>\n",
       "    <tr>\n",
       "      <th>CrisisFACTS-007</th>\n",
       "      <td>TRECIS-CTIT-H-113</td>\n",
       "      <td>2020_08_27_hurricane_laura.2020</td>\n",
       "      <td>Hurricane Laura 2020</td>\n",
       "      <td>Hurricane</td>\n",
       "      <td>https://en.wikipedia.org/wiki/Hurricane_Laura</td>\n",
       "      <td>Hurricane Laura was a deadly and destructive C...</td>\n",
       "      <td>Hurricane Laura was a deadly and destructive C...</td>\n",
       "      <td>Hurricane force winds amp catastrophic storm s...</td>\n",
       "    </tr>\n",
       "    <tr>\n",
       "      <th>CrisisFACTS-008</th>\n",
       "      <td>TRECIS-CTIT-H-114</td>\n",
       "      <td>2020_09_11_hurricane_sally.2020</td>\n",
       "      <td>Hurricane Sally 2020</td>\n",
       "      <td>Hurricane</td>\n",
       "      <td>https://en.wikipedia.org/wiki/Hurricane_Sally</td>\n",
       "      <td>Hurricane Sally was a destructive Atlantic hur...</td>\n",
       "      <td>Hurricane Sally was a destructive and slow-mov...</td>\n",
       "      <td>Railways have not closed. Tropical Storm Sally...</td>\n",
       "    </tr>\n",
       "    <tr>\n",
       "      <th>CrisisFACTS-009</th>\n",
       "      <td>TRECIS-CTIT-H-066</td>\n",
       "      <td>beirutExplosion2020</td>\n",
       "      <td>Beirut Explosion</td>\n",
       "      <td>Accident</td>\n",
       "      <td>https://en.wikipedia.org/wiki/2020_Beirut_expl...</td>\n",
       "      <td>On 4 August 2020, a large amount of ammonium n...</td>\n",
       "      <td>On 4 August 2020, a large amount of ammonium n...</td>\n",
       "      <td>The impact of the afternoon blast was felt in ...</td>\n",
       "    </tr>\n",
       "    <tr>\n",
       "      <th>CrisisFACTS-010</th>\n",
       "      <td>TRECIS-CTIT-H-076</td>\n",
       "      <td>2020_01_27_houston_explosion.2020</td>\n",
       "      <td>Houston Explosion 2020</td>\n",
       "      <td>Accident</td>\n",
       "      <td>https://en.wikipedia.org/wiki/2020_Houston_exp...</td>\n",
       "      <td>On January 24, 2020, a building at Watson Grin...</td>\n",
       "      <td>On January 24, 2020, a building at Watson Grin...</td>\n",
       "      <td>Massive fire rips through building near Housto...</td>\n",
       "    </tr>\n",
       "    <tr>\n",
       "      <th>CrisisFACTS-011</th>\n",
       "      <td>TRECIS-CTIT-H-079</td>\n",
       "      <td>2020_02_07_rutherford_tn_floods.2020</td>\n",
       "      <td>Rutherford Floods 2020</td>\n",
       "      <td>Flood</td>\n",
       "      <td>https://www.dnj.com/story/weather/2020/02/13/r...</td>\n",
       "      <td>More than 40 Rutherford County roads were clos...</td>\n",
       "      <td></td>\n",
       "      <td>The National Weather Service has issued a * Fl...</td>\n",
       "    </tr>\n",
       "    <tr>\n",
       "      <th>CrisisFACTS-012</th>\n",
       "      <td>TRECIS-CTIT-H-083</td>\n",
       "      <td>2020_05_06_tn_derecho.2020</td>\n",
       "      <td>Tennessee Derecho 2020</td>\n",
       "      <td>Storm</td>\n",
       "      <td>https://www.washingtonpost.com/weather/2020/05...</td>\n",
       "      <td>Residents in the Tennessee Valley are cleaning...</td>\n",
       "      <td></td>\n",
       "      <td>There are severe thunderstorm warnings current...</td>\n",
       "    </tr>\n",
       "    <tr>\n",
       "      <th>CrisisFACTS-013</th>\n",
       "      <td>TRECIS-CTIT-H-084</td>\n",
       "      <td>2020_05_26_edenville_dam_failure.2020.corrected</td>\n",
       "      <td>Edenville Dam Failure 2020</td>\n",
       "      <td>Flood</td>\n",
       "      <td>https://en.wikipedia.org/wiki/Edenville_Dam#Da...</td>\n",
       "      <td>On May 19, 2020, 5:46 p.m., due to massive inf...</td>\n",
       "      <td>Edenville Dam was an earthen embankment dam at...</td>\n",
       "      <td>Poseyville Road from Ashby Road to St. Charles...</td>\n",
       "    </tr>\n",
       "    <tr>\n",
       "      <th>CrisisFACTS-014</th>\n",
       "      <td>TRECIS-CTIT-H-104</td>\n",
       "      <td>2019_08_25_hurricane_dorian.2019</td>\n",
       "      <td>Hurricane Dorian 2019</td>\n",
       "      <td>Hurricane</td>\n",
       "      <td>https://en.wikipedia.org/wiki/Hurricane_Dorian</td>\n",
       "      <td>Hurricane Dorian was an extremely powerful and...</td>\n",
       "      <td>Hurricane Dorian was an extremely powerful and...</td>\n",
       "      <td>Actions to take: -evacuate if you are in an ar...</td>\n",
       "    </tr>\n",
       "    <tr>\n",
       "      <th>CrisisFACTS-015</th>\n",
       "      <td>TRECIS-CTIT-H-107</td>\n",
       "      <td>2019_10_25_kincade_wildfire.2019</td>\n",
       "      <td>Kincade Wildfire 2019</td>\n",
       "      <td>Wildfire</td>\n",
       "      <td>https://en.wikipedia.org/wiki/Kincade_Fire</td>\n",
       "      <td>The Kincade Fire was a wildfire that burned in...</td>\n",
       "      <td>The Kincade Fire was a wildfire that burned in...</td>\n",
       "      <td>Sonoma County Resilience Fund stands at the re...</td>\n",
       "    </tr>\n",
       "    <tr>\n",
       "      <th>CrisisFACTS-016</th>\n",
       "      <td>TRECIS-CTIT-H-116</td>\n",
       "      <td>2020_easter_tornado_outbreak</td>\n",
       "      <td>2020 Easter Tornado Outbreak</td>\n",
       "      <td>Tornado</td>\n",
       "      <td>https://en.wikipedia.org/wiki/2020_Easter_torn...</td>\n",
       "      <td>A widespread and deadly tornado outbreak affec...</td>\n",
       "      <td>A widespread and deadly tornado outbreak affec...</td>\n",
       "      <td>People in Kingston need to immediately take co...</td>\n",
       "    </tr>\n",
       "    <tr>\n",
       "      <th>CrisisFACTS-017</th>\n",
       "      <td>TRECIS-CTIT-H-119</td>\n",
       "      <td>2020_tornado_outbreak_of_april</td>\n",
       "      <td>2020 Tornado Outbreak of April</td>\n",
       "      <td>Tornado</td>\n",
       "      <td>https://en.wikipedia.org/wiki/Tornado_outbreak...</td>\n",
       "      <td>During the afternoon and evening of April 22, ...</td>\n",
       "      <td>On April 22, 2020, an outbreak of discrete sup...</td>\n",
       "      <td>#Tornado reported in Florida as severe weather...</td>\n",
       "    </tr>\n",
       "    <tr>\n",
       "      <th>CrisisFACTS-018</th>\n",
       "      <td>TRECIS-CTIT-H-120</td>\n",
       "      <td>2020_tornado_outbreak_of_march</td>\n",
       "      <td>2020 Tornado Outbreak of March</td>\n",
       "      <td>Tornado</td>\n",
       "      <td>https://en.wikipedia.org/wiki/Tornado_outbreak...</td>\n",
       "      <td>A small but deadly tornado outbreak affected W...</td>\n",
       "      <td>A small but deadly tornado outbreak affected W...</td>\n",
       "      <td>Hazardous chemicals and materials are involved...</td>\n",
       "    </tr>\n",
       "  </tbody>\n",
       "</table>\n",
       "</div>"
      ],
      "text/plain": [
       "                          trecisID  \\\n",
       "CrisisFACTS-001  TRECIS-CTIT-H-092   \n",
       "CrisisFACTS-002  TRECIS-CTIT-H-095   \n",
       "CrisisFACTS-003  TRECIS-CTIT-H-097   \n",
       "CrisisFACTS-004  TRECIS-CTIT-H-098   \n",
       "CrisisFACTS-005  TRECIS-CTIT-H-101   \n",
       "CrisisFACTS-006  TRECIS-CTIT-H-106   \n",
       "CrisisFACTS-007  TRECIS-CTIT-H-113   \n",
       "CrisisFACTS-008  TRECIS-CTIT-H-114   \n",
       "CrisisFACTS-009  TRECIS-CTIT-H-066   \n",
       "CrisisFACTS-010  TRECIS-CTIT-H-076   \n",
       "CrisisFACTS-011  TRECIS-CTIT-H-079   \n",
       "CrisisFACTS-012  TRECIS-CTIT-H-083   \n",
       "CrisisFACTS-013  TRECIS-CTIT-H-084   \n",
       "CrisisFACTS-014  TRECIS-CTIT-H-104   \n",
       "CrisisFACTS-015  TRECIS-CTIT-H-107   \n",
       "CrisisFACTS-016  TRECIS-CTIT-H-116   \n",
       "CrisisFACTS-017  TRECIS-CTIT-H-119   \n",
       "CrisisFACTS-018  TRECIS-CTIT-H-120   \n",
       "\n",
       "                                                         dataset  \\\n",
       "CrisisFACTS-001                   2017_12_07_lilac_wildfire.2017   \n",
       "CrisisFACTS-002                2018_07_23_cranston_wildfire.2018   \n",
       "CrisisFACTS-003                    2018_08_05_holy_wildfire.2018   \n",
       "CrisisFACTS-004               2018_09_07_hurricane_florence.2018   \n",
       "CrisisFACTS-005                              2018_maryland_flood   \n",
       "CrisisFACTS-006             2019_10_10_saddleridge_wildfire.2019   \n",
       "CrisisFACTS-007                  2020_08_27_hurricane_laura.2020   \n",
       "CrisisFACTS-008                  2020_09_11_hurricane_sally.2020   \n",
       "CrisisFACTS-009                              beirutExplosion2020   \n",
       "CrisisFACTS-010                2020_01_27_houston_explosion.2020   \n",
       "CrisisFACTS-011             2020_02_07_rutherford_tn_floods.2020   \n",
       "CrisisFACTS-012                       2020_05_06_tn_derecho.2020   \n",
       "CrisisFACTS-013  2020_05_26_edenville_dam_failure.2020.corrected   \n",
       "CrisisFACTS-014                 2019_08_25_hurricane_dorian.2019   \n",
       "CrisisFACTS-015                 2019_10_25_kincade_wildfire.2019   \n",
       "CrisisFACTS-016                     2020_easter_tornado_outbreak   \n",
       "CrisisFACTS-017                   2020_tornado_outbreak_of_april   \n",
       "CrisisFACTS-018                   2020_tornado_outbreak_of_march   \n",
       "\n",
       "                                          title       type  \\\n",
       "CrisisFACTS-001             Lilac Wildfire 2017   Wildfire   \n",
       "CrisisFACTS-002          Cranston Wildfire 2018   Wildfire   \n",
       "CrisisFACTS-003              Holy Wildfire 2018   Wildfire   \n",
       "CrisisFACTS-004         Hurricane Florence 2018  Hurricane   \n",
       "CrisisFACTS-005             2018 Maryland Flood      Flood   \n",
       "CrisisFACTS-006       Saddleridge Wildfire 2019   Wildfire   \n",
       "CrisisFACTS-007            Hurricane Laura 2020  Hurricane   \n",
       "CrisisFACTS-008            Hurricane Sally 2020  Hurricane   \n",
       "CrisisFACTS-009                Beirut Explosion   Accident   \n",
       "CrisisFACTS-010          Houston Explosion 2020   Accident   \n",
       "CrisisFACTS-011          Rutherford Floods 2020      Flood   \n",
       "CrisisFACTS-012          Tennessee Derecho 2020      Storm   \n",
       "CrisisFACTS-013      Edenville Dam Failure 2020      Flood   \n",
       "CrisisFACTS-014           Hurricane Dorian 2019  Hurricane   \n",
       "CrisisFACTS-015           Kincade Wildfire 2019   Wildfire   \n",
       "CrisisFACTS-016    2020 Easter Tornado Outbreak    Tornado   \n",
       "CrisisFACTS-017  2020 Tornado Outbreak of April    Tornado   \n",
       "CrisisFACTS-018  2020 Tornado Outbreak of March    Tornado   \n",
       "\n",
       "                                                               url  \\\n",
       "CrisisFACTS-001           https://en.wikipedia.org/wiki/Lilac_Fire   \n",
       "CrisisFACTS-002        https://en.wikipedia.org/wiki/Cranston_Fire   \n",
       "CrisisFACTS-003     https://en.wikipedia.org/wiki/Holy_Fire_(2018)   \n",
       "CrisisFACTS-004   https://en.wikipedia.org/wiki/Hurricane_Florence   \n",
       "CrisisFACTS-005  https://en.wikipedia.org/wiki/2018_Maryland_flood   \n",
       "CrisisFACTS-006     https://en.wikipedia.org/wiki/Saddleridge_Fire   \n",
       "CrisisFACTS-007      https://en.wikipedia.org/wiki/Hurricane_Laura   \n",
       "CrisisFACTS-008      https://en.wikipedia.org/wiki/Hurricane_Sally   \n",
       "CrisisFACTS-009  https://en.wikipedia.org/wiki/2020_Beirut_expl...   \n",
       "CrisisFACTS-010  https://en.wikipedia.org/wiki/2020_Houston_exp...   \n",
       "CrisisFACTS-011  https://www.dnj.com/story/weather/2020/02/13/r...   \n",
       "CrisisFACTS-012  https://www.washingtonpost.com/weather/2020/05...   \n",
       "CrisisFACTS-013  https://en.wikipedia.org/wiki/Edenville_Dam#Da...   \n",
       "CrisisFACTS-014     https://en.wikipedia.org/wiki/Hurricane_Dorian   \n",
       "CrisisFACTS-015         https://en.wikipedia.org/wiki/Kincade_Fire   \n",
       "CrisisFACTS-016  https://en.wikipedia.org/wiki/2020_Easter_torn...   \n",
       "CrisisFACTS-017  https://en.wikipedia.org/wiki/Tornado_outbreak...   \n",
       "CrisisFACTS-018  https://en.wikipedia.org/wiki/Tornado_outbreak...   \n",
       "\n",
       "                                                       description  \\\n",
       "CrisisFACTS-001  The Lilac Fire was a fire that burned in north...   \n",
       "CrisisFACTS-002  The Cranston Fire was a wildfire that burned i...   \n",
       "CrisisFACTS-003  The Holy Fire was a wildfire that burned in th...   \n",
       "CrisisFACTS-004  Hurricane Florence was a powerful and long-liv...   \n",
       "CrisisFACTS-005  In the afternoon of May 27, 2018, after over 8...   \n",
       "CrisisFACTS-006  The Saddleridge Fire was a wildfire burning ne...   \n",
       "CrisisFACTS-007  Hurricane Laura was a deadly and destructive C...   \n",
       "CrisisFACTS-008  Hurricane Sally was a destructive Atlantic hur...   \n",
       "CrisisFACTS-009  On 4 August 2020, a large amount of ammonium n...   \n",
       "CrisisFACTS-010  On January 24, 2020, a building at Watson Grin...   \n",
       "CrisisFACTS-011  More than 40 Rutherford County roads were clos...   \n",
       "CrisisFACTS-012  Residents in the Tennessee Valley are cleaning...   \n",
       "CrisisFACTS-013  On May 19, 2020, 5:46 p.m., due to massive inf...   \n",
       "CrisisFACTS-014  Hurricane Dorian was an extremely powerful and...   \n",
       "CrisisFACTS-015  The Kincade Fire was a wildfire that burned in...   \n",
       "CrisisFACTS-016  A widespread and deadly tornado outbreak affec...   \n",
       "CrisisFACTS-017  During the afternoon and evening of April 22, ...   \n",
       "CrisisFACTS-018  A small but deadly tornado outbreak affected W...   \n",
       "\n",
       "                                                      wiki.summary  \\\n",
       "CrisisFACTS-001  The Lilac Fire was a fire that burned in north...   \n",
       "CrisisFACTS-002  The Cranston Fire was a wildfire that burned i...   \n",
       "CrisisFACTS-003  The Holy Fire was a wildfire that burned in th...   \n",
       "CrisisFACTS-004  Hurricane Florence was a powerful and long-liv...   \n",
       "CrisisFACTS-005  In the afternoon of May 27, 2018, after over 8...   \n",
       "CrisisFACTS-006  The Saddleridge Fire was a wildfire burning ne...   \n",
       "CrisisFACTS-007  Hurricane Laura was a deadly and destructive C...   \n",
       "CrisisFACTS-008  Hurricane Sally was a destructive and slow-mov...   \n",
       "CrisisFACTS-009  On 4 August 2020, a large amount of ammonium n...   \n",
       "CrisisFACTS-010  On January 24, 2020, a building at Watson Grin...   \n",
       "CrisisFACTS-011                                                      \n",
       "CrisisFACTS-012                                                      \n",
       "CrisisFACTS-013  Edenville Dam was an earthen embankment dam at...   \n",
       "CrisisFACTS-014  Hurricane Dorian was an extremely powerful and...   \n",
       "CrisisFACTS-015  The Kincade Fire was a wildfire that burned in...   \n",
       "CrisisFACTS-016  A widespread and deadly tornado outbreak affec...   \n",
       "CrisisFACTS-017  On April 22, 2020, an outbreak of discrete sup...   \n",
       "CrisisFACTS-018  A small but deadly tornado outbreak affected W...   \n",
       "\n",
       "                                                      nist.summary  \n",
       "CrisisFACTS-001  Wind gusts have been recorded at 40-50 mph in ...  \n",
       "CrisisFACTS-002  An evacuation center had been set up at Bannin...  \n",
       "CrisisFACTS-003  The Holy Fire in California has forced the clo...  \n",
       "CrisisFACTS-004  The hurricane has made landfall in the Carolin...  \n",
       "CrisisFACTS-005  Officials evacuated the area due to a gas leak...  \n",
       "CrisisFACTS-006  4,500 customers in Los Angeles and surrounding...  \n",
       "CrisisFACTS-007  Hurricane force winds amp catastrophic storm s...  \n",
       "CrisisFACTS-008  Railways have not closed. Tropical Storm Sally...  \n",
       "CrisisFACTS-009  The impact of the afternoon blast was felt in ...  \n",
       "CrisisFACTS-010  Massive fire rips through building near Housto...  \n",
       "CrisisFACTS-011  The National Weather Service has issued a * Fl...  \n",
       "CrisisFACTS-012  There are severe thunderstorm warnings current...  \n",
       "CrisisFACTS-013  Poseyville Road from Ashby Road to St. Charles...  \n",
       "CrisisFACTS-014  Actions to take: -evacuate if you are in an ar...  \n",
       "CrisisFACTS-015  Sonoma County Resilience Fund stands at the re...  \n",
       "CrisisFACTS-016  People in Kingston need to immediately take co...  \n",
       "CrisisFACTS-017  #Tornado reported in Florida as severe weather...  \n",
       "CrisisFACTS-018  Hazardous chemicals and materials are involved...  "
      ]
     },
     "execution_count": 24,
     "metadata": {},
     "output_type": "execute_result"
    }
   ],
   "source": [
    "summaries"
   ]
  },
  {
   "cell_type": "code",
   "execution_count": null,
   "id": "2cdb5f2a",
   "metadata": {},
   "outputs": [],
   "source": []
  },
  {
   "cell_type": "code",
   "execution_count": 19,
   "id": "c17122ec",
   "metadata": {},
   "outputs": [],
   "source": [
    "targets = [\"wiki.summary\", \"nist.summary\"]"
   ]
  },
  {
   "cell_type": "code",
   "execution_count": null,
   "id": "5da4bc1a",
   "metadata": {},
   "outputs": [],
   "source": []
  },
  {
   "cell_type": "code",
   "execution_count": 21,
   "id": "d83e4e76",
   "metadata": {},
   "outputs": [],
   "source": [
    "rouge = ROUGEScore(\n",
    "    use_stemmer=True,\n",
    "    rouge_keys=(\"rouge2\",)\n",
    ")"
   ]
  },
  {
   "cell_type": "code",
   "execution_count": null,
   "id": "d8df09f1",
   "metadata": {},
   "outputs": [],
   "source": []
  },
  {
   "cell_type": "code",
   "execution_count": 22,
   "id": "b6aec7a8",
   "metadata": {},
   "outputs": [
    {
     "data": {
      "text/plain": [
       "[('wiki.summary', 'nist.summary'), ('nist.summary', 'wiki.summary')]"
      ]
     },
     "execution_count": 22,
     "metadata": {},
     "output_type": "execute_result"
    }
   ],
   "source": [
    "target_pairs = []\n",
    "for t1 in targets:\n",
    "    for t2 in targets:\n",
    "        if t1 == t2:\n",
    "            continue\n",
    "        target_pairs.append((t1, t2))\n",
    "        \n",
    "target_pairs"
   ]
  },
  {
   "cell_type": "code",
   "execution_count": 63,
   "id": "cac23d20",
   "metadata": {},
   "outputs": [
    {
     "name": "stdout",
     "output_type": "stream",
     "text": [
      "CrisisFACTS-001\n",
      "\t wiki.summary nist.summary\n"
     ]
    },
    {
     "name": "stderr",
     "output_type": "stream",
     "text": [
      "Some weights of the model checkpoint at microsoft/deberta-xlarge-mnli were not used when initializing DebertaModel: ['pooler.dense.weight', 'pooler.dense.bias', 'classifier.bias', 'classifier.weight']\n",
      "- This IS expected if you are initializing DebertaModel from the checkpoint of a model trained on another task or with another architecture (e.g. initializing a BertForSequenceClassification model from a BertForPreTraining model).\n",
      "- This IS NOT expected if you are initializing DebertaModel from the checkpoint of a model that you expect to be exactly identical (initializing a BertForSequenceClassification model from a BertForSequenceClassification model).\n",
      "/Users/cbuntain/.local/lib/python3.9/site-packages/transformers/models/deberta/modeling_deberta.py:679: UserWarning: To copy construct from a tensor, it is recommended to use sourceTensor.clone().detach() or sourceTensor.clone().detach().requires_grad_(True), rather than torch.tensor(sourceTensor).\n",
      "  query_layer = query_layer / torch.tensor(scale, dtype=query_layer.dtype)\n",
      "/Users/cbuntain/.local/lib/python3.9/site-packages/transformers/models/deberta/modeling_deberta.py:745: UserWarning: To copy construct from a tensor, it is recommended to use sourceTensor.clone().detach() or sourceTensor.clone().detach().requires_grad_(True), rather than torch.tensor(sourceTensor).\n",
      "  p2c_att = torch.matmul(key_layer, torch.tensor(pos_query_layer.transpose(-1, -2), dtype=key_layer.dtype))\n"
     ]
    },
    {
     "name": "stdout",
     "output_type": "stream",
     "text": [
      "CrisisFACTS-002\n",
      "\t wiki.summary nist.summary\n"
     ]
    },
    {
     "name": "stderr",
     "output_type": "stream",
     "text": [
      "Some weights of the model checkpoint at microsoft/deberta-xlarge-mnli were not used when initializing DebertaModel: ['pooler.dense.weight', 'pooler.dense.bias', 'classifier.bias', 'classifier.weight']\n",
      "- This IS expected if you are initializing DebertaModel from the checkpoint of a model trained on another task or with another architecture (e.g. initializing a BertForSequenceClassification model from a BertForPreTraining model).\n",
      "- This IS NOT expected if you are initializing DebertaModel from the checkpoint of a model that you expect to be exactly identical (initializing a BertForSequenceClassification model from a BertForSequenceClassification model).\n",
      "/Users/cbuntain/.local/lib/python3.9/site-packages/transformers/models/deberta/modeling_deberta.py:679: UserWarning: To copy construct from a tensor, it is recommended to use sourceTensor.clone().detach() or sourceTensor.clone().detach().requires_grad_(True), rather than torch.tensor(sourceTensor).\n",
      "  query_layer = query_layer / torch.tensor(scale, dtype=query_layer.dtype)\n",
      "/Users/cbuntain/.local/lib/python3.9/site-packages/transformers/models/deberta/modeling_deberta.py:745: UserWarning: To copy construct from a tensor, it is recommended to use sourceTensor.clone().detach() or sourceTensor.clone().detach().requires_grad_(True), rather than torch.tensor(sourceTensor).\n",
      "  p2c_att = torch.matmul(key_layer, torch.tensor(pos_query_layer.transpose(-1, -2), dtype=key_layer.dtype))\n"
     ]
    },
    {
     "name": "stdout",
     "output_type": "stream",
     "text": [
      "CrisisFACTS-003\n",
      "\t wiki.summary nist.summary\n"
     ]
    },
    {
     "name": "stderr",
     "output_type": "stream",
     "text": [
      "Some weights of the model checkpoint at microsoft/deberta-xlarge-mnli were not used when initializing DebertaModel: ['pooler.dense.weight', 'pooler.dense.bias', 'classifier.bias', 'classifier.weight']\n",
      "- This IS expected if you are initializing DebertaModel from the checkpoint of a model trained on another task or with another architecture (e.g. initializing a BertForSequenceClassification model from a BertForPreTraining model).\n",
      "- This IS NOT expected if you are initializing DebertaModel from the checkpoint of a model that you expect to be exactly identical (initializing a BertForSequenceClassification model from a BertForSequenceClassification model).\n",
      "/Users/cbuntain/.local/lib/python3.9/site-packages/transformers/models/deberta/modeling_deberta.py:679: UserWarning: To copy construct from a tensor, it is recommended to use sourceTensor.clone().detach() or sourceTensor.clone().detach().requires_grad_(True), rather than torch.tensor(sourceTensor).\n",
      "  query_layer = query_layer / torch.tensor(scale, dtype=query_layer.dtype)\n",
      "/Users/cbuntain/.local/lib/python3.9/site-packages/transformers/models/deberta/modeling_deberta.py:745: UserWarning: To copy construct from a tensor, it is recommended to use sourceTensor.clone().detach() or sourceTensor.clone().detach().requires_grad_(True), rather than torch.tensor(sourceTensor).\n",
      "  p2c_att = torch.matmul(key_layer, torch.tensor(pos_query_layer.transpose(-1, -2), dtype=key_layer.dtype))\n"
     ]
    },
    {
     "name": "stdout",
     "output_type": "stream",
     "text": [
      "CrisisFACTS-004\n",
      "\t wiki.summary nist.summary\n"
     ]
    },
    {
     "name": "stderr",
     "output_type": "stream",
     "text": [
      "Some weights of the model checkpoint at microsoft/deberta-xlarge-mnli were not used when initializing DebertaModel: ['pooler.dense.weight', 'pooler.dense.bias', 'classifier.bias', 'classifier.weight']\n",
      "- This IS expected if you are initializing DebertaModel from the checkpoint of a model trained on another task or with another architecture (e.g. initializing a BertForSequenceClassification model from a BertForPreTraining model).\n",
      "- This IS NOT expected if you are initializing DebertaModel from the checkpoint of a model that you expect to be exactly identical (initializing a BertForSequenceClassification model from a BertForSequenceClassification model).\n",
      "/Users/cbuntain/.local/lib/python3.9/site-packages/transformers/models/deberta/modeling_deberta.py:679: UserWarning: To copy construct from a tensor, it is recommended to use sourceTensor.clone().detach() or sourceTensor.clone().detach().requires_grad_(True), rather than torch.tensor(sourceTensor).\n",
      "  query_layer = query_layer / torch.tensor(scale, dtype=query_layer.dtype)\n",
      "/Users/cbuntain/.local/lib/python3.9/site-packages/transformers/models/deberta/modeling_deberta.py:745: UserWarning: To copy construct from a tensor, it is recommended to use sourceTensor.clone().detach() or sourceTensor.clone().detach().requires_grad_(True), rather than torch.tensor(sourceTensor).\n",
      "  p2c_att = torch.matmul(key_layer, torch.tensor(pos_query_layer.transpose(-1, -2), dtype=key_layer.dtype))\n"
     ]
    },
    {
     "name": "stdout",
     "output_type": "stream",
     "text": [
      "CrisisFACTS-005\n",
      "\t wiki.summary nist.summary\n"
     ]
    },
    {
     "name": "stderr",
     "output_type": "stream",
     "text": [
      "Some weights of the model checkpoint at microsoft/deberta-xlarge-mnli were not used when initializing DebertaModel: ['pooler.dense.weight', 'pooler.dense.bias', 'classifier.bias', 'classifier.weight']\n",
      "- This IS expected if you are initializing DebertaModel from the checkpoint of a model trained on another task or with another architecture (e.g. initializing a BertForSequenceClassification model from a BertForPreTraining model).\n",
      "- This IS NOT expected if you are initializing DebertaModel from the checkpoint of a model that you expect to be exactly identical (initializing a BertForSequenceClassification model from a BertForSequenceClassification model).\n",
      "/Users/cbuntain/.local/lib/python3.9/site-packages/transformers/models/deberta/modeling_deberta.py:679: UserWarning: To copy construct from a tensor, it is recommended to use sourceTensor.clone().detach() or sourceTensor.clone().detach().requires_grad_(True), rather than torch.tensor(sourceTensor).\n",
      "  query_layer = query_layer / torch.tensor(scale, dtype=query_layer.dtype)\n",
      "/Users/cbuntain/.local/lib/python3.9/site-packages/transformers/models/deberta/modeling_deberta.py:745: UserWarning: To copy construct from a tensor, it is recommended to use sourceTensor.clone().detach() or sourceTensor.clone().detach().requires_grad_(True), rather than torch.tensor(sourceTensor).\n",
      "  p2c_att = torch.matmul(key_layer, torch.tensor(pos_query_layer.transpose(-1, -2), dtype=key_layer.dtype))\n"
     ]
    },
    {
     "name": "stdout",
     "output_type": "stream",
     "text": [
      "CrisisFACTS-006\n",
      "\t wiki.summary nist.summary\n"
     ]
    },
    {
     "name": "stderr",
     "output_type": "stream",
     "text": [
      "Some weights of the model checkpoint at microsoft/deberta-xlarge-mnli were not used when initializing DebertaModel: ['pooler.dense.weight', 'pooler.dense.bias', 'classifier.bias', 'classifier.weight']\n",
      "- This IS expected if you are initializing DebertaModel from the checkpoint of a model trained on another task or with another architecture (e.g. initializing a BertForSequenceClassification model from a BertForPreTraining model).\n",
      "- This IS NOT expected if you are initializing DebertaModel from the checkpoint of a model that you expect to be exactly identical (initializing a BertForSequenceClassification model from a BertForSequenceClassification model).\n",
      "/Users/cbuntain/.local/lib/python3.9/site-packages/transformers/models/deberta/modeling_deberta.py:679: UserWarning: To copy construct from a tensor, it is recommended to use sourceTensor.clone().detach() or sourceTensor.clone().detach().requires_grad_(True), rather than torch.tensor(sourceTensor).\n",
      "  query_layer = query_layer / torch.tensor(scale, dtype=query_layer.dtype)\n",
      "/Users/cbuntain/.local/lib/python3.9/site-packages/transformers/models/deberta/modeling_deberta.py:745: UserWarning: To copy construct from a tensor, it is recommended to use sourceTensor.clone().detach() or sourceTensor.clone().detach().requires_grad_(True), rather than torch.tensor(sourceTensor).\n",
      "  p2c_att = torch.matmul(key_layer, torch.tensor(pos_query_layer.transpose(-1, -2), dtype=key_layer.dtype))\n"
     ]
    },
    {
     "name": "stdout",
     "output_type": "stream",
     "text": [
      "CrisisFACTS-007\n",
      "\t wiki.summary nist.summary\n"
     ]
    },
    {
     "name": "stderr",
     "output_type": "stream",
     "text": [
      "Some weights of the model checkpoint at microsoft/deberta-xlarge-mnli were not used when initializing DebertaModel: ['pooler.dense.weight', 'pooler.dense.bias', 'classifier.bias', 'classifier.weight']\n",
      "- This IS expected if you are initializing DebertaModel from the checkpoint of a model trained on another task or with another architecture (e.g. initializing a BertForSequenceClassification model from a BertForPreTraining model).\n",
      "- This IS NOT expected if you are initializing DebertaModel from the checkpoint of a model that you expect to be exactly identical (initializing a BertForSequenceClassification model from a BertForSequenceClassification model).\n",
      "/Users/cbuntain/.local/lib/python3.9/site-packages/transformers/models/deberta/modeling_deberta.py:679: UserWarning: To copy construct from a tensor, it is recommended to use sourceTensor.clone().detach() or sourceTensor.clone().detach().requires_grad_(True), rather than torch.tensor(sourceTensor).\n",
      "  query_layer = query_layer / torch.tensor(scale, dtype=query_layer.dtype)\n",
      "/Users/cbuntain/.local/lib/python3.9/site-packages/transformers/models/deberta/modeling_deberta.py:745: UserWarning: To copy construct from a tensor, it is recommended to use sourceTensor.clone().detach() or sourceTensor.clone().detach().requires_grad_(True), rather than torch.tensor(sourceTensor).\n",
      "  p2c_att = torch.matmul(key_layer, torch.tensor(pos_query_layer.transpose(-1, -2), dtype=key_layer.dtype))\n"
     ]
    },
    {
     "name": "stdout",
     "output_type": "stream",
     "text": [
      "CrisisFACTS-008\n",
      "\t wiki.summary nist.summary\n"
     ]
    },
    {
     "name": "stderr",
     "output_type": "stream",
     "text": [
      "Some weights of the model checkpoint at microsoft/deberta-xlarge-mnli were not used when initializing DebertaModel: ['pooler.dense.weight', 'pooler.dense.bias', 'classifier.bias', 'classifier.weight']\n",
      "- This IS expected if you are initializing DebertaModel from the checkpoint of a model trained on another task or with another architecture (e.g. initializing a BertForSequenceClassification model from a BertForPreTraining model).\n",
      "- This IS NOT expected if you are initializing DebertaModel from the checkpoint of a model that you expect to be exactly identical (initializing a BertForSequenceClassification model from a BertForSequenceClassification model).\n",
      "/Users/cbuntain/.local/lib/python3.9/site-packages/transformers/models/deberta/modeling_deberta.py:679: UserWarning: To copy construct from a tensor, it is recommended to use sourceTensor.clone().detach() or sourceTensor.clone().detach().requires_grad_(True), rather than torch.tensor(sourceTensor).\n",
      "  query_layer = query_layer / torch.tensor(scale, dtype=query_layer.dtype)\n",
      "/Users/cbuntain/.local/lib/python3.9/site-packages/transformers/models/deberta/modeling_deberta.py:745: UserWarning: To copy construct from a tensor, it is recommended to use sourceTensor.clone().detach() or sourceTensor.clone().detach().requires_grad_(True), rather than torch.tensor(sourceTensor).\n",
      "  p2c_att = torch.matmul(key_layer, torch.tensor(pos_query_layer.transpose(-1, -2), dtype=key_layer.dtype))\n"
     ]
    },
    {
     "name": "stdout",
     "output_type": "stream",
     "text": [
      "CrisisFACTS-009\n",
      "\t wiki.summary nist.summary\n"
     ]
    },
    {
     "name": "stderr",
     "output_type": "stream",
     "text": [
      "Some weights of the model checkpoint at microsoft/deberta-xlarge-mnli were not used when initializing DebertaModel: ['pooler.dense.weight', 'pooler.dense.bias', 'classifier.bias', 'classifier.weight']\n",
      "- This IS expected if you are initializing DebertaModel from the checkpoint of a model trained on another task or with another architecture (e.g. initializing a BertForSequenceClassification model from a BertForPreTraining model).\n",
      "- This IS NOT expected if you are initializing DebertaModel from the checkpoint of a model that you expect to be exactly identical (initializing a BertForSequenceClassification model from a BertForSequenceClassification model).\n",
      "/Users/cbuntain/.local/lib/python3.9/site-packages/transformers/models/deberta/modeling_deberta.py:679: UserWarning: To copy construct from a tensor, it is recommended to use sourceTensor.clone().detach() or sourceTensor.clone().detach().requires_grad_(True), rather than torch.tensor(sourceTensor).\n",
      "  query_layer = query_layer / torch.tensor(scale, dtype=query_layer.dtype)\n",
      "/Users/cbuntain/.local/lib/python3.9/site-packages/transformers/models/deberta/modeling_deberta.py:745: UserWarning: To copy construct from a tensor, it is recommended to use sourceTensor.clone().detach() or sourceTensor.clone().detach().requires_grad_(True), rather than torch.tensor(sourceTensor).\n",
      "  p2c_att = torch.matmul(key_layer, torch.tensor(pos_query_layer.transpose(-1, -2), dtype=key_layer.dtype))\n"
     ]
    },
    {
     "name": "stdout",
     "output_type": "stream",
     "text": [
      "CrisisFACTS-010\n",
      "\t wiki.summary nist.summary\n"
     ]
    },
    {
     "name": "stderr",
     "output_type": "stream",
     "text": [
      "Some weights of the model checkpoint at microsoft/deberta-xlarge-mnli were not used when initializing DebertaModel: ['pooler.dense.weight', 'pooler.dense.bias', 'classifier.bias', 'classifier.weight']\n",
      "- This IS expected if you are initializing DebertaModel from the checkpoint of a model trained on another task or with another architecture (e.g. initializing a BertForSequenceClassification model from a BertForPreTraining model).\n",
      "- This IS NOT expected if you are initializing DebertaModel from the checkpoint of a model that you expect to be exactly identical (initializing a BertForSequenceClassification model from a BertForSequenceClassification model).\n",
      "/Users/cbuntain/.local/lib/python3.9/site-packages/transformers/models/deberta/modeling_deberta.py:679: UserWarning: To copy construct from a tensor, it is recommended to use sourceTensor.clone().detach() or sourceTensor.clone().detach().requires_grad_(True), rather than torch.tensor(sourceTensor).\n",
      "  query_layer = query_layer / torch.tensor(scale, dtype=query_layer.dtype)\n",
      "/Users/cbuntain/.local/lib/python3.9/site-packages/transformers/models/deberta/modeling_deberta.py:745: UserWarning: To copy construct from a tensor, it is recommended to use sourceTensor.clone().detach() or sourceTensor.clone().detach().requires_grad_(True), rather than torch.tensor(sourceTensor).\n",
      "  p2c_att = torch.matmul(key_layer, torch.tensor(pos_query_layer.transpose(-1, -2), dtype=key_layer.dtype))\n"
     ]
    },
    {
     "name": "stdout",
     "output_type": "stream",
     "text": [
      "CrisisFACTS-011\n",
      "\t wiki.summary nist.summary\n"
     ]
    },
    {
     "name": "stderr",
     "output_type": "stream",
     "text": [
      "Some weights of the model checkpoint at microsoft/deberta-xlarge-mnli were not used when initializing DebertaModel: ['pooler.dense.weight', 'pooler.dense.bias', 'classifier.bias', 'classifier.weight']\n",
      "- This IS expected if you are initializing DebertaModel from the checkpoint of a model trained on another task or with another architecture (e.g. initializing a BertForSequenceClassification model from a BertForPreTraining model).\n",
      "- This IS NOT expected if you are initializing DebertaModel from the checkpoint of a model that you expect to be exactly identical (initializing a BertForSequenceClassification model from a BertForSequenceClassification model).\n",
      "/Users/cbuntain/.local/lib/python3.9/site-packages/transformers/models/deberta/modeling_deberta.py:679: UserWarning: To copy construct from a tensor, it is recommended to use sourceTensor.clone().detach() or sourceTensor.clone().detach().requires_grad_(True), rather than torch.tensor(sourceTensor).\n",
      "  query_layer = query_layer / torch.tensor(scale, dtype=query_layer.dtype)\n",
      "/Users/cbuntain/.local/lib/python3.9/site-packages/transformers/models/deberta/modeling_deberta.py:745: UserWarning: To copy construct from a tensor, it is recommended to use sourceTensor.clone().detach() or sourceTensor.clone().detach().requires_grad_(True), rather than torch.tensor(sourceTensor).\n",
      "  p2c_att = torch.matmul(key_layer, torch.tensor(pos_query_layer.transpose(-1, -2), dtype=key_layer.dtype))\n",
      "Warning: Empty candidate sentence detected; setting raw BERTscores to 0.\n"
     ]
    },
    {
     "name": "stdout",
     "output_type": "stream",
     "text": [
      "CrisisFACTS-012\n",
      "\t wiki.summary nist.summary\n"
     ]
    },
    {
     "name": "stderr",
     "output_type": "stream",
     "text": [
      "Some weights of the model checkpoint at microsoft/deberta-xlarge-mnli were not used when initializing DebertaModel: ['pooler.dense.weight', 'pooler.dense.bias', 'classifier.bias', 'classifier.weight']\n",
      "- This IS expected if you are initializing DebertaModel from the checkpoint of a model trained on another task or with another architecture (e.g. initializing a BertForSequenceClassification model from a BertForPreTraining model).\n",
      "- This IS NOT expected if you are initializing DebertaModel from the checkpoint of a model that you expect to be exactly identical (initializing a BertForSequenceClassification model from a BertForSequenceClassification model).\n",
      "/Users/cbuntain/.local/lib/python3.9/site-packages/transformers/models/deberta/modeling_deberta.py:679: UserWarning: To copy construct from a tensor, it is recommended to use sourceTensor.clone().detach() or sourceTensor.clone().detach().requires_grad_(True), rather than torch.tensor(sourceTensor).\n",
      "  query_layer = query_layer / torch.tensor(scale, dtype=query_layer.dtype)\n",
      "/Users/cbuntain/.local/lib/python3.9/site-packages/transformers/models/deberta/modeling_deberta.py:745: UserWarning: To copy construct from a tensor, it is recommended to use sourceTensor.clone().detach() or sourceTensor.clone().detach().requires_grad_(True), rather than torch.tensor(sourceTensor).\n",
      "  p2c_att = torch.matmul(key_layer, torch.tensor(pos_query_layer.transpose(-1, -2), dtype=key_layer.dtype))\n",
      "Warning: Empty candidate sentence detected; setting raw BERTscores to 0.\n"
     ]
    },
    {
     "name": "stdout",
     "output_type": "stream",
     "text": [
      "CrisisFACTS-013\n",
      "\t wiki.summary nist.summary\n"
     ]
    },
    {
     "name": "stderr",
     "output_type": "stream",
     "text": [
      "Some weights of the model checkpoint at microsoft/deberta-xlarge-mnli were not used when initializing DebertaModel: ['pooler.dense.weight', 'pooler.dense.bias', 'classifier.bias', 'classifier.weight']\n",
      "- This IS expected if you are initializing DebertaModel from the checkpoint of a model trained on another task or with another architecture (e.g. initializing a BertForSequenceClassification model from a BertForPreTraining model).\n",
      "- This IS NOT expected if you are initializing DebertaModel from the checkpoint of a model that you expect to be exactly identical (initializing a BertForSequenceClassification model from a BertForSequenceClassification model).\n",
      "/Users/cbuntain/.local/lib/python3.9/site-packages/transformers/models/deberta/modeling_deberta.py:679: UserWarning: To copy construct from a tensor, it is recommended to use sourceTensor.clone().detach() or sourceTensor.clone().detach().requires_grad_(True), rather than torch.tensor(sourceTensor).\n",
      "  query_layer = query_layer / torch.tensor(scale, dtype=query_layer.dtype)\n",
      "/Users/cbuntain/.local/lib/python3.9/site-packages/transformers/models/deberta/modeling_deberta.py:745: UserWarning: To copy construct from a tensor, it is recommended to use sourceTensor.clone().detach() or sourceTensor.clone().detach().requires_grad_(True), rather than torch.tensor(sourceTensor).\n",
      "  p2c_att = torch.matmul(key_layer, torch.tensor(pos_query_layer.transpose(-1, -2), dtype=key_layer.dtype))\n"
     ]
    },
    {
     "name": "stdout",
     "output_type": "stream",
     "text": [
      "CrisisFACTS-014\n",
      "\t wiki.summary nist.summary\n"
     ]
    },
    {
     "name": "stderr",
     "output_type": "stream",
     "text": [
      "Some weights of the model checkpoint at microsoft/deberta-xlarge-mnli were not used when initializing DebertaModel: ['pooler.dense.weight', 'pooler.dense.bias', 'classifier.bias', 'classifier.weight']\n",
      "- This IS expected if you are initializing DebertaModel from the checkpoint of a model trained on another task or with another architecture (e.g. initializing a BertForSequenceClassification model from a BertForPreTraining model).\n",
      "- This IS NOT expected if you are initializing DebertaModel from the checkpoint of a model that you expect to be exactly identical (initializing a BertForSequenceClassification model from a BertForSequenceClassification model).\n",
      "/Users/cbuntain/.local/lib/python3.9/site-packages/transformers/models/deberta/modeling_deberta.py:679: UserWarning: To copy construct from a tensor, it is recommended to use sourceTensor.clone().detach() or sourceTensor.clone().detach().requires_grad_(True), rather than torch.tensor(sourceTensor).\n",
      "  query_layer = query_layer / torch.tensor(scale, dtype=query_layer.dtype)\n",
      "/Users/cbuntain/.local/lib/python3.9/site-packages/transformers/models/deberta/modeling_deberta.py:745: UserWarning: To copy construct from a tensor, it is recommended to use sourceTensor.clone().detach() or sourceTensor.clone().detach().requires_grad_(True), rather than torch.tensor(sourceTensor).\n",
      "  p2c_att = torch.matmul(key_layer, torch.tensor(pos_query_layer.transpose(-1, -2), dtype=key_layer.dtype))\n"
     ]
    },
    {
     "name": "stdout",
     "output_type": "stream",
     "text": [
      "CrisisFACTS-015\n",
      "\t wiki.summary nist.summary\n"
     ]
    },
    {
     "name": "stderr",
     "output_type": "stream",
     "text": [
      "Some weights of the model checkpoint at microsoft/deberta-xlarge-mnli were not used when initializing DebertaModel: ['pooler.dense.weight', 'pooler.dense.bias', 'classifier.bias', 'classifier.weight']\n",
      "- This IS expected if you are initializing DebertaModel from the checkpoint of a model trained on another task or with another architecture (e.g. initializing a BertForSequenceClassification model from a BertForPreTraining model).\n",
      "- This IS NOT expected if you are initializing DebertaModel from the checkpoint of a model that you expect to be exactly identical (initializing a BertForSequenceClassification model from a BertForSequenceClassification model).\n",
      "/Users/cbuntain/.local/lib/python3.9/site-packages/transformers/models/deberta/modeling_deberta.py:679: UserWarning: To copy construct from a tensor, it is recommended to use sourceTensor.clone().detach() or sourceTensor.clone().detach().requires_grad_(True), rather than torch.tensor(sourceTensor).\n",
      "  query_layer = query_layer / torch.tensor(scale, dtype=query_layer.dtype)\n",
      "/Users/cbuntain/.local/lib/python3.9/site-packages/transformers/models/deberta/modeling_deberta.py:745: UserWarning: To copy construct from a tensor, it is recommended to use sourceTensor.clone().detach() or sourceTensor.clone().detach().requires_grad_(True), rather than torch.tensor(sourceTensor).\n",
      "  p2c_att = torch.matmul(key_layer, torch.tensor(pos_query_layer.transpose(-1, -2), dtype=key_layer.dtype))\n"
     ]
    },
    {
     "name": "stdout",
     "output_type": "stream",
     "text": [
      "CrisisFACTS-016\n",
      "\t wiki.summary nist.summary\n"
     ]
    },
    {
     "name": "stderr",
     "output_type": "stream",
     "text": [
      "Some weights of the model checkpoint at microsoft/deberta-xlarge-mnli were not used when initializing DebertaModel: ['pooler.dense.weight', 'pooler.dense.bias', 'classifier.bias', 'classifier.weight']\n",
      "- This IS expected if you are initializing DebertaModel from the checkpoint of a model trained on another task or with another architecture (e.g. initializing a BertForSequenceClassification model from a BertForPreTraining model).\n",
      "- This IS NOT expected if you are initializing DebertaModel from the checkpoint of a model that you expect to be exactly identical (initializing a BertForSequenceClassification model from a BertForSequenceClassification model).\n",
      "/Users/cbuntain/.local/lib/python3.9/site-packages/transformers/models/deberta/modeling_deberta.py:679: UserWarning: To copy construct from a tensor, it is recommended to use sourceTensor.clone().detach() or sourceTensor.clone().detach().requires_grad_(True), rather than torch.tensor(sourceTensor).\n",
      "  query_layer = query_layer / torch.tensor(scale, dtype=query_layer.dtype)\n",
      "/Users/cbuntain/.local/lib/python3.9/site-packages/transformers/models/deberta/modeling_deberta.py:745: UserWarning: To copy construct from a tensor, it is recommended to use sourceTensor.clone().detach() or sourceTensor.clone().detach().requires_grad_(True), rather than torch.tensor(sourceTensor).\n",
      "  p2c_att = torch.matmul(key_layer, torch.tensor(pos_query_layer.transpose(-1, -2), dtype=key_layer.dtype))\n"
     ]
    },
    {
     "name": "stdout",
     "output_type": "stream",
     "text": [
      "CrisisFACTS-017\n",
      "\t wiki.summary nist.summary\n"
     ]
    },
    {
     "name": "stderr",
     "output_type": "stream",
     "text": [
      "Some weights of the model checkpoint at microsoft/deberta-xlarge-mnli were not used when initializing DebertaModel: ['pooler.dense.weight', 'pooler.dense.bias', 'classifier.bias', 'classifier.weight']\n",
      "- This IS expected if you are initializing DebertaModel from the checkpoint of a model trained on another task or with another architecture (e.g. initializing a BertForSequenceClassification model from a BertForPreTraining model).\n",
      "- This IS NOT expected if you are initializing DebertaModel from the checkpoint of a model that you expect to be exactly identical (initializing a BertForSequenceClassification model from a BertForSequenceClassification model).\n",
      "/Users/cbuntain/.local/lib/python3.9/site-packages/transformers/models/deberta/modeling_deberta.py:679: UserWarning: To copy construct from a tensor, it is recommended to use sourceTensor.clone().detach() or sourceTensor.clone().detach().requires_grad_(True), rather than torch.tensor(sourceTensor).\n",
      "  query_layer = query_layer / torch.tensor(scale, dtype=query_layer.dtype)\n",
      "/Users/cbuntain/.local/lib/python3.9/site-packages/transformers/models/deberta/modeling_deberta.py:745: UserWarning: To copy construct from a tensor, it is recommended to use sourceTensor.clone().detach() or sourceTensor.clone().detach().requires_grad_(True), rather than torch.tensor(sourceTensor).\n",
      "  p2c_att = torch.matmul(key_layer, torch.tensor(pos_query_layer.transpose(-1, -2), dtype=key_layer.dtype))\n"
     ]
    },
    {
     "name": "stdout",
     "output_type": "stream",
     "text": [
      "CrisisFACTS-018\n",
      "\t wiki.summary nist.summary\n"
     ]
    },
    {
     "name": "stderr",
     "output_type": "stream",
     "text": [
      "Some weights of the model checkpoint at microsoft/deberta-xlarge-mnli were not used when initializing DebertaModel: ['pooler.dense.weight', 'pooler.dense.bias', 'classifier.bias', 'classifier.weight']\n",
      "- This IS expected if you are initializing DebertaModel from the checkpoint of a model trained on another task or with another architecture (e.g. initializing a BertForSequenceClassification model from a BertForPreTraining model).\n",
      "- This IS NOT expected if you are initializing DebertaModel from the checkpoint of a model that you expect to be exactly identical (initializing a BertForSequenceClassification model from a BertForSequenceClassification model).\n",
      "/Users/cbuntain/.local/lib/python3.9/site-packages/transformers/models/deberta/modeling_deberta.py:679: UserWarning: To copy construct from a tensor, it is recommended to use sourceTensor.clone().detach() or sourceTensor.clone().detach().requires_grad_(True), rather than torch.tensor(sourceTensor).\n",
      "  query_layer = query_layer / torch.tensor(scale, dtype=query_layer.dtype)\n",
      "/Users/cbuntain/.local/lib/python3.9/site-packages/transformers/models/deberta/modeling_deberta.py:745: UserWarning: To copy construct from a tensor, it is recommended to use sourceTensor.clone().detach() or sourceTensor.clone().detach().requires_grad_(True), rather than torch.tensor(sourceTensor).\n",
      "  p2c_att = torch.matmul(key_layer, torch.tensor(pos_query_layer.transpose(-1, -2), dtype=key_layer.dtype))\n"
     ]
    }
   ],
   "source": [
    "rows = []\n",
    "\n",
    "for event_id,row in summaries.iterrows():\n",
    "    print(event_id)\n",
    "\n",
    "\n",
    "    for t1,t2 in target_pairs[:1]:\n",
    "        print(\"\\t\", t1, t2)\n",
    "            \n",
    "        metric = rouge(row[t1], row[t2])\n",
    "        bert_metric = bert_score.score(\n",
    "            [row[t1]], \n",
    "            [row[t2]], \n",
    "            model_type=\"microsoft/deberta-xlarge-mnli\"\n",
    "        )\n",
    "        \n",
    "        metric.update({\n",
    "            \"bertscore_precision\": bert_metric[0],\n",
    "            \"bertscore_recall\": bert_metric[1],\n",
    "            \"bertscore_fmeasure\": bert_metric[2],\n",
    "        })\n",
    "        \n",
    "\n",
    "        this_metric_rows = [{\n",
    "            \"metric\":k, \n",
    "            \"value\":v.item(), \n",
    "            \"event\": event_id,\n",
    "            \"target\": \"%s->%s\" % (t1,t2)\n",
    "        } for k,v in metric.items()]\n",
    "        this_row_df = pd.DataFrame(this_metric_rows)\n",
    "        rows.append(this_row_df)\n",
    "    \n"
   ]
  },
  {
   "cell_type": "code",
   "execution_count": 64,
   "id": "c2ea6b68",
   "metadata": {},
   "outputs": [
    {
     "data": {
      "text/html": [
       "<div>\n",
       "<style scoped>\n",
       "    .dataframe tbody tr th:only-of-type {\n",
       "        vertical-align: middle;\n",
       "    }\n",
       "\n",
       "    .dataframe tbody tr th {\n",
       "        vertical-align: top;\n",
       "    }\n",
       "\n",
       "    .dataframe thead th {\n",
       "        text-align: right;\n",
       "    }\n",
       "</style>\n",
       "<table border=\"1\" class=\"dataframe\">\n",
       "  <thead>\n",
       "    <tr style=\"text-align: right;\">\n",
       "      <th></th>\n",
       "      <th>metric</th>\n",
       "      <th>value</th>\n",
       "      <th>event</th>\n",
       "      <th>target</th>\n",
       "    </tr>\n",
       "  </thead>\n",
       "  <tbody>\n",
       "    <tr>\n",
       "      <th>0</th>\n",
       "      <td>rouge2_fmeasure</td>\n",
       "      <td>0.024010</td>\n",
       "      <td>CrisisFACTS-001</td>\n",
       "      <td>wiki.summary-&gt;nist.summary</td>\n",
       "    </tr>\n",
       "    <tr>\n",
       "      <th>1</th>\n",
       "      <td>rouge2_precision</td>\n",
       "      <td>0.277778</td>\n",
       "      <td>CrisisFACTS-001</td>\n",
       "      <td>wiki.summary-&gt;nist.summary</td>\n",
       "    </tr>\n",
       "    <tr>\n",
       "      <th>2</th>\n",
       "      <td>rouge2_recall</td>\n",
       "      <td>0.012547</td>\n",
       "      <td>CrisisFACTS-001</td>\n",
       "      <td>wiki.summary-&gt;nist.summary</td>\n",
       "    </tr>\n",
       "    <tr>\n",
       "      <th>3</th>\n",
       "      <td>bertscore_precision</td>\n",
       "      <td>0.590926</td>\n",
       "      <td>CrisisFACTS-001</td>\n",
       "      <td>wiki.summary-&gt;nist.summary</td>\n",
       "    </tr>\n",
       "    <tr>\n",
       "      <th>4</th>\n",
       "      <td>bertscore_recall</td>\n",
       "      <td>0.520302</td>\n",
       "      <td>CrisisFACTS-001</td>\n",
       "      <td>wiki.summary-&gt;nist.summary</td>\n",
       "    </tr>\n",
       "    <tr>\n",
       "      <th>...</th>\n",
       "      <td>...</td>\n",
       "      <td>...</td>\n",
       "      <td>...</td>\n",
       "      <td>...</td>\n",
       "    </tr>\n",
       "    <tr>\n",
       "      <th>1</th>\n",
       "      <td>rouge2_precision</td>\n",
       "      <td>0.320611</td>\n",
       "      <td>CrisisFACTS-018</td>\n",
       "      <td>wiki.summary-&gt;nist.summary</td>\n",
       "    </tr>\n",
       "    <tr>\n",
       "      <th>2</th>\n",
       "      <td>rouge2_recall</td>\n",
       "      <td>0.010742</td>\n",
       "      <td>CrisisFACTS-018</td>\n",
       "      <td>wiki.summary-&gt;nist.summary</td>\n",
       "    </tr>\n",
       "    <tr>\n",
       "      <th>3</th>\n",
       "      <td>bertscore_precision</td>\n",
       "      <td>0.585559</td>\n",
       "      <td>CrisisFACTS-018</td>\n",
       "      <td>wiki.summary-&gt;nist.summary</td>\n",
       "    </tr>\n",
       "    <tr>\n",
       "      <th>4</th>\n",
       "      <td>bertscore_recall</td>\n",
       "      <td>0.498592</td>\n",
       "      <td>CrisisFACTS-018</td>\n",
       "      <td>wiki.summary-&gt;nist.summary</td>\n",
       "    </tr>\n",
       "    <tr>\n",
       "      <th>5</th>\n",
       "      <td>bertscore_fmeasure</td>\n",
       "      <td>0.538587</td>\n",
       "      <td>CrisisFACTS-018</td>\n",
       "      <td>wiki.summary-&gt;nist.summary</td>\n",
       "    </tr>\n",
       "  </tbody>\n",
       "</table>\n",
       "<p>108 rows × 4 columns</p>\n",
       "</div>"
      ],
      "text/plain": [
       "                 metric     value            event                      target\n",
       "0       rouge2_fmeasure  0.024010  CrisisFACTS-001  wiki.summary->nist.summary\n",
       "1      rouge2_precision  0.277778  CrisisFACTS-001  wiki.summary->nist.summary\n",
       "2         rouge2_recall  0.012547  CrisisFACTS-001  wiki.summary->nist.summary\n",
       "3   bertscore_precision  0.590926  CrisisFACTS-001  wiki.summary->nist.summary\n",
       "4      bertscore_recall  0.520302  CrisisFACTS-001  wiki.summary->nist.summary\n",
       "..                  ...       ...              ...                         ...\n",
       "1      rouge2_precision  0.320611  CrisisFACTS-018  wiki.summary->nist.summary\n",
       "2         rouge2_recall  0.010742  CrisisFACTS-018  wiki.summary->nist.summary\n",
       "3   bertscore_precision  0.585559  CrisisFACTS-018  wiki.summary->nist.summary\n",
       "4      bertscore_recall  0.498592  CrisisFACTS-018  wiki.summary->nist.summary\n",
       "5    bertscore_fmeasure  0.538587  CrisisFACTS-018  wiki.summary->nist.summary\n",
       "\n",
       "[108 rows x 4 columns]"
      ]
     },
     "execution_count": 64,
     "metadata": {},
     "output_type": "execute_result"
    }
   ],
   "source": [
    "all_df = pd.concat(rows)\n",
    "all_df"
   ]
  },
  {
   "cell_type": "code",
   "execution_count": null,
   "id": "26262f23",
   "metadata": {},
   "outputs": [],
   "source": []
  },
  {
   "cell_type": "code",
   "execution_count": 66,
   "id": "8bace848",
   "metadata": {},
   "outputs": [],
   "source": [
    "metric_df = all_df.pivot(\"event\", \"metric\", \"value\")"
   ]
  },
  {
   "cell_type": "code",
   "execution_count": 74,
   "id": "3bfb7e9f",
   "metadata": {},
   "outputs": [],
   "source": [
    "metric_df = metric_df[~metric_df.index.isin([\"CrisisFACTS-011\", \"CrisisFACTS-012\"])]"
   ]
  },
  {
   "cell_type": "code",
   "execution_count": 75,
   "id": "a2ec30f4",
   "metadata": {},
   "outputs": [
    {
     "data": {
      "text/plain": [
       "<AxesSubplot:xlabel='bertscore_fmeasure', ylabel='rouge2_fmeasure'>"
      ]
     },
     "execution_count": 75,
     "metadata": {},
     "output_type": "execute_result"
    },
    {
     "data": {
      "image/png": "[encoded data removed]",
      "text/plain": [
       "<Figure size 432x288 with 1 Axes>"
      ]
     },
     "metadata": {
      "needs_background": "light"
     },
     "output_type": "display_data"
    }
   ],
   "source": [
    "metric_df[[\"bertscore_fmeasure\", \"rouge2_fmeasure\"]].plot.scatter(x=\"bertscore_fmeasure\", y=\"rouge2_fmeasure\")"
   ]
  },
  {
   "cell_type": "code",
   "execution_count": 79,
   "id": "b7c5c0ae",
   "metadata": {},
   "outputs": [
    {
     "data": {
      "text/html": [
       "<div>\n",
       "<style scoped>\n",
       "    .dataframe tbody tr th:only-of-type {\n",
       "        vertical-align: middle;\n",
       "    }\n",
       "\n",
       "    .dataframe tbody tr th {\n",
       "        vertical-align: top;\n",
       "    }\n",
       "\n",
       "    .dataframe thead th {\n",
       "        text-align: right;\n",
       "    }\n",
       "</style>\n",
       "<table border=\"1\" class=\"dataframe\">\n",
       "  <thead>\n",
       "    <tr style=\"text-align: right;\">\n",
       "      <th>metric</th>\n",
       "      <th>bertscore_fmeasure</th>\n",
       "      <th>rouge2_fmeasure</th>\n",
       "    </tr>\n",
       "    <tr>\n",
       "      <th>metric</th>\n",
       "      <th></th>\n",
       "      <th></th>\n",
       "    </tr>\n",
       "  </thead>\n",
       "  <tbody>\n",
       "    <tr>\n",
       "      <th>bertscore_fmeasure</th>\n",
       "      <td>1.00000</td>\n",
       "      <td>0.12324</td>\n",
       "    </tr>\n",
       "    <tr>\n",
       "      <th>rouge2_fmeasure</th>\n",
       "      <td>0.12324</td>\n",
       "      <td>1.00000</td>\n",
       "    </tr>\n",
       "  </tbody>\n",
       "</table>\n",
       "</div>"
      ],
      "text/plain": [
       "metric              bertscore_fmeasure  rouge2_fmeasure\n",
       "metric                                                 \n",
       "bertscore_fmeasure             1.00000          0.12324\n",
       "rouge2_fmeasure                0.12324          1.00000"
      ]
     },
     "execution_count": 79,
     "metadata": {},
     "output_type": "execute_result"
    }
   ],
   "source": [
    "metric_df[[\"bertscore_fmeasure\", \"rouge2_fmeasure\"]].corr()"
   ]
  },
  {
   "cell_type": "code",
   "execution_count": 80,
   "id": "00a588c1",
   "metadata": {},
   "outputs": [
    {
     "name": "stdout",
     "output_type": "stream",
     "text": [
      "\\begin{tabular}{lrr}\n",
      "metric & bertscore_fmeasure & rouge2_fmeasure \\\\\n",
      "metric &  &  \\\\\n",
      "bertscore_fmeasure & 1.000000 & 0.123240 \\\\\n",
      "rouge2_fmeasure & 0.123240 & 1.000000 \\\\\n",
      "\\end{tabular}\n",
      "\n"
     ]
    }
   ],
   "source": [
    "print(metric_df[[\"bertscore_fmeasure\", \"rouge2_fmeasure\"]].corr().style.to_latex())"
   ]
  },
  {
   "cell_type": "code",
   "execution_count": 83,
   "id": "35b3d0e1",
   "metadata": {},
   "outputs": [
    {
     "data": {
      "text/plain": [
       "metric\n",
       "bertscore_fmeasure    0.553641\n",
       "rouge2_fmeasure       0.039266\n",
       "dtype: float64"
      ]
     },
     "execution_count": 83,
     "metadata": {},
     "output_type": "execute_result"
    }
   ],
   "source": [
    "metric_df[[\"bertscore_fmeasure\", \"rouge2_fmeasure\"]].mean()"
   ]
  },
  {
   "cell_type": "code",
   "execution_count": null,
   "id": "b710b538",
   "metadata": {},
   "outputs": [],
   "source": []
  }
 ],
 "metadata": {
  "kernelspec": {
   "display_name": "Python 3 (ipykernel)",
   "language": "python",
   "name": "python3"
  },
  "language_info": {
   "codemirror_mode": {
    "name": "ipython",
    "version": 3
   },
   "file_extension": ".py",
   "mimetype": "text/x-python",
   "name": "python",
   "nbconvert_exporter": "python",
   "pygments_lexer": "ipython3",
   "version": "3.9.12"
  }
 },
 "nbformat": 4,
 "nbformat_minor": 5
}
