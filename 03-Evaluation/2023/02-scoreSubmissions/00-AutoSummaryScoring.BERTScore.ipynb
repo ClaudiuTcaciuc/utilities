{
 "cells": [
  {
   "cell_type": "markdown",
   "id": "1c22735b",
   "metadata": {},
   "source": [
    "# BERTScore Scoring Against NIST and Wikipedia\n",
    "\n",
    "Duplicating CrisisFACTS 2022 assessment via BERTScore"
   ]
  },
  {
   "cell_type": "code",
   "execution_count": 1,
   "id": "db0b332e",
   "metadata": {},
   "outputs": [],
   "source": [
    "%matplotlib inline"
   ]
  },
  {
   "cell_type": "code",
   "execution_count": 2,
   "id": "44a96521",
   "metadata": {},
   "outputs": [],
   "source": [
    "import pandas as pd\n",
    "import numpy as np\n",
    "import json\n",
    "import glob\n",
    "import gzip\n",
    "import torch\n",
    "\n",
    "import scipy.stats\n",
    "\n",
    "import matplotlib.pyplot as plt"
   ]
  },
  {
   "cell_type": "code",
   "execution_count": 3,
   "id": "73bd29a3",
   "metadata": {},
   "outputs": [],
   "source": [
    "import wikipedia"
   ]
  },
  {
   "cell_type": "code",
   "execution_count": null,
   "id": "c556aa5c",
   "metadata": {},
   "outputs": [],
   "source": [
    "from torchmetrics.text.rouge import ROUGEScore"
   ]
  },
  {
   "cell_type": "code",
   "execution_count": null,
   "id": "3a6d5ee5",
   "metadata": {},
   "outputs": [],
   "source": []
  },
  {
   "cell_type": "markdown",
   "id": "1f344b8d",
   "metadata": {},
   "source": [
    "## Get CrisisFACTS Event Metadata"
   ]
  },
  {
   "cell_type": "code",
   "execution_count": 5,
   "id": "fa982806",
   "metadata": {},
   "outputs": [],
   "source": [
    "event_df = pd.read_json(\"CrisisFACTs-2022to2023.topics.json\", lines=False).set_index(\"eventID\")"
   ]
  },
  {
   "cell_type": "markdown",
   "id": "bfbd2d79",
   "metadata": {},
   "source": [
    "### Get Summaries from Wikipedia"
   ]
  },
  {
   "cell_type": "code",
   "execution_count": null,
   "id": "26edb077",
   "metadata": {},
   "outputs": [],
   "source": [
    "def get_wiki_summary(url):\n",
    "    \n",
    "    if \"wikipedia.org\" not in url:\n",
    "        return \"\"\n",
    "    \n",
    "    page_title = url.rpartition(\"/\")[-1]\n",
    "    print(url)\n",
    "    page = wikipedia.page(title=page_title, auto_suggest=False)\n",
    "    \n",
    "    return page.summary\n",
    "\n",
    "event_df[\"wiki.summary\"] = event_df[\"url\"].apply(get_wiki_summary)"
   ]
  },
  {
   "cell_type": "markdown",
   "id": "972f2f1c",
   "metadata": {},
   "source": [
    "### Get Summaries from Assessors"
   ]
  },
  {
   "cell_type": "code",
   "execution_count": 7,
   "id": "a2e097d1",
   "metadata": {},
   "outputs": [],
   "source": [
    "with open(\"final-annotated-facts-results.json\", \"r\") as in_file:\n",
    "    annotation_data = json.load(in_file)"
   ]
  },
  {
   "cell_type": "code",
   "execution_count": 8,
   "id": "85afc64c",
   "metadata": {},
   "outputs": [],
   "source": [
    "event_fact_lists = {}\n",
    "\n",
    "for req_id,req_data in annotation_data.items():\n",
    "    event_id = req_id.rpartition(\"-\")[0]\n",
    "    local_fact_set = {f[0] for f in req_data[\"fact_list\"] if f[2] == \"USEFUL_FACT\"}\n",
    "    \n",
    "    with open(\"../00-createSummaries/collapsed-event-days/Collapsed-%s.json\" % req_id) as in_file:\n",
    "        local_fact_data = json.load(in_file)\n",
    "        \n",
    "    local_fact_text = [\n",
    "        fact[\"fact_text\"] for fact in local_fact_data \n",
    "        if fact[\"collapsed_fact_id\"] in local_fact_set\n",
    "    ]\n",
    "    \n",
    "    local_fact_list = event_fact_lists.get(event_id, [])\n",
    "    local_fact_list = local_fact_list + local_fact_text\n",
    "    event_fact_lists[event_id] = local_fact_list"
   ]
  },
  {
   "cell_type": "code",
   "execution_count": 9,
   "id": "3632d5ee",
   "metadata": {},
   "outputs": [],
   "source": [
    "event_df[\"nist.summary\"] = [\". \".join(event_fact_lists[event_id]).replace(\"..\", \".\") for event_id in event_df.index]\n"
   ]
  },
  {
   "cell_type": "code",
   "execution_count": 10,
   "id": "87bcaf34",
   "metadata": {},
   "outputs": [],
   "source": [
    "# save on file and convert all to ascii on a txt\n",
    "with open(\"nist_summary.txt\", \"w\") as out_file:\n",
    "    out_file.write(event_df[\"nist.summary\"].iloc[0].encode(\"ascii\", \"ignore\").decode(\"ascii\"))\n"
   ]
  },
  {
   "cell_type": "markdown",
   "id": "8bdff41e",
   "metadata": {},
   "source": [
    "## Save the Summaries"
   ]
  },
  {
   "cell_type": "code",
   "execution_count": 11,
   "id": "c18718ec",
   "metadata": {},
   "outputs": [],
   "source": [
    "event_df.to_json(\"CrisisFACTs-2022to2023.topics.withSummaries.json\")"
   ]
  },
  {
   "cell_type": "code",
   "execution_count": 12,
   "id": "1f2d255a",
   "metadata": {},
   "outputs": [],
   "source": [
    "# event_df = pd.read_json(\"CrisisFACTs-2022to2023.topics.withSummaries_smaller.json\", lines=False)"
   ]
  },
  {
   "cell_type": "code",
   "execution_count": 13,
   "id": "70c1ac0e",
   "metadata": {},
   "outputs": [],
   "source": [
    "# # save on file and convert all to ascii on a txt\n",
    "# with open(\"nist_summary_2.txt\", \"w\") as out_file:\n",
    "#     out_file.write(event_df[\"nist.summary\"].iloc[0].encode(\"ascii\", \"ignore\").decode(\"ascii\"))"
   ]
  },
  {
   "cell_type": "code",
   "execution_count": null,
   "id": "1a7db79a",
   "metadata": {},
   "outputs": [],
   "source": []
  },
  {
   "cell_type": "code",
   "execution_count": null,
   "id": "dfbd1459",
   "metadata": {},
   "outputs": [],
   "source": [
    "# rouge = ROUGEScore(\n",
    "#     use_stemmer=True,\n",
    "# )\n",
    "\n",
    "import bert_score\n",
    "bert_score.__version__"
   ]
  },
  {
   "cell_type": "code",
   "execution_count": null,
   "id": "133e3127",
   "metadata": {},
   "outputs": [],
   "source": []
  },
  {
   "cell_type": "code",
   "execution_count": 15,
   "id": "73ec2e14",
   "metadata": {},
   "outputs": [],
   "source": [
    "TOP_K = 32"
   ]
  },
  {
   "cell_type": "code",
   "execution_count": null,
   "id": "835e1d0f",
   "metadata": {},
   "outputs": [],
   "source": []
  },
  {
   "cell_type": "code",
   "execution_count": 16,
   "id": "cb52e8d3",
   "metadata": {},
   "outputs": [],
   "source": [
    "all_req_ids = list(annotation_data.keys())"
   ]
  },
  {
   "cell_type": "code",
   "execution_count": 17,
   "id": "9040f77d",
   "metadata": {},
   "outputs": [],
   "source": [
    "device = \"cuda\" if torch.cuda.is_available() else \"cpu\""
   ]
  },
  {
   "cell_type": "code",
   "execution_count": 18,
   "id": "06ac0377",
   "metadata": {},
   "outputs": [],
   "source": [
    "# bert_model = \"distilbert-base-uncased\"\n",
    "bert_model = \"microsoft/deberta-xlarge-mnli\""
   ]
  },
  {
   "cell_type": "code",
   "execution_count": null,
   "id": "0a658b39",
   "metadata": {
    "scrolled": true
   },
   "outputs": [],
   "source": [
    "submission_metrics = {}\n",
    "\n",
    "for f in glob.glob(\"submissions/*.gz\"):\n",
    "    \n",
    "    this_run_id = f.partition(\"\\\\\")[-1].replace(\".gz\", \"\")\n",
    "    print(f, \"-->\", this_run_id)\n",
    "    \n",
    "    this_run_event_request_facts = {k:[] for k in all_req_ids}\n",
    "    with gzip.open(f, \"r\") as in_file:\n",
    "        for line_ in in_file:\n",
    "            line = line_.decode(\"utf8\")\n",
    "            \n",
    "            entry = json.loads(line)\n",
    "            this_req_id = entry[\"requestID\"]\n",
    "            \n",
    "            # We skip days where we have no relevant facts from assessors\n",
    "            if this_req_id not in all_req_ids:\n",
    "                continue\n",
    "            \n",
    "            this_run_event_request_facts[this_req_id].append(entry)\n",
    "            \n",
    "    local_event_summaries = {e_id:[] for e_id in event_df.index}\n",
    "    for event_request,this_fact_list in this_run_event_request_facts.items():\n",
    "        event_id = event_request.rpartition(\"-\")[0]\n",
    "        \n",
    "        sorted_fact_list = sorted(this_fact_list, key=lambda v: v[\"importance\"], reverse=True)\n",
    "        this_day_summary = [this_top_fact[\"factText\"] for this_top_fact in sorted_fact_list[:TOP_K]]\n",
    "        \n",
    "        local_event_summaries[event_id] = local_event_summaries[event_id] + this_day_summary\n",
    "        \n",
    "\n",
    "    wiki_dfs = []\n",
    "    nist_dfs = []\n",
    "    for event_id,event in event_df.iterrows():\n",
    "        \n",
    "        this_submitted_summary = local_event_summaries[event_id]\n",
    "\n",
    "        this_summary_text = \". \".join(this_submitted_summary).replace(\"..\", \".\")\n",
    "        if len(this_summary_text) == 0:\n",
    "            continue\n",
    "        \n",
    "        nist_summary = event[\"nist.summary\"]\n",
    "        wiki_summary = event[\"wiki.summary\"]\n",
    "\n",
    "        print(f\"event {event_id} - nist: {len(nist_summary)} - submitted: {len(this_summary_text)}\")\n",
    "        \n",
    "        nist_metric_ = bert_score.score([this_summary_text], [nist_summary], model_type=bert_model, device=device, batch_size=1, nthreads=2)\n",
    "        torch.cuda.empty_cache()\n",
    "        wiki_metric_ = bert_score.score([this_summary_text], [wiki_summary], model_type=bert_model, device=device, batch_size=1, nthreads=2)\n",
    "        torch.cuda.empty_cache()\n",
    "        \n",
    "        nist_metric = {\n",
    "            \"f1\": nist_metric_[2],\n",
    "            \"precision\": nist_metric_[0],\n",
    "            \"recall\": nist_metric_[1],\n",
    "        }\n",
    "        \n",
    "        wiki_metric = {\n",
    "            \"f1\": wiki_metric_[2],\n",
    "            \"precision\": wiki_metric_[0],\n",
    "            \"recall\": wiki_metric_[1],\n",
    "        }\n",
    "        \n",
    "        this_wiki_df = pd.DataFrame([{\"metric\":k, \"value\":v.item(), \"event\": event_id} for k,v in wiki_metric.items()])\n",
    "        this_nist_df = pd.DataFrame([{\"metric\":k, \"value\":v.item(), \"event\": event_id} for k,v in nist_metric.items()])\n",
    "        \n",
    "        display(this_nist_df)\n",
    "        \n",
    "        wiki_dfs.append(this_wiki_df)\n",
    "        nist_dfs.append(this_nist_df)\n",
    "        \n",
    "    full_wiki_df = pd.concat(wiki_dfs)\n",
    "    full_nist_df = pd.concat(nist_dfs)\n",
    "    \n",
    "    submission_metrics[this_run_id] = {\n",
    "        \"wiki\": full_wiki_df,\n",
    "        \"nist\": full_nist_df,\n",
    "    }\n",
    "    \n",
    "    display(full_nist_df.groupby(\"metric\")[\"value\"].mean())\n",
    "\n"
   ]
  },
  {
   "cell_type": "code",
   "execution_count": null,
   "id": "bc93d833",
   "metadata": {},
   "outputs": [],
   "source": []
  },
  {
   "cell_type": "code",
   "execution_count": null,
   "id": "13c81f81",
   "metadata": {},
   "outputs": [],
   "source": [
    "all_runs = []\n",
    "for k,v in submission_metrics.items():\n",
    "    print(k)\n",
    "    \n",
    "    stackable = []\n",
    "    for comparator,ldf in v.items():\n",
    "        stackable_ldf = ldf.copy()\n",
    "        stackable_ldf[\"target.summary\"] = comparator\n",
    "\n",
    "        stackable.append(stackable_ldf)\n",
    "\n",
    "    this_run_df = pd.concat(stackable)\n",
    "    this_run_df[\"run\"] = k\n",
    "    \n",
    "    all_runs.append(this_run_df)\n",
    "    this_run_df.to_csv(\"evaluation.output.bertscore/%s.csv\" % k, index=False)\n",
    "    \n",
    "all_runs_df = pd.concat(all_runs)\n",
    "all_runs_df.to_csv(\"evaluation.output.bertscore/all_runs.csv\", index=False)"
   ]
  },
  {
   "cell_type": "code",
   "execution_count": null,
   "id": "d6eaf04b",
   "metadata": {},
   "outputs": [],
   "source": []
  },
  {
   "cell_type": "code",
   "execution_count": null,
   "id": "cd743bda",
   "metadata": {},
   "outputs": [],
   "source": [
    "target_summaries = {}\n",
    "for target in [\"wiki\", \"nist\"]:\n",
    "    this_target_df = all_runs_df[all_runs_df[\"target.summary\"] == target]\n",
    "    \n",
    "    index = []\n",
    "    rows = []\n",
    "    for run_name,group in this_target_df.groupby(\"run\"):\n",
    "        print(run_name)\n",
    "        # this_row = group.pivot(\"event\", \"metric\", \"value\").mean()\n",
    "        this_row = group.pivot(index=\"event\", columns=\"metric\", values=\"value\").mean()\n",
    "        rows.append(this_row)\n",
    "        index.append(run_name)\n",
    "\n",
    "    summary_df = pd.DataFrame(rows, index=index)[[\n",
    "        \"f1\", \n",
    "    ]]\n",
    "\n",
    "    final_df = summary_df.sort_values(by=\"f1\", ascending=False)\n",
    "    final_df.to_csv(\"evaluation.output.bertscore/%s.summary.csv\" % target)\n",
    "    \n",
    "    target_summaries[target] = final_df"
   ]
  },
  {
   "cell_type": "code",
   "execution_count": null,
   "id": "d81ac222",
   "metadata": {},
   "outputs": [],
   "source": []
  },
  {
   "cell_type": "code",
   "execution_count": 22,
   "id": "42682b70",
   "metadata": {},
   "outputs": [],
   "source": [
    "rel2023_events = [\n",
    "    'CrisisFACTS-009',\n",
    "    'CrisisFACTS-010',\n",
    "    'CrisisFACTS-011',\n",
    "    'CrisisFACTS-012',\n",
    "    'CrisisFACTS-013',\n",
    "    'CrisisFACTS-014',\n",
    "    'CrisisFACTS-015',\n",
    "    'CrisisFACTS-016',\n",
    "    'CrisisFACTS-017',\n",
    "    'CrisisFACTS-018'\n",
    "\n",
    "]"
   ]
  },
  {
   "cell_type": "code",
   "execution_count": null,
   "id": "dcd28381",
   "metadata": {
    "scrolled": false
   },
   "outputs": [],
   "source": [
    "rows = []\n",
    "for runtag,group in all_runs_df[all_runs_df[\"event\"].isin(rel2023_events)].groupby(\"run\"):\n",
    "    print(runtag)\n",
    "    t_map = {\"run\": runtag}\n",
    "    for target,t_group in group.groupby(\"target.summary\"):\n",
    "        print(\"\\t\", target)\n",
    "        \n",
    "        if target == \"wiki\":\n",
    "            t_group = t_group[~t_group[\"event\"].isin([\"CrisisFACTS-011\", \"CrisisFACTS-012\"])]\n",
    "        for metric,m_group in t_group.groupby(\"metric\"):\n",
    "            print(\"\\t\\t\", metric, m_group[\"value\"].mean())\n",
    "            \n",
    "            t_map[\"%s.%s\" % (target,metric)] = m_group[\"value\"].mean()\n",
    "            \n",
    "    rows.append(t_map)"
   ]
  },
  {
   "cell_type": "code",
   "execution_count": null,
   "id": "779b6388",
   "metadata": {},
   "outputs": [],
   "source": [
    "by_run_df = pd.DataFrame(rows).set_index(\"run\")\n",
    "by_run_df.to_csv(\"by_run.bertscore.summary.csv\")\n",
    "by_run_df[[\"nist.f1\", \"wiki.f1\"]]"
   ]
  },
  {
   "cell_type": "code",
   "execution_count": null,
   "id": "78fb3cb1",
   "metadata": {},
   "outputs": [],
   "source": [
    "by_run_df[[\"nist.f1\", \"wiki.f1\"]].corr()"
   ]
  },
  {
   "cell_type": "code",
   "execution_count": null,
   "id": "321a7435",
   "metadata": {},
   "outputs": [],
   "source": [
    "by_run_df[[\"nist.f1\", \"wiki.f1\"]].plot.scatter(x=\"nist.f1\", y=\"wiki.f1\")"
   ]
  },
  {
   "cell_type": "code",
   "execution_count": null,
   "id": "7a4ee445",
   "metadata": {
    "scrolled": false
   },
   "outputs": [],
   "source": [
    "fig = plt.figure(figsize=(9,16))\n",
    "ax = fig.add_subplot(1,1,1)\n",
    "\n",
    "by_run_df[[\"nist.f1\", \"wiki.f1\"]].sort_values(by=\"nist.f1\").plot.barh(ax=ax)"
   ]
  },
  {
   "cell_type": "code",
   "execution_count": null,
   "id": "e2a30a0b",
   "metadata": {},
   "outputs": [],
   "source": []
  },
  {
   "cell_type": "markdown",
   "id": "66a6d6a2",
   "metadata": {},
   "source": [
    "## By Day"
   ]
  },
  {
   "cell_type": "code",
   "execution_count": null,
   "id": "29ff267e",
   "metadata": {},
   "outputs": [],
   "source": [
    "rows = []\n",
    "for event,group in all_runs_df[all_runs_df[\"event\"].isin(rel2023_events)].groupby(\"event\"):\n",
    "    print(event)\n",
    "    t_map = {\"event\": event}\n",
    "    for target,t_group in group.groupby(\"target.summary\"):\n",
    "        print(\"\\t\", target)\n",
    "        \n",
    "        if target == \"wiki\":\n",
    "            t_group = t_group[~t_group[\"event\"].isin([\"CrisisFACTS-011\", \"CrisisFACTS-012\"])]\n",
    "        for metric,m_group in t_group.groupby(\"metric\"):\n",
    "            print(\"\\t\\t\", metric, m_group[\"value\"].mean())\n",
    "            \n",
    "            t_map[\"%s.%s\" % (target,metric)] = m_group[\"value\"].mean()\n",
    "            \n",
    "    rows.append(t_map)"
   ]
  },
  {
   "cell_type": "code",
   "execution_count": null,
   "id": "94577ba5",
   "metadata": {},
   "outputs": [],
   "source": [
    "by_event_df = pd.DataFrame(rows).set_index(\"event\")\n",
    "by_event_df.to_csv(\"by_event.bertscore.summary.csv\")\n",
    "by_event_df[[\"nist.f1\", \"wiki.f1\"]]"
   ]
  },
  {
   "cell_type": "code",
   "execution_count": null,
   "id": "3242999d",
   "metadata": {},
   "outputs": [],
   "source": [
    "fig = plt.figure(figsize=(9,16))\n",
    "ax = fig.add_subplot(1,1,1)\n",
    "\n",
    "by_event_df[[\"nist.f1\", \"wiki.f1\"]].plot.barh(ax=ax)"
   ]
  },
  {
   "cell_type": "code",
   "execution_count": null,
   "id": "60afedd5",
   "metadata": {},
   "outputs": [],
   "source": []
  },
  {
   "cell_type": "code",
   "execution_count": null,
   "id": "0f0b4512",
   "metadata": {},
   "outputs": [],
   "source": [
    "score_df = pd.read_csv(\"by_event.bertscore.summary.csv\", index_col=0)\n",
    "print(score_df.groupby(\"event\").mean().style.to_latex())"
   ]
  },
  {
   "cell_type": "code",
   "execution_count": null,
   "id": "c4709d84",
   "metadata": {},
   "outputs": [],
   "source": [
    "print(score_df.groupby(\"event\").mean().style.to_latex())"
   ]
  },
  {
   "cell_type": "code",
   "execution_count": null,
   "id": "9998ed11",
   "metadata": {},
   "outputs": [],
   "source": []
  }
 ],
 "metadata": {
  "kernelspec": {
   "display_name": ".venv",
   "language": "python",
   "name": "python3"
  },
  "language_info": {
   "codemirror_mode": {
    "name": "ipython",
    "version": 3
   },
   "file_extension": ".py",
   "mimetype": "text/x-python",
   "name": "python",
   "nbconvert_exporter": "python",
   "pygments_lexer": "ipython3",
   "version": "3.11.2"
  }
 },
 "nbformat": 4,
 "nbformat_minor": 5
}
