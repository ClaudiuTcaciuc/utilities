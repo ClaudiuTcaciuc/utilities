{
 "cells": [
  {
   "cell_type": "markdown",
   "id": "1c22735b",
   "metadata": {},
   "source": [
    "# BERTScore Scoring Against NIST and Wikipedia\n",
    "\n",
    "Duplicating CrisisFACTS 2022 assessment via BERTScore"
   ]
  },
  {
   "cell_type": "code",
   "execution_count": 1,
   "id": "db0b332e",
   "metadata": {},
   "outputs": [],
   "source": [
    "%matplotlib inline"
   ]
  },
  {
   "cell_type": "code",
   "execution_count": 2,
   "id": "44a96521",
   "metadata": {},
   "outputs": [],
   "source": [
    "import pandas as pd\n",
    "import numpy as np\n",
    "import json\n",
    "import glob\n",
    "import gzip\n",
    "import torch\n",
    "\n",
    "import scipy.stats\n",
    "\n",
    "import matplotlib.pyplot as plt"
   ]
  },
  {
   "cell_type": "code",
   "execution_count": 3,
   "id": "73bd29a3",
   "metadata": {},
   "outputs": [],
   "source": [
    "import wikipedia"
   ]
  },
  {
   "cell_type": "code",
   "execution_count": 4,
   "id": "c556aa5c",
   "metadata": {},
   "outputs": [
    {
     "name": "stderr",
     "output_type": "stream",
     "text": [
      "c:\\Users\\VG User\\Documents\\GitHub\\crisisfact\\.venv\\Lib\\site-packages\\tqdm\\auto.py:21: TqdmWarning: IProgress not found. Please update jupyter and ipywidgets. See https://ipywidgets.readthedocs.io/en/stable/user_install.html\n",
      "  from .autonotebook import tqdm as notebook_tqdm\n"
     ]
    }
   ],
   "source": [
    "from torchmetrics.text.rouge import ROUGEScore\n",
    "from torchmetrics.text.bert import BERTScore"
   ]
  },
  {
   "cell_type": "code",
   "execution_count": null,
   "id": "3a6d5ee5",
   "metadata": {},
   "outputs": [],
   "source": []
  },
  {
   "cell_type": "markdown",
   "id": "1f344b8d",
   "metadata": {},
   "source": [
    "## Get CrisisFACTS Event Metadata"
   ]
  },
  {
   "cell_type": "code",
   "execution_count": 5,
   "id": "fa982806",
   "metadata": {},
   "outputs": [],
   "source": [
    "event_df = pd.read_json(\"CrisisFACTs-2022to2023.topics.json\", lines=False).set_index(\"eventID\")"
   ]
  },
  {
   "cell_type": "markdown",
   "id": "bfbd2d79",
   "metadata": {},
   "source": [
    "### Get Summaries from Wikipedia"
   ]
  },
  {
   "cell_type": "code",
   "execution_count": 6,
   "id": "26edb077",
   "metadata": {},
   "outputs": [
    {
     "name": "stdout",
     "output_type": "stream",
     "text": [
      "https://en.wikipedia.org/wiki/Lilac_Fire\n",
      "https://en.wikipedia.org/wiki/Cranston_Fire\n",
      "https://en.wikipedia.org/wiki/Holy_Fire_(2018)\n",
      "https://en.wikipedia.org/wiki/Hurricane_Florence\n",
      "https://en.wikipedia.org/wiki/2018_Maryland_flood\n",
      "https://en.wikipedia.org/wiki/Saddleridge_Fire\n",
      "https://en.wikipedia.org/wiki/Hurricane_Laura\n",
      "https://en.wikipedia.org/wiki/Hurricane_Sally\n",
      "https://en.wikipedia.org/wiki/2020_Beirut_explosion\n",
      "https://en.wikipedia.org/wiki/2020_Houston_explosion\n",
      "https://en.wikipedia.org/wiki/Edenville_Dam#Dam_failure\n",
      "https://en.wikipedia.org/wiki/Hurricane_Dorian\n",
      "https://en.wikipedia.org/wiki/Kincade_Fire\n",
      "https://en.wikipedia.org/wiki/2020_Easter_tornado_outbreak\n",
      "https://en.wikipedia.org/wiki/Tornado_outbreak_of_April_22-23,_2020\n",
      "https://en.wikipedia.org/wiki/Tornado_outbreak_of_March_2-3,_2020\n"
     ]
    }
   ],
   "source": [
    "def get_wiki_summary(url):\n",
    "    \n",
    "    if \"wikipedia.org\" not in url:\n",
    "        return \"\"\n",
    "    \n",
    "    page_title = url.rpartition(\"/\")[-1]\n",
    "    print(url)\n",
    "    page = wikipedia.page(title=page_title, auto_suggest=False)\n",
    "    \n",
    "    return page.summary\n",
    "\n",
    "event_df[\"wiki.summary\"] = event_df[\"url\"].apply(get_wiki_summary)"
   ]
  },
  {
   "cell_type": "markdown",
   "id": "972f2f1c",
   "metadata": {},
   "source": [
    "### Get Summaries from Assessors"
   ]
  },
  {
   "cell_type": "code",
   "execution_count": 7,
   "id": "a2e097d1",
   "metadata": {},
   "outputs": [],
   "source": [
    "with open(\"final-annotated-facts-results.json\", \"r\") as in_file:\n",
    "    annotation_data = json.load(in_file)"
   ]
  },
  {
   "cell_type": "code",
   "execution_count": 8,
   "id": "85afc64c",
   "metadata": {},
   "outputs": [],
   "source": [
    "event_fact_lists = {}\n",
    "\n",
    "for req_id,req_data in annotation_data.items():\n",
    "    event_id = req_id.rpartition(\"-\")[0]\n",
    "    local_fact_set = {f[0] for f in req_data[\"fact_list\"] if f[2] == \"USEFUL_FACT\"}\n",
    "    \n",
    "    with open(\"../00-createSummaries/collapsed-event-days/Collapsed-%s.json\" % req_id) as in_file:\n",
    "        local_fact_data = json.load(in_file)\n",
    "        \n",
    "    local_fact_text = [\n",
    "        fact[\"fact_text\"] for fact in local_fact_data \n",
    "        if fact[\"collapsed_fact_id\"] in local_fact_set\n",
    "    ]\n",
    "    \n",
    "    local_fact_list = event_fact_lists.get(event_id, [])\n",
    "    local_fact_list = local_fact_list + local_fact_text\n",
    "    event_fact_lists[event_id] = local_fact_list"
   ]
  },
  {
   "cell_type": "code",
   "execution_count": 9,
   "id": "3632d5ee",
   "metadata": {},
   "outputs": [],
   "source": [
    "event_df[\"nist.summary\"] = [\". \".join(event_fact_lists[event_id]).replace(\"..\", \".\") for event_id in event_df.index]\n"
   ]
  },
  {
   "cell_type": "code",
   "execution_count": 10,
   "id": "87bcaf34",
   "metadata": {},
   "outputs": [],
   "source": [
    "# save on file and convert all to ascii on a txt\n",
    "with open(\"nist_summary.txt\", \"w\") as out_file:\n",
    "    out_file.write(event_df[\"nist.summary\"].iloc[0].encode(\"ascii\", \"ignore\").decode(\"ascii\"))\n"
   ]
  },
  {
   "cell_type": "markdown",
   "id": "8bdff41e",
   "metadata": {},
   "source": [
    "## Save the Summaries"
   ]
  },
  {
   "cell_type": "code",
   "execution_count": 11,
   "id": "c18718ec",
   "metadata": {},
   "outputs": [],
   "source": [
    "event_df.to_json(\"CrisisFACTs-2022to2023.topics.withSummaries.json\")"
   ]
  },
  {
   "cell_type": "code",
   "execution_count": 12,
   "id": "1f2d255a",
   "metadata": {},
   "outputs": [],
   "source": [
    "# event_df = pd.read_json(\"CrisisFACTs-2022to2023.topics.withSummaries_smaller.json\", lines=False)"
   ]
  },
  {
   "cell_type": "code",
   "execution_count": 13,
   "id": "70c1ac0e",
   "metadata": {},
   "outputs": [],
   "source": [
    "# # save on file and convert all to ascii on a txt\n",
    "# with open(\"nist_summary_2.txt\", \"w\") as out_file:\n",
    "#     out_file.write(event_df[\"nist.summary\"].iloc[0].encode(\"ascii\", \"ignore\").decode(\"ascii\"))"
   ]
  },
  {
   "cell_type": "code",
   "execution_count": null,
   "id": "1a7db79a",
   "metadata": {},
   "outputs": [],
   "source": []
  },
  {
   "cell_type": "code",
   "execution_count": 14,
   "id": "dfbd1459",
   "metadata": {},
   "outputs": [
    {
     "data": {
      "text/plain": [
       "'0.3.12'"
      ]
     },
     "execution_count": 14,
     "metadata": {},
     "output_type": "execute_result"
    }
   ],
   "source": [
    "# rouge = ROUGEScore(\n",
    "#     use_stemmer=True,\n",
    "# )\n",
    "\n",
    "import bert_score\n",
    "bert_score.__version__"
   ]
  },
  {
   "cell_type": "code",
   "execution_count": null,
   "id": "133e3127",
   "metadata": {},
   "outputs": [],
   "source": []
  },
  {
   "cell_type": "code",
   "execution_count": 15,
   "id": "73ec2e14",
   "metadata": {},
   "outputs": [],
   "source": [
    "TOP_K = 32"
   ]
  },
  {
   "cell_type": "code",
   "execution_count": null,
   "id": "835e1d0f",
   "metadata": {},
   "outputs": [],
   "source": []
  },
  {
   "cell_type": "code",
   "execution_count": 16,
   "id": "cb52e8d3",
   "metadata": {},
   "outputs": [],
   "source": [
    "all_req_ids = list(annotation_data.keys())"
   ]
  },
  {
   "cell_type": "code",
   "execution_count": 17,
   "id": "9040f77d",
   "metadata": {},
   "outputs": [
    {
     "name": "stdout",
     "output_type": "stream",
     "text": [
      "Using device: cuda\n"
     ]
    }
   ],
   "source": [
    "device = \"cuda\" if torch.cuda.is_available() else \"cpu\"\n",
    "print(f\"Using device: {device}\")"
   ]
  },
  {
   "cell_type": "code",
   "execution_count": 18,
   "id": "04dd9bb0",
   "metadata": {},
   "outputs": [
    {
     "name": "stdout",
     "output_type": "stream",
     "text": [
      "True\n",
      "1\n",
      "NVIDIA GeForce RTX 3060\n",
      "cuda\n"
     ]
    }
   ],
   "source": [
    "print(torch.cuda.is_available())  # Should return True\n",
    "print(torch.cuda.device_count())  # Should return the number of GPUs\n",
    "print(torch.cuda.get_device_name(0))  # Should print your GPU name\n",
    "print(torch.device(\"cuda\" if torch.cuda.is_available() else \"cpu\"))"
   ]
  },
  {
   "cell_type": "code",
   "execution_count": 19,
   "id": "06ac0377",
   "metadata": {},
   "outputs": [],
   "source": [
    "bert_model = \"distilbert-base-uncased\"\n",
    "# bert_model = \"microsoft/deberta-xlarge-mnli\"\n",
    "# bert_model = \"microsoft/deberta-base-mnli\"\n",
    "# bert_model = \"google/mt5-small\""
   ]
  },
  {
   "cell_type": "code",
   "execution_count": 20,
   "id": "38131a20",
   "metadata": {},
   "outputs": [],
   "source": [
    "bert_scorer = bert_score.BERTScorer(model_type=bert_model, device=device, batch_size=1, nthreads=1)"
   ]
  },
  {
   "cell_type": "code",
   "execution_count": 21,
   "id": "16b49f0a",
   "metadata": {},
   "outputs": [],
   "source": [
    "max_length = 200_000"
   ]
  },
  {
   "cell_type": "code",
   "execution_count": 22,
   "id": "0a658b39",
   "metadata": {
    "scrolled": true
   },
   "outputs": [
    {
     "name": "stdout",
     "output_type": "stream",
     "text": [
      "submissions\\Thesis_Retriver.gz --> Thesis_Retriver\n",
      "event CrisisFACTS-010 - nist: 19107 - submitted: 34018\n"
     ]
    },
    {
     "data": {
      "text/html": [
       "<div>\n",
       "<style scoped>\n",
       "    .dataframe tbody tr th:only-of-type {\n",
       "        vertical-align: middle;\n",
       "    }\n",
       "\n",
       "    .dataframe tbody tr th {\n",
       "        vertical-align: top;\n",
       "    }\n",
       "\n",
       "    .dataframe thead th {\n",
       "        text-align: right;\n",
       "    }\n",
       "</style>\n",
       "<table border=\"1\" class=\"dataframe\">\n",
       "  <thead>\n",
       "    <tr style=\"text-align: right;\">\n",
       "      <th></th>\n",
       "      <th>metric</th>\n",
       "      <th>value</th>\n",
       "      <th>event</th>\n",
       "    </tr>\n",
       "  </thead>\n",
       "  <tbody>\n",
       "    <tr>\n",
       "      <th>0</th>\n",
       "      <td>precision</td>\n",
       "      <td>0.717312</td>\n",
       "      <td>CrisisFACTS-010</td>\n",
       "    </tr>\n",
       "    <tr>\n",
       "      <th>1</th>\n",
       "      <td>recall</td>\n",
       "      <td>0.768497</td>\n",
       "      <td>CrisisFACTS-010</td>\n",
       "    </tr>\n",
       "    <tr>\n",
       "      <th>2</th>\n",
       "      <td>f1</td>\n",
       "      <td>0.742023</td>\n",
       "      <td>CrisisFACTS-010</td>\n",
       "    </tr>\n",
       "  </tbody>\n",
       "</table>\n",
       "</div>"
      ],
      "text/plain": [
       "      metric     value            event\n",
       "0  precision  0.717312  CrisisFACTS-010\n",
       "1     recall  0.768497  CrisisFACTS-010\n",
       "2         f1  0.742023  CrisisFACTS-010"
      ]
     },
     "metadata": {},
     "output_type": "display_data"
    },
    {
     "name": "stdout",
     "output_type": "stream",
     "text": [
      "event CrisisFACTS-011 - nist: 12232 - submitted: 18335\n"
     ]
    },
    {
     "name": "stderr",
     "output_type": "stream",
     "text": [
      "Warning: Empty reference sentence detected; setting raw BERTScores to 0.\n"
     ]
    },
    {
     "data": {
      "text/html": [
       "<div>\n",
       "<style scoped>\n",
       "    .dataframe tbody tr th:only-of-type {\n",
       "        vertical-align: middle;\n",
       "    }\n",
       "\n",
       "    .dataframe tbody tr th {\n",
       "        vertical-align: top;\n",
       "    }\n",
       "\n",
       "    .dataframe thead th {\n",
       "        text-align: right;\n",
       "    }\n",
       "</style>\n",
       "<table border=\"1\" class=\"dataframe\">\n",
       "  <thead>\n",
       "    <tr style=\"text-align: right;\">\n",
       "      <th></th>\n",
       "      <th>metric</th>\n",
       "      <th>value</th>\n",
       "      <th>event</th>\n",
       "    </tr>\n",
       "  </thead>\n",
       "  <tbody>\n",
       "    <tr>\n",
       "      <th>0</th>\n",
       "      <td>precision</td>\n",
       "      <td>0.786624</td>\n",
       "      <td>CrisisFACTS-011</td>\n",
       "    </tr>\n",
       "    <tr>\n",
       "      <th>1</th>\n",
       "      <td>recall</td>\n",
       "      <td>0.771731</td>\n",
       "      <td>CrisisFACTS-011</td>\n",
       "    </tr>\n",
       "    <tr>\n",
       "      <th>2</th>\n",
       "      <td>f1</td>\n",
       "      <td>0.779106</td>\n",
       "      <td>CrisisFACTS-011</td>\n",
       "    </tr>\n",
       "  </tbody>\n",
       "</table>\n",
       "</div>"
      ],
      "text/plain": [
       "      metric     value            event\n",
       "0  precision  0.786624  CrisisFACTS-011\n",
       "1     recall  0.771731  CrisisFACTS-011\n",
       "2         f1  0.779106  CrisisFACTS-011"
      ]
     },
     "metadata": {},
     "output_type": "display_data"
    },
    {
     "name": "stdout",
     "output_type": "stream",
     "text": [
      "event CrisisFACTS-015 - nist: 54206 - submitted: 115150\n"
     ]
    },
    {
     "data": {
      "text/html": [
       "<div>\n",
       "<style scoped>\n",
       "    .dataframe tbody tr th:only-of-type {\n",
       "        vertical-align: middle;\n",
       "    }\n",
       "\n",
       "    .dataframe tbody tr th {\n",
       "        vertical-align: top;\n",
       "    }\n",
       "\n",
       "    .dataframe thead th {\n",
       "        text-align: right;\n",
       "    }\n",
       "</style>\n",
       "<table border=\"1\" class=\"dataframe\">\n",
       "  <thead>\n",
       "    <tr style=\"text-align: right;\">\n",
       "      <th></th>\n",
       "      <th>metric</th>\n",
       "      <th>value</th>\n",
       "      <th>event</th>\n",
       "    </tr>\n",
       "  </thead>\n",
       "  <tbody>\n",
       "    <tr>\n",
       "      <th>0</th>\n",
       "      <td>precision</td>\n",
       "      <td>0.801710</td>\n",
       "      <td>CrisisFACTS-015</td>\n",
       "    </tr>\n",
       "    <tr>\n",
       "      <th>1</th>\n",
       "      <td>recall</td>\n",
       "      <td>0.779995</td>\n",
       "      <td>CrisisFACTS-015</td>\n",
       "    </tr>\n",
       "    <tr>\n",
       "      <th>2</th>\n",
       "      <td>f1</td>\n",
       "      <td>0.790704</td>\n",
       "      <td>CrisisFACTS-015</td>\n",
       "    </tr>\n",
       "  </tbody>\n",
       "</table>\n",
       "</div>"
      ],
      "text/plain": [
       "      metric     value            event\n",
       "0  precision  0.801710  CrisisFACTS-015\n",
       "1     recall  0.779995  CrisisFACTS-015\n",
       "2         f1  0.790704  CrisisFACTS-015"
      ]
     },
     "metadata": {},
     "output_type": "display_data"
    },
    {
     "name": "stdout",
     "output_type": "stream",
     "text": [
      "event CrisisFACTS-017 - nist: 52359 - submitted: 65781\n"
     ]
    },
    {
     "data": {
      "text/html": [
       "<div>\n",
       "<style scoped>\n",
       "    .dataframe tbody tr th:only-of-type {\n",
       "        vertical-align: middle;\n",
       "    }\n",
       "\n",
       "    .dataframe tbody tr th {\n",
       "        vertical-align: top;\n",
       "    }\n",
       "\n",
       "    .dataframe thead th {\n",
       "        text-align: right;\n",
       "    }\n",
       "</style>\n",
       "<table border=\"1\" class=\"dataframe\">\n",
       "  <thead>\n",
       "    <tr style=\"text-align: right;\">\n",
       "      <th></th>\n",
       "      <th>metric</th>\n",
       "      <th>value</th>\n",
       "      <th>event</th>\n",
       "    </tr>\n",
       "  </thead>\n",
       "  <tbody>\n",
       "    <tr>\n",
       "      <th>0</th>\n",
       "      <td>precision</td>\n",
       "      <td>0.784863</td>\n",
       "      <td>CrisisFACTS-017</td>\n",
       "    </tr>\n",
       "    <tr>\n",
       "      <th>1</th>\n",
       "      <td>recall</td>\n",
       "      <td>0.823462</td>\n",
       "      <td>CrisisFACTS-017</td>\n",
       "    </tr>\n",
       "    <tr>\n",
       "      <th>2</th>\n",
       "      <td>f1</td>\n",
       "      <td>0.803700</td>\n",
       "      <td>CrisisFACTS-017</td>\n",
       "    </tr>\n",
       "  </tbody>\n",
       "</table>\n",
       "</div>"
      ],
      "text/plain": [
       "      metric     value            event\n",
       "0  precision  0.784863  CrisisFACTS-017\n",
       "1     recall  0.823462  CrisisFACTS-017\n",
       "2         f1  0.803700  CrisisFACTS-017"
      ]
     },
     "metadata": {},
     "output_type": "display_data"
    },
    {
     "name": "stdout",
     "output_type": "stream",
     "text": [
      "event CrisisFACTS-018 - nist: 76726 - submitted: 72239\n"
     ]
    },
    {
     "data": {
      "text/html": [
       "<div>\n",
       "<style scoped>\n",
       "    .dataframe tbody tr th:only-of-type {\n",
       "        vertical-align: middle;\n",
       "    }\n",
       "\n",
       "    .dataframe tbody tr th {\n",
       "        vertical-align: top;\n",
       "    }\n",
       "\n",
       "    .dataframe thead th {\n",
       "        text-align: right;\n",
       "    }\n",
       "</style>\n",
       "<table border=\"1\" class=\"dataframe\">\n",
       "  <thead>\n",
       "    <tr style=\"text-align: right;\">\n",
       "      <th></th>\n",
       "      <th>metric</th>\n",
       "      <th>value</th>\n",
       "      <th>event</th>\n",
       "    </tr>\n",
       "  </thead>\n",
       "  <tbody>\n",
       "    <tr>\n",
       "      <th>0</th>\n",
       "      <td>precision</td>\n",
       "      <td>0.830871</td>\n",
       "      <td>CrisisFACTS-018</td>\n",
       "    </tr>\n",
       "    <tr>\n",
       "      <th>1</th>\n",
       "      <td>recall</td>\n",
       "      <td>0.831677</td>\n",
       "      <td>CrisisFACTS-018</td>\n",
       "    </tr>\n",
       "    <tr>\n",
       "      <th>2</th>\n",
       "      <td>f1</td>\n",
       "      <td>0.831274</td>\n",
       "      <td>CrisisFACTS-018</td>\n",
       "    </tr>\n",
       "  </tbody>\n",
       "</table>\n",
       "</div>"
      ],
      "text/plain": [
       "      metric     value            event\n",
       "0  precision  0.830871  CrisisFACTS-018\n",
       "1     recall  0.831677  CrisisFACTS-018\n",
       "2         f1  0.831274  CrisisFACTS-018"
      ]
     },
     "metadata": {},
     "output_type": "display_data"
    },
    {
     "data": {
      "text/plain": [
       "metric\n",
       "f1           0.789361\n",
       "precision    0.784276\n",
       "recall       0.795073\n",
       "Name: value, dtype: float64"
      ]
     },
     "metadata": {},
     "output_type": "display_data"
    }
   ],
   "source": [
    "submission_metrics = {}\n",
    "\n",
    "for f in glob.glob(\"submissions/*.gz\"):\n",
    "    \n",
    "    this_run_id = f.partition(\"\\\\\")[-1].replace(\".gz\", \"\")\n",
    "    print(f, \"-->\", this_run_id)\n",
    "    \n",
    "    this_run_event_request_facts = {k:[] for k in all_req_ids}\n",
    "    with gzip.open(f, \"r\") as in_file:\n",
    "        for line_ in in_file:\n",
    "            line = line_.decode(\"utf8\")\n",
    "            \n",
    "            entry = json.loads(line)\n",
    "            this_req_id = entry[\"requestID\"]\n",
    "            \n",
    "            # We skip days where we have no relevant facts from assessors\n",
    "            if this_req_id not in all_req_ids:\n",
    "                continue\n",
    "            \n",
    "            this_run_event_request_facts[this_req_id].append(entry)\n",
    "            \n",
    "    local_event_summaries = {e_id:[] for e_id in event_df.index}\n",
    "    for event_request,this_fact_list in this_run_event_request_facts.items():\n",
    "        event_id = event_request.rpartition(\"-\")[0]\n",
    "        \n",
    "        sorted_fact_list = sorted(this_fact_list, key=lambda v: v[\"importance\"], reverse=True)\n",
    "        this_day_summary = [this_top_fact[\"factText\"] for this_top_fact in sorted_fact_list[:TOP_K]]\n",
    "        \n",
    "        local_event_summaries[event_id] = local_event_summaries[event_id] + this_day_summary\n",
    "        \n",
    "\n",
    "    wiki_dfs = []\n",
    "    nist_dfs = []\n",
    "    for event_id,event in event_df.iterrows():\n",
    "        \n",
    "        this_submitted_summary = local_event_summaries[event_id]\n",
    "\n",
    "        this_summary_text = \". \".join(this_submitted_summary).replace(\"..\", \".\")[:max_length]\n",
    "        if len(this_summary_text) == 0:\n",
    "            continue\n",
    "        \n",
    "        nist_summary = event[\"nist.summary\"][:max_length]\n",
    "        wiki_summary = event[\"wiki.summary\"]\n",
    "        \n",
    "        print(f\"event {event_id} - nist: {len(nist_summary)} - submitted: {len(this_summary_text)}\")\n",
    "        \n",
    "        try:\n",
    "            with torch.no_grad():\n",
    "                # with torch.amp.autocast(device_type=device, dtype=torch.bfloat16):\n",
    "                    nist_scores = bert_scorer.score([this_summary_text], [nist_summary])\n",
    "                    wiki_scores = bert_scorer.score([this_summary_text], [wiki_summary])\n",
    "            \n",
    "        except torch.cuda.OutOfMemoryError:\n",
    "            print(\"CUDA OOM\")\n",
    "            torch.cuda.empty_cache()\n",
    "            continue\n",
    "        except Exception as e:\n",
    "            print(f\"Error: {e}\")\n",
    "            continue\n",
    "        \n",
    "        nist_metric = {k: v.cpu().float().item() for k, v in zip([\"precision\", \"recall\", \"f1\"], nist_scores)}\n",
    "        wiki_metric = {k: v.cpu().float().item() for k, v in zip([\"precision\", \"recall\", \"f1\"], wiki_scores)}\n",
    "        \n",
    "        # nist_metric = {\n",
    "        #     \"f1\": nist_metric_[2],\n",
    "        #     \"precision\": nist_metric_[0],\n",
    "        #     \"recall\": nist_metric_[1],\n",
    "        # }\n",
    "        \n",
    "        # wiki_metric = {\n",
    "        #     \"f1\": wiki_metric_[2],\n",
    "        #     \"precision\": wiki_metric_[0],\n",
    "        #     \"recall\": wiki_metric_[1],\n",
    "        # }\n",
    "        \n",
    "        this_wiki_df = pd.DataFrame([{\"metric\": k, \"value\": v, \"event\": event_id} for k, v in wiki_metric.items()])\n",
    "        this_nist_df = pd.DataFrame([{\"metric\": k, \"value\": v, \"event\": event_id} for k, v in nist_metric.items()])\n",
    "        \n",
    "        display(this_nist_df)\n",
    "        \n",
    "        wiki_dfs.append(this_wiki_df)\n",
    "        nist_dfs.append(this_nist_df)\n",
    "        \n",
    "    full_wiki_df = pd.concat(wiki_dfs)\n",
    "    full_nist_df = pd.concat(nist_dfs)\n",
    "    \n",
    "    submission_metrics[this_run_id] = {\n",
    "        \"wiki\": full_wiki_df,\n",
    "        \"nist\": full_nist_df,\n",
    "    }\n",
    "    \n",
    "    display(full_nist_df.groupby(\"metric\")[\"value\"].mean())\n",
    "\n"
   ]
  },
  {
   "cell_type": "code",
   "execution_count": null,
   "id": "bc93d833",
   "metadata": {},
   "outputs": [],
   "source": []
  },
  {
   "cell_type": "code",
   "execution_count": 23,
   "id": "13c81f81",
   "metadata": {},
   "outputs": [
    {
     "name": "stdout",
     "output_type": "stream",
     "text": [
      "Thesis_Retriver\n"
     ]
    }
   ],
   "source": [
    "all_runs = []\n",
    "for k,v in submission_metrics.items():\n",
    "    print(k)\n",
    "    \n",
    "    stackable = []\n",
    "    for comparator,ldf in v.items():\n",
    "        stackable_ldf = ldf.copy()\n",
    "        stackable_ldf[\"target.summary\"] = comparator\n",
    "\n",
    "        stackable.append(stackable_ldf)\n",
    "\n",
    "    this_run_df = pd.concat(stackable)\n",
    "    this_run_df[\"run\"] = k\n",
    "    \n",
    "    all_runs.append(this_run_df)\n",
    "    this_run_df.to_csv(\"evaluation.output.bertscore/%s.csv\" % k, index=False)\n",
    "    \n",
    "all_runs_df = pd.concat(all_runs)\n",
    "all_runs_df.to_csv(\"evaluation.output.bertscore/all_runs.csv\", index=False)"
   ]
  },
  {
   "cell_type": "code",
   "execution_count": null,
   "id": "d6eaf04b",
   "metadata": {},
   "outputs": [],
   "source": []
  },
  {
   "cell_type": "code",
   "execution_count": 24,
   "id": "cd743bda",
   "metadata": {},
   "outputs": [
    {
     "name": "stdout",
     "output_type": "stream",
     "text": [
      "Thesis_Retriver\n",
      "Thesis_Retriver\n"
     ]
    }
   ],
   "source": [
    "target_summaries = {}\n",
    "for target in [\"wiki\", \"nist\"]:\n",
    "    this_target_df = all_runs_df[all_runs_df[\"target.summary\"] == target]\n",
    "    \n",
    "    index = []\n",
    "    rows = []\n",
    "    for run_name,group in this_target_df.groupby(\"run\"):\n",
    "        print(run_name)\n",
    "        # this_row = group.pivot(\"event\", \"metric\", \"value\").mean()\n",
    "        this_row = group.pivot(index=\"event\", columns=\"metric\", values=\"value\").mean()\n",
    "        rows.append(this_row)\n",
    "        index.append(run_name)\n",
    "\n",
    "    summary_df = pd.DataFrame(rows, index=index)[[\n",
    "        \"f1\", \n",
    "    ]]\n",
    "\n",
    "    final_df = summary_df.sort_values(by=\"f1\", ascending=False)\n",
    "    final_df.to_csv(\"evaluation.output.bertscore/%s.summary.csv\" % target)\n",
    "    \n",
    "    target_summaries[target] = final_df"
   ]
  },
  {
   "cell_type": "code",
   "execution_count": null,
   "id": "d81ac222",
   "metadata": {},
   "outputs": [],
   "source": []
  },
  {
   "cell_type": "code",
   "execution_count": 25,
   "id": "42682b70",
   "metadata": {},
   "outputs": [],
   "source": [
    "rel2023_events = [\n",
    "    'CrisisFACTS-009',\n",
    "    'CrisisFACTS-010',\n",
    "    'CrisisFACTS-011',\n",
    "    'CrisisFACTS-012',\n",
    "    'CrisisFACTS-013',\n",
    "    'CrisisFACTS-014',\n",
    "    'CrisisFACTS-015',\n",
    "    'CrisisFACTS-016',\n",
    "    'CrisisFACTS-017',\n",
    "    'CrisisFACTS-018'\n",
    "\n",
    "]"
   ]
  },
  {
   "cell_type": "code",
   "execution_count": 26,
   "id": "dcd28381",
   "metadata": {
    "scrolled": false
   },
   "outputs": [
    {
     "name": "stdout",
     "output_type": "stream",
     "text": [
      "Thesis_Retriver\n",
      "\t nist\n",
      "\t\t f1 0.7893612265586853\n",
      "\t\t precision 0.784276008605957\n",
      "\t\t recall 0.7950725793838501\n",
      "\t wiki\n",
      "\t\t f1 0.7101886868476868\n",
      "\t\t precision 0.6744513809680939\n",
      "\t\t recall 0.7504524737596512\n"
     ]
    }
   ],
   "source": [
    "rows = []\n",
    "for runtag,group in all_runs_df[all_runs_df[\"event\"].isin(rel2023_events)].groupby(\"run\"):\n",
    "    print(runtag)\n",
    "    t_map = {\"run\": runtag}\n",
    "    for target,t_group in group.groupby(\"target.summary\"):\n",
    "        print(\"\\t\", target)\n",
    "        \n",
    "        if target == \"wiki\":\n",
    "            t_group = t_group[~t_group[\"event\"].isin([\"CrisisFACTS-011\", \"CrisisFACTS-012\"])]\n",
    "        for metric,m_group in t_group.groupby(\"metric\"):\n",
    "            print(\"\\t\\t\", metric, m_group[\"value\"].mean())\n",
    "            \n",
    "            t_map[\"%s.%s\" % (target,metric)] = m_group[\"value\"].mean()\n",
    "            \n",
    "    rows.append(t_map)"
   ]
  },
  {
   "cell_type": "code",
   "execution_count": 27,
   "id": "779b6388",
   "metadata": {},
   "outputs": [
    {
     "data": {
      "text/html": [
       "<div>\n",
       "<style scoped>\n",
       "    .dataframe tbody tr th:only-of-type {\n",
       "        vertical-align: middle;\n",
       "    }\n",
       "\n",
       "    .dataframe tbody tr th {\n",
       "        vertical-align: top;\n",
       "    }\n",
       "\n",
       "    .dataframe thead th {\n",
       "        text-align: right;\n",
       "    }\n",
       "</style>\n",
       "<table border=\"1\" class=\"dataframe\">\n",
       "  <thead>\n",
       "    <tr style=\"text-align: right;\">\n",
       "      <th></th>\n",
       "      <th>nist.f1</th>\n",
       "      <th>wiki.f1</th>\n",
       "    </tr>\n",
       "    <tr>\n",
       "      <th>run</th>\n",
       "      <th></th>\n",
       "      <th></th>\n",
       "    </tr>\n",
       "  </thead>\n",
       "  <tbody>\n",
       "    <tr>\n",
       "      <th>Thesis_Retriver</th>\n",
       "      <td>0.789361</td>\n",
       "      <td>0.710189</td>\n",
       "    </tr>\n",
       "  </tbody>\n",
       "</table>\n",
       "</div>"
      ],
      "text/plain": [
       "                  nist.f1   wiki.f1\n",
       "run                                \n",
       "Thesis_Retriver  0.789361  0.710189"
      ]
     },
     "execution_count": 27,
     "metadata": {},
     "output_type": "execute_result"
    }
   ],
   "source": [
    "by_run_df = pd.DataFrame(rows).set_index(\"run\")\n",
    "by_run_df.to_csv(\"by_run.bertscore.summary.csv\")\n",
    "by_run_df[[\"nist.f1\", \"wiki.f1\"]]"
   ]
  },
  {
   "cell_type": "code",
   "execution_count": 28,
   "id": "78fb3cb1",
   "metadata": {},
   "outputs": [
    {
     "data": {
      "text/html": [
       "<div>\n",
       "<style scoped>\n",
       "    .dataframe tbody tr th:only-of-type {\n",
       "        vertical-align: middle;\n",
       "    }\n",
       "\n",
       "    .dataframe tbody tr th {\n",
       "        vertical-align: top;\n",
       "    }\n",
       "\n",
       "    .dataframe thead th {\n",
       "        text-align: right;\n",
       "    }\n",
       "</style>\n",
       "<table border=\"1\" class=\"dataframe\">\n",
       "  <thead>\n",
       "    <tr style=\"text-align: right;\">\n",
       "      <th></th>\n",
       "      <th>nist.f1</th>\n",
       "      <th>wiki.f1</th>\n",
       "    </tr>\n",
       "  </thead>\n",
       "  <tbody>\n",
       "    <tr>\n",
       "      <th>nist.f1</th>\n",
       "      <td>NaN</td>\n",
       "      <td>NaN</td>\n",
       "    </tr>\n",
       "    <tr>\n",
       "      <th>wiki.f1</th>\n",
       "      <td>NaN</td>\n",
       "      <td>NaN</td>\n",
       "    </tr>\n",
       "  </tbody>\n",
       "</table>\n",
       "</div>"
      ],
      "text/plain": [
       "         nist.f1  wiki.f1\n",
       "nist.f1      NaN      NaN\n",
       "wiki.f1      NaN      NaN"
      ]
     },
     "execution_count": 28,
     "metadata": {},
     "output_type": "execute_result"
    }
   ],
   "source": [
    "by_run_df[[\"nist.f1\", \"wiki.f1\"]].corr()"
   ]
  },
  {
   "cell_type": "code",
   "execution_count": 29,
   "id": "321a7435",
   "metadata": {},
   "outputs": [
    {
     "data": {
      "text/plain": [
       "<Axes: xlabel='nist.f1', ylabel='wiki.f1'>"
      ]
     },
     "execution_count": 29,
     "metadata": {},
     "output_type": "execute_result"
    },
    {
     "data": {
      "image/png": "[encoded data removed]",
      "text/plain": [
       "<Figure size 640x480 with 1 Axes>"
      ]
     },
     "metadata": {},
     "output_type": "display_data"
    }
   ],
   "source": [
    "by_run_df[[\"nist.f1\", \"wiki.f1\"]].plot.scatter(x=\"nist.f1\", y=\"wiki.f1\")"
   ]
  },
  {
   "cell_type": "code",
   "execution_count": 30,
   "id": "7a4ee445",
   "metadata": {
    "scrolled": false
   },
   "outputs": [
    {
     "data": {
      "text/plain": [
       "<Axes: ylabel='run'>"
      ]
     },
     "execution_count": 30,
     "metadata": {},
     "output_type": "execute_result"
    },
    {
     "data": {
      "image/png": "[encoded data removed]",
      "text/plain": [
       "<Figure size 900x1600 with 1 Axes>"
      ]
     },
     "metadata": {},
     "output_type": "display_data"
    }
   ],
   "source": [
    "fig = plt.figure(figsize=(9,16))\n",
    "ax = fig.add_subplot(1,1,1)\n",
    "\n",
    "by_run_df[[\"nist.f1\", \"wiki.f1\"]].sort_values(by=\"nist.f1\").plot.barh(ax=ax)"
   ]
  },
  {
   "cell_type": "code",
   "execution_count": null,
   "id": "e2a30a0b",
   "metadata": {},
   "outputs": [],
   "source": []
  },
  {
   "cell_type": "markdown",
   "id": "66a6d6a2",
   "metadata": {},
   "source": [
    "## By Day"
   ]
  },
  {
   "cell_type": "code",
   "execution_count": 31,
   "id": "29ff267e",
   "metadata": {},
   "outputs": [
    {
     "name": "stdout",
     "output_type": "stream",
     "text": [
      "CrisisFACTS-010\n",
      "\t nist\n",
      "\t\t f1 0.7420228123664856\n",
      "\t\t precision 0.7173117995262146\n",
      "\t\t recall 0.7684972286224365\n",
      "\t wiki\n",
      "\t\t f1 0.6787211894989014\n",
      "\t\t precision 0.6466333270072937\n",
      "\t\t recall 0.7141598463058472\n",
      "CrisisFACTS-011\n",
      "\t nist\n",
      "\t\t f1 0.7791064381599426\n",
      "\t\t precision 0.7866237759590149\n",
      "\t\t recall 0.7717314958572388\n",
      "\t wiki\n",
      "CrisisFACTS-015\n",
      "\t nist\n",
      "\t\t f1 0.7907036542892456\n",
      "\t\t precision 0.8017104268074036\n",
      "\t\t recall 0.7799950838088989\n",
      "\t wiki\n",
      "\t\t f1 0.7502999901771545\n",
      "\t\t precision 0.7294612526893616\n",
      "\t\t recall 0.7723643779754639\n",
      "CrisisFACTS-017\n",
      "\t nist\n",
      "\t\t f1 0.8036996126174927\n",
      "\t\t precision 0.784863293170929\n",
      "\t\t recall 0.8234622478485107\n",
      "\t wiki\n",
      "\t\t f1 0.6830912828445435\n",
      "\t\t precision 0.6329562664031982\n",
      "\t\t recall 0.7418516874313354\n",
      "CrisisFACTS-018\n",
      "\t nist\n",
      "\t\t f1 0.83127361536026\n",
      "\t\t precision 0.8308707475662231\n",
      "\t\t recall 0.8316768407821655\n",
      "\t wiki\n",
      "\t\t f1 0.7286422848701477\n",
      "\t\t precision 0.688754677772522\n",
      "\t\t recall 0.7734339833259583\n"
     ]
    }
   ],
   "source": [
    "rows = []\n",
    "for event,group in all_runs_df[all_runs_df[\"event\"].isin(rel2023_events)].groupby(\"event\"):\n",
    "    print(event)\n",
    "    t_map = {\"event\": event}\n",
    "    for target,t_group in group.groupby(\"target.summary\"):\n",
    "        print(\"\\t\", target)\n",
    "        \n",
    "        if target == \"wiki\":\n",
    "            t_group = t_group[~t_group[\"event\"].isin([\"CrisisFACTS-011\", \"CrisisFACTS-012\"])]\n",
    "        for metric,m_group in t_group.groupby(\"metric\"):\n",
    "            print(\"\\t\\t\", metric, m_group[\"value\"].mean())\n",
    "            \n",
    "            t_map[\"%s.%s\" % (target,metric)] = m_group[\"value\"].mean()\n",
    "            \n",
    "    rows.append(t_map)"
   ]
  },
  {
   "cell_type": "code",
   "execution_count": 32,
   "id": "94577ba5",
   "metadata": {},
   "outputs": [
    {
     "data": {
      "text/html": [
       "<div>\n",
       "<style scoped>\n",
       "    .dataframe tbody tr th:only-of-type {\n",
       "        vertical-align: middle;\n",
       "    }\n",
       "\n",
       "    .dataframe tbody tr th {\n",
       "        vertical-align: top;\n",
       "    }\n",
       "\n",
       "    .dataframe thead th {\n",
       "        text-align: right;\n",
       "    }\n",
       "</style>\n",
       "<table border=\"1\" class=\"dataframe\">\n",
       "  <thead>\n",
       "    <tr style=\"text-align: right;\">\n",
       "      <th></th>\n",
       "      <th>nist.f1</th>\n",
       "      <th>wiki.f1</th>\n",
       "    </tr>\n",
       "    <tr>\n",
       "      <th>event</th>\n",
       "      <th></th>\n",
       "      <th></th>\n",
       "    </tr>\n",
       "  </thead>\n",
       "  <tbody>\n",
       "    <tr>\n",
       "      <th>CrisisFACTS-010</th>\n",
       "      <td>0.742023</td>\n",
       "      <td>0.678721</td>\n",
       "    </tr>\n",
       "    <tr>\n",
       "      <th>CrisisFACTS-011</th>\n",
       "      <td>0.779106</td>\n",
       "      <td>NaN</td>\n",
       "    </tr>\n",
       "    <tr>\n",
       "      <th>CrisisFACTS-015</th>\n",
       "      <td>0.790704</td>\n",
       "      <td>0.750300</td>\n",
       "    </tr>\n",
       "    <tr>\n",
       "      <th>CrisisFACTS-017</th>\n",
       "      <td>0.803700</td>\n",
       "      <td>0.683091</td>\n",
       "    </tr>\n",
       "    <tr>\n",
       "      <th>CrisisFACTS-018</th>\n",
       "      <td>0.831274</td>\n",
       "      <td>0.728642</td>\n",
       "    </tr>\n",
       "  </tbody>\n",
       "</table>\n",
       "</div>"
      ],
      "text/plain": [
       "                  nist.f1   wiki.f1\n",
       "event                              \n",
       "CrisisFACTS-010  0.742023  0.678721\n",
       "CrisisFACTS-011  0.779106       NaN\n",
       "CrisisFACTS-015  0.790704  0.750300\n",
       "CrisisFACTS-017  0.803700  0.683091\n",
       "CrisisFACTS-018  0.831274  0.728642"
      ]
     },
     "execution_count": 32,
     "metadata": {},
     "output_type": "execute_result"
    }
   ],
   "source": [
    "by_event_df = pd.DataFrame(rows).set_index(\"event\")\n",
    "by_event_df.to_csv(\"by_event.bertscore.summary.csv\")\n",
    "by_event_df[[\"nist.f1\", \"wiki.f1\"]]"
   ]
  },
  {
   "cell_type": "code",
   "execution_count": 33,
   "id": "3242999d",
   "metadata": {},
   "outputs": [
    {
     "data": {
      "text/plain": [
       "<Axes: ylabel='event'>"
      ]
     },
     "execution_count": 33,
     "metadata": {},
     "output_type": "execute_result"
    },
    {
     "data": {
      "image/png": "[encoded data removed]",
      "text/plain": [
       "<Figure size 900x1600 with 1 Axes>"
      ]
     },
     "metadata": {},
     "output_type": "display_data"
    }
   ],
   "source": [
    "fig = plt.figure(figsize=(9,16))\n",
    "ax = fig.add_subplot(1,1,1)\n",
    "\n",
    "by_event_df[[\"nist.f1\", \"wiki.f1\"]].plot.barh(ax=ax)"
   ]
  },
  {
   "cell_type": "code",
   "execution_count": null,
   "id": "60afedd5",
   "metadata": {},
   "outputs": [],
   "source": []
  },
  {
   "cell_type": "code",
   "execution_count": 34,
   "id": "0f0b4512",
   "metadata": {},
   "outputs": [
    {
     "name": "stdout",
     "output_type": "stream",
     "text": [
      "\\begin{tabular}{lrrrrrr}\n",
      " & nist.f1 & nist.precision & nist.recall & wiki.f1 & wiki.precision & wiki.recall \\\\\n",
      "event &  &  &  &  &  &  \\\\\n",
      "CrisisFACTS-010 & 0.742023 & 0.717312 & 0.768497 & 0.678721 & 0.646633 & 0.714160 \\\\\n",
      "CrisisFACTS-011 & 0.779106 & 0.786624 & 0.771731 & nan & nan & nan \\\\\n",
      "CrisisFACTS-015 & 0.790704 & 0.801710 & 0.779995 & 0.750300 & 0.729461 & 0.772364 \\\\\n",
      "CrisisFACTS-017 & 0.803700 & 0.784863 & 0.823462 & 0.683091 & 0.632956 & 0.741852 \\\\\n",
      "CrisisFACTS-018 & 0.831274 & 0.830871 & 0.831677 & 0.728642 & 0.688755 & 0.773434 \\\\\n",
      "\\end{tabular}\n",
      "\n"
     ]
    }
   ],
   "source": [
    "score_df = pd.read_csv(\"by_event.bertscore.summary.csv\", index_col=0)\n",
    "print(score_df.groupby(\"event\").mean().style.to_latex())"
   ]
  },
  {
   "cell_type": "code",
   "execution_count": 35,
   "id": "c4709d84",
   "metadata": {},
   "outputs": [
    {
     "name": "stdout",
     "output_type": "stream",
     "text": [
      "\\begin{tabular}{lrrrrrr}\n",
      " & nist.f1 & nist.precision & nist.recall & wiki.f1 & wiki.precision & wiki.recall \\\\\n",
      "event &  &  &  &  &  &  \\\\\n",
      "CrisisFACTS-010 & 0.742023 & 0.717312 & 0.768497 & 0.678721 & 0.646633 & 0.714160 \\\\\n",
      "CrisisFACTS-011 & 0.779106 & 0.786624 & 0.771731 & nan & nan & nan \\\\\n",
      "CrisisFACTS-015 & 0.790704 & 0.801710 & 0.779995 & 0.750300 & 0.729461 & 0.772364 \\\\\n",
      "CrisisFACTS-017 & 0.803700 & 0.784863 & 0.823462 & 0.683091 & 0.632956 & 0.741852 \\\\\n",
      "CrisisFACTS-018 & 0.831274 & 0.830871 & 0.831677 & 0.728642 & 0.688755 & 0.773434 \\\\\n",
      "\\end{tabular}\n",
      "\n"
     ]
    }
   ],
   "source": [
    "print(score_df.groupby(\"event\").mean().style.to_latex())"
   ]
  },
  {
   "cell_type": "code",
   "execution_count": null,
   "id": "9998ed11",
   "metadata": {},
   "outputs": [],
   "source": []
  }
 ],
 "metadata": {
  "kernelspec": {
   "display_name": ".venv",
   "language": "python",
   "name": "python3"
  },
  "language_info": {
   "codemirror_mode": {
    "name": "ipython",
    "version": 3
   },
   "file_extension": ".py",
   "mimetype": "text/x-python",
   "name": "python",
   "nbconvert_exporter": "python",
   "pygments_lexer": "ipython3",
   "version": "3.11.2"
  }
 },
 "nbformat": 4,
 "nbformat_minor": 5
}
