{
 "cells": [
  {
   "cell_type": "markdown",
   "id": "1c22735b",
   "metadata": {},
   "source": [
    "# BERTScore Scoring Against NIST and Wikipedia\n",
    "\n",
    "Duplicating CrisisFACTS 2022 assessment via BERTScore"
   ]
  },
  {
   "cell_type": "code",
   "execution_count": 1,
   "id": "db0b332e",
   "metadata": {},
   "outputs": [],
   "source": [
    "%matplotlib inline"
   ]
  },
  {
   "cell_type": "code",
   "execution_count": 2,
   "id": "44a96521",
   "metadata": {},
   "outputs": [],
   "source": [
    "import pandas as pd\n",
    "import numpy as np\n",
    "import json\n",
    "import glob\n",
    "import gzip\n",
    "\n",
    "import scipy.stats\n",
    "\n",
    "import matplotlib.pyplot as plt"
   ]
  },
  {
   "cell_type": "code",
   "execution_count": 3,
   "id": "73bd29a3",
   "metadata": {},
   "outputs": [],
   "source": [
    "import wikipedia"
   ]
  },
  {
   "cell_type": "code",
   "execution_count": 4,
   "id": "c556aa5c",
   "metadata": {},
   "outputs": [],
   "source": [
    "from torchmetrics.text.rouge import ROUGEScore"
   ]
  },
  {
   "cell_type": "code",
   "execution_count": null,
   "id": "3a6d5ee5",
   "metadata": {},
   "outputs": [],
   "source": []
  },
  {
   "cell_type": "markdown",
   "id": "1f344b8d",
   "metadata": {},
   "source": [
    "## Get CrisisFACTS Event Metadata"
   ]
  },
  {
   "cell_type": "code",
   "execution_count": 9,
   "id": "fa982806",
   "metadata": {},
   "outputs": [],
   "source": [
    "event_df = pd.read_json(\"CrisisFACTs-2022to2023.topics.json\", lines=False).set_index(\"eventID\")"
   ]
  },
  {
   "cell_type": "markdown",
   "id": "bfbd2d79",
   "metadata": {},
   "source": [
    "### Get Summaries from Wikipedia"
   ]
  },
  {
   "cell_type": "code",
   "execution_count": 10,
   "id": "26edb077",
   "metadata": {},
   "outputs": [
    {
     "name": "stdout",
     "output_type": "stream",
     "text": [
      "https://en.wikipedia.org/wiki/Lilac_Fire\n",
      "https://en.wikipedia.org/wiki/Cranston_Fire\n",
      "https://en.wikipedia.org/wiki/Holy_Fire_(2018)\n",
      "https://en.wikipedia.org/wiki/Hurricane_Florence\n",
      "https://en.wikipedia.org/wiki/2018_Maryland_flood\n",
      "https://en.wikipedia.org/wiki/Saddleridge_Fire\n",
      "https://en.wikipedia.org/wiki/Hurricane_Laura\n",
      "https://en.wikipedia.org/wiki/Hurricane_Sally\n",
      "https://en.wikipedia.org/wiki/2020_Beirut_explosion\n",
      "https://en.wikipedia.org/wiki/2020_Houston_explosion\n",
      "https://en.wikipedia.org/wiki/Edenville_Dam#Dam_failure\n",
      "https://en.wikipedia.org/wiki/Hurricane_Dorian\n",
      "https://en.wikipedia.org/wiki/Kincade_Fire\n",
      "https://en.wikipedia.org/wiki/2020_Easter_tornado_outbreak\n",
      "https://en.wikipedia.org/wiki/Tornado_outbreak_of_April_22-23,_2020\n",
      "https://en.wikipedia.org/wiki/Tornado_outbreak_of_March_2-3,_2020\n"
     ]
    }
   ],
   "source": [
    "def get_wiki_summary(url):\n",
    "    \n",
    "    if \"wikipedia.org\" not in url:\n",
    "        return \"\"\n",
    "    \n",
    "    page_title = url.rpartition(\"/\")[-1]\n",
    "    print(url)\n",
    "    page = wikipedia.page(title=page_title, auto_suggest=False)\n",
    "    \n",
    "    return page.summary\n",
    "\n",
    "event_df[\"wiki.summary\"] = event_df[\"url\"].apply(get_wiki_summary)"
   ]
  },
  {
   "cell_type": "markdown",
   "id": "972f2f1c",
   "metadata": {},
   "source": [
    "### Get Summaries from Assessors"
   ]
  },
  {
   "cell_type": "code",
   "execution_count": 11,
   "id": "a2e097d1",
   "metadata": {},
   "outputs": [],
   "source": [
    "with open(\"final-annotated-facts-results.json\", \"r\") as in_file:\n",
    "    annotation_data = json.load(in_file)"
   ]
  },
  {
   "cell_type": "code",
   "execution_count": 13,
   "id": "85afc64c",
   "metadata": {},
   "outputs": [],
   "source": [
    "event_fact_lists = {}\n",
    "\n",
    "for req_id,req_data in annotation_data.items():\n",
    "    event_id = req_id.rpartition(\"-\")[0]\n",
    "    local_fact_set = {f[0] for f in req_data[\"fact_list\"] if f[2] == \"USEFUL_FACT\"}\n",
    "    \n",
    "    with open(\"collapsed-event-days/Collapsed-%s.json\" % req_id) as in_file:\n",
    "        local_fact_data = json.load(in_file)\n",
    "        \n",
    "    local_fact_text = [\n",
    "        fact[\"fact_text\"] for fact in local_fact_data \n",
    "        if fact[\"collapsed_fact_id\"] in local_fact_set\n",
    "    ]\n",
    "    \n",
    "    local_fact_list = event_fact_lists.get(event_id, [])\n",
    "    local_fact_list = local_fact_list + local_fact_text\n",
    "    event_fact_lists[event_id] = local_fact_list"
   ]
  },
  {
   "cell_type": "code",
   "execution_count": 14,
   "id": "3632d5ee",
   "metadata": {},
   "outputs": [],
   "source": [
    "event_df[\"nist.summary\"] = [\". \".join(event_fact_lists[event_id]).replace(\"..\", \".\") for event_id in event_df.index]\n"
   ]
  },
  {
   "cell_type": "markdown",
   "id": "8bdff41e",
   "metadata": {},
   "source": [
    "## Save the Summaries"
   ]
  },
  {
   "cell_type": "code",
   "execution_count": 23,
   "id": "c18718ec",
   "metadata": {},
   "outputs": [],
   "source": [
    "event_df.to_json(\"CrisisFACTs-2022to2023.topics.withSummaries.json\")"
   ]
  },
  {
   "cell_type": "code",
   "execution_count": null,
   "id": "1a7db79a",
   "metadata": {},
   "outputs": [],
   "source": []
  },
  {
   "cell_type": "code",
   "execution_count": 15,
   "id": "dfbd1459",
   "metadata": {},
   "outputs": [
    {
     "data": {
      "text/plain": [
       "'0.3.12'"
      ]
     },
     "execution_count": 15,
     "metadata": {},
     "output_type": "execute_result"
    }
   ],
   "source": [
    "# rouge = ROUGEScore(\n",
    "#     use_stemmer=True,\n",
    "# )\n",
    "\n",
    "import bert_score\n",
    "bert_score.__version__"
   ]
  },
  {
   "cell_type": "code",
   "execution_count": null,
   "id": "133e3127",
   "metadata": {},
   "outputs": [],
   "source": []
  },
  {
   "cell_type": "code",
   "execution_count": 16,
   "id": "73ec2e14",
   "metadata": {},
   "outputs": [],
   "source": [
    "TOP_K = 32"
   ]
  },
  {
   "cell_type": "code",
   "execution_count": null,
   "id": "835e1d0f",
   "metadata": {},
   "outputs": [],
   "source": []
  },
  {
   "cell_type": "code",
   "execution_count": 17,
   "id": "cb52e8d3",
   "metadata": {},
   "outputs": [],
   "source": [
    "all_req_ids = list(annotation_data.keys())"
   ]
  },
  {
   "cell_type": "code",
   "execution_count": 18,
   "id": "0a658b39",
   "metadata": {
    "scrolled": true
   },
   "outputs": [
    {
     "name": "stdout",
     "output_type": "stream",
     "text": [
      "submissions/TorontoMU_Word2Vec_TFIDF.gz --> TorontoMU_Word2Vec_TFIDF\n",
      "CrisisFACTS-001 26585\n",
      "CrisisFACTS-002 20019\n",
      "CrisisFACTS-003 21225\n",
      "CrisisFACTS-004 56113\n",
      "CrisisFACTS-005 13256\n",
      "CrisisFACTS-006 13623\n",
      "CrisisFACTS-007 7835\n",
      "CrisisFACTS-008 26508\n",
      "CrisisFACTS-009 17266\n",
      "CrisisFACTS-010 14344\n",
      "CrisisFACTS-011 26232\n"
     ]
    },
    {
     "name": "stderr",
     "output_type": "stream",
     "text": [
      "Warning: Empty reference sentence detected; setting raw BERTScores to 0.\n"
     ]
    },
    {
     "name": "stdout",
     "output_type": "stream",
     "text": [
      "CrisisFACTS-012 20690\n"
     ]
    },
    {
     "name": "stderr",
     "output_type": "stream",
     "text": [
      "Warning: Empty reference sentence detected; setting raw BERTScores to 0.\n"
     ]
    },
    {
     "name": "stdout",
     "output_type": "stream",
     "text": [
      "CrisisFACTS-013 17809\n",
      "CrisisFACTS-014 16539\n",
      "CrisisFACTS-015 16861\n",
      "CrisisFACTS-016 11706\n",
      "CrisisFACTS-017 11087\n",
      "CrisisFACTS-018 13968\n"
     ]
    },
    {
     "data": {
      "text/html": [
       "<div>\n",
       "<style scoped>\n",
       "    .dataframe tbody tr th:only-of-type {\n",
       "        vertical-align: middle;\n",
       "    }\n",
       "\n",
       "    .dataframe tbody tr th {\n",
       "        vertical-align: top;\n",
       "    }\n",
       "\n",
       "    .dataframe thead th {\n",
       "        text-align: right;\n",
       "    }\n",
       "</style>\n",
       "<table border=\"1\" class=\"dataframe\">\n",
       "  <thead>\n",
       "    <tr style=\"text-align: right;\">\n",
       "      <th></th>\n",
       "      <th>value</th>\n",
       "    </tr>\n",
       "    <tr>\n",
       "      <th>metric</th>\n",
       "      <th></th>\n",
       "    </tr>\n",
       "  </thead>\n",
       "  <tbody>\n",
       "    <tr>\n",
       "      <th>f1</th>\n",
       "      <td>0.540790</td>\n",
       "    </tr>\n",
       "    <tr>\n",
       "      <th>precision</th>\n",
       "      <td>0.533584</td>\n",
       "    </tr>\n",
       "    <tr>\n",
       "      <th>recall</th>\n",
       "      <td>0.548500</td>\n",
       "    </tr>\n",
       "  </tbody>\n",
       "</table>\n",
       "</div>"
      ],
      "text/plain": [
       "              value\n",
       "metric             \n",
       "f1         0.540790\n",
       "precision  0.533584\n",
       "recall     0.548500"
      ]
     },
     "metadata": {},
     "output_type": "display_data"
    },
    {
     "name": "stdout",
     "output_type": "stream",
     "text": [
      "submissions/IDACCS_occamsHybridGPT3.5.gz --> IDACCS_occamsHybridGPT3.5\n",
      "CrisisFACTS-001 0\n"
     ]
    },
    {
     "name": "stderr",
     "output_type": "stream",
     "text": [
      "Warning: Empty candidate sentence detected; setting raw BERTscores to 0.\n",
      "Warning: Empty candidate sentence detected; setting raw BERTscores to 0.\n"
     ]
    },
    {
     "name": "stdout",
     "output_type": "stream",
     "text": [
      "CrisisFACTS-002 0\n"
     ]
    },
    {
     "name": "stderr",
     "output_type": "stream",
     "text": [
      "Warning: Empty candidate sentence detected; setting raw BERTscores to 0.\n",
      "Warning: Empty candidate sentence detected; setting raw BERTscores to 0.\n"
     ]
    },
    {
     "name": "stdout",
     "output_type": "stream",
     "text": [
      "CrisisFACTS-003 0\n"
     ]
    },
    {
     "name": "stderr",
     "output_type": "stream",
     "text": [
      "Warning: Empty candidate sentence detected; setting raw BERTscores to 0.\n",
      "Warning: Empty candidate sentence detected; setting raw BERTscores to 0.\n"
     ]
    },
    {
     "name": "stdout",
     "output_type": "stream",
     "text": [
      "CrisisFACTS-004 0\n"
     ]
    },
    {
     "name": "stderr",
     "output_type": "stream",
     "text": [
      "Warning: Empty candidate sentence detected; setting raw BERTscores to 0.\n",
      "Warning: Empty candidate sentence detected; setting raw BERTscores to 0.\n"
     ]
    },
    {
     "name": "stdout",
     "output_type": "stream",
     "text": [
      "CrisisFACTS-005 0\n"
     ]
    },
    {
     "name": "stderr",
     "output_type": "stream",
     "text": [
      "Warning: Empty candidate sentence detected; setting raw BERTscores to 0.\n",
      "Warning: Empty candidate sentence detected; setting raw BERTscores to 0.\n"
     ]
    },
    {
     "name": "stdout",
     "output_type": "stream",
     "text": [
      "CrisisFACTS-006 0\n"
     ]
    },
    {
     "name": "stderr",
     "output_type": "stream",
     "text": [
      "Warning: Empty candidate sentence detected; setting raw BERTscores to 0.\n",
      "Warning: Empty candidate sentence detected; setting raw BERTscores to 0.\n"
     ]
    },
    {
     "name": "stdout",
     "output_type": "stream",
     "text": [
      "CrisisFACTS-007 0\n"
     ]
    },
    {
     "name": "stderr",
     "output_type": "stream",
     "text": [
      "Warning: Empty candidate sentence detected; setting raw BERTscores to 0.\n",
      "Warning: Empty candidate sentence detected; setting raw BERTscores to 0.\n"
     ]
    },
    {
     "name": "stdout",
     "output_type": "stream",
     "text": [
      "CrisisFACTS-008 0\n"
     ]
    },
    {
     "name": "stderr",
     "output_type": "stream",
     "text": [
      "Warning: Empty candidate sentence detected; setting raw BERTscores to 0.\n",
      "Warning: Empty candidate sentence detected; setting raw BERTscores to 0.\n"
     ]
    },
    {
     "name": "stdout",
     "output_type": "stream",
     "text": [
      "CrisisFACTS-009 6875\n",
      "CrisisFACTS-010 5204\n",
      "CrisisFACTS-011 4800\n"
     ]
    },
    {
     "name": "stderr",
     "output_type": "stream",
     "text": [
      "Warning: Empty reference sentence detected; setting raw BERTScores to 0.\n"
     ]
    },
    {
     "name": "stdout",
     "output_type": "stream",
     "text": [
      "CrisisFACTS-012 6642\n"
     ]
    },
    {
     "name": "stderr",
     "output_type": "stream",
     "text": [
      "Warning: Empty reference sentence detected; setting raw BERTScores to 0.\n"
     ]
    },
    {
     "name": "stdout",
     "output_type": "stream",
     "text": [
      "CrisisFACTS-013 6040\n",
      "CrisisFACTS-014 7870\n",
      "CrisisFACTS-015 7408\n",
      "CrisisFACTS-016 5212\n",
      "CrisisFACTS-017 7039\n",
      "CrisisFACTS-018 6303\n"
     ]
    },
    {
     "data": {
      "text/html": [
       "<div>\n",
       "<style scoped>\n",
       "    .dataframe tbody tr th:only-of-type {\n",
       "        vertical-align: middle;\n",
       "    }\n",
       "\n",
       "    .dataframe tbody tr th {\n",
       "        vertical-align: top;\n",
       "    }\n",
       "\n",
       "    .dataframe thead th {\n",
       "        text-align: right;\n",
       "    }\n",
       "</style>\n",
       "<table border=\"1\" class=\"dataframe\">\n",
       "  <thead>\n",
       "    <tr style=\"text-align: right;\">\n",
       "      <th></th>\n",
       "      <th>value</th>\n",
       "    </tr>\n",
       "    <tr>\n",
       "      <th>metric</th>\n",
       "      <th></th>\n",
       "    </tr>\n",
       "  </thead>\n",
       "  <tbody>\n",
       "    <tr>\n",
       "      <th>f1</th>\n",
       "      <td>0.361977</td>\n",
       "    </tr>\n",
       "    <tr>\n",
       "      <th>precision</th>\n",
       "      <td>0.363216</td>\n",
       "    </tr>\n",
       "    <tr>\n",
       "      <th>recall</th>\n",
       "      <td>0.361067</td>\n",
       "    </tr>\n",
       "  </tbody>\n",
       "</table>\n",
       "</div>"
      ],
      "text/plain": [
       "              value\n",
       "metric             \n",
       "f1         0.361977\n",
       "precision  0.363216\n",
       "recall     0.361067"
      ]
     },
     "metadata": {},
     "output_type": "display_data"
    },
    {
     "name": "stdout",
     "output_type": "stream",
     "text": [
      "submissions/Siena.FactTrigrams1.gz --> Siena.FactTrigrams1\n",
      "CrisisFACTS-001 41991\n",
      "CrisisFACTS-002 29114\n",
      "CrisisFACTS-003 34422\n",
      "CrisisFACTS-004 78258\n",
      "CrisisFACTS-005 20284\n",
      "CrisisFACTS-006 21110\n",
      "CrisisFACTS-007 10758\n",
      "CrisisFACTS-008 42308\n",
      "CrisisFACTS-009 61835\n",
      "CrisisFACTS-010 44932\n",
      "CrisisFACTS-011 46437\n"
     ]
    },
    {
     "name": "stderr",
     "output_type": "stream",
     "text": [
      "Warning: Empty reference sentence detected; setting raw BERTScores to 0.\n"
     ]
    },
    {
     "name": "stdout",
     "output_type": "stream",
     "text": [
      "CrisisFACTS-012 44692\n"
     ]
    },
    {
     "name": "stderr",
     "output_type": "stream",
     "text": [
      "Warning: Empty reference sentence detected; setting raw BERTScores to 0.\n"
     ]
    },
    {
     "name": "stdout",
     "output_type": "stream",
     "text": [
      "CrisisFACTS-013 47761\n",
      "CrisisFACTS-014 61442\n",
      "CrisisFACTS-015 63247\n",
      "CrisisFACTS-016 21872\n",
      "CrisisFACTS-017 33919\n",
      "CrisisFACTS-018 31280\n"
     ]
    },
    {
     "data": {
      "text/html": [
       "<div>\n",
       "<style scoped>\n",
       "    .dataframe tbody tr th:only-of-type {\n",
       "        vertical-align: middle;\n",
       "    }\n",
       "\n",
       "    .dataframe tbody tr th {\n",
       "        vertical-align: top;\n",
       "    }\n",
       "\n",
       "    .dataframe thead th {\n",
       "        text-align: right;\n",
       "    }\n",
       "</style>\n",
       "<table border=\"1\" class=\"dataframe\">\n",
       "  <thead>\n",
       "    <tr style=\"text-align: right;\">\n",
       "      <th></th>\n",
       "      <th>value</th>\n",
       "    </tr>\n",
       "    <tr>\n",
       "      <th>metric</th>\n",
       "      <th></th>\n",
       "    </tr>\n",
       "  </thead>\n",
       "  <tbody>\n",
       "    <tr>\n",
       "      <th>f1</th>\n",
       "      <td>0.591902</td>\n",
       "    </tr>\n",
       "    <tr>\n",
       "      <th>precision</th>\n",
       "      <td>0.585613</td>\n",
       "    </tr>\n",
       "    <tr>\n",
       "      <th>recall</th>\n",
       "      <td>0.598463</td>\n",
       "    </tr>\n",
       "  </tbody>\n",
       "</table>\n",
       "</div>"
      ],
      "text/plain": [
       "              value\n",
       "metric             \n",
       "f1         0.591902\n",
       "precision  0.585613\n",
       "recall     0.598463"
      ]
     },
     "metadata": {},
     "output_type": "display_data"
    },
    {
     "name": "stdout",
     "output_type": "stream",
     "text": [
      "submissions/Siena.WikiTrigrams2.gz --> Siena.WikiTrigrams2\n",
      "CrisisFACTS-001 39813\n",
      "CrisisFACTS-002 28459\n",
      "CrisisFACTS-003 31892\n",
      "CrisisFACTS-004 72298\n",
      "CrisisFACTS-005 17869\n",
      "CrisisFACTS-006 19543\n",
      "CrisisFACTS-007 9573\n",
      "CrisisFACTS-008 38672\n",
      "CrisisFACTS-009 40757\n",
      "CrisisFACTS-010 32575\n",
      "CrisisFACTS-011 33287\n"
     ]
    },
    {
     "name": "stderr",
     "output_type": "stream",
     "text": [
      "Warning: Empty reference sentence detected; setting raw BERTScores to 0.\n"
     ]
    },
    {
     "name": "stdout",
     "output_type": "stream",
     "text": [
      "CrisisFACTS-012 29271\n"
     ]
    },
    {
     "name": "stderr",
     "output_type": "stream",
     "text": [
      "Warning: Empty reference sentence detected; setting raw BERTScores to 0.\n"
     ]
    },
    {
     "name": "stdout",
     "output_type": "stream",
     "text": [
      "CrisisFACTS-013 34523\n",
      "CrisisFACTS-014 48930\n",
      "CrisisFACTS-015 57390\n",
      "CrisisFACTS-016 20897\n",
      "CrisisFACTS-017 26149\n",
      "CrisisFACTS-018 29611\n"
     ]
    },
    {
     "data": {
      "text/html": [
       "<div>\n",
       "<style scoped>\n",
       "    .dataframe tbody tr th:only-of-type {\n",
       "        vertical-align: middle;\n",
       "    }\n",
       "\n",
       "    .dataframe tbody tr th {\n",
       "        vertical-align: top;\n",
       "    }\n",
       "\n",
       "    .dataframe thead th {\n",
       "        text-align: right;\n",
       "    }\n",
       "</style>\n",
       "<table border=\"1\" class=\"dataframe\">\n",
       "  <thead>\n",
       "    <tr style=\"text-align: right;\">\n",
       "      <th></th>\n",
       "      <th>value</th>\n",
       "    </tr>\n",
       "    <tr>\n",
       "      <th>metric</th>\n",
       "      <th></th>\n",
       "    </tr>\n",
       "  </thead>\n",
       "  <tbody>\n",
       "    <tr>\n",
       "      <th>f1</th>\n",
       "      <td>0.586600</td>\n",
       "    </tr>\n",
       "    <tr>\n",
       "      <th>precision</th>\n",
       "      <td>0.579748</td>\n",
       "    </tr>\n",
       "    <tr>\n",
       "      <th>recall</th>\n",
       "      <td>0.593904</td>\n",
       "    </tr>\n",
       "  </tbody>\n",
       "</table>\n",
       "</div>"
      ],
      "text/plain": [
       "              value\n",
       "metric             \n",
       "f1         0.586600\n",
       "precision  0.579748\n",
       "recall     0.593904"
      ]
     },
     "metadata": {},
     "output_type": "display_data"
    },
    {
     "name": "stdout",
     "output_type": "stream",
     "text": [
      "submissions/IRLabIITBHU_BM25_1.gz --> IRLabIITBHU_BM25_1\n",
      "CrisisFACTS-001 37277\n",
      "CrisisFACTS-002 24441\n",
      "CrisisFACTS-003 25866\n",
      "CrisisFACTS-004 58658\n",
      "CrisisFACTS-005 15252\n",
      "CrisisFACTS-006 16462\n",
      "CrisisFACTS-007 7664\n",
      "CrisisFACTS-008 30493\n",
      "CrisisFACTS-009 28000\n",
      "CrisisFACTS-010 16255\n",
      "CrisisFACTS-011 22655\n"
     ]
    },
    {
     "name": "stderr",
     "output_type": "stream",
     "text": [
      "Warning: Empty reference sentence detected; setting raw BERTScores to 0.\n"
     ]
    },
    {
     "name": "stdout",
     "output_type": "stream",
     "text": [
      "CrisisFACTS-012 14360\n"
     ]
    },
    {
     "name": "stderr",
     "output_type": "stream",
     "text": [
      "Warning: Empty reference sentence detected; setting raw BERTScores to 0.\n"
     ]
    },
    {
     "name": "stdout",
     "output_type": "stream",
     "text": [
      "CrisisFACTS-013 20306\n",
      "CrisisFACTS-014 20594\n",
      "CrisisFACTS-015 23660\n",
      "CrisisFACTS-016 11875\n",
      "CrisisFACTS-017 11788\n",
      "CrisisFACTS-018 15869\n"
     ]
    },
    {
     "data": {
      "text/html": [
       "<div>\n",
       "<style scoped>\n",
       "    .dataframe tbody tr th:only-of-type {\n",
       "        vertical-align: middle;\n",
       "    }\n",
       "\n",
       "    .dataframe tbody tr th {\n",
       "        vertical-align: top;\n",
       "    }\n",
       "\n",
       "    .dataframe thead th {\n",
       "        text-align: right;\n",
       "    }\n",
       "</style>\n",
       "<table border=\"1\" class=\"dataframe\">\n",
       "  <thead>\n",
       "    <tr style=\"text-align: right;\">\n",
       "      <th></th>\n",
       "      <th>value</th>\n",
       "    </tr>\n",
       "    <tr>\n",
       "      <th>metric</th>\n",
       "      <th></th>\n",
       "    </tr>\n",
       "  </thead>\n",
       "  <tbody>\n",
       "    <tr>\n",
       "      <th>f1</th>\n",
       "      <td>0.565542</td>\n",
       "    </tr>\n",
       "    <tr>\n",
       "      <th>precision</th>\n",
       "      <td>0.559206</td>\n",
       "    </tr>\n",
       "    <tr>\n",
       "      <th>recall</th>\n",
       "      <td>0.572384</td>\n",
       "    </tr>\n",
       "  </tbody>\n",
       "</table>\n",
       "</div>"
      ],
      "text/plain": [
       "              value\n",
       "metric             \n",
       "f1         0.565542\n",
       "precision  0.559206\n",
       "recall     0.572384"
      ]
     },
     "metadata": {},
     "output_type": "display_data"
    },
    {
     "name": "stdout",
     "output_type": "stream",
     "text": [
      "submissions/drdqn-all.gz --> drdqn-all\n",
      "CrisisFACTS-001 0\n"
     ]
    },
    {
     "name": "stderr",
     "output_type": "stream",
     "text": [
      "Warning: Empty candidate sentence detected; setting raw BERTscores to 0.\n",
      "Warning: Empty candidate sentence detected; setting raw BERTscores to 0.\n"
     ]
    },
    {
     "name": "stdout",
     "output_type": "stream",
     "text": [
      "CrisisFACTS-002 0\n"
     ]
    },
    {
     "name": "stderr",
     "output_type": "stream",
     "text": [
      "Warning: Empty candidate sentence detected; setting raw BERTscores to 0.\n",
      "Warning: Empty candidate sentence detected; setting raw BERTscores to 0.\n"
     ]
    },
    {
     "name": "stdout",
     "output_type": "stream",
     "text": [
      "CrisisFACTS-003 0\n"
     ]
    },
    {
     "name": "stderr",
     "output_type": "stream",
     "text": [
      "Warning: Empty candidate sentence detected; setting raw BERTscores to 0.\n",
      "Warning: Empty candidate sentence detected; setting raw BERTscores to 0.\n"
     ]
    },
    {
     "name": "stdout",
     "output_type": "stream",
     "text": [
      "CrisisFACTS-004 0\n"
     ]
    },
    {
     "name": "stderr",
     "output_type": "stream",
     "text": [
      "Warning: Empty candidate sentence detected; setting raw BERTscores to 0.\n",
      "Warning: Empty candidate sentence detected; setting raw BERTscores to 0.\n"
     ]
    },
    {
     "name": "stdout",
     "output_type": "stream",
     "text": [
      "CrisisFACTS-005 0\n"
     ]
    },
    {
     "name": "stderr",
     "output_type": "stream",
     "text": [
      "Warning: Empty candidate sentence detected; setting raw BERTscores to 0.\n",
      "Warning: Empty candidate sentence detected; setting raw BERTscores to 0.\n"
     ]
    },
    {
     "name": "stdout",
     "output_type": "stream",
     "text": [
      "CrisisFACTS-006 0\n"
     ]
    },
    {
     "name": "stderr",
     "output_type": "stream",
     "text": [
      "Warning: Empty candidate sentence detected; setting raw BERTscores to 0.\n",
      "Warning: Empty candidate sentence detected; setting raw BERTscores to 0.\n"
     ]
    },
    {
     "name": "stdout",
     "output_type": "stream",
     "text": [
      "CrisisFACTS-007 0\n"
     ]
    },
    {
     "name": "stderr",
     "output_type": "stream",
     "text": [
      "Warning: Empty candidate sentence detected; setting raw BERTscores to 0.\n",
      "Warning: Empty candidate sentence detected; setting raw BERTscores to 0.\n"
     ]
    },
    {
     "name": "stdout",
     "output_type": "stream",
     "text": [
      "CrisisFACTS-008 0\n"
     ]
    },
    {
     "name": "stderr",
     "output_type": "stream",
     "text": [
      "Warning: Empty candidate sentence detected; setting raw BERTscores to 0.\n",
      "Warning: Empty candidate sentence detected; setting raw BERTscores to 0.\n"
     ]
    },
    {
     "name": "stdout",
     "output_type": "stream",
     "text": [
      "CrisisFACTS-009 3514\n",
      "CrisisFACTS-010 6933\n",
      "CrisisFACTS-011 4465\n"
     ]
    },
    {
     "name": "stderr",
     "output_type": "stream",
     "text": [
      "Warning: Empty reference sentence detected; setting raw BERTScores to 0.\n"
     ]
    },
    {
     "name": "stdout",
     "output_type": "stream",
     "text": [
      "CrisisFACTS-012 12533\n"
     ]
    },
    {
     "name": "stderr",
     "output_type": "stream",
     "text": [
      "Warning: Empty reference sentence detected; setting raw BERTScores to 0.\n"
     ]
    },
    {
     "name": "stdout",
     "output_type": "stream",
     "text": [
      "CrisisFACTS-013 13831\n",
      "CrisisFACTS-014 28167\n",
      "CrisisFACTS-015 23466\n",
      "CrisisFACTS-016 10893\n",
      "CrisisFACTS-017 10527\n",
      "CrisisFACTS-018 4630\n"
     ]
    },
    {
     "data": {
      "text/html": [
       "<div>\n",
       "<style scoped>\n",
       "    .dataframe tbody tr th:only-of-type {\n",
       "        vertical-align: middle;\n",
       "    }\n",
       "\n",
       "    .dataframe tbody tr th {\n",
       "        vertical-align: top;\n",
       "    }\n",
       "\n",
       "    .dataframe thead th {\n",
       "        text-align: right;\n",
       "    }\n",
       "</style>\n",
       "<table border=\"1\" class=\"dataframe\">\n",
       "  <thead>\n",
       "    <tr style=\"text-align: right;\">\n",
       "      <th></th>\n",
       "      <th>value</th>\n",
       "    </tr>\n",
       "    <tr>\n",
       "      <th>metric</th>\n",
       "      <th></th>\n",
       "    </tr>\n",
       "  </thead>\n",
       "  <tbody>\n",
       "    <tr>\n",
       "      <th>f1</th>\n",
       "      <td>0.337508</td>\n",
       "    </tr>\n",
       "    <tr>\n",
       "      <th>precision</th>\n",
       "      <td>0.342762</td>\n",
       "    </tr>\n",
       "    <tr>\n",
       "      <th>recall</th>\n",
       "      <td>0.332548</td>\n",
       "    </tr>\n",
       "  </tbody>\n",
       "</table>\n",
       "</div>"
      ],
      "text/plain": [
       "              value\n",
       "metric             \n",
       "f1         0.337508\n",
       "precision  0.342762\n",
       "recall     0.332548"
      ]
     },
     "metadata": {},
     "output_type": "display_data"
    },
    {
     "name": "stdout",
     "output_type": "stream",
     "text": [
      "submissions/llama_13b_chat.gz --> llama_13b_chat\n",
      "CrisisFACTS-001 0\n"
     ]
    },
    {
     "name": "stderr",
     "output_type": "stream",
     "text": [
      "Warning: Empty candidate sentence detected; setting raw BERTscores to 0.\n",
      "Warning: Empty candidate sentence detected; setting raw BERTscores to 0.\n"
     ]
    },
    {
     "name": "stdout",
     "output_type": "stream",
     "text": [
      "CrisisFACTS-002 0\n"
     ]
    },
    {
     "name": "stderr",
     "output_type": "stream",
     "text": [
      "Warning: Empty candidate sentence detected; setting raw BERTscores to 0.\n",
      "Warning: Empty candidate sentence detected; setting raw BERTscores to 0.\n"
     ]
    },
    {
     "name": "stdout",
     "output_type": "stream",
     "text": [
      "CrisisFACTS-003 0\n"
     ]
    },
    {
     "name": "stderr",
     "output_type": "stream",
     "text": [
      "Warning: Empty candidate sentence detected; setting raw BERTscores to 0.\n",
      "Warning: Empty candidate sentence detected; setting raw BERTscores to 0.\n"
     ]
    },
    {
     "name": "stdout",
     "output_type": "stream",
     "text": [
      "CrisisFACTS-004 0\n"
     ]
    },
    {
     "name": "stderr",
     "output_type": "stream",
     "text": [
      "Warning: Empty candidate sentence detected; setting raw BERTscores to 0.\n",
      "Warning: Empty candidate sentence detected; setting raw BERTscores to 0.\n"
     ]
    },
    {
     "name": "stdout",
     "output_type": "stream",
     "text": [
      "CrisisFACTS-005 0\n"
     ]
    },
    {
     "name": "stderr",
     "output_type": "stream",
     "text": [
      "Warning: Empty candidate sentence detected; setting raw BERTscores to 0.\n",
      "Warning: Empty candidate sentence detected; setting raw BERTscores to 0.\n"
     ]
    },
    {
     "name": "stdout",
     "output_type": "stream",
     "text": [
      "CrisisFACTS-006 0\n"
     ]
    },
    {
     "name": "stderr",
     "output_type": "stream",
     "text": [
      "Warning: Empty candidate sentence detected; setting raw BERTscores to 0.\n",
      "Warning: Empty candidate sentence detected; setting raw BERTscores to 0.\n"
     ]
    },
    {
     "name": "stdout",
     "output_type": "stream",
     "text": [
      "CrisisFACTS-007 0\n"
     ]
    },
    {
     "name": "stderr",
     "output_type": "stream",
     "text": [
      "Warning: Empty candidate sentence detected; setting raw BERTscores to 0.\n",
      "Warning: Empty candidate sentence detected; setting raw BERTscores to 0.\n"
     ]
    },
    {
     "name": "stdout",
     "output_type": "stream",
     "text": [
      "CrisisFACTS-008 0\n"
     ]
    },
    {
     "name": "stderr",
     "output_type": "stream",
     "text": [
      "Warning: Empty candidate sentence detected; setting raw BERTscores to 0.\n",
      "Warning: Empty candidate sentence detected; setting raw BERTscores to 0.\n"
     ]
    },
    {
     "name": "stdout",
     "output_type": "stream",
     "text": [
      "CrisisFACTS-009 31170\n",
      "CrisisFACTS-010 26781\n",
      "CrisisFACTS-011 22118\n"
     ]
    },
    {
     "name": "stderr",
     "output_type": "stream",
     "text": [
      "Warning: Empty reference sentence detected; setting raw BERTScores to 0.\n"
     ]
    },
    {
     "name": "stdout",
     "output_type": "stream",
     "text": [
      "CrisisFACTS-012 24528\n"
     ]
    },
    {
     "name": "stderr",
     "output_type": "stream",
     "text": [
      "Warning: Empty reference sentence detected; setting raw BERTScores to 0.\n"
     ]
    },
    {
     "name": "stdout",
     "output_type": "stream",
     "text": [
      "CrisisFACTS-013 25765\n",
      "CrisisFACTS-014 31797\n",
      "CrisisFACTS-015 32602\n",
      "CrisisFACTS-016 20465\n",
      "CrisisFACTS-017 26879\n",
      "CrisisFACTS-018 27106\n"
     ]
    },
    {
     "data": {
      "text/html": [
       "<div>\n",
       "<style scoped>\n",
       "    .dataframe tbody tr th:only-of-type {\n",
       "        vertical-align: middle;\n",
       "    }\n",
       "\n",
       "    .dataframe tbody tr th {\n",
       "        vertical-align: top;\n",
       "    }\n",
       "\n",
       "    .dataframe thead th {\n",
       "        text-align: right;\n",
       "    }\n",
       "</style>\n",
       "<table border=\"1\" class=\"dataframe\">\n",
       "  <thead>\n",
       "    <tr style=\"text-align: right;\">\n",
       "      <th></th>\n",
       "      <th>value</th>\n",
       "    </tr>\n",
       "    <tr>\n",
       "      <th>metric</th>\n",
       "      <th></th>\n",
       "    </tr>\n",
       "  </thead>\n",
       "  <tbody>\n",
       "    <tr>\n",
       "      <th>f1</th>\n",
       "      <td>0.361143</td>\n",
       "    </tr>\n",
       "    <tr>\n",
       "      <th>precision</th>\n",
       "      <td>0.359668</td>\n",
       "    </tr>\n",
       "    <tr>\n",
       "      <th>recall</th>\n",
       "      <td>0.362750</td>\n",
       "    </tr>\n",
       "  </tbody>\n",
       "</table>\n",
       "</div>"
      ],
      "text/plain": [
       "              value\n",
       "metric             \n",
       "f1         0.361143\n",
       "precision  0.359668\n",
       "recall     0.362750"
      ]
     },
     "metadata": {},
     "output_type": "display_data"
    },
    {
     "name": "stdout",
     "output_type": "stream",
     "text": [
      "submissions/Siena.WikiTrigrams1.gz --> Siena.WikiTrigrams1\n",
      "CrisisFACTS-001 40285\n",
      "CrisisFACTS-002 28388\n",
      "CrisisFACTS-003 33123\n",
      "CrisisFACTS-004 77412\n",
      "CrisisFACTS-005 18004\n",
      "CrisisFACTS-006 20043\n",
      "CrisisFACTS-007 9624\n",
      "CrisisFACTS-008 41819\n",
      "CrisisFACTS-009 54262\n",
      "CrisisFACTS-010 35917\n",
      "CrisisFACTS-011 39825\n"
     ]
    },
    {
     "name": "stderr",
     "output_type": "stream",
     "text": [
      "Warning: Empty reference sentence detected; setting raw BERTScores to 0.\n"
     ]
    },
    {
     "name": "stdout",
     "output_type": "stream",
     "text": [
      "CrisisFACTS-012 35993\n"
     ]
    },
    {
     "name": "stderr",
     "output_type": "stream",
     "text": [
      "Warning: Empty reference sentence detected; setting raw BERTScores to 0.\n"
     ]
    },
    {
     "name": "stdout",
     "output_type": "stream",
     "text": [
      "CrisisFACTS-013 43433\n",
      "CrisisFACTS-014 51146\n",
      "CrisisFACTS-015 61718\n",
      "CrisisFACTS-016 21535\n",
      "CrisisFACTS-017 26681\n",
      "CrisisFACTS-018 32653\n"
     ]
    },
    {
     "data": {
      "text/html": [
       "<div>\n",
       "<style scoped>\n",
       "    .dataframe tbody tr th:only-of-type {\n",
       "        vertical-align: middle;\n",
       "    }\n",
       "\n",
       "    .dataframe tbody tr th {\n",
       "        vertical-align: top;\n",
       "    }\n",
       "\n",
       "    .dataframe thead th {\n",
       "        text-align: right;\n",
       "    }\n",
       "</style>\n",
       "<table border=\"1\" class=\"dataframe\">\n",
       "  <thead>\n",
       "    <tr style=\"text-align: right;\">\n",
       "      <th></th>\n",
       "      <th>value</th>\n",
       "    </tr>\n",
       "    <tr>\n",
       "      <th>metric</th>\n",
       "      <th></th>\n",
       "    </tr>\n",
       "  </thead>\n",
       "  <tbody>\n",
       "    <tr>\n",
       "      <th>f1</th>\n",
       "      <td>0.593883</td>\n",
       "    </tr>\n",
       "    <tr>\n",
       "      <th>precision</th>\n",
       "      <td>0.589172</td>\n",
       "    </tr>\n",
       "    <tr>\n",
       "      <th>recall</th>\n",
       "      <td>0.599203</td>\n",
       "    </tr>\n",
       "  </tbody>\n",
       "</table>\n",
       "</div>"
      ],
      "text/plain": [
       "              value\n",
       "metric             \n",
       "f1         0.593883\n",
       "precision  0.589172\n",
       "recall     0.599203"
      ]
     },
     "metadata": {},
     "output_type": "display_data"
    },
    {
     "name": "stdout",
     "output_type": "stream",
     "text": [
      "submissions/IDACCS_GPT3.5.gz --> IDACCS_GPT3.5\n",
      "CrisisFACTS-001 0\n"
     ]
    },
    {
     "name": "stderr",
     "output_type": "stream",
     "text": [
      "Warning: Empty candidate sentence detected; setting raw BERTscores to 0.\n",
      "Warning: Empty candidate sentence detected; setting raw BERTscores to 0.\n"
     ]
    },
    {
     "name": "stdout",
     "output_type": "stream",
     "text": [
      "CrisisFACTS-002 0\n"
     ]
    },
    {
     "name": "stderr",
     "output_type": "stream",
     "text": [
      "Warning: Empty candidate sentence detected; setting raw BERTscores to 0.\n",
      "Warning: Empty candidate sentence detected; setting raw BERTscores to 0.\n"
     ]
    },
    {
     "name": "stdout",
     "output_type": "stream",
     "text": [
      "CrisisFACTS-003 0\n"
     ]
    },
    {
     "name": "stderr",
     "output_type": "stream",
     "text": [
      "Warning: Empty candidate sentence detected; setting raw BERTscores to 0.\n",
      "Warning: Empty candidate sentence detected; setting raw BERTscores to 0.\n"
     ]
    },
    {
     "name": "stdout",
     "output_type": "stream",
     "text": [
      "CrisisFACTS-004 0\n"
     ]
    },
    {
     "name": "stderr",
     "output_type": "stream",
     "text": [
      "Warning: Empty candidate sentence detected; setting raw BERTscores to 0.\n",
      "Warning: Empty candidate sentence detected; setting raw BERTscores to 0.\n"
     ]
    },
    {
     "name": "stdout",
     "output_type": "stream",
     "text": [
      "CrisisFACTS-005 0\n"
     ]
    },
    {
     "name": "stderr",
     "output_type": "stream",
     "text": [
      "Warning: Empty candidate sentence detected; setting raw BERTscores to 0.\n",
      "Warning: Empty candidate sentence detected; setting raw BERTscores to 0.\n"
     ]
    },
    {
     "name": "stdout",
     "output_type": "stream",
     "text": [
      "CrisisFACTS-006 0\n"
     ]
    },
    {
     "name": "stderr",
     "output_type": "stream",
     "text": [
      "Warning: Empty candidate sentence detected; setting raw BERTscores to 0.\n",
      "Warning: Empty candidate sentence detected; setting raw BERTscores to 0.\n"
     ]
    },
    {
     "name": "stdout",
     "output_type": "stream",
     "text": [
      "CrisisFACTS-007 0\n"
     ]
    },
    {
     "name": "stderr",
     "output_type": "stream",
     "text": [
      "Warning: Empty candidate sentence detected; setting raw BERTscores to 0.\n",
      "Warning: Empty candidate sentence detected; setting raw BERTscores to 0.\n"
     ]
    },
    {
     "name": "stdout",
     "output_type": "stream",
     "text": [
      "CrisisFACTS-008 0\n"
     ]
    },
    {
     "name": "stderr",
     "output_type": "stream",
     "text": [
      "Warning: Empty candidate sentence detected; setting raw BERTscores to 0.\n",
      "Warning: Empty candidate sentence detected; setting raw BERTscores to 0.\n"
     ]
    },
    {
     "name": "stdout",
     "output_type": "stream",
     "text": [
      "CrisisFACTS-009 5204\n",
      "CrisisFACTS-010 5660\n",
      "CrisisFACTS-011 8175\n"
     ]
    },
    {
     "name": "stderr",
     "output_type": "stream",
     "text": [
      "Warning: Empty reference sentence detected; setting raw BERTScores to 0.\n"
     ]
    },
    {
     "name": "stdout",
     "output_type": "stream",
     "text": [
      "CrisisFACTS-012 4110\n"
     ]
    },
    {
     "name": "stderr",
     "output_type": "stream",
     "text": [
      "Warning: Empty reference sentence detected; setting raw BERTScores to 0.\n"
     ]
    },
    {
     "name": "stdout",
     "output_type": "stream",
     "text": [
      "CrisisFACTS-013 4070\n",
      "CrisisFACTS-014 6386\n",
      "CrisisFACTS-015 6789\n",
      "CrisisFACTS-016 3177\n",
      "CrisisFACTS-017 2854\n",
      "CrisisFACTS-018 6267\n"
     ]
    },
    {
     "data": {
      "text/html": [
       "<div>\n",
       "<style scoped>\n",
       "    .dataframe tbody tr th:only-of-type {\n",
       "        vertical-align: middle;\n",
       "    }\n",
       "\n",
       "    .dataframe tbody tr th {\n",
       "        vertical-align: top;\n",
       "    }\n",
       "\n",
       "    .dataframe thead th {\n",
       "        text-align: right;\n",
       "    }\n",
       "</style>\n",
       "<table border=\"1\" class=\"dataframe\">\n",
       "  <thead>\n",
       "    <tr style=\"text-align: right;\">\n",
       "      <th></th>\n",
       "      <th>value</th>\n",
       "    </tr>\n",
       "    <tr>\n",
       "      <th>metric</th>\n",
       "      <th></th>\n",
       "    </tr>\n",
       "  </thead>\n",
       "  <tbody>\n",
       "    <tr>\n",
       "      <th>f1</th>\n",
       "      <td>0.334037</td>\n",
       "    </tr>\n",
       "    <tr>\n",
       "      <th>precision</th>\n",
       "      <td>0.336661</td>\n",
       "    </tr>\n",
       "    <tr>\n",
       "      <th>recall</th>\n",
       "      <td>0.331648</td>\n",
       "    </tr>\n",
       "  </tbody>\n",
       "</table>\n",
       "</div>"
      ],
      "text/plain": [
       "              value\n",
       "metric             \n",
       "f1         0.334037\n",
       "precision  0.336661\n",
       "recall     0.331648"
      ]
     },
     "metadata": {},
     "output_type": "display_data"
    },
    {
     "name": "stdout",
     "output_type": "stream",
     "text": [
      "submissions/V-TorontoMU-DFReeKLIM-v2.gz --> V-TorontoMU-DFReeKLIM-v2\n",
      "CrisisFACTS-001 38211\n",
      "CrisisFACTS-002 25337\n",
      "CrisisFACTS-003 28998\n",
      "CrisisFACTS-004 68530\n",
      "CrisisFACTS-005 17287\n",
      "CrisisFACTS-006 18938\n",
      "CrisisFACTS-007 8878\n",
      "CrisisFACTS-008 38373\n",
      "CrisisFACTS-009 40874\n",
      "CrisisFACTS-010 29330\n",
      "CrisisFACTS-011 29439\n"
     ]
    },
    {
     "name": "stderr",
     "output_type": "stream",
     "text": [
      "Warning: Empty reference sentence detected; setting raw BERTScores to 0.\n"
     ]
    },
    {
     "name": "stdout",
     "output_type": "stream",
     "text": [
      "CrisisFACTS-012 28820\n"
     ]
    },
    {
     "name": "stderr",
     "output_type": "stream",
     "text": [
      "Warning: Empty reference sentence detected; setting raw BERTScores to 0.\n"
     ]
    },
    {
     "name": "stdout",
     "output_type": "stream",
     "text": [
      "CrisisFACTS-013 30914\n",
      "CrisisFACTS-014 38345\n",
      "CrisisFACTS-015 38604\n",
      "CrisisFACTS-016 19421\n",
      "CrisisFACTS-017 23597\n",
      "CrisisFACTS-018 27344\n"
     ]
    },
    {
     "data": {
      "text/html": [
       "<div>\n",
       "<style scoped>\n",
       "    .dataframe tbody tr th:only-of-type {\n",
       "        vertical-align: middle;\n",
       "    }\n",
       "\n",
       "    .dataframe tbody tr th {\n",
       "        vertical-align: top;\n",
       "    }\n",
       "\n",
       "    .dataframe thead th {\n",
       "        text-align: right;\n",
       "    }\n",
       "</style>\n",
       "<table border=\"1\" class=\"dataframe\">\n",
       "  <thead>\n",
       "    <tr style=\"text-align: right;\">\n",
       "      <th></th>\n",
       "      <th>value</th>\n",
       "    </tr>\n",
       "    <tr>\n",
       "      <th>metric</th>\n",
       "      <th></th>\n",
       "    </tr>\n",
       "  </thead>\n",
       "  <tbody>\n",
       "    <tr>\n",
       "      <th>f1</th>\n",
       "      <td>0.568761</td>\n",
       "    </tr>\n",
       "    <tr>\n",
       "      <th>precision</th>\n",
       "      <td>0.556681</td>\n",
       "    </tr>\n",
       "    <tr>\n",
       "      <th>recall</th>\n",
       "      <td>0.581641</td>\n",
       "    </tr>\n",
       "  </tbody>\n",
       "</table>\n",
       "</div>"
      ],
      "text/plain": [
       "              value\n",
       "metric             \n",
       "f1         0.568761\n",
       "precision  0.556681\n",
       "recall     0.581641"
      ]
     },
     "metadata": {},
     "output_type": "display_data"
    },
    {
     "name": "stdout",
     "output_type": "stream",
     "text": [
      "submissions/V-TorontoMU_USE_4.gz --> V-TorontoMU_USE_4\n",
      "CrisisFACTS-001 17771\n",
      "CrisisFACTS-002 14167\n",
      "CrisisFACTS-003 15851\n",
      "CrisisFACTS-004 44269\n",
      "CrisisFACTS-005 6301\n",
      "CrisisFACTS-006 9086\n",
      "CrisisFACTS-007 4955\n",
      "CrisisFACTS-008 18868\n",
      "CrisisFACTS-009 9607\n",
      "CrisisFACTS-010 8335\n",
      "CrisisFACTS-011 9807\n"
     ]
    },
    {
     "name": "stderr",
     "output_type": "stream",
     "text": [
      "Warning: Empty reference sentence detected; setting raw BERTScores to 0.\n"
     ]
    },
    {
     "name": "stdout",
     "output_type": "stream",
     "text": [
      "CrisisFACTS-012 8657\n"
     ]
    },
    {
     "name": "stderr",
     "output_type": "stream",
     "text": [
      "Warning: Empty reference sentence detected; setting raw BERTScores to 0.\n"
     ]
    },
    {
     "name": "stdout",
     "output_type": "stream",
     "text": [
      "CrisisFACTS-013 9974\n",
      "CrisisFACTS-014 9395\n",
      "CrisisFACTS-015 9071\n",
      "CrisisFACTS-016 7706\n",
      "CrisisFACTS-017 7334\n",
      "CrisisFACTS-018 9952\n"
     ]
    },
    {
     "data": {
      "text/html": [
       "<div>\n",
       "<style scoped>\n",
       "    .dataframe tbody tr th:only-of-type {\n",
       "        vertical-align: middle;\n",
       "    }\n",
       "\n",
       "    .dataframe tbody tr th {\n",
       "        vertical-align: top;\n",
       "    }\n",
       "\n",
       "    .dataframe thead th {\n",
       "        text-align: right;\n",
       "    }\n",
       "</style>\n",
       "<table border=\"1\" class=\"dataframe\">\n",
       "  <thead>\n",
       "    <tr style=\"text-align: right;\">\n",
       "      <th></th>\n",
       "      <th>value</th>\n",
       "    </tr>\n",
       "    <tr>\n",
       "      <th>metric</th>\n",
       "      <th></th>\n",
       "    </tr>\n",
       "  </thead>\n",
       "  <tbody>\n",
       "    <tr>\n",
       "      <th>f1</th>\n",
       "      <td>0.557066</td>\n",
       "    </tr>\n",
       "    <tr>\n",
       "      <th>precision</th>\n",
       "      <td>0.550564</td>\n",
       "    </tr>\n",
       "    <tr>\n",
       "      <th>recall</th>\n",
       "      <td>0.564009</td>\n",
       "    </tr>\n",
       "  </tbody>\n",
       "</table>\n",
       "</div>"
      ],
      "text/plain": [
       "              value\n",
       "metric             \n",
       "f1         0.557066\n",
       "precision  0.550564\n",
       "recall     0.564009"
      ]
     },
     "metadata": {},
     "output_type": "display_data"
    },
    {
     "name": "stdout",
     "output_type": "stream",
     "text": [
      "submissions/IDACCS_occams_extract.gz --> IDACCS_occams_extract\n",
      "CrisisFACTS-001 0\n"
     ]
    },
    {
     "name": "stderr",
     "output_type": "stream",
     "text": [
      "Warning: Empty candidate sentence detected; setting raw BERTscores to 0.\n",
      "Warning: Empty candidate sentence detected; setting raw BERTscores to 0.\n"
     ]
    },
    {
     "name": "stdout",
     "output_type": "stream",
     "text": [
      "CrisisFACTS-002 0\n"
     ]
    },
    {
     "name": "stderr",
     "output_type": "stream",
     "text": [
      "Warning: Empty candidate sentence detected; setting raw BERTscores to 0.\n",
      "Warning: Empty candidate sentence detected; setting raw BERTscores to 0.\n"
     ]
    },
    {
     "name": "stdout",
     "output_type": "stream",
     "text": [
      "CrisisFACTS-003 0\n"
     ]
    },
    {
     "name": "stderr",
     "output_type": "stream",
     "text": [
      "Warning: Empty candidate sentence detected; setting raw BERTscores to 0.\n",
      "Warning: Empty candidate sentence detected; setting raw BERTscores to 0.\n"
     ]
    },
    {
     "name": "stdout",
     "output_type": "stream",
     "text": [
      "CrisisFACTS-004 0\n"
     ]
    },
    {
     "name": "stderr",
     "output_type": "stream",
     "text": [
      "Warning: Empty candidate sentence detected; setting raw BERTscores to 0.\n",
      "Warning: Empty candidate sentence detected; setting raw BERTscores to 0.\n"
     ]
    },
    {
     "name": "stdout",
     "output_type": "stream",
     "text": [
      "CrisisFACTS-005 0\n"
     ]
    },
    {
     "name": "stderr",
     "output_type": "stream",
     "text": [
      "Warning: Empty candidate sentence detected; setting raw BERTscores to 0.\n",
      "Warning: Empty candidate sentence detected; setting raw BERTscores to 0.\n"
     ]
    },
    {
     "name": "stdout",
     "output_type": "stream",
     "text": [
      "CrisisFACTS-006 0\n"
     ]
    },
    {
     "name": "stderr",
     "output_type": "stream",
     "text": [
      "Warning: Empty candidate sentence detected; setting raw BERTscores to 0.\n",
      "Warning: Empty candidate sentence detected; setting raw BERTscores to 0.\n"
     ]
    },
    {
     "name": "stdout",
     "output_type": "stream",
     "text": [
      "CrisisFACTS-007 0\n"
     ]
    },
    {
     "name": "stderr",
     "output_type": "stream",
     "text": [
      "Warning: Empty candidate sentence detected; setting raw BERTscores to 0.\n",
      "Warning: Empty candidate sentence detected; setting raw BERTscores to 0.\n"
     ]
    },
    {
     "name": "stdout",
     "output_type": "stream",
     "text": [
      "CrisisFACTS-008 0\n"
     ]
    },
    {
     "name": "stderr",
     "output_type": "stream",
     "text": [
      "Warning: Empty candidate sentence detected; setting raw BERTscores to 0.\n",
      "Warning: Empty candidate sentence detected; setting raw BERTscores to 0.\n"
     ]
    },
    {
     "name": "stdout",
     "output_type": "stream",
     "text": [
      "CrisisFACTS-009 24569\n",
      "CrisisFACTS-010 16662\n",
      "CrisisFACTS-011 16781\n"
     ]
    },
    {
     "name": "stderr",
     "output_type": "stream",
     "text": [
      "Warning: Empty reference sentence detected; setting raw BERTScores to 0.\n"
     ]
    },
    {
     "name": "stdout",
     "output_type": "stream",
     "text": [
      "CrisisFACTS-012 12912\n"
     ]
    },
    {
     "name": "stderr",
     "output_type": "stream",
     "text": [
      "Warning: Empty reference sentence detected; setting raw BERTScores to 0.\n"
     ]
    },
    {
     "name": "stdout",
     "output_type": "stream",
     "text": [
      "CrisisFACTS-013 17659\n",
      "CrisisFACTS-014 16973\n",
      "CrisisFACTS-015 15810\n",
      "CrisisFACTS-016 10186\n",
      "CrisisFACTS-017 11643\n",
      "CrisisFACTS-018 12149\n"
     ]
    },
    {
     "data": {
      "text/html": [
       "<div>\n",
       "<style scoped>\n",
       "    .dataframe tbody tr th:only-of-type {\n",
       "        vertical-align: middle;\n",
       "    }\n",
       "\n",
       "    .dataframe tbody tr th {\n",
       "        vertical-align: top;\n",
       "    }\n",
       "\n",
       "    .dataframe thead th {\n",
       "        text-align: right;\n",
       "    }\n",
       "</style>\n",
       "<table border=\"1\" class=\"dataframe\">\n",
       "  <thead>\n",
       "    <tr style=\"text-align: right;\">\n",
       "      <th></th>\n",
       "      <th>value</th>\n",
       "    </tr>\n",
       "    <tr>\n",
       "      <th>metric</th>\n",
       "      <th></th>\n",
       "    </tr>\n",
       "  </thead>\n",
       "  <tbody>\n",
       "    <tr>\n",
       "      <th>f1</th>\n",
       "      <td>0.333280</td>\n",
       "    </tr>\n",
       "    <tr>\n",
       "      <th>precision</th>\n",
       "      <td>0.330848</td>\n",
       "    </tr>\n",
       "    <tr>\n",
       "      <th>recall</th>\n",
       "      <td>0.336024</td>\n",
       "    </tr>\n",
       "  </tbody>\n",
       "</table>\n",
       "</div>"
      ],
      "text/plain": [
       "              value\n",
       "metric             \n",
       "f1         0.333280\n",
       "precision  0.330848\n",
       "recall     0.336024"
      ]
     },
     "metadata": {},
     "output_type": "display_data"
    },
    {
     "name": "stdout",
     "output_type": "stream",
     "text": [
      "submissions/IRLabIITBHU_DFReeKLIM_2.gz --> IRLabIITBHU_DFReeKLIM_2\n",
      "CrisisFACTS-001 39912\n",
      "CrisisFACTS-002 27516\n",
      "CrisisFACTS-003 29309\n",
      "CrisisFACTS-004 71477\n",
      "CrisisFACTS-005 17608\n",
      "CrisisFACTS-006 19070\n",
      "CrisisFACTS-007 10156\n",
      "CrisisFACTS-008 38020\n",
      "CrisisFACTS-009 43047\n",
      "CrisisFACTS-010 32416\n",
      "CrisisFACTS-011 31850\n"
     ]
    },
    {
     "name": "stderr",
     "output_type": "stream",
     "text": [
      "Warning: Empty reference sentence detected; setting raw BERTScores to 0.\n"
     ]
    },
    {
     "name": "stdout",
     "output_type": "stream",
     "text": [
      "CrisisFACTS-012 29330\n"
     ]
    },
    {
     "name": "stderr",
     "output_type": "stream",
     "text": [
      "Warning: Empty reference sentence detected; setting raw BERTScores to 0.\n"
     ]
    },
    {
     "name": "stdout",
     "output_type": "stream",
     "text": [
      "CrisisFACTS-013 31619\n",
      "CrisisFACTS-014 54366\n",
      "CrisisFACTS-015 45872\n",
      "CrisisFACTS-016 22458\n",
      "CrisisFACTS-017 25032\n",
      "CrisisFACTS-018 24524\n"
     ]
    },
    {
     "data": {
      "text/html": [
       "<div>\n",
       "<style scoped>\n",
       "    .dataframe tbody tr th:only-of-type {\n",
       "        vertical-align: middle;\n",
       "    }\n",
       "\n",
       "    .dataframe tbody tr th {\n",
       "        vertical-align: top;\n",
       "    }\n",
       "\n",
       "    .dataframe thead th {\n",
       "        text-align: right;\n",
       "    }\n",
       "</style>\n",
       "<table border=\"1\" class=\"dataframe\">\n",
       "  <thead>\n",
       "    <tr style=\"text-align: right;\">\n",
       "      <th></th>\n",
       "      <th>value</th>\n",
       "    </tr>\n",
       "    <tr>\n",
       "      <th>metric</th>\n",
       "      <th></th>\n",
       "    </tr>\n",
       "  </thead>\n",
       "  <tbody>\n",
       "    <tr>\n",
       "      <th>f1</th>\n",
       "      <td>0.576681</td>\n",
       "    </tr>\n",
       "    <tr>\n",
       "      <th>precision</th>\n",
       "      <td>0.569420</td>\n",
       "    </tr>\n",
       "    <tr>\n",
       "      <th>recall</th>\n",
       "      <td>0.584415</td>\n",
       "    </tr>\n",
       "  </tbody>\n",
       "</table>\n",
       "</div>"
      ],
      "text/plain": [
       "              value\n",
       "metric             \n",
       "f1         0.576681\n",
       "precision  0.569420\n",
       "recall     0.584415"
      ]
     },
     "metadata": {},
     "output_type": "display_data"
    },
    {
     "name": "stdout",
     "output_type": "stream",
     "text": [
      "submissions/baseline.v2.gz --> baseline.v2\n",
      "CrisisFACTS-001 39912\n",
      "CrisisFACTS-002 27516\n",
      "CrisisFACTS-003 29468\n",
      "CrisisFACTS-004 70746\n",
      "CrisisFACTS-005 17653\n",
      "CrisisFACTS-006 18822\n",
      "CrisisFACTS-007 10018\n",
      "CrisisFACTS-008 38869\n",
      "CrisisFACTS-009 43294\n",
      "CrisisFACTS-010 32382\n",
      "CrisisFACTS-011 31850\n"
     ]
    },
    {
     "name": "stderr",
     "output_type": "stream",
     "text": [
      "Warning: Empty reference sentence detected; setting raw BERTScores to 0.\n"
     ]
    },
    {
     "name": "stdout",
     "output_type": "stream",
     "text": [
      "CrisisFACTS-012 28628\n"
     ]
    },
    {
     "name": "stderr",
     "output_type": "stream",
     "text": [
      "Warning: Empty reference sentence detected; setting raw BERTScores to 0.\n"
     ]
    },
    {
     "name": "stdout",
     "output_type": "stream",
     "text": [
      "CrisisFACTS-013 33715\n",
      "CrisisFACTS-014 48274\n",
      "CrisisFACTS-015 48625\n",
      "CrisisFACTS-016 21294\n",
      "CrisisFACTS-017 24999\n",
      "CrisisFACTS-018 24632\n"
     ]
    },
    {
     "data": {
      "text/html": [
       "<div>\n",
       "<style scoped>\n",
       "    .dataframe tbody tr th:only-of-type {\n",
       "        vertical-align: middle;\n",
       "    }\n",
       "\n",
       "    .dataframe tbody tr th {\n",
       "        vertical-align: top;\n",
       "    }\n",
       "\n",
       "    .dataframe thead th {\n",
       "        text-align: right;\n",
       "    }\n",
       "</style>\n",
       "<table border=\"1\" class=\"dataframe\">\n",
       "  <thead>\n",
       "    <tr style=\"text-align: right;\">\n",
       "      <th></th>\n",
       "      <th>value</th>\n",
       "    </tr>\n",
       "    <tr>\n",
       "      <th>metric</th>\n",
       "      <th></th>\n",
       "    </tr>\n",
       "  </thead>\n",
       "  <tbody>\n",
       "    <tr>\n",
       "      <th>f1</th>\n",
       "      <td>0.580052</td>\n",
       "    </tr>\n",
       "    <tr>\n",
       "      <th>precision</th>\n",
       "      <td>0.573402</td>\n",
       "    </tr>\n",
       "    <tr>\n",
       "      <th>recall</th>\n",
       "      <td>0.587053</td>\n",
       "    </tr>\n",
       "  </tbody>\n",
       "</table>\n",
       "</div>"
      ],
      "text/plain": [
       "              value\n",
       "metric             \n",
       "f1         0.580052\n",
       "precision  0.573402\n",
       "recall     0.587053"
      ]
     },
     "metadata": {},
     "output_type": "display_data"
    },
    {
     "name": "stdout",
     "output_type": "stream",
     "text": [
      "submissions/IRLabIITBHU_DFReeKLIM_1.gz --> IRLabIITBHU_DFReeKLIM_1\n",
      "CrisisFACTS-001 39912\n",
      "CrisisFACTS-002 27516\n",
      "CrisisFACTS-003 29309\n",
      "CrisisFACTS-004 70991\n",
      "CrisisFACTS-005 17701\n",
      "CrisisFACTS-006 19140\n",
      "CrisisFACTS-007 10018\n",
      "CrisisFACTS-008 38020\n",
      "CrisisFACTS-009 46330\n",
      "CrisisFACTS-010 32382\n",
      "CrisisFACTS-011 31850\n"
     ]
    },
    {
     "name": "stderr",
     "output_type": "stream",
     "text": [
      "Warning: Empty reference sentence detected; setting raw BERTScores to 0.\n"
     ]
    },
    {
     "name": "stdout",
     "output_type": "stream",
     "text": [
      "CrisisFACTS-012 28815\n"
     ]
    },
    {
     "name": "stderr",
     "output_type": "stream",
     "text": [
      "Warning: Empty reference sentence detected; setting raw BERTScores to 0.\n"
     ]
    },
    {
     "name": "stdout",
     "output_type": "stream",
     "text": [
      "CrisisFACTS-013 34361\n",
      "CrisisFACTS-014 53839\n",
      "CrisisFACTS-015 46346\n",
      "CrisisFACTS-016 22361\n",
      "CrisisFACTS-017 24698\n",
      "CrisisFACTS-018 25704\n"
     ]
    },
    {
     "data": {
      "text/html": [
       "<div>\n",
       "<style scoped>\n",
       "    .dataframe tbody tr th:only-of-type {\n",
       "        vertical-align: middle;\n",
       "    }\n",
       "\n",
       "    .dataframe tbody tr th {\n",
       "        vertical-align: top;\n",
       "    }\n",
       "\n",
       "    .dataframe thead th {\n",
       "        text-align: right;\n",
       "    }\n",
       "</style>\n",
       "<table border=\"1\" class=\"dataframe\">\n",
       "  <thead>\n",
       "    <tr style=\"text-align: right;\">\n",
       "      <th></th>\n",
       "      <th>value</th>\n",
       "    </tr>\n",
       "    <tr>\n",
       "      <th>metric</th>\n",
       "      <th></th>\n",
       "    </tr>\n",
       "  </thead>\n",
       "  <tbody>\n",
       "    <tr>\n",
       "      <th>f1</th>\n",
       "      <td>0.589606</td>\n",
       "    </tr>\n",
       "    <tr>\n",
       "      <th>precision</th>\n",
       "      <td>0.583676</td>\n",
       "    </tr>\n",
       "    <tr>\n",
       "      <th>recall</th>\n",
       "      <td>0.595911</td>\n",
       "    </tr>\n",
       "  </tbody>\n",
       "</table>\n",
       "</div>"
      ],
      "text/plain": [
       "              value\n",
       "metric             \n",
       "f1         0.589606\n",
       "precision  0.583676\n",
       "recall     0.595911"
      ]
     },
     "metadata": {},
     "output_type": "display_data"
    },
    {
     "name": "stdout",
     "output_type": "stream",
     "text": [
      "submissions/drdqn-notopic.gz --> drdqn-notopic\n",
      "CrisisFACTS-001 0\n"
     ]
    },
    {
     "name": "stderr",
     "output_type": "stream",
     "text": [
      "Warning: Empty candidate sentence detected; setting raw BERTscores to 0.\n",
      "Warning: Empty candidate sentence detected; setting raw BERTscores to 0.\n"
     ]
    },
    {
     "name": "stdout",
     "output_type": "stream",
     "text": [
      "CrisisFACTS-002 0\n"
     ]
    },
    {
     "name": "stderr",
     "output_type": "stream",
     "text": [
      "Warning: Empty candidate sentence detected; setting raw BERTscores to 0.\n",
      "Warning: Empty candidate sentence detected; setting raw BERTscores to 0.\n"
     ]
    },
    {
     "name": "stdout",
     "output_type": "stream",
     "text": [
      "CrisisFACTS-003 0\n"
     ]
    },
    {
     "name": "stderr",
     "output_type": "stream",
     "text": [
      "Warning: Empty candidate sentence detected; setting raw BERTscores to 0.\n",
      "Warning: Empty candidate sentence detected; setting raw BERTscores to 0.\n"
     ]
    },
    {
     "name": "stdout",
     "output_type": "stream",
     "text": [
      "CrisisFACTS-004 0\n"
     ]
    },
    {
     "name": "stderr",
     "output_type": "stream",
     "text": [
      "Warning: Empty candidate sentence detected; setting raw BERTscores to 0.\n",
      "Warning: Empty candidate sentence detected; setting raw BERTscores to 0.\n"
     ]
    },
    {
     "name": "stdout",
     "output_type": "stream",
     "text": [
      "CrisisFACTS-005 0\n"
     ]
    },
    {
     "name": "stderr",
     "output_type": "stream",
     "text": [
      "Warning: Empty candidate sentence detected; setting raw BERTscores to 0.\n",
      "Warning: Empty candidate sentence detected; setting raw BERTscores to 0.\n"
     ]
    },
    {
     "name": "stdout",
     "output_type": "stream",
     "text": [
      "CrisisFACTS-006 0\n"
     ]
    },
    {
     "name": "stderr",
     "output_type": "stream",
     "text": [
      "Warning: Empty candidate sentence detected; setting raw BERTscores to 0.\n",
      "Warning: Empty candidate sentence detected; setting raw BERTscores to 0.\n"
     ]
    },
    {
     "name": "stdout",
     "output_type": "stream",
     "text": [
      "CrisisFACTS-007 0\n"
     ]
    },
    {
     "name": "stderr",
     "output_type": "stream",
     "text": [
      "Warning: Empty candidate sentence detected; setting raw BERTscores to 0.\n",
      "Warning: Empty candidate sentence detected; setting raw BERTscores to 0.\n"
     ]
    },
    {
     "name": "stdout",
     "output_type": "stream",
     "text": [
      "CrisisFACTS-008 0\n"
     ]
    },
    {
     "name": "stderr",
     "output_type": "stream",
     "text": [
      "Warning: Empty candidate sentence detected; setting raw BERTscores to 0.\n",
      "Warning: Empty candidate sentence detected; setting raw BERTscores to 0.\n"
     ]
    },
    {
     "name": "stdout",
     "output_type": "stream",
     "text": [
      "CrisisFACTS-009 7119\n",
      "CrisisFACTS-010 8044\n",
      "CrisisFACTS-011 5778\n"
     ]
    },
    {
     "name": "stderr",
     "output_type": "stream",
     "text": [
      "Warning: Empty reference sentence detected; setting raw BERTScores to 0.\n"
     ]
    },
    {
     "name": "stdout",
     "output_type": "stream",
     "text": [
      "CrisisFACTS-012 9234\n"
     ]
    },
    {
     "name": "stderr",
     "output_type": "stream",
     "text": [
      "Warning: Empty reference sentence detected; setting raw BERTScores to 0.\n"
     ]
    },
    {
     "name": "stdout",
     "output_type": "stream",
     "text": [
      "CrisisFACTS-013 9606\n",
      "CrisisFACTS-014 22172\n",
      "CrisisFACTS-015 19089\n",
      "CrisisFACTS-016 7756\n",
      "CrisisFACTS-017 11054\n",
      "CrisisFACTS-018 5346\n"
     ]
    },
    {
     "data": {
      "text/html": [
       "<div>\n",
       "<style scoped>\n",
       "    .dataframe tbody tr th:only-of-type {\n",
       "        vertical-align: middle;\n",
       "    }\n",
       "\n",
       "    .dataframe tbody tr th {\n",
       "        vertical-align: top;\n",
       "    }\n",
       "\n",
       "    .dataframe thead th {\n",
       "        text-align: right;\n",
       "    }\n",
       "</style>\n",
       "<table border=\"1\" class=\"dataframe\">\n",
       "  <thead>\n",
       "    <tr style=\"text-align: right;\">\n",
       "      <th></th>\n",
       "      <th>value</th>\n",
       "    </tr>\n",
       "    <tr>\n",
       "      <th>metric</th>\n",
       "      <th></th>\n",
       "    </tr>\n",
       "  </thead>\n",
       "  <tbody>\n",
       "    <tr>\n",
       "      <th>f1</th>\n",
       "      <td>0.336664</td>\n",
       "    </tr>\n",
       "    <tr>\n",
       "      <th>precision</th>\n",
       "      <td>0.342803</td>\n",
       "    </tr>\n",
       "    <tr>\n",
       "      <th>recall</th>\n",
       "      <td>0.330860</td>\n",
       "    </tr>\n",
       "  </tbody>\n",
       "</table>\n",
       "</div>"
      ],
      "text/plain": [
       "              value\n",
       "metric             \n",
       "f1         0.336664\n",
       "precision  0.342803\n",
       "recall     0.330860"
      ]
     },
     "metadata": {},
     "output_type": "display_data"
    },
    {
     "name": "stdout",
     "output_type": "stream",
     "text": [
      "submissions/nm-gpt4.gz --> nm-gpt4\n",
      "CrisisFACTS-001 23697\n",
      "CrisisFACTS-002 16296\n",
      "CrisisFACTS-003 16961\n",
      "CrisisFACTS-004 46822\n",
      "CrisisFACTS-005 11390\n",
      "CrisisFACTS-006 12296\n",
      "CrisisFACTS-007 6389\n",
      "CrisisFACTS-008 24965\n",
      "CrisisFACTS-009 23264\n",
      "CrisisFACTS-010 18680\n",
      "CrisisFACTS-011 19033\n"
     ]
    },
    {
     "name": "stderr",
     "output_type": "stream",
     "text": [
      "Warning: Empty reference sentence detected; setting raw BERTScores to 0.\n"
     ]
    },
    {
     "name": "stdout",
     "output_type": "stream",
     "text": [
      "CrisisFACTS-012 15472\n"
     ]
    },
    {
     "name": "stderr",
     "output_type": "stream",
     "text": [
      "Warning: Empty reference sentence detected; setting raw BERTScores to 0.\n"
     ]
    },
    {
     "name": "stdout",
     "output_type": "stream",
     "text": [
      "CrisisFACTS-013 19304\n",
      "CrisisFACTS-014 23626\n",
      "CrisisFACTS-015 21186\n",
      "CrisisFACTS-016 12967\n",
      "CrisisFACTS-017 15020\n",
      "CrisisFACTS-018 16523\n"
     ]
    },
    {
     "data": {
      "text/html": [
       "<div>\n",
       "<style scoped>\n",
       "    .dataframe tbody tr th:only-of-type {\n",
       "        vertical-align: middle;\n",
       "    }\n",
       "\n",
       "    .dataframe tbody tr th {\n",
       "        vertical-align: top;\n",
       "    }\n",
       "\n",
       "    .dataframe thead th {\n",
       "        text-align: right;\n",
       "    }\n",
       "</style>\n",
       "<table border=\"1\" class=\"dataframe\">\n",
       "  <thead>\n",
       "    <tr style=\"text-align: right;\">\n",
       "      <th></th>\n",
       "      <th>value</th>\n",
       "    </tr>\n",
       "    <tr>\n",
       "      <th>metric</th>\n",
       "      <th></th>\n",
       "    </tr>\n",
       "  </thead>\n",
       "  <tbody>\n",
       "    <tr>\n",
       "      <th>f1</th>\n",
       "      <td>0.644664</td>\n",
       "    </tr>\n",
       "    <tr>\n",
       "      <th>precision</th>\n",
       "      <td>0.656740</td>\n",
       "    </tr>\n",
       "    <tr>\n",
       "      <th>recall</th>\n",
       "      <td>0.633320</td>\n",
       "    </tr>\n",
       "  </tbody>\n",
       "</table>\n",
       "</div>"
      ],
      "text/plain": [
       "              value\n",
       "metric             \n",
       "f1         0.644664\n",
       "precision  0.656740\n",
       "recall     0.633320"
      ]
     },
     "metadata": {},
     "output_type": "display_data"
    },
    {
     "name": "stdout",
     "output_type": "stream",
     "text": [
      "submissions/baseline.v1.gz --> baseline.v1\n",
      "CrisisFACTS-001 39950\n",
      "CrisisFACTS-002 27894\n",
      "CrisisFACTS-003 30468\n",
      "CrisisFACTS-004 70945\n",
      "CrisisFACTS-005 17428\n",
      "CrisisFACTS-006 19022\n",
      "CrisisFACTS-007 9858\n",
      "CrisisFACTS-008 39283\n",
      "CrisisFACTS-009 50438\n",
      "CrisisFACTS-010 35800\n",
      "CrisisFACTS-011 34513\n"
     ]
    },
    {
     "name": "stderr",
     "output_type": "stream",
     "text": [
      "Warning: Empty reference sentence detected; setting raw BERTScores to 0.\n"
     ]
    },
    {
     "name": "stdout",
     "output_type": "stream",
     "text": [
      "CrisisFACTS-012 32038\n"
     ]
    },
    {
     "name": "stderr",
     "output_type": "stream",
     "text": [
      "Warning: Empty reference sentence detected; setting raw BERTScores to 0.\n"
     ]
    },
    {
     "name": "stdout",
     "output_type": "stream",
     "text": [
      "CrisisFACTS-013 36497\n",
      "CrisisFACTS-014 50775\n",
      "CrisisFACTS-015 53240\n",
      "CrisisFACTS-016 20981\n",
      "CrisisFACTS-017 26977\n",
      "CrisisFACTS-018 25388\n"
     ]
    },
    {
     "data": {
      "text/html": [
       "<div>\n",
       "<style scoped>\n",
       "    .dataframe tbody tr th:only-of-type {\n",
       "        vertical-align: middle;\n",
       "    }\n",
       "\n",
       "    .dataframe tbody tr th {\n",
       "        vertical-align: top;\n",
       "    }\n",
       "\n",
       "    .dataframe thead th {\n",
       "        text-align: right;\n",
       "    }\n",
       "</style>\n",
       "<table border=\"1\" class=\"dataframe\">\n",
       "  <thead>\n",
       "    <tr style=\"text-align: right;\">\n",
       "      <th></th>\n",
       "      <th>value</th>\n",
       "    </tr>\n",
       "    <tr>\n",
       "      <th>metric</th>\n",
       "      <th></th>\n",
       "    </tr>\n",
       "  </thead>\n",
       "  <tbody>\n",
       "    <tr>\n",
       "      <th>f1</th>\n",
       "      <td>0.590185</td>\n",
       "    </tr>\n",
       "    <tr>\n",
       "      <th>precision</th>\n",
       "      <td>0.586193</td>\n",
       "    </tr>\n",
       "    <tr>\n",
       "      <th>recall</th>\n",
       "      <td>0.594700</td>\n",
       "    </tr>\n",
       "  </tbody>\n",
       "</table>\n",
       "</div>"
      ],
      "text/plain": [
       "              value\n",
       "metric             \n",
       "f1         0.590185\n",
       "precision  0.586193\n",
       "recall     0.594700"
      ]
     },
     "metadata": {},
     "output_type": "display_data"
    },
    {
     "name": "stdout",
     "output_type": "stream",
     "text": [
      "submissions/Siena.Baseline1.gz --> Siena.Baseline1\n",
      "CrisisFACTS-001 41586\n",
      "CrisisFACTS-002 28465\n",
      "CrisisFACTS-003 33468\n",
      "CrisisFACTS-004 75196\n",
      "CrisisFACTS-005 19238\n",
      "CrisisFACTS-006 20766\n",
      "CrisisFACTS-007 9381\n",
      "CrisisFACTS-008 41179\n",
      "CrisisFACTS-009 55901\n",
      "CrisisFACTS-010 40490\n",
      "CrisisFACTS-011 40163\n"
     ]
    },
    {
     "name": "stderr",
     "output_type": "stream",
     "text": [
      "Warning: Empty reference sentence detected; setting raw BERTScores to 0.\n"
     ]
    },
    {
     "name": "stdout",
     "output_type": "stream",
     "text": [
      "CrisisFACTS-012 37401\n"
     ]
    },
    {
     "name": "stderr",
     "output_type": "stream",
     "text": [
      "Warning: Empty reference sentence detected; setting raw BERTScores to 0.\n"
     ]
    },
    {
     "name": "stdout",
     "output_type": "stream",
     "text": [
      "CrisisFACTS-013 42579\n",
      "CrisisFACTS-014 43948\n",
      "CrisisFACTS-015 61176\n",
      "CrisisFACTS-016 22040\n",
      "CrisisFACTS-017 30819\n",
      "CrisisFACTS-018 31109\n"
     ]
    },
    {
     "data": {
      "text/html": [
       "<div>\n",
       "<style scoped>\n",
       "    .dataframe tbody tr th:only-of-type {\n",
       "        vertical-align: middle;\n",
       "    }\n",
       "\n",
       "    .dataframe tbody tr th {\n",
       "        vertical-align: top;\n",
       "    }\n",
       "\n",
       "    .dataframe thead th {\n",
       "        text-align: right;\n",
       "    }\n",
       "</style>\n",
       "<table border=\"1\" class=\"dataframe\">\n",
       "  <thead>\n",
       "    <tr style=\"text-align: right;\">\n",
       "      <th></th>\n",
       "      <th>value</th>\n",
       "    </tr>\n",
       "    <tr>\n",
       "      <th>metric</th>\n",
       "      <th></th>\n",
       "    </tr>\n",
       "  </thead>\n",
       "  <tbody>\n",
       "    <tr>\n",
       "      <th>f1</th>\n",
       "      <td>0.584385</td>\n",
       "    </tr>\n",
       "    <tr>\n",
       "      <th>precision</th>\n",
       "      <td>0.578054</td>\n",
       "    </tr>\n",
       "    <tr>\n",
       "      <th>recall</th>\n",
       "      <td>0.591193</td>\n",
       "    </tr>\n",
       "  </tbody>\n",
       "</table>\n",
       "</div>"
      ],
      "text/plain": [
       "              value\n",
       "metric             \n",
       "f1         0.584385\n",
       "precision  0.578054\n",
       "recall     0.591193"
      ]
     },
     "metadata": {},
     "output_type": "display_data"
    },
    {
     "name": "stdout",
     "output_type": "stream",
     "text": [
      "submissions/Human_Info_Lab-FM-A.gz --> Human_Info_Lab-FM-A\n",
      "CrisisFACTS-001 13484\n",
      "CrisisFACTS-002 9604\n",
      "CrisisFACTS-003 8827\n",
      "CrisisFACTS-004 23217\n",
      "CrisisFACTS-005 6745\n",
      "CrisisFACTS-006 6534\n",
      "CrisisFACTS-007 3347\n",
      "CrisisFACTS-008 15229\n",
      "CrisisFACTS-009 15324\n",
      "CrisisFACTS-010 10203\n",
      "CrisisFACTS-011 8464\n"
     ]
    },
    {
     "name": "stderr",
     "output_type": "stream",
     "text": [
      "Warning: Empty reference sentence detected; setting raw BERTScores to 0.\n"
     ]
    },
    {
     "name": "stdout",
     "output_type": "stream",
     "text": [
      "CrisisFACTS-012 9884\n"
     ]
    },
    {
     "name": "stderr",
     "output_type": "stream",
     "text": [
      "Warning: Empty reference sentence detected; setting raw BERTScores to 0.\n"
     ]
    },
    {
     "name": "stdout",
     "output_type": "stream",
     "text": [
      "CrisisFACTS-013 10079\n",
      "CrisisFACTS-014 14690\n",
      "CrisisFACTS-015 13997\n",
      "CrisisFACTS-016 8788\n",
      "CrisisFACTS-017 10092\n",
      "CrisisFACTS-018 9784\n"
     ]
    },
    {
     "data": {
      "text/html": [
       "<div>\n",
       "<style scoped>\n",
       "    .dataframe tbody tr th:only-of-type {\n",
       "        vertical-align: middle;\n",
       "    }\n",
       "\n",
       "    .dataframe tbody tr th {\n",
       "        vertical-align: top;\n",
       "    }\n",
       "\n",
       "    .dataframe thead th {\n",
       "        text-align: right;\n",
       "    }\n",
       "</style>\n",
       "<table border=\"1\" class=\"dataframe\">\n",
       "  <thead>\n",
       "    <tr style=\"text-align: right;\">\n",
       "      <th></th>\n",
       "      <th>value</th>\n",
       "    </tr>\n",
       "    <tr>\n",
       "      <th>metric</th>\n",
       "      <th></th>\n",
       "    </tr>\n",
       "  </thead>\n",
       "  <tbody>\n",
       "    <tr>\n",
       "      <th>f1</th>\n",
       "      <td>0.596770</td>\n",
       "    </tr>\n",
       "    <tr>\n",
       "      <th>precision</th>\n",
       "      <td>0.599682</td>\n",
       "    </tr>\n",
       "    <tr>\n",
       "      <th>recall</th>\n",
       "      <td>0.594132</td>\n",
       "    </tr>\n",
       "  </tbody>\n",
       "</table>\n",
       "</div>"
      ],
      "text/plain": [
       "              value\n",
       "metric             \n",
       "f1         0.596770\n",
       "precision  0.599682\n",
       "recall     0.594132"
      ]
     },
     "metadata": {},
     "output_type": "display_data"
    },
    {
     "name": "stdout",
     "output_type": "stream",
     "text": [
      "submissions/nm-gpt35-bm25.gz --> nm-gpt35-bm25\n",
      "CrisisFACTS-001 17490\n",
      "CrisisFACTS-002 12515\n",
      "CrisisFACTS-003 14057\n",
      "CrisisFACTS-004 36072\n",
      "CrisisFACTS-005 8947\n",
      "CrisisFACTS-006 9892\n",
      "CrisisFACTS-007 5390\n",
      "CrisisFACTS-008 19238\n",
      "CrisisFACTS-009 16328\n",
      "CrisisFACTS-010 13829\n",
      "CrisisFACTS-011 14781\n"
     ]
    },
    {
     "name": "stderr",
     "output_type": "stream",
     "text": [
      "Warning: Empty reference sentence detected; setting raw BERTScores to 0.\n"
     ]
    },
    {
     "name": "stdout",
     "output_type": "stream",
     "text": [
      "CrisisFACTS-012 14893\n"
     ]
    },
    {
     "name": "stderr",
     "output_type": "stream",
     "text": [
      "Warning: Empty reference sentence detected; setting raw BERTScores to 0.\n"
     ]
    },
    {
     "name": "stdout",
     "output_type": "stream",
     "text": [
      "CrisisFACTS-013 15067\n",
      "CrisisFACTS-014 17036\n",
      "CrisisFACTS-015 15677\n",
      "CrisisFACTS-016 9748\n",
      "CrisisFACTS-017 10900\n",
      "CrisisFACTS-018 11701\n"
     ]
    },
    {
     "data": {
      "text/html": [
       "<div>\n",
       "<style scoped>\n",
       "    .dataframe tbody tr th:only-of-type {\n",
       "        vertical-align: middle;\n",
       "    }\n",
       "\n",
       "    .dataframe tbody tr th {\n",
       "        vertical-align: top;\n",
       "    }\n",
       "\n",
       "    .dataframe thead th {\n",
       "        text-align: right;\n",
       "    }\n",
       "</style>\n",
       "<table border=\"1\" class=\"dataframe\">\n",
       "  <thead>\n",
       "    <tr style=\"text-align: right;\">\n",
       "      <th></th>\n",
       "      <th>value</th>\n",
       "    </tr>\n",
       "    <tr>\n",
       "      <th>metric</th>\n",
       "      <th></th>\n",
       "    </tr>\n",
       "  </thead>\n",
       "  <tbody>\n",
       "    <tr>\n",
       "      <th>f1</th>\n",
       "      <td>0.641839</td>\n",
       "    </tr>\n",
       "    <tr>\n",
       "      <th>precision</th>\n",
       "      <td>0.637864</td>\n",
       "    </tr>\n",
       "    <tr>\n",
       "      <th>recall</th>\n",
       "      <td>0.646025</td>\n",
       "    </tr>\n",
       "  </tbody>\n",
       "</table>\n",
       "</div>"
      ],
      "text/plain": [
       "              value\n",
       "metric             \n",
       "f1         0.641839\n",
       "precision  0.637864\n",
       "recall     0.646025"
      ]
     },
     "metadata": {},
     "output_type": "display_data"
    },
    {
     "name": "stdout",
     "output_type": "stream",
     "text": [
      "submissions/Human_Info_Lab-FM-B.gz --> Human_Info_Lab-FM-B\n",
      "CrisisFACTS-001 26860\n",
      "CrisisFACTS-002 19499\n",
      "CrisisFACTS-003 20696\n",
      "CrisisFACTS-004 57026\n",
      "CrisisFACTS-005 11908\n",
      "CrisisFACTS-006 14862\n",
      "CrisisFACTS-007 7637\n",
      "CrisisFACTS-008 32013\n",
      "CrisisFACTS-009 33621\n",
      "CrisisFACTS-010 25342\n",
      "CrisisFACTS-011 22593\n"
     ]
    },
    {
     "name": "stderr",
     "output_type": "stream",
     "text": [
      "Warning: Empty reference sentence detected; setting raw BERTScores to 0.\n"
     ]
    },
    {
     "name": "stdout",
     "output_type": "stream",
     "text": [
      "CrisisFACTS-012 25997\n"
     ]
    },
    {
     "name": "stderr",
     "output_type": "stream",
     "text": [
      "Warning: Empty reference sentence detected; setting raw BERTScores to 0.\n"
     ]
    },
    {
     "name": "stdout",
     "output_type": "stream",
     "text": [
      "CrisisFACTS-013 21900\n",
      "CrisisFACTS-014 36714\n",
      "CrisisFACTS-015 38607\n",
      "CrisisFACTS-016 17172\n",
      "CrisisFACTS-017 20318\n",
      "CrisisFACTS-018 19632\n"
     ]
    },
    {
     "data": {
      "text/html": [
       "<div>\n",
       "<style scoped>\n",
       "    .dataframe tbody tr th:only-of-type {\n",
       "        vertical-align: middle;\n",
       "    }\n",
       "\n",
       "    .dataframe tbody tr th {\n",
       "        vertical-align: top;\n",
       "    }\n",
       "\n",
       "    .dataframe thead th {\n",
       "        text-align: right;\n",
       "    }\n",
       "</style>\n",
       "<table border=\"1\" class=\"dataframe\">\n",
       "  <thead>\n",
       "    <tr style=\"text-align: right;\">\n",
       "      <th></th>\n",
       "      <th>value</th>\n",
       "    </tr>\n",
       "    <tr>\n",
       "      <th>metric</th>\n",
       "      <th></th>\n",
       "    </tr>\n",
       "  </thead>\n",
       "  <tbody>\n",
       "    <tr>\n",
       "      <th>f1</th>\n",
       "      <td>0.613387</td>\n",
       "    </tr>\n",
       "    <tr>\n",
       "      <th>precision</th>\n",
       "      <td>0.612717</td>\n",
       "    </tr>\n",
       "    <tr>\n",
       "      <th>recall</th>\n",
       "      <td>0.614526</td>\n",
       "    </tr>\n",
       "  </tbody>\n",
       "</table>\n",
       "</div>"
      ],
      "text/plain": [
       "              value\n",
       "metric             \n",
       "f1         0.613387\n",
       "precision  0.612717\n",
       "recall     0.614526"
      ]
     },
     "metadata": {},
     "output_type": "display_data"
    },
    {
     "name": "stdout",
     "output_type": "stream",
     "text": [
      "submissions/nm-gpt35.gz --> nm-gpt35\n",
      "CrisisFACTS-001 18720\n",
      "CrisisFACTS-002 14070\n",
      "CrisisFACTS-003 15930\n",
      "CrisisFACTS-004 42427\n",
      "CrisisFACTS-005 8581\n",
      "CrisisFACTS-006 9642\n",
      "CrisisFACTS-007 6346\n",
      "CrisisFACTS-008 22770\n",
      "CrisisFACTS-009 16583\n",
      "CrisisFACTS-010 16145\n",
      "CrisisFACTS-011 13452\n"
     ]
    },
    {
     "name": "stderr",
     "output_type": "stream",
     "text": [
      "Warning: Empty reference sentence detected; setting raw BERTScores to 0.\n"
     ]
    },
    {
     "name": "stdout",
     "output_type": "stream",
     "text": [
      "CrisisFACTS-012 16143\n"
     ]
    },
    {
     "name": "stderr",
     "output_type": "stream",
     "text": [
      "Warning: Empty reference sentence detected; setting raw BERTScores to 0.\n"
     ]
    },
    {
     "name": "stdout",
     "output_type": "stream",
     "text": [
      "CrisisFACTS-013 20362\n",
      "CrisisFACTS-014 22044\n",
      "CrisisFACTS-015 16401\n",
      "CrisisFACTS-016 12854\n",
      "CrisisFACTS-017 10636\n",
      "CrisisFACTS-018 16583\n"
     ]
    },
    {
     "data": {
      "text/html": [
       "<div>\n",
       "<style scoped>\n",
       "    .dataframe tbody tr th:only-of-type {\n",
       "        vertical-align: middle;\n",
       "    }\n",
       "\n",
       "    .dataframe tbody tr th {\n",
       "        vertical-align: top;\n",
       "    }\n",
       "\n",
       "    .dataframe thead th {\n",
       "        text-align: right;\n",
       "    }\n",
       "</style>\n",
       "<table border=\"1\" class=\"dataframe\">\n",
       "  <thead>\n",
       "    <tr style=\"text-align: right;\">\n",
       "      <th></th>\n",
       "      <th>value</th>\n",
       "    </tr>\n",
       "    <tr>\n",
       "      <th>metric</th>\n",
       "      <th></th>\n",
       "    </tr>\n",
       "  </thead>\n",
       "  <tbody>\n",
       "    <tr>\n",
       "      <th>f1</th>\n",
       "      <td>0.667777</td>\n",
       "    </tr>\n",
       "    <tr>\n",
       "      <th>precision</th>\n",
       "      <td>0.677180</td>\n",
       "    </tr>\n",
       "    <tr>\n",
       "      <th>recall</th>\n",
       "      <td>0.659015</td>\n",
       "    </tr>\n",
       "  </tbody>\n",
       "</table>\n",
       "</div>"
      ],
      "text/plain": [
       "              value\n",
       "metric             \n",
       "f1         0.667777\n",
       "precision  0.677180\n",
       "recall     0.659015"
      ]
     },
     "metadata": {},
     "output_type": "display_data"
    },
    {
     "name": "stdout",
     "output_type": "stream",
     "text": [
      "submissions/V-TorontoMU_SBERT_Semanti.gz --> V-TorontoMU_SBERT_Semanti\n",
      "CrisisFACTS-001 26713\n",
      "CrisisFACTS-002 19534\n",
      "CrisisFACTS-003 24344\n",
      "CrisisFACTS-004 53787\n",
      "CrisisFACTS-005 11998\n",
      "CrisisFACTS-006 13355\n",
      "CrisisFACTS-007 6244\n",
      "CrisisFACTS-008 30328\n",
      "CrisisFACTS-009 21533\n",
      "CrisisFACTS-010 20832\n",
      "CrisisFACTS-011 17758\n"
     ]
    },
    {
     "name": "stderr",
     "output_type": "stream",
     "text": [
      "Warning: Empty reference sentence detected; setting raw BERTScores to 0.\n"
     ]
    },
    {
     "name": "stdout",
     "output_type": "stream",
     "text": [
      "CrisisFACTS-012 20356\n"
     ]
    },
    {
     "name": "stderr",
     "output_type": "stream",
     "text": [
      "Warning: Empty reference sentence detected; setting raw BERTScores to 0.\n"
     ]
    },
    {
     "name": "stdout",
     "output_type": "stream",
     "text": [
      "CrisisFACTS-013 21967\n",
      "CrisisFACTS-014 16327\n",
      "CrisisFACTS-015 19617\n",
      "CrisisFACTS-016 13138\n",
      "CrisisFACTS-017 17550\n",
      "CrisisFACTS-018 16362\n"
     ]
    },
    {
     "data": {
      "text/html": [
       "<div>\n",
       "<style scoped>\n",
       "    .dataframe tbody tr th:only-of-type {\n",
       "        vertical-align: middle;\n",
       "    }\n",
       "\n",
       "    .dataframe tbody tr th {\n",
       "        vertical-align: top;\n",
       "    }\n",
       "\n",
       "    .dataframe thead th {\n",
       "        text-align: right;\n",
       "    }\n",
       "</style>\n",
       "<table border=\"1\" class=\"dataframe\">\n",
       "  <thead>\n",
       "    <tr style=\"text-align: right;\">\n",
       "      <th></th>\n",
       "      <th>value</th>\n",
       "    </tr>\n",
       "    <tr>\n",
       "      <th>metric</th>\n",
       "      <th></th>\n",
       "    </tr>\n",
       "  </thead>\n",
       "  <tbody>\n",
       "    <tr>\n",
       "      <th>f1</th>\n",
       "      <td>0.586270</td>\n",
       "    </tr>\n",
       "    <tr>\n",
       "      <th>precision</th>\n",
       "      <td>0.584121</td>\n",
       "    </tr>\n",
       "    <tr>\n",
       "      <th>recall</th>\n",
       "      <td>0.588549</td>\n",
       "    </tr>\n",
       "  </tbody>\n",
       "</table>\n",
       "</div>"
      ],
      "text/plain": [
       "              value\n",
       "metric             \n",
       "f1         0.586270\n",
       "precision  0.584121\n",
       "recall     0.588549"
      ]
     },
     "metadata": {},
     "output_type": "display_data"
    },
    {
     "name": "stdout",
     "output_type": "stream",
     "text": [
      "submissions/llama.gz --> llama\n",
      "CrisisFACTS-001 66984\n",
      "CrisisFACTS-002 40639\n",
      "CrisisFACTS-003 42463\n",
      "CrisisFACTS-004 101352\n",
      "CrisisFACTS-005 32677\n",
      "CrisisFACTS-006 32075\n",
      "CrisisFACTS-007 16970\n",
      "CrisisFACTS-008 66460\n",
      "CrisisFACTS-009 49364\n",
      "CrisisFACTS-010 50205\n",
      "CrisisFACTS-011 36654\n"
     ]
    },
    {
     "name": "stderr",
     "output_type": "stream",
     "text": [
      "Warning: Empty reference sentence detected; setting raw BERTScores to 0.\n"
     ]
    },
    {
     "name": "stdout",
     "output_type": "stream",
     "text": [
      "CrisisFACTS-012 40441\n"
     ]
    },
    {
     "name": "stderr",
     "output_type": "stream",
     "text": [
      "Warning: Empty reference sentence detected; setting raw BERTScores to 0.\n"
     ]
    },
    {
     "name": "stdout",
     "output_type": "stream",
     "text": [
      "CrisisFACTS-013 41997\n",
      "CrisisFACTS-014 59005\n",
      "CrisisFACTS-015 57183\n",
      "CrisisFACTS-016 34311\n",
      "CrisisFACTS-017 45297\n",
      "CrisisFACTS-018 30914\n"
     ]
    },
    {
     "data": {
      "text/html": [
       "<div>\n",
       "<style scoped>\n",
       "    .dataframe tbody tr th:only-of-type {\n",
       "        vertical-align: middle;\n",
       "    }\n",
       "\n",
       "    .dataframe tbody tr th {\n",
       "        vertical-align: top;\n",
       "    }\n",
       "\n",
       "    .dataframe thead th {\n",
       "        text-align: right;\n",
       "    }\n",
       "</style>\n",
       "<table border=\"1\" class=\"dataframe\">\n",
       "  <thead>\n",
       "    <tr style=\"text-align: right;\">\n",
       "      <th></th>\n",
       "      <th>value</th>\n",
       "    </tr>\n",
       "    <tr>\n",
       "      <th>metric</th>\n",
       "      <th></th>\n",
       "    </tr>\n",
       "  </thead>\n",
       "  <tbody>\n",
       "    <tr>\n",
       "      <th>f1</th>\n",
       "      <td>0.580545</td>\n",
       "    </tr>\n",
       "    <tr>\n",
       "      <th>precision</th>\n",
       "      <td>0.576552</td>\n",
       "    </tr>\n",
       "    <tr>\n",
       "      <th>recall</th>\n",
       "      <td>0.584758</td>\n",
       "    </tr>\n",
       "  </tbody>\n",
       "</table>\n",
       "</div>"
      ],
      "text/plain": [
       "              value\n",
       "metric             \n",
       "f1         0.580545\n",
       "precision  0.576552\n",
       "recall     0.584758"
      ]
     },
     "metadata": {},
     "output_type": "display_data"
    },
    {
     "name": "stdout",
     "output_type": "stream",
     "text": [
      "submissions/ilp_mmr.gz --> ilp_mmr\n",
      "CrisisFACTS-001 0\n"
     ]
    },
    {
     "name": "stderr",
     "output_type": "stream",
     "text": [
      "Warning: Empty candidate sentence detected; setting raw BERTscores to 0.\n",
      "Warning: Empty candidate sentence detected; setting raw BERTscores to 0.\n"
     ]
    },
    {
     "name": "stdout",
     "output_type": "stream",
     "text": [
      "CrisisFACTS-002 0\n"
     ]
    },
    {
     "name": "stderr",
     "output_type": "stream",
     "text": [
      "Warning: Empty candidate sentence detected; setting raw BERTscores to 0.\n",
      "Warning: Empty candidate sentence detected; setting raw BERTscores to 0.\n"
     ]
    },
    {
     "name": "stdout",
     "output_type": "stream",
     "text": [
      "CrisisFACTS-003 0\n"
     ]
    },
    {
     "name": "stderr",
     "output_type": "stream",
     "text": [
      "Warning: Empty candidate sentence detected; setting raw BERTscores to 0.\n",
      "Warning: Empty candidate sentence detected; setting raw BERTscores to 0.\n"
     ]
    },
    {
     "name": "stdout",
     "output_type": "stream",
     "text": [
      "CrisisFACTS-004 0\n"
     ]
    },
    {
     "name": "stderr",
     "output_type": "stream",
     "text": [
      "Warning: Empty candidate sentence detected; setting raw BERTscores to 0.\n",
      "Warning: Empty candidate sentence detected; setting raw BERTscores to 0.\n"
     ]
    },
    {
     "name": "stdout",
     "output_type": "stream",
     "text": [
      "CrisisFACTS-005 0\n"
     ]
    },
    {
     "name": "stderr",
     "output_type": "stream",
     "text": [
      "Warning: Empty candidate sentence detected; setting raw BERTscores to 0.\n",
      "Warning: Empty candidate sentence detected; setting raw BERTscores to 0.\n"
     ]
    },
    {
     "name": "stdout",
     "output_type": "stream",
     "text": [
      "CrisisFACTS-006 0\n"
     ]
    },
    {
     "name": "stderr",
     "output_type": "stream",
     "text": [
      "Warning: Empty candidate sentence detected; setting raw BERTscores to 0.\n",
      "Warning: Empty candidate sentence detected; setting raw BERTscores to 0.\n"
     ]
    },
    {
     "name": "stdout",
     "output_type": "stream",
     "text": [
      "CrisisFACTS-007 0\n"
     ]
    },
    {
     "name": "stderr",
     "output_type": "stream",
     "text": [
      "Warning: Empty candidate sentence detected; setting raw BERTscores to 0.\n",
      "Warning: Empty candidate sentence detected; setting raw BERTscores to 0.\n"
     ]
    },
    {
     "name": "stdout",
     "output_type": "stream",
     "text": [
      "CrisisFACTS-008 0\n"
     ]
    },
    {
     "name": "stderr",
     "output_type": "stream",
     "text": [
      "Warning: Empty candidate sentence detected; setting raw BERTscores to 0.\n",
      "Warning: Empty candidate sentence detected; setting raw BERTscores to 0.\n"
     ]
    },
    {
     "name": "stdout",
     "output_type": "stream",
     "text": [
      "CrisisFACTS-009 35592\n"
     ]
    },
    {
     "name": "stderr",
     "output_type": "stream",
     "text": [
      "'(ReadTimeoutError(\"HTTPSConnectionPool(host='huggingface.co', port=443): Read timed out. (read timeout=10)\"), '(Request ID: be0effe2-5f33-470e-8b3a-859d69130bd9)')' thrown while requesting HEAD https://huggingface.co/microsoft/deberta-xlarge-mnli/resolve/main/tokenizer_config.json\n"
     ]
    },
    {
     "name": "stdout",
     "output_type": "stream",
     "text": [
      "CrisisFACTS-010 29972\n",
      "CrisisFACTS-011 25701\n"
     ]
    },
    {
     "name": "stderr",
     "output_type": "stream",
     "text": [
      "Warning: Empty reference sentence detected; setting raw BERTScores to 0.\n"
     ]
    },
    {
     "name": "stdout",
     "output_type": "stream",
     "text": [
      "CrisisFACTS-012 25623\n"
     ]
    },
    {
     "name": "stderr",
     "output_type": "stream",
     "text": [
      "Warning: Empty reference sentence detected; setting raw BERTScores to 0.\n"
     ]
    },
    {
     "name": "stdout",
     "output_type": "stream",
     "text": [
      "CrisisFACTS-013 28681\n",
      "CrisisFACTS-014 34242\n",
      "CrisisFACTS-015 35013\n",
      "CrisisFACTS-016 20091\n",
      "CrisisFACTS-017 23706\n",
      "CrisisFACTS-018 24346\n"
     ]
    },
    {
     "data": {
      "text/html": [
       "<div>\n",
       "<style scoped>\n",
       "    .dataframe tbody tr th:only-of-type {\n",
       "        vertical-align: middle;\n",
       "    }\n",
       "\n",
       "    .dataframe tbody tr th {\n",
       "        vertical-align: top;\n",
       "    }\n",
       "\n",
       "    .dataframe thead th {\n",
       "        text-align: right;\n",
       "    }\n",
       "</style>\n",
       "<table border=\"1\" class=\"dataframe\">\n",
       "  <thead>\n",
       "    <tr style=\"text-align: right;\">\n",
       "      <th></th>\n",
       "      <th>value</th>\n",
       "    </tr>\n",
       "    <tr>\n",
       "      <th>metric</th>\n",
       "      <th></th>\n",
       "    </tr>\n",
       "  </thead>\n",
       "  <tbody>\n",
       "    <tr>\n",
       "      <th>f1</th>\n",
       "      <td>0.322074</td>\n",
       "    </tr>\n",
       "    <tr>\n",
       "      <th>precision</th>\n",
       "      <td>0.317358</td>\n",
       "    </tr>\n",
       "    <tr>\n",
       "      <th>recall</th>\n",
       "      <td>0.327009</td>\n",
       "    </tr>\n",
       "  </tbody>\n",
       "</table>\n",
       "</div>"
      ],
      "text/plain": [
       "              value\n",
       "metric             \n",
       "f1         0.322074\n",
       "precision  0.317358\n",
       "recall     0.327009"
      ]
     },
     "metadata": {},
     "output_type": "display_data"
    },
    {
     "name": "stdout",
     "output_type": "stream",
     "text": [
      "submissions/nut-kslab01.gz --> nut-kslab01\n",
      "CrisisFACTS-001 39908\n",
      "CrisisFACTS-002 27894\n",
      "CrisisFACTS-003 30261\n",
      "CrisisFACTS-004 67563\n",
      "CrisisFACTS-005 16918\n",
      "CrisisFACTS-006 18426\n",
      "CrisisFACTS-007 9647\n",
      "CrisisFACTS-008 37149\n",
      "CrisisFACTS-009 54396\n",
      "CrisisFACTS-010 35383\n",
      "CrisisFACTS-011 34513\n"
     ]
    },
    {
     "name": "stderr",
     "output_type": "stream",
     "text": [
      "Warning: Empty reference sentence detected; setting raw BERTScores to 0.\n"
     ]
    },
    {
     "name": "stdout",
     "output_type": "stream",
     "text": [
      "CrisisFACTS-012 31293\n"
     ]
    },
    {
     "name": "stderr",
     "output_type": "stream",
     "text": [
      "Warning: Empty reference sentence detected; setting raw BERTScores to 0.\n"
     ]
    },
    {
     "name": "stdout",
     "output_type": "stream",
     "text": [
      "CrisisFACTS-013 36615\n",
      "CrisisFACTS-014 34761\n",
      "CrisisFACTS-015 50188\n",
      "CrisisFACTS-016 20359\n",
      "CrisisFACTS-017 23473\n",
      "CrisisFACTS-018 27519\n"
     ]
    },
    {
     "data": {
      "text/html": [
       "<div>\n",
       "<style scoped>\n",
       "    .dataframe tbody tr th:only-of-type {\n",
       "        vertical-align: middle;\n",
       "    }\n",
       "\n",
       "    .dataframe tbody tr th {\n",
       "        vertical-align: top;\n",
       "    }\n",
       "\n",
       "    .dataframe thead th {\n",
       "        text-align: right;\n",
       "    }\n",
       "</style>\n",
       "<table border=\"1\" class=\"dataframe\">\n",
       "  <thead>\n",
       "    <tr style=\"text-align: right;\">\n",
       "      <th></th>\n",
       "      <th>value</th>\n",
       "    </tr>\n",
       "    <tr>\n",
       "      <th>metric</th>\n",
       "      <th></th>\n",
       "    </tr>\n",
       "  </thead>\n",
       "  <tbody>\n",
       "    <tr>\n",
       "      <th>f1</th>\n",
       "      <td>0.582812</td>\n",
       "    </tr>\n",
       "    <tr>\n",
       "      <th>precision</th>\n",
       "      <td>0.577414</td>\n",
       "    </tr>\n",
       "    <tr>\n",
       "      <th>recall</th>\n",
       "      <td>0.589304</td>\n",
       "    </tr>\n",
       "  </tbody>\n",
       "</table>\n",
       "</div>"
      ],
      "text/plain": [
       "              value\n",
       "metric             \n",
       "f1         0.582812\n",
       "precision  0.577414\n",
       "recall     0.589304"
      ]
     },
     "metadata": {},
     "output_type": "display_data"
    }
   ],
   "source": [
    "submission_metrics = {}\n",
    "\n",
    "for f in glob.glob(\"submissions/*.gz\"):\n",
    "    \n",
    "    this_run_id = f.partition(\"/\")[-1].replace(\".gz\", \"\")\n",
    "    print(f, \"-->\", this_run_id)\n",
    "    \n",
    "    this_run_event_request_facts = {k:[] for k in all_req_ids}\n",
    "    with gzip.open(f, \"r\") as in_file:\n",
    "        for line_ in in_file:\n",
    "            line = line_.decode(\"utf8\")\n",
    "            \n",
    "            entry = json.loads(line)\n",
    "            this_req_id = entry[\"requestID\"]\n",
    "            \n",
    "            # We skip days where we have no relevant facts from assessors\n",
    "            if this_req_id not in all_req_ids:\n",
    "                continue\n",
    "            \n",
    "            this_run_event_request_facts[this_req_id].append(entry)\n",
    "            \n",
    "    local_event_summaries = {e_id:[] for e_id in event_df.index}\n",
    "    for event_request,this_fact_list in this_run_event_request_facts.items():\n",
    "        event_id = event_request.rpartition(\"-\")[0]\n",
    "        \n",
    "        sorted_fact_list = sorted(this_fact_list, key=lambda v: v[\"importance\"], reverse=True)\n",
    "        this_day_summary = [this_top_fact[\"factText\"] for this_top_fact in sorted_fact_list[:TOP_K]]\n",
    "        \n",
    "        local_event_summaries[event_id] = local_event_summaries[event_id] + this_day_summary\n",
    "        \n",
    "\n",
    "    wiki_dfs = []\n",
    "    nist_dfs = []\n",
    "    for event_id,event in event_df.iterrows():\n",
    "        \n",
    "        this_submitted_summary = local_event_summaries[event_id]\n",
    "\n",
    "        this_summary_text = \". \".join(this_submitted_summary).replace(\"..\", \".\")\n",
    "        print(event_id, len(this_summary_text))\n",
    "        \n",
    "        nist_summary = event[\"nist.summary\"]\n",
    "        wiki_summary = event[\"wiki.summary\"]\n",
    "\n",
    "        nist_metric_ = bert_score.score([this_summary_text], [nist_summary], model_type=\"microsoft/deberta-xlarge-mnli\", device=\"cuda:0\",)\n",
    "        wiki_metric_ = bert_score.score([this_summary_text], [wiki_summary], model_type=\"microsoft/deberta-xlarge-mnli\", device=\"cuda:0\",)\n",
    "        \n",
    "        nist_metric = {\n",
    "            \"precision\": nist_metric_[0],\n",
    "            \"recall\": nist_metric_[1],\n",
    "            \"f1\": nist_metric_[2],\n",
    "        }\n",
    "        \n",
    "        wiki_metric = {\n",
    "            \"precision\": wiki_metric_[0],\n",
    "            \"recall\": wiki_metric_[1],\n",
    "            \"f1\": wiki_metric_[2],\n",
    "        }\n",
    "        \n",
    "        this_wiki_df = pd.DataFrame([{\"metric\":k, \"value\":v.item(), \"event\": event_id} for k,v in wiki_metric.items()])\n",
    "        this_nist_df = pd.DataFrame([{\"metric\":k, \"value\":v.item(), \"event\": event_id} for k,v in nist_metric.items()])\n",
    "        \n",
    "        wiki_dfs.append(this_wiki_df)\n",
    "        nist_dfs.append(this_nist_df)\n",
    "        \n",
    "    full_wiki_df = pd.concat(wiki_dfs)\n",
    "    full_nist_df = pd.concat(nist_dfs)\n",
    "    \n",
    "    submission_metrics[this_run_id] = {\n",
    "        \"wiki\": full_wiki_df,\n",
    "        \"nist\": full_nist_df,\n",
    "    }\n",
    "    \n",
    "    display(full_nist_df.groupby(\"metric\").mean())\n",
    "\n"
   ]
  },
  {
   "cell_type": "code",
   "execution_count": null,
   "id": "bc93d833",
   "metadata": {},
   "outputs": [],
   "source": []
  },
  {
   "cell_type": "code",
   "execution_count": null,
   "id": "13c81f81",
   "metadata": {},
   "outputs": [],
   "source": [
    "all_runs = []\n",
    "for k,v in submission_metrics.items():\n",
    "    print(k)\n",
    "    \n",
    "    stackable = []\n",
    "    for comparator,ldf in v.items():\n",
    "        stackable_ldf = ldf.copy()\n",
    "        stackable_ldf[\"target.summary\"] = comparator\n",
    "\n",
    "        stackable.append(stackable_ldf)\n",
    "\n",
    "    this_run_df = pd.concat(stackable)\n",
    "    this_run_df[\"run\"] = k\n",
    "    \n",
    "    all_runs.append(this_run_df)\n",
    "    this_run_df.to_csv(\"evaluation.output.bertscore/%s.csv\" % k, index=False)\n",
    "    \n",
    "all_runs_df = pd.concat(all_runs)\n",
    "all_runs_df.to_csv(\"evaluation.output.bertscore/all_runs.csv\", index=False)"
   ]
  },
  {
   "cell_type": "code",
   "execution_count": null,
   "id": "d6eaf04b",
   "metadata": {},
   "outputs": [],
   "source": []
  },
  {
   "cell_type": "code",
   "execution_count": null,
   "id": "cd743bda",
   "metadata": {},
   "outputs": [],
   "source": [
    "target_summaries = {}\n",
    "for target in [\"wiki\", \"nist\"]:\n",
    "    this_target_df = all_runs_df[all_runs_df[\"target.summary\"] == target]\n",
    "    \n",
    "    index = []\n",
    "    rows = []\n",
    "    for run_name,group in this_target_df.groupby(\"run\"):\n",
    "        print(run_name)\n",
    "        this_row = group.pivot(\"event\", \"metric\", \"value\").mean()\n",
    "        rows.append(this_row)\n",
    "        index.append(run_name)\n",
    "\n",
    "    summary_df = pd.DataFrame(rows, index=index)[[\n",
    "        \"f1\", \n",
    "    ]]\n",
    "\n",
    "    final_df = summary_df.sort_values(by=\"f1\", ascending=False)\n",
    "    final_df.to_csv(\"evaluation.output.bertscore/%s.summary.csv\" % target)\n",
    "    \n",
    "    target_summaries[target] = final_df"
   ]
  },
  {
   "cell_type": "code",
   "execution_count": null,
   "id": "d81ac222",
   "metadata": {},
   "outputs": [],
   "source": []
  },
  {
   "cell_type": "code",
   "execution_count": 8,
   "id": "42682b70",
   "metadata": {},
   "outputs": [],
   "source": [
    "rel2023_events = [\n",
    "    'CrisisFACTS-009',\n",
    "    'CrisisFACTS-010',\n",
    "    'CrisisFACTS-011',\n",
    "    'CrisisFACTS-012',\n",
    "    'CrisisFACTS-013',\n",
    "    'CrisisFACTS-014',\n",
    "    'CrisisFACTS-015',\n",
    "    'CrisisFACTS-016',\n",
    "    'CrisisFACTS-017',\n",
    "    'CrisisFACTS-018'\n",
    "\n",
    "]"
   ]
  },
  {
   "cell_type": "code",
   "execution_count": null,
   "id": "dcd28381",
   "metadata": {
    "scrolled": false
   },
   "outputs": [],
   "source": [
    "rows = []\n",
    "for runtag,group in all_runs_df[all_runs_df[\"event\"].isin(rel2023_events)].groupby(\"run\"):\n",
    "    print(runtag)\n",
    "    t_map = {\"run\": runtag}\n",
    "    for target,t_group in group.groupby(\"target.summary\"):\n",
    "        print(\"\\t\", target)\n",
    "        \n",
    "        if target == \"wiki\":\n",
    "            t_group = t_group[~t_group[\"event\"].isin([\"CrisisFACTS-011\", \"CrisisFACTS-012\"])]\n",
    "        for metric,m_group in t_group.groupby(\"metric\"):\n",
    "            print(\"\\t\\t\", metric, m_group[\"value\"].mean())\n",
    "            \n",
    "            t_map[\"%s.%s\" % (target,metric)] = m_group[\"value\"].mean()\n",
    "            \n",
    "    rows.append(t_map)"
   ]
  },
  {
   "cell_type": "code",
   "execution_count": null,
   "id": "779b6388",
   "metadata": {},
   "outputs": [],
   "source": [
    "by_run_df = pd.DataFrame(rows).set_index(\"run\")\n",
    "by_run_df.to_csv(\"by_run.bertscore.summary.csv\")\n",
    "by_run_df[[\"nist.f1\", \"wiki.f1\"]]"
   ]
  },
  {
   "cell_type": "code",
   "execution_count": 49,
   "id": "78fb3cb1",
   "metadata": {},
   "outputs": [
    {
     "data": {
      "text/html": [
       "<div>\n",
       "<style scoped>\n",
       "    .dataframe tbody tr th:only-of-type {\n",
       "        vertical-align: middle;\n",
       "    }\n",
       "\n",
       "    .dataframe tbody tr th {\n",
       "        vertical-align: top;\n",
       "    }\n",
       "\n",
       "    .dataframe thead th {\n",
       "        text-align: right;\n",
       "    }\n",
       "</style>\n",
       "<table border=\"1\" class=\"dataframe\">\n",
       "  <thead>\n",
       "    <tr style=\"text-align: right;\">\n",
       "      <th></th>\n",
       "      <th>nist.f1</th>\n",
       "      <th>wiki.f1</th>\n",
       "    </tr>\n",
       "  </thead>\n",
       "  <tbody>\n",
       "    <tr>\n",
       "      <th>nist.f1</th>\n",
       "      <td>1.000000</td>\n",
       "      <td>0.729993</td>\n",
       "    </tr>\n",
       "    <tr>\n",
       "      <th>wiki.f1</th>\n",
       "      <td>0.729993</td>\n",
       "      <td>1.000000</td>\n",
       "    </tr>\n",
       "  </tbody>\n",
       "</table>\n",
       "</div>"
      ],
      "text/plain": [
       "          nist.f1   wiki.f1\n",
       "nist.f1  1.000000  0.729993\n",
       "wiki.f1  0.729993  1.000000"
      ]
     },
     "execution_count": 49,
     "metadata": {},
     "output_type": "execute_result"
    }
   ],
   "source": [
    "by_run_df[[\"nist.f1\", \"wiki.f1\"]].corr()"
   ]
  },
  {
   "cell_type": "code",
   "execution_count": 50,
   "id": "321a7435",
   "metadata": {},
   "outputs": [
    {
     "data": {
      "text/plain": [
       "<AxesSubplot:xlabel='nist.f1', ylabel='wiki.f1'>"
      ]
     },
     "execution_count": 50,
     "metadata": {},
     "output_type": "execute_result"
    },
    {
     "data": {
      "image/png": "[encoded data removed]",
      "text/plain": [
       "<Figure size 640x480 with 1 Axes>"
      ]
     },
     "metadata": {},
     "output_type": "display_data"
    }
   ],
   "source": [
    "by_run_df[[\"nist.f1\", \"wiki.f1\"]].plot.scatter(x=\"nist.f1\", y=\"wiki.f1\")"
   ]
  },
  {
   "cell_type": "code",
   "execution_count": null,
   "id": "7a4ee445",
   "metadata": {
    "scrolled": false
   },
   "outputs": [],
   "source": [
    "fig = plt.figure(figsize=(9,16))\n",
    "ax = fig.add_subplot(1,1,1)\n",
    "\n",
    "by_run_df[[\"nist.f1\", \"wiki.f1\"]].sort_values(by=\"nist.f1\").plot.barh(ax=ax)"
   ]
  },
  {
   "cell_type": "code",
   "execution_count": null,
   "id": "e2a30a0b",
   "metadata": {},
   "outputs": [],
   "source": []
  },
  {
   "cell_type": "markdown",
   "id": "66a6d6a2",
   "metadata": {},
   "source": [
    "## By Day"
   ]
  },
  {
   "cell_type": "code",
   "execution_count": 9,
   "id": "29ff267e",
   "metadata": {},
   "outputs": [
    {
     "name": "stdout",
     "output_type": "stream",
     "text": [
      "CrisisFACTS-009\n",
      "\t nist\n",
      "\t\t f1 0.5944958119480698\n",
      "\t\t precision 0.5838032254466304\n",
      "\t\t recall 0.6062390738063388\n",
      "\t wiki\n",
      "\t\t f1 0.5243068491971051\n",
      "\t\t precision 0.500296613684407\n",
      "\t\t recall 0.5517989452238437\n",
      "CrisisFACTS-010\n",
      "\t nist\n",
      "\t\t f1 0.5397375226020813\n",
      "\t\t precision 0.5372185475296445\n",
      "\t\t recall 0.5428161797700105\n",
      "\t wiki\n",
      "\t\t f1 0.5075077348285251\n",
      "\t\t precision 0.48013112169724925\n",
      "\t\t recall 0.5384173349097923\n",
      "CrisisFACTS-011\n",
      "\t nist\n",
      "\t\t f1 0.584928779690354\n",
      "\t\t precision 0.5842972949699119\n",
      "\t\t recall 0.5856975140394988\n",
      "\t wiki\n",
      "CrisisFACTS-012\n",
      "\t nist\n",
      "\t\t f1 0.5417604424335338\n",
      "\t\t precision 0.5370358758502536\n",
      "\t\t recall 0.5467083575548949\n",
      "\t wiki\n",
      "CrisisFACTS-013\n",
      "\t nist\n",
      "\t\t f1 0.6086270566339846\n",
      "\t\t precision 0.609467124497449\n",
      "\t\t recall 0.6080218663922062\n",
      "\t wiki\n",
      "\t\t f1 0.5076530321880623\n",
      "\t\t precision 0.4749550521373749\n",
      "\t\t recall 0.5454533055976585\n",
      "CrisisFACTS-014\n",
      "\t nist\n",
      "\t\t f1 0.6521245086634601\n",
      "\t\t precision 0.6584827281810619\n",
      "\t\t recall 0.6463503064932646\n",
      "\t wiki\n",
      "\t\t f1 0.497006070834619\n",
      "\t\t precision 0.4953494977068018\n",
      "\t\t recall 0.49888885021209717\n",
      "CrisisFACTS-015\n",
      "\t nist\n",
      "\t\t f1 0.5915144439096804\n",
      "\t\t precision 0.5902188199537771\n",
      "\t\t recall 0.5933276746008131\n",
      "\t wiki\n",
      "\t\t f1 0.5357228208471227\n",
      "\t\t precision 0.4977542923556434\n",
      "\t\t recall 0.5804402717837581\n",
      "CrisisFACTS-016\n",
      "\t nist\n",
      "\t\t f1 0.5889533758163452\n",
      "\t\t precision 0.5870738426844279\n",
      "\t\t recall 0.5914793169056928\n",
      "\t wiki\n",
      "\t\t f1 0.4982766531131886\n",
      "\t\t precision 0.4844006454503095\n",
      "\t\t recall 0.5131713714864519\n",
      "CrisisFACTS-017\n",
      "\t nist\n",
      "\t\t f1 0.5767407086160448\n",
      "\t\t precision 0.5717907636253922\n",
      "\t\t recall 0.581962991643835\n",
      "\t wiki\n",
      "\t\t f1 0.5001040332847171\n",
      "\t\t precision 0.45214916710500364\n",
      "\t\t recall 0.559761106967926\n",
      "CrisisFACTS-018\n",
      "\t nist\n",
      "\t\t f1 0.6161658189914845\n",
      "\t\t precision 0.619042451734896\n",
      "\t\t recall 0.6136227272174977\n",
      "\t wiki\n",
      "\t\t f1 0.5189311018696537\n",
      "\t\t precision 0.469753529186602\n",
      "\t\t recall 0.580060601234436\n"
     ]
    }
   ],
   "source": [
    "rows = []\n",
    "for event,group in all_runs_df[all_runs_df[\"event\"].isin(rel2023_events)].groupby(\"event\"):\n",
    "    print(event)\n",
    "    t_map = {\"event\": event}\n",
    "    for target,t_group in group.groupby(\"target.summary\"):\n",
    "        print(\"\\t\", target)\n",
    "        \n",
    "        if target == \"wiki\":\n",
    "            t_group = t_group[~t_group[\"event\"].isin([\"CrisisFACTS-011\", \"CrisisFACTS-012\"])]\n",
    "        for metric,m_group in t_group.groupby(\"metric\"):\n",
    "            print(\"\\t\\t\", metric, m_group[\"value\"].mean())\n",
    "            \n",
    "            t_map[\"%s.%s\" % (target,metric)] = m_group[\"value\"].mean()\n",
    "            \n",
    "    rows.append(t_map)"
   ]
  },
  {
   "cell_type": "code",
   "execution_count": 10,
   "id": "94577ba5",
   "metadata": {},
   "outputs": [
    {
     "data": {
      "text/html": [
       "<div>\n",
       "<style scoped>\n",
       "    .dataframe tbody tr th:only-of-type {\n",
       "        vertical-align: middle;\n",
       "    }\n",
       "\n",
       "    .dataframe tbody tr th {\n",
       "        vertical-align: top;\n",
       "    }\n",
       "\n",
       "    .dataframe thead th {\n",
       "        text-align: right;\n",
       "    }\n",
       "</style>\n",
       "<table border=\"1\" class=\"dataframe\">\n",
       "  <thead>\n",
       "    <tr style=\"text-align: right;\">\n",
       "      <th></th>\n",
       "      <th>nist.f1</th>\n",
       "      <th>wiki.f1</th>\n",
       "    </tr>\n",
       "    <tr>\n",
       "      <th>event</th>\n",
       "      <th></th>\n",
       "      <th></th>\n",
       "    </tr>\n",
       "  </thead>\n",
       "  <tbody>\n",
       "    <tr>\n",
       "      <th>CrisisFACTS-009</th>\n",
       "      <td>0.594496</td>\n",
       "      <td>0.524307</td>\n",
       "    </tr>\n",
       "    <tr>\n",
       "      <th>CrisisFACTS-010</th>\n",
       "      <td>0.539738</td>\n",
       "      <td>0.507508</td>\n",
       "    </tr>\n",
       "    <tr>\n",
       "      <th>CrisisFACTS-011</th>\n",
       "      <td>0.584929</td>\n",
       "      <td>NaN</td>\n",
       "    </tr>\n",
       "    <tr>\n",
       "      <th>CrisisFACTS-012</th>\n",
       "      <td>0.541760</td>\n",
       "      <td>NaN</td>\n",
       "    </tr>\n",
       "    <tr>\n",
       "      <th>CrisisFACTS-013</th>\n",
       "      <td>0.608627</td>\n",
       "      <td>0.507653</td>\n",
       "    </tr>\n",
       "    <tr>\n",
       "      <th>CrisisFACTS-014</th>\n",
       "      <td>0.652125</td>\n",
       "      <td>0.497006</td>\n",
       "    </tr>\n",
       "    <tr>\n",
       "      <th>CrisisFACTS-015</th>\n",
       "      <td>0.591514</td>\n",
       "      <td>0.535723</td>\n",
       "    </tr>\n",
       "    <tr>\n",
       "      <th>CrisisFACTS-016</th>\n",
       "      <td>0.588953</td>\n",
       "      <td>0.498277</td>\n",
       "    </tr>\n",
       "    <tr>\n",
       "      <th>CrisisFACTS-017</th>\n",
       "      <td>0.576741</td>\n",
       "      <td>0.500104</td>\n",
       "    </tr>\n",
       "    <tr>\n",
       "      <th>CrisisFACTS-018</th>\n",
       "      <td>0.616166</td>\n",
       "      <td>0.518931</td>\n",
       "    </tr>\n",
       "  </tbody>\n",
       "</table>\n",
       "</div>"
      ],
      "text/plain": [
       "                  nist.f1   wiki.f1\n",
       "event                              \n",
       "CrisisFACTS-009  0.594496  0.524307\n",
       "CrisisFACTS-010  0.539738  0.507508\n",
       "CrisisFACTS-011  0.584929       NaN\n",
       "CrisisFACTS-012  0.541760       NaN\n",
       "CrisisFACTS-013  0.608627  0.507653\n",
       "CrisisFACTS-014  0.652125  0.497006\n",
       "CrisisFACTS-015  0.591514  0.535723\n",
       "CrisisFACTS-016  0.588953  0.498277\n",
       "CrisisFACTS-017  0.576741  0.500104\n",
       "CrisisFACTS-018  0.616166  0.518931"
      ]
     },
     "execution_count": 10,
     "metadata": {},
     "output_type": "execute_result"
    }
   ],
   "source": [
    "by_event_df = pd.DataFrame(rows).set_index(\"event\")\n",
    "by_event_df.to_csv(\"by_event.bertscore.summary.csv\")\n",
    "by_event_df[[\"nist.f1\", \"wiki.f1\"]]"
   ]
  },
  {
   "cell_type": "code",
   "execution_count": 11,
   "id": "3242999d",
   "metadata": {},
   "outputs": [
    {
     "data": {
      "text/plain": [
       "<AxesSubplot:ylabel='event'>"
      ]
     },
     "execution_count": 11,
     "metadata": {},
     "output_type": "execute_result"
    },
    {
     "data": {
      "image/png": "[encoded data removed]",
      "text/plain": [
       "<Figure size 900x1600 with 1 Axes>"
      ]
     },
     "metadata": {},
     "output_type": "display_data"
    }
   ],
   "source": [
    "fig = plt.figure(figsize=(9,16))\n",
    "ax = fig.add_subplot(1,1,1)\n",
    "\n",
    "by_event_df[[\"nist.f1\", \"wiki.f1\"]].plot.barh(ax=ax)"
   ]
  },
  {
   "cell_type": "code",
   "execution_count": null,
   "id": "60afedd5",
   "metadata": {},
   "outputs": [],
   "source": []
  },
  {
   "cell_type": "code",
   "execution_count": 5,
   "id": "0f0b4512",
   "metadata": {},
   "outputs": [],
   "source": [
    "score_df = pd.read_csv(\"by_event.bertscore.summary.csv\", index_col=0)\n",
    "print(score_df.groupby(\"event\").mean().style.to_latex())"
   ]
  },
  {
   "cell_type": "code",
   "execution_count": 7,
   "id": "c4709d84",
   "metadata": {},
   "outputs": [
    {
     "name": "stdout",
     "output_type": "stream",
     "text": [
      "\\begin{tabular}{lrrrrrr}\n",
      " & nist.f1 & nist.precision & nist.recall & wiki.f1 & wiki.precision & wiki.recall \\\\\n",
      "event &  &  &  &  &  &  \\\\\n",
      "CrisisFACTS-009 & 0.594496 & 0.583803 & 0.606239 & 0.524307 & 0.500297 & 0.551799 \\\\\n",
      "CrisisFACTS-010 & 0.539738 & 0.537219 & 0.542816 & 0.507508 & 0.480131 & 0.538417 \\\\\n",
      "CrisisFACTS-011 & 0.584929 & 0.584297 & 0.585698 & nan & nan & nan \\\\\n",
      "CrisisFACTS-012 & 0.541760 & 0.537036 & 0.546708 & nan & nan & nan \\\\\n",
      "CrisisFACTS-013 & 0.608627 & 0.609467 & 0.608022 & 0.507653 & 0.474955 & 0.545453 \\\\\n",
      "CrisisFACTS-014 & 0.652125 & 0.658483 & 0.646350 & 0.497006 & 0.495349 & 0.498889 \\\\\n",
      "CrisisFACTS-015 & 0.591514 & 0.590219 & 0.593328 & 0.535723 & 0.497754 & 0.580440 \\\\\n",
      "CrisisFACTS-016 & 0.588953 & 0.587074 & 0.591479 & 0.498277 & 0.484401 & 0.513171 \\\\\n",
      "CrisisFACTS-017 & 0.576741 & 0.571791 & 0.581963 & 0.500104 & 0.452149 & 0.559761 \\\\\n",
      "CrisisFACTS-018 & 0.616166 & 0.619042 & 0.613623 & 0.518931 & 0.469754 & 0.580061 \\\\\n",
      "\\end{tabular}\n",
      "\n"
     ]
    }
   ],
   "source": [
    "print(score_df.groupby(\"event\").mean().style.to_latex())"
   ]
  },
  {
   "cell_type": "code",
   "execution_count": null,
   "id": "9998ed11",
   "metadata": {},
   "outputs": [],
   "source": []
  }
 ],
 "metadata": {
  "kernelspec": {
   "display_name": "Python 3 (ipykernel)",
   "language": "python",
   "name": "python3"
  },
  "language_info": {
   "codemirror_mode": {
    "name": "ipython",
    "version": 3
   },
   "file_extension": ".py",
   "mimetype": "text/x-python",
   "name": "python",
   "nbconvert_exporter": "python",
   "pygments_lexer": "ipython3",
   "version": "3.9.12"
  }
 },
 "nbformat": 4,
 "nbformat_minor": 5
}
