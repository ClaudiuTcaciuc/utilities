{
 "cells": [
  {
   "cell_type": "markdown",
   "id": "1c22735b",
   "metadata": {},
   "source": [
    "# BERTScore Scoring Against NIST and Wikipedia\n",
    "\n",
    "Duplicating CrisisFACTS 2022 assessment via BERTScore"
   ]
  },
  {
   "cell_type": "code",
   "execution_count": 100,
   "id": "db0b332e",
   "metadata": {},
   "outputs": [],
   "source": [
    "%matplotlib inline"
   ]
  },
  {
   "cell_type": "code",
   "execution_count": 101,
   "id": "44a96521",
   "metadata": {},
   "outputs": [],
   "source": [
    "import pandas as pd\n",
    "import numpy as np\n",
    "import json\n",
    "import glob\n",
    "import gzip\n",
    "import torch\n",
    "\n",
    "import scipy.stats\n",
    "\n",
    "import matplotlib.pyplot as plt"
   ]
  },
  {
   "cell_type": "code",
   "execution_count": 102,
   "id": "73bd29a3",
   "metadata": {},
   "outputs": [],
   "source": [
    "import wikipedia"
   ]
  },
  {
   "cell_type": "code",
   "execution_count": 103,
   "id": "c556aa5c",
   "metadata": {},
   "outputs": [],
   "source": [
    "from torchmetrics.text.rouge import ROUGEScore"
   ]
  },
  {
   "cell_type": "code",
   "execution_count": null,
   "id": "3a6d5ee5",
   "metadata": {},
   "outputs": [],
   "source": []
  },
  {
   "cell_type": "markdown",
   "id": "1f344b8d",
   "metadata": {},
   "source": [
    "## Get CrisisFACTS Event Metadata"
   ]
  },
  {
   "cell_type": "code",
   "execution_count": 104,
   "id": "fa982806",
   "metadata": {},
   "outputs": [],
   "source": [
    "event_df = pd.read_json(\"CrisisFACTs-2022to2023.topics.json\", lines=False).set_index(\"eventID\")"
   ]
  },
  {
   "cell_type": "markdown",
   "id": "bfbd2d79",
   "metadata": {},
   "source": [
    "### Get Summaries from Wikipedia"
   ]
  },
  {
   "cell_type": "code",
   "execution_count": 105,
   "id": "26edb077",
   "metadata": {},
   "outputs": [
    {
     "name": "stdout",
     "output_type": "stream",
     "text": [
      "https://en.wikipedia.org/wiki/Lilac_Fire\n",
      "https://en.wikipedia.org/wiki/Cranston_Fire\n",
      "https://en.wikipedia.org/wiki/Holy_Fire_(2018)\n",
      "https://en.wikipedia.org/wiki/Hurricane_Florence\n",
      "https://en.wikipedia.org/wiki/2018_Maryland_flood\n",
      "https://en.wikipedia.org/wiki/Saddleridge_Fire\n",
      "https://en.wikipedia.org/wiki/Hurricane_Laura\n",
      "https://en.wikipedia.org/wiki/Hurricane_Sally\n",
      "https://en.wikipedia.org/wiki/2020_Beirut_explosion\n",
      "https://en.wikipedia.org/wiki/2020_Houston_explosion\n",
      "https://en.wikipedia.org/wiki/Edenville_Dam#Dam_failure\n",
      "https://en.wikipedia.org/wiki/Hurricane_Dorian\n",
      "https://en.wikipedia.org/wiki/Kincade_Fire\n",
      "https://en.wikipedia.org/wiki/2020_Easter_tornado_outbreak\n",
      "https://en.wikipedia.org/wiki/Tornado_outbreak_of_April_22-23,_2020\n",
      "https://en.wikipedia.org/wiki/Tornado_outbreak_of_March_2-3,_2020\n"
     ]
    }
   ],
   "source": [
    "def get_wiki_summary(url):\n",
    "    \n",
    "    if \"wikipedia.org\" not in url:\n",
    "        return \"\"\n",
    "    \n",
    "    page_title = url.rpartition(\"/\")[-1]\n",
    "    print(url)\n",
    "    page = wikipedia.page(title=page_title, auto_suggest=False)\n",
    "    \n",
    "    return page.summary\n",
    "\n",
    "event_df[\"wiki.summary\"] = event_df[\"url\"].apply(get_wiki_summary)"
   ]
  },
  {
   "cell_type": "markdown",
   "id": "972f2f1c",
   "metadata": {},
   "source": [
    "### Get Summaries from Assessors"
   ]
  },
  {
   "cell_type": "code",
   "execution_count": 106,
   "id": "a2e097d1",
   "metadata": {},
   "outputs": [],
   "source": [
    "with open(\"final-annotated-facts-results.json\", \"r\") as in_file:\n",
    "    annotation_data = json.load(in_file)"
   ]
  },
  {
   "cell_type": "code",
   "execution_count": 107,
   "id": "85afc64c",
   "metadata": {},
   "outputs": [],
   "source": [
    "event_fact_lists = {}\n",
    "\n",
    "for req_id,req_data in annotation_data.items():\n",
    "    event_id = req_id.rpartition(\"-\")[0]\n",
    "    local_fact_set = {f[0] for f in req_data[\"fact_list\"] if f[2] == \"USEFUL_FACT\"}\n",
    "    \n",
    "    with open(\"../00-createSummaries/collapsed-event-days/Collapsed-%s.json\" % req_id) as in_file:\n",
    "        local_fact_data = json.load(in_file)\n",
    "        \n",
    "    local_fact_text = [\n",
    "        fact[\"fact_text\"] for fact in local_fact_data \n",
    "        if fact[\"collapsed_fact_id\"] in local_fact_set\n",
    "    ]\n",
    "    \n",
    "    local_fact_list = event_fact_lists.get(event_id, [])\n",
    "    local_fact_list = local_fact_list + local_fact_text\n",
    "    event_fact_lists[event_id] = local_fact_list"
   ]
  },
  {
   "cell_type": "code",
   "execution_count": 108,
   "id": "3632d5ee",
   "metadata": {},
   "outputs": [],
   "source": [
    "event_df[\"nist.summary\"] = [\". \".join(event_fact_lists[event_id]).replace(\"..\", \".\") for event_id in event_df.index]\n"
   ]
  },
  {
   "cell_type": "code",
   "execution_count": 109,
   "id": "6cd5765f",
   "metadata": {},
   "outputs": [
    {
     "data": {
      "text/plain": [
       "'Wind gusts have been recorded at 40-50 mph in the area. The PIO (public information officer) will be located at Hwy 76 & Old Hwy 395. Evacuation orders are in effect for the #LilacFire. Old River Road at Little Gopher Canyon Road through Golf Club Drive is closed. : Evacuation Centers. The California Thoroughbred Horsemen\\'s Foundation is assisting those impacted by the fire. Trees and poles are deeply charred or still smoking. Shelters opened for evacuees and pets. Firefighters are needed at TC West Lilac at 395. All #CoastNewsClassic games at Carlsbad High School have been cancelled today. Jacumba and Dulzura area, more than 1,600 customers were without power. Bonsall High School is being evacuated. Gopher Canyon Road is closed from East Vista Way to Little Gopher Canyon Road. Ojai, population 7,500, was among several cities threatened in Ventura County, where more than 400 buildings had been destroyed as of Thursday night and 85 more damaged. Fallbrook High School is open as an evacuation shelter for the Lilac Fire. Current winds at #LilacFire; that\\'s a 59-mph wind nearby at Camp Pendleton. Evacuation centers set up at Bostonia Recreation Center in El Cajon, Carlsbad Forum in Carlsbad, East Valley. The County of San Diego Health and Human Services Agency (HHSA) closed the following Oceanside and Fallbrook facilities on Friday, Dec. 8 due to the Lilac Fire:  North Coastal Family Resource Center. Area under mandatory evacuation: North of Pala Road, south of Reche Road, west of the…. We are exercising our agreement with the military to utilize their helicopters for firefighting. wind map shows widespread northeast wind direction (from northeast) with gusts 30-50 mph (red) near #Lilacfire #SantaAnaWinds humidity 3-5 percen. Del Lar fairgrounds are taking in large animals. Fire burning in Bonsall/Fallbrook area at SB I-15 & SR 76. Evacuation area: West Lilac Ave and Sullivan middle school. structures were damaged by a fire that officials said was spreading at a dangerous rate. Emergency Shelters Open In San Diego County After Power Outages. Conditions resulted in a local state of emergency by the County of San Diego. A mobile home park in Bonsall was devastated by the Lilac Fire as it broke out and quickly spread west Thursday. The Latest : 2 people burned in raging San Diego wildfire. The San Diego County Office of Emergency Services reported an outage with its 211 emergency hotline due to a high volume of calls. California Gov. Jerry Brown declared a state of emergency for San Diego County Thursday, freeing up federal resources as crews battle the fast-moving blaze. Two emergency shelters were opened Thursday in support of residents impacted by power outages, the San Diego County. San Diego Gas & Electric shut off the power for about 12,000 customers due to safety reasons as high winds and dry conditions have put the area at risk. A fire weather warning is in effect until 8 p.m. Sunday and means any fires that develop will spread rapidly and be very difficult to control. @bgcola28 Tomorrow in San Diego hurricane force wind gusts 90 mph unprecedented . unbelievable. Such devastation the LA fires omg. San Diego is on the highest wildfire warning and north county is being evacuated but finals are still happening🤷🏽\\u200d♀️. Temporary evacuation shelters have also been set up at Great Oak High School on Deer Hollow Way starting at 6 p.m. Fallbrook High School was initially used as a shelter site but was later closed to ev. Authorities issued an initial mandatory evacuation order for all areas south of state Route 76, west of Interstate15, north of Gopher Canyon Road and east of Mission Road/Vista Way. People who need assistance evacuating large animals should call the county\\'s Department of Animal Service\\'s 24-hour emergency dispatch at (619) 236-2341 or the San Diego Humane Society at (619) 243-34. School closures on Tuesday:  · Bonsall Unified School District  Damage: 151 structures destroyed, 56 damaged, seven people injured. (Hayne Palmour IV / San Diego Union-Tribune) 14 / 38 A firefighting helicopter makes a water drop along Old River Road while battling the Lilac Fire. Here are the latest updates:  Lilac fire in San Diego County  Current estimated fire perimeter:  Size: 4,100 acres  Containment: 92 percent  Road closures: All roads have been reopened. Cleveland NF is sending 1 helicopter, 2 fire engine strike teams (10 engines) and 1 water tender to the #LilacFire #SanDiegoCounty. The Lilac Fire has impacted over 10,000 people and continues to spread. Mandatory evacuations have been ordered for over 100,000 people in San Diego County. Over 2000 structures are threatened by the fire, including homes, businesses,. A San Diego County Sheriff\\'s Department deputy suffered minor injuries while directing traffic. Two civilians are being treated for burn injuries suffered in the Lilac Fire and are being taken to a hospital. The fire has grown to 2,000 acres and is still 0% contained. As of this morning, two emergency shelters have been opened in San Diego. The American Red Cross has also opened two additional shelters in Escondido and Oceanside. In total, 11 shelters are currently open and providing assistance to those in need. The PIO (public information officer) will be located at Hwy 76 & Old Hwy 395. County officials warn that the Lilac Fire is not yet contained and is still a threat. The public is encouraged to check the CALFIRE_PIO and 211. The Del Mar Fairgrounds Animal Evacuation Center is currently fully staffed with volunteers, but a spokeswoman for the center said people who wish to volunteer on Friday can show up beginning at 6 a.m. San Diego County is looking for volunteers for their 211 call. The Lilac Fire is 0% contained and has burned 500 acres. The Creek Fire is 5% contained and has burned 12,000 acres. The Thomas Fire is 5% contained and has burned 90,000 acres. Emergency services have been requested for a civilian burn victim on Vessels Ranch Road. A second ambulance and engine response has been requested to evaluate the need for a second airship. The Lilac Fire has burned over 4 miles and is still active. In California, multiple lanes have been closed on I-15 Southbound due to a massive traffic backup. Additionally, Old 395 has been closed from 76 South to 15, and both directions of 76 have been closed from East Vista Way to the West. The East. The fires in California have forced the cancellation of my trip to California. Maybe next year @bouchallez !!! The Lilac Fire has now reached San Diego, and classes at MiraCosta have been cancelled today and tomorrow. #LilacFire. Water supplies have been contaminated in some areas, and horses and other animals have been evacuated to safety at the Del Mar Fairgrounds, which is in need of supplies. People have been asked to donate money instead of material supplies. 100 fire engines, 15 helicopters, 7 air tankers; 2 Navy helicopters and 2 Marine helicopters expected to assist on Friday. 19,300 people in the area are without power. 500 horses need to be rescued at SAN LUIS REY TRAINING CENTER. Green Canyon Road in Fallbrook has road closure. At least 63 homes and other structures have been destroyed and an additional 45 damaged. The number of active firefighters is unknown. The declarations help free state resources such as the National Guard to support response efforts. Emergency services are deployed in SD Country. Shelters in Carlsbad and Oceanside filled overnight and a new shelter opened at Palomar College in San Marcos on Friday. Compounding problems Thursday were dry weather and merciless winds, with gusts predicted to reach the strength of a Category 1 hurricane in mountainous areas. The fire quickly grew to 50 acres and began to spread out of control. The Lilac Fire in San Diego has caused water supplies to be contaminated. Animals and people are in need of food, water, and supplies. The Stagecoach Park shelter has minimal supplies and donations are appreciated. Join HoverCam in supporting the San Diego community during the fire. Donate. Traffic lights out at willow rd in #SanDiego on 67 SB before Lakeside Ave, stopped traffic back to Scripps Poway Pky. Evacuation warnings are currently in effect. 1 civilian has been injured due to smoke inhalation. 3 civilians have sustained burn injuries. Oceanside High School at 1 Pirates Cove Way, Oceanside. High winds expected in San Diego county. 15 helicopters and 7 air tankers. Palomar College, located at 1440 W. Mission Road in San Marcos. 80 people at the Palomar College Shelter. 15 helicopters assigned to the fire. Nearly 900 people remain in shelters this morning. Del Mar Fairgrounds needs water and help. 700 firefighters currently on the job. Interfaiths Libby Lake Service Center is closed due to # LilacFire. 15 helicopters and seven air tankers attacked the flames. All roads in and out of Bonsall seem closed. While the GOPs tax bill would end deductions for properties damaged in natural disasters, including ongoing Southern California wildfires that have destroyed hundreds of buildings. San Diego Gas and Electric cuts off power to thousands as preemptive step to keep downed power lines from sparking. As we experienced in 2003 and 2007, the damage caused by wildfires can devastate entire communities. The fast-moving #LilacFire has prompted evacuations, road closures, school closures and more. Evacuation shelter opened Latest on # LilacFire in Escondido for evacuees + evacuation area. Stagecoach Park shelter has minimal supplies (no food/water)- if anyone wants to donate it would be appreciated, at… https://t.co/CfngB9ja6g. My mother lives on Green Canyon Road in Fallbrook and has evacuated but road closure shows her road is now closed i… https://t.co/DNjvDt8jpt. #UPDATE: The evacuation center at Fallbrook High School has been closed; evacuees have been transported to the over… https://t.co/snNHtHiCR3. MANDATORY EVACUATIONS LIFTED FOR THE FOLLOWING AREAS (NOW EVACUATION WARNINGS):  West of Wilshire to North River Road  South of North River Road from Wilshire to Holly Lane. Downtown San Diego Homeless, need water, Food, Meds. and temp shelter. Bring horse trailer. Can anyone help? #LilacFire. Most of Ojai\\'s 7,000 residents were warned to clear out late Wednesday and patients unable to walk were moved from the Ojai Valley Community Hospital because of unprecedented, hurricane-force Santa An. Evac Shelter Update: The Great Oak High School shelter has been closed   This 1 has opened \\u2003⬇️ East Valley Communit… https://t.co/0fe8tYJrKx. The forecast from the National Weather Service office for San Diego sees the area impacted by the Lilac Fire continuing to receive blowing winds (with speeds lessening) and extremely dry air sticking . 10 San Diego County school districts will close tomorrow, Dec. 8, due to fires, power, and wind threats: https://t.co/8aaiC2eKWB. Y’all keep everyone in our area in our prayers. The fire is getting close to our homes and it’s affected so much already. 🙁 #LilacFire. Latest burn area - extremely close to my parents home in Oceanside. Mandatory Evacs continue - hoping for the best… https://t.co/8kOS3mNgfr. #LilacFire. Water is needed at the Del Mar Fairgrounds for not only the evacuated individuals but their animals as… https://t.co/H5mu74SQTA. REQUEST FOR ASSISTANCE from Oceanside High School Shelter: Diapers  Bowls for dog food/ water Drinks Breakfast item… https://t.co/Z56eaTtvKf. INTERACTIVE MAP  ACREAGE AND INJURIES  ROAD CLOSURES AS OF FRIDAY MORNING (Dec. 8) - 8:45 a.m.:  Eastbound SR-76 from E. Vista Way to I-15 closed  Westbound SR-76 from Old Hwy 395 to Mission Rd. close. Evacuation centers have been set up at East Valley Community Center, Stagecoach Community Center, and Oceanside High School. The Stagecoach Community Center shelter is now at capacity, and evacuees are being diverted to Oceanside High School. Several airports have closed due to the wildfires in California, including San Diego International Airport. The airport has relocated its cellphone waiting lot to a better location and is still open for business. The fires are north of downtown and the winds are blowing the other direction, so. As of now, crews are en route to attempt a rescue of an unknown number of people trapped in their home on Shamrock. Reports also indicate that one person or persons are trapped in their home in the 3800 block of Via Del Sol. No reports of any trapped animals. Due to the fires, our Vista Toys for Joy site has been cancelled. This site is the ONLY one affected and cancelled. MiraCosta appear to be cancelled tomorrow due to the Lilac Fire - please be safe everybody. Cal state san marcos canceled all my classes. Cal Fire Friday evening downgraded evacuation orders to voluntary evacuation warnings in the following areas:  — West of Wilshire Road to North River Road;  — South of North River Road from Wilshire to Mission;  — South of Holly lane from North River Road to Sagewood. The San Diego Foundation Activates Regional Disaster Fund to Support Wildfire Response and Recovery. Olive hill burn area. The fire containment level is 15%. Oceanside has been hit by the #lilacfire. Four firefighters injured. The Lilac Fire in California has been 20% contained with no firefighter injuries. Firefighters were able to get some rest and the fire is now 15% contained. Thank you firefighters for your hard work and dedication!. High winds and low humidity expected again tomorrow. Homes destroyed: 182, 23 damaged in Fallbrook and Bonsall. Evacuation centers: The center at Palomar College remains open for victims of the Lilac Fire. The winds are expected to hit the Lilac fire area and blow along the coast from Del Mar to Camp Pendleton at 20 to 30 mph, peaking in many areas early Sunday. Power remains out in some areas. WB SR-76 remains closed at I-15. EB SR-76 is closed at E Vista Way. WB SR-76 remains closed at I-15. EB SR-76 is closed at E Vista Way. 3 evacuation shelters remain open for LilacFire evacuees, plus the Del Mar Fairgrounds for large animals. road blockade at Puerta de Lomas and olive hill if you’re trying to get in from the north olive hill sid…. The fire has injured six people. The center at Palomar College remains open for victims of the Lilac Fire. Lilac Fire has burned 4100 acres. RedCross shelters are still available for anyone who remains under a LilacFire evacuation order or is experiencing. Areas of the #LilacFire have been reduced from an evacuation order to an evacuation warning. The National Weather Service said begun. Escondido shelter now closed. Lilac Fire Update: Carlsbad Shelter Closed; Fire Containment Now at 20 Percent\\xa0- San Diego County Emergency… https://t.co/yA2yChrZTh. Officials on Saturday closed shelters that had been operating in Carlsbad and Escondido. Approximately 25 racehorses were killed when a wildfire swept through a San Diego County horse ranch. The Lilac Fire, which began on November 15, destroyed 150 structures and burned more than 4,000 acres. The cause of the. Anyone who needs animals evacuated can get assistance through Southern California Equine Emergency Evacuation Faceb… https://t.co/76J8juWoMW. @SanDiegoCounty Carlsbad Animal Shelter picked up pets for people who could not get to their homes! Great service!… https://t.co/r3h624RY1V. Winds are expected to pick up in Southern California this weekend, posing a threat for more wildfires. Forecasters predict strong winds in the region Saturday and Sunday. The Rancho Monserate neighborhood is particularly vulnerable due to its proximity to the Cleveland National Forest. Residents are. Del Mar Fairgrounds has supplies of food and water, but they ask that people come back next week to restock. When the hot water hose blew, it sprayed water and steam everywhere, causing damage downstairs. Soccer, food and their gifts are next on the list for Tijuana. The westbound SR-76 remains closed at I-15, and the eastbound SR-76 is closed at E Vista Way. Power is out in some areas. The fire quickly spread into the small valley between the freeway and Old Highway 395 and then jumped the highway heading west. Six hundred firefighters have been activated to battle the Lilac Fire in San Diego County, California. The fire is 60% contained and is expected to be fully contained by Christmas Day. Weather conditions have been favorable to the firefighters\\' efforts. San Diego County. High wind warning in effect until 4 p.m. Sunday. Roads are still blocked and power is still out. The fire containment level is 50%. Over 800 people were sheltered through #lilacfire. Currently 117 people are in shelter at Palomar Coll. Winds are expected to be 15 to 25 mph tonite thru Monday AM with gusts of up to 40 mph before weakening. at least 10,000 people had evacuated their homes due to the Lilac Fire. More than 1,400 firefighters worked on the #LilacFire today. Hwy 76 remains closed overnight due to #LilacFire. 1,400 Firefighters Battle #LilacFire. Increase in winds around midnight may hamper firefighting effort. Lilac Fire is now 60% contained but has burned 185 acres. The Del Mar Fairgrounds were still serving as a shelter for large animals, including several horses displaced when the Lilac Fire encroached on the San Luis Rey Downs training facility. which destroyed structures at last count. The Del Mar Fairgrounds and 211 system made new requests for help due to the #LilacFire. Local animal shelters in the CA fire areas will need your help and donations. Money, blankets, towels, fog &amp; cat fo… https://t.co/Z0dUpmWvWw. Water in the affected areas has been contaminated. A high-wind warning remains in effect for most of San Diego County through 4 p.m. today. Evacuation orders lifted for Lilac fire. The firefighters are doing mop-up work in areas where several homes were damaged or destroyed by the fire and where there is still some smoldering debris. structures were damaged in the blaze. San Diego County Sheriff Bill Gore estimated at least 10,000 people had evacuated their homes due to the Lilac Fire. CDI staff will be at #LilacFire Local Assistance Center in #SanDiego helping #wildfire victims. Join us Monday 12/1… https://t.co/ANXYot2ajD. Cal Fire announced that all evacuation orders and road closures were lifted at about 4 p.m. Sunday. The Bostonia shelter is slated to close Monday, while the Palomar one will remain open until there is no demand for the service. Firefighters anticipate return of \\'challenging\\' winds. Most of the shelters that opened for fire evacuees on Thursday have since closed, except for the Bostonia Park and Recreation Center in El Cajon and one at Palomar College in San Marcos where 50 to 70. Firefighters assisted by helicopters spent the day dousing hot spots left in the wake of the 4,100-acre fire, which — at last count — destroyed 151 structures and damaged 56 others.’. It\\'s  bad everyone! I was just in Bonsall today and road closures up again! Winds gusting! #Lilacfire https://t.co/TgELhZ2Gwu. The services that have been closed are: My picks drop your below!! There\\'s a lot of close games this week that could go either way! Legoland was closed, so we made some adjustments and had a great time. Hwy 76 remains closed overnight due to the Lilac Fire. The wildfires in San Diego and Los Angeles have created a thick layer of smoke that is visible from Catalina and impacting air quality in Oceanside. The smoke has created health and safety concerns, and is impeding response efforts to the Lilac Fire. Firefighters are needed across California to battle the raging wildfires. In Santa Barbara, over 8,700 firefighters are slowly increasing the containment on the blaze. In Escondido, firefighters and prisoners are stationed to help fight the Lilac Fire. The Lilac Fire in San Diego has since been contained, but at its peak, the blaze caused the closure of several roads in the area. As of now, the following roads have been re-opened: Interstate 5, State Route 76, and Carlsbad Village Drive. The shelter at Palomar College remained open for people displaced by the Lilac Fire. Water supplies have been contaminated in some areas due to the Lilac Fire in Del Mar, California. The San Diego County Department of Environmental Health issued boil water advisories for parts of the region because public water systems lost pressure in their water distribution systems. As a precaution, the department also. Some areas restricted to residents only. The Bonsall Post Office has reopened and will deliver mail and packages that could not be delivered Friday/Saturday. Over 800 homes & structures have been destroyed. Water advisories are in place until laboratory results show the water is free from bacterial contamination. Volunteers are being requested at a women\\'s homeless shelter. US Navy helicopter squadron is fighting the California wildfires by dropping huge barrels of water. The amount of rainfall that has occurred is unknown. Olive Hill Road remains closed from the 5200 to 5800 block to through traffic. It’s unclear if climate change is directly responsible for California’s current dry, hot weather. Lilac Fire Update:  North County San Diego.  All evacuation orders lifted. State Route 76 now open from East Vista Way to I15. All evacuations orders for the Lilac fire were lifted Sunday evening and all roads have reopened in the Bonsall and…. An Asisstance Center is up and running now at Vista Public Library. The #LilacFire has charred 4,100 acres in San Diego County, CA. A Resource Center for the WildFire is now open. Lilac wildfire burns 2000 acres near Fallbrook. Bonsall, Fallbrook, Valley Center and Spencer Valley schools still closed Monday, due to #LilacFire, according to @SanDiegoCOE. Salvation Army supports evacuees of Lilac Fire - Providing care to evacuees at the Del Mar Fairgrounds San Diego. UPDATE: Mountain Empire Unified School District will also remain closed Monday due to #LilacFire. Some San Diego County schools will be closed today due to the #LilacFire. Lilac Fire has destroyed 151 structures and damaged 56 buildings in San Diego County, CA. A San Diego Fire-Rescue strike team joined the battle against the \"treacherous #LilacFire, and helped save homes a. Evacuation orders were lifted for most areas except for a part of the county just east of Bonsall and south of Fallbrook near the Rancho Monserate Country Club along Olive Hill Road, Cal Fire said Mon. We \\'re thinking of all those impacted by the # LilacFire. SD County DA warns businesses, consumers of price gouging in wake of wildfires #sdlaw #lilacfire #pricegouging. #TaxBillScam has a place in it to eliminate FEMA for California in the event of a earthquake or. All evacuation orders lifted in Lilac Fire with restrictions for some residents. Firefighters from across the state had impressively stopped the spread of the fire by early morning, but it wasn’t until Friday evening that fire officials said they had any of the fire contained. The destructive #LilacFire is now 75% contained, with some residents being allowed to return home. The fire destroy… https://t.co/sQBPtJw20w. There s a new fire just started in #Oceanside its close to the #SanLuisRey mission #wtf  #lilacfire. San Diego County Health and Human Services Agency facilities in Fallbrook and Oceanside that were closed Friday reopened Monday. 🔥🔥#SanDiego #Wildfires 🔥🔥 #LilacFire   As of late Sunday afternoon, West Lilac Road remain closed.  Here\\'s a 360-de… https://t.co/WRIfqjh76d. 151 structures destroyed, 75% containment.  ALL Bonsall schools will be closed tomorrow including Vivian Banks Char… https://t.co/az8OkQxQeV. Two SDG&E Mobile Command Centers remained open throughout Monday  The command centers provide bottled water and service as mobile device charging stations. Those 56 customers are located in the fire zone where the Lilac Fire destroyed at least 151 structures and damaged 56 buildings. At-risk groups affected by the California wildfires include those who have been forced to evacuate their homes, those who have lost their homes and possessions, and those who are unable to receive mail or packages. \\n\\nThe Bonsall Post Office has reopened and will deliver mail and. The San Diego County Department of Environmental Health issued boil water advisories for parts of the region because public water systems lost pressure in their water distribution system. \\n\\nI\\'m at True Food Kitchen - @foxbigkitchen in San Diego, CA. \\n\\nAt Courtyard by Mar. Nearly 7,500 residents evacuated and several were injured, including firefighters. 🔥🔥#SanDiego #Wildfires 🔥🔥 #LilacFire \\n\\nTips on preparing. All public roads open without restriction. Railways have not closed. There’s an invisible line where human development meets flammable vegetation, and it’s where the most destruction from wildfires occurs. Trainers who rescued horses during Lilac Fire need counselors. Santa Ana wind activity has not changed much over the last 70 years. Containment on the #LilacFire has improved to 90 percent. People from 107 households impacted by the #LilacFire helped at Local Assistance Center in Vista today. Spanish speaking mental health professionals needed as volunteers at Del Mar. More than 180 structures, roughly half of which were homes, were destroyed by the Lilac Fire. Red Cross volunteers are providing casework at the Local Assistance Center for those affected by the LilacFire. San Diego County has some programs in place to assist #LilacFire victims with rebuilding. Destroyed avocadogrove, Bonsall, lilacfire, lilacfire2017 in Dec 2017 at Bonsall, California. Valiano, for instance, would need to build new roads leading out of the property to help with evacuation, according to its Fire Protection Plan, a document included in the county’s development review . Video Group of retired #firefighters protect several homes in Bonsall, CA, from #LilacFire. Customers affected by #LilacFire should expect power restoration Tuesday night. According to the National Weather Service, the region should have received nearly 2 inches of rainfall by now, moistening the vegetation and dampening the risk of fire. Some are in the same area as the 2014 Cocos Fire, which destroyed roughly 65 buildings, costing roughly $28.5 million to contain and incurring an estimated $29.8 million in property damage. Keeley said this year’s fires in Napa and Sonoma counties, where more than 40 people died and hundreds of homes and buildings were destroyed, showed the dangers of new development. Unified schools be closed due to recovery from # LilacFire. Bonsall Unified schools will be closed tomorrow due to recovery from #LilacFire. The fireman need electricity to access the well water to fight fires in the rural areas. Yet SDG&amp;E cut the power. S… https://t.co/bXS2xRvrGx. A 2015 Voice of San Diego investigation found that developers behind the project refused to pay for a new fire station for the more than 3,000 additional residents they would bring in to the area. I feel if people are climbing to diamond and they are like 3/4 stacking or somethimg. They will need to solo queue… https://t.co/8ILUguiUG4. The most common needs for North County projects, according to the San Diego County Fire Authority, mostly deal with adequate roads into and out of the projects. Public Works crews are out today removing debris from County-maintained roads, replacing damaged street signs and r… https://t.co/2lFgO5ULYJ. Schools closed today that will reopen tomorrow 12/12 include all Fallbrook and Valley Center schools.  All Bonsall… https://t.co/VzDgc0O6lv. The Lilac Fire in California is currently at 4,100 acres burned and is 92% contained. No human deaths have been reported. The fire is expected to be fully contained by tomorrow evening. The fire department needs electricity to access the well water to fight fires in the rural areas. However, SDG&E cut the power. So far, almost all customers who lost power during the Lilac Fire have had power restored by SDG&E crews. Low-cost Electric Dryer repair services. Traffic diversions are in effect in San Diego on I-5 Southbound before Clairemont Drive, as well as on I-15 Southbound at Clairemont Mesa Boulevard. In both cases, the left two lanes are blocked, causing stopped traffic back to the 805. The Fallbrook Food Pantry is open with its normally scheduled hours Monday through Friday from 9:30 AM to 12:30 PM. They are also increasing the amount of food they are distributing due to the Lilac Fire. Feeding San Diego is also helping out by providing meals. Cross volunteer Esme Griffith were evacuated due to the # LilacFire and foun. Many thousands of firefighters remain working on the firelines. At San Diego International Airport, an accident has caused stop and go traffic on southbound 5, with the right lane blocked. The accident occurred at Manchester Avenue and the delay is approximately 24 minutes.\\n\\nA separate accident has also caused stop and go traffic on southbound 5 in San Diego,. I was made aware that the #lilacfire destroyed the home of ACSA members recently and the family could use some help. San Diego International Airport is open. Firefighters are needed in Los Angeles and Ventura counties. 701 homes, two apartment complexes and 12 commercial structures have been destroyed. Northeast winds are expected to reach speeds of 20 to 30 mph with gusts up to 50 mph. Fire is now 95% contained. Capstone crews providing standby services from SDG&E Incident base supporting the #Lilacfire restoration efforts. Horses evacuated during #LilacFire begin to leave DelMarRacing. is now 95% contained. Very grateful that CAL FIRE is reporting zero firefighter injuries &amp; zero civilian. North Metro firefighters finished up at the #LilacFire and are expected to move on to the #ThomasFire in CA. Old Hwy 395 at Dulin Road has been re-opened. people are finding ways to return back to their homes in Bonsall. Four Bonsall Unified School District campuses closed through new year due to impact of #LilacFire. SD Emergency: Red Flag Warning from December 14 to December 15. A marginal designation means new and existing fires will spread rapidly within the more wind prone areas. RB/Poway News: Smoke Spotted In San Diego Coming From 2 Fires In Mexico - Smoke is visible in parts of San Diego Co… https://t.co/0dxhJYErmr. Next update for the #LilacFire will be at 7PM. To get the latest information on this fire and other major incidents… https://t.co/87JkWXJU4a. Fire weather watch goes into effect tonight. Any fires that develop can spread rapidly and will be difficult to con… https://t.co/VzMOqVwAcJ. Fire danger goes up tomorrow and Friday as winds pick up and humidity remains very low. A Fire Weather Watch will g… https://t.co/Fj0UujSuUv. they broke your expectation just. Strong winds to return to San Diego. FIRE WEATHER ALERT The National Weather Service has issued a Red Flag Fire Warning for the San Diego County inland. these fire events mas. Hundreds of horses were evacuated from Del Mar Racetrack and the DM Fairgrounds during the Lilac Fire. The horses were then transported to various locations around San Diego County. As of now, it is estimated that over 100 horses have been impacted by the fire. Approximately 14,000 people are unaccounted for in California as a result of the Creek and Lilac Fires. The exact number of missing people is still unknown, but the number is likely to increase as search and rescue teams continue their efforts. Many people have been forced from their. The Lilac Fire in California has left many people missing. As of now, 159 people are unaccounted for, according to the San Diego County Sheriff\\'s Office. The fire has burned over 4,100 acres and destroyed over 60 homes. The cause of the. The roads are blocked for 3 days. Firefighters are needed in Fillmore. Chase employees are en route to deliver meals to San Diego seniors. The Lilac Fire caused the evacuation of the pets. 930 buildings have been destroyed with at least 700 of them being homes. The wildfire has burned miles of patchwork areas in the LilacFire area. Kaiser Permanente has donated $600,000 for relief and recovery efforts in communities. 200+ homes & structures damaged. The #LilacFire is holding at 4,100 acres burned. volunteers are being requested at the stable area of the LilacFire. Cal Fire affected by Iversons death. The #LilacFire is 97% contained. Three kittens rescued in the burn zone of the LilacFire in Bonsall. teams looking for the missing #LilacFire horse have found the bodies of all six. Red Flag Warning in effect for the valleys and mountains through 10am Friday. San Diego County Facing Another Red Flag Wildfire Warning. Road damage has occurred in Bonsall. State officials warn #LilacFire victims to watch out for scammers - more info. Southern California fire officials say a Cal Fire engineer from San Diego has died battling the Thomas Fire. Hurricane Harvey victims still need our help. Please join me and many of my colleagues @FOXSports in supporting Kic… https://t.co/Mj2beTCuxE. Winds pick up after 10am with the strongest winds in the far east county and the mountains. Winds now starting to get going in SanDiego\\'s East County - here are the 11am gusts above 25 mph. Stronger winds are expected. This #LilacFire recovery resource opens tomorrow at 8a. The address is the frontage road along Highway 76 at Gird. #LilacFire This week the  Search and Rescue (SAR) K-9 Unit went out to burn areas in #Bonsall to make su. Erosion control center will open 12/15 at 2370 Pala Road in Bonsall to help #LilacFire area homeowners. Free sandba… https://t.co/oodQzTgEXN'"
      ]
     },
     "execution_count": 109,
     "metadata": {},
     "output_type": "execute_result"
    }
   ],
   "source": [
    "# print the nist summary for event 001 and save it to a file\n",
    "event_df[\"nist.summary\"].iloc[0]"
   ]
  },
  {
   "cell_type": "code",
   "execution_count": 110,
   "id": "87bcaf34",
   "metadata": {},
   "outputs": [],
   "source": [
    "# save on file and convert all to ascii on a txt\n",
    "with open(\"nist_summary.txt\", \"w\") as out_file:\n",
    "    out_file.write(event_df[\"nist.summary\"].iloc[0].encode(\"ascii\", \"ignore\").decode(\"ascii\"))\n"
   ]
  },
  {
   "cell_type": "markdown",
   "id": "8bdff41e",
   "metadata": {},
   "source": [
    "## Save the Summaries"
   ]
  },
  {
   "cell_type": "code",
   "execution_count": 111,
   "id": "c18718ec",
   "metadata": {},
   "outputs": [],
   "source": [
    "event_df.to_json(\"CrisisFACTs-2022to2023.topics.withSummaries.json\")"
   ]
  },
  {
   "cell_type": "code",
   "execution_count": 112,
   "id": "1f2d255a",
   "metadata": {},
   "outputs": [],
   "source": [
    "event_df = pd.read_json(\"CrisisFACTs-2022to2023.topics.withSummaries_smaller.json\", lines=False)"
   ]
  },
  {
   "cell_type": "code",
   "execution_count": 113,
   "id": "70c1ac0e",
   "metadata": {},
   "outputs": [],
   "source": [
    "# # save on file and convert all to ascii on a txt\n",
    "# with open(\"nist_summary_2.txt\", \"w\") as out_file:\n",
    "#     out_file.write(event_df[\"nist.summary\"].iloc[0].encode(\"ascii\", \"ignore\").decode(\"ascii\"))"
   ]
  },
  {
   "cell_type": "code",
   "execution_count": null,
   "id": "1a7db79a",
   "metadata": {},
   "outputs": [],
   "source": []
  },
  {
   "cell_type": "code",
   "execution_count": 114,
   "id": "dfbd1459",
   "metadata": {},
   "outputs": [
    {
     "data": {
      "text/plain": [
       "'0.3.12'"
      ]
     },
     "execution_count": 114,
     "metadata": {},
     "output_type": "execute_result"
    }
   ],
   "source": [
    "# rouge = ROUGEScore(\n",
    "#     use_stemmer=True,\n",
    "# )\n",
    "\n",
    "import bert_score\n",
    "bert_score.__version__"
   ]
  },
  {
   "cell_type": "code",
   "execution_count": null,
   "id": "133e3127",
   "metadata": {},
   "outputs": [],
   "source": []
  },
  {
   "cell_type": "code",
   "execution_count": 115,
   "id": "73ec2e14",
   "metadata": {},
   "outputs": [],
   "source": [
    "TOP_K = 32"
   ]
  },
  {
   "cell_type": "code",
   "execution_count": null,
   "id": "835e1d0f",
   "metadata": {},
   "outputs": [],
   "source": []
  },
  {
   "cell_type": "code",
   "execution_count": 116,
   "id": "cb52e8d3",
   "metadata": {},
   "outputs": [],
   "source": [
    "all_req_ids = list(annotation_data.keys())"
   ]
  },
  {
   "cell_type": "code",
   "execution_count": 117,
   "id": "9040f77d",
   "metadata": {},
   "outputs": [],
   "source": [
    "device = \"cuda\" if torch.cuda.is_available() else \"cpu\""
   ]
  },
  {
   "cell_type": "code",
   "execution_count": 118,
   "id": "06ac0377",
   "metadata": {},
   "outputs": [],
   "source": [
    "# bert_model = \"distilbert-base-uncased\"\n",
    "bert_model = \"microsoft/deberta-xlarge-mnli\""
   ]
  },
  {
   "cell_type": "code",
   "execution_count": null,
   "id": "0a658b39",
   "metadata": {
    "scrolled": true
   },
   "outputs": [
    {
     "name": "stdout",
     "output_type": "stream",
     "text": [
      "submissions\\Thesis_Retriver.gz --> \n",
      "event CrisisFACTS-001 - nist: 19263 - submitted: 0\n",
      "Skipping empty summary\n",
      "event CrisisFACTS-002 - nist: 14820 - submitted: 0\n",
      "Skipping empty summary\n",
      "event CrisisFACTS-003 - nist: 15533 - submitted: 0\n",
      "Skipping empty summary\n",
      "event CrisisFACTS-004 - nist: 46829 - submitted: 0\n",
      "Skipping empty summary\n",
      "event CrisisFACTS-005 - nist: 7919 - submitted: 0\n",
      "Skipping empty summary\n",
      "event CrisisFACTS-006 - nist: 13126 - submitted: 0\n",
      "Skipping empty summary\n",
      "event CrisisFACTS-007 - nist: 9517 - submitted: 0\n",
      "Skipping empty summary\n",
      "event CrisisFACTS-008 - nist: 37230 - submitted: 0\n",
      "Skipping empty summary\n",
      "event CrisisFACTS-009 - nist: 23198 - submitted: 0\n",
      "Skipping empty summary\n",
      "event CrisisFACTS-010 - nist: 7252 - submitted: 13117\n"
     ]
    },
    {
     "data": {
      "text/html": [
       "<div>\n",
       "<style scoped>\n",
       "    .dataframe tbody tr th:only-of-type {\n",
       "        vertical-align: middle;\n",
       "    }\n",
       "\n",
       "    .dataframe tbody tr th {\n",
       "        vertical-align: top;\n",
       "    }\n",
       "\n",
       "    .dataframe thead th {\n",
       "        text-align: right;\n",
       "    }\n",
       "</style>\n",
       "<table border=\"1\" class=\"dataframe\">\n",
       "  <thead>\n",
       "    <tr style=\"text-align: right;\">\n",
       "      <th></th>\n",
       "      <th>metric</th>\n",
       "      <th>value</th>\n",
       "      <th>event</th>\n",
       "    </tr>\n",
       "  </thead>\n",
       "  <tbody>\n",
       "    <tr>\n",
       "      <th>0</th>\n",
       "      <td>f1</td>\n",
       "      <td>0.762733</td>\n",
       "      <td>CrisisFACTS-010</td>\n",
       "    </tr>\n",
       "    <tr>\n",
       "      <th>1</th>\n",
       "      <td>precision</td>\n",
       "      <td>0.770505</td>\n",
       "      <td>CrisisFACTS-010</td>\n",
       "    </tr>\n",
       "    <tr>\n",
       "      <th>2</th>\n",
       "      <td>recall</td>\n",
       "      <td>0.755116</td>\n",
       "      <td>CrisisFACTS-010</td>\n",
       "    </tr>\n",
       "  </tbody>\n",
       "</table>\n",
       "</div>"
      ],
      "text/plain": [
       "      metric     value            event\n",
       "0         f1  0.762733  CrisisFACTS-010\n",
       "1  precision  0.770505  CrisisFACTS-010\n",
       "2     recall  0.755116  CrisisFACTS-010"
      ]
     },
     "metadata": {},
     "output_type": "display_data"
    },
    {
     "name": "stdout",
     "output_type": "stream",
     "text": [
      "event CrisisFACTS-011 - nist: 5395 - submitted: 16730\n"
     ]
    },
    {
     "name": "stderr",
     "output_type": "stream",
     "text": [
      "Warning: Empty reference sentence detected; setting raw BERTScores to 0.\n"
     ]
    },
    {
     "data": {
      "text/html": [
       "<div>\n",
       "<style scoped>\n",
       "    .dataframe tbody tr th:only-of-type {\n",
       "        vertical-align: middle;\n",
       "    }\n",
       "\n",
       "    .dataframe tbody tr th {\n",
       "        vertical-align: top;\n",
       "    }\n",
       "\n",
       "    .dataframe thead th {\n",
       "        text-align: right;\n",
       "    }\n",
       "</style>\n",
       "<table border=\"1\" class=\"dataframe\">\n",
       "  <thead>\n",
       "    <tr style=\"text-align: right;\">\n",
       "      <th></th>\n",
       "      <th>metric</th>\n",
       "      <th>value</th>\n",
       "      <th>event</th>\n",
       "    </tr>\n",
       "  </thead>\n",
       "  <tbody>\n",
       "    <tr>\n",
       "      <th>0</th>\n",
       "      <td>f1</td>\n",
       "      <td>0.722039</td>\n",
       "      <td>CrisisFACTS-011</td>\n",
       "    </tr>\n",
       "    <tr>\n",
       "      <th>1</th>\n",
       "      <td>precision</td>\n",
       "      <td>0.735012</td>\n",
       "      <td>CrisisFACTS-011</td>\n",
       "    </tr>\n",
       "    <tr>\n",
       "      <th>2</th>\n",
       "      <td>recall</td>\n",
       "      <td>0.709516</td>\n",
       "      <td>CrisisFACTS-011</td>\n",
       "    </tr>\n",
       "  </tbody>\n",
       "</table>\n",
       "</div>"
      ],
      "text/plain": [
       "      metric     value            event\n",
       "0         f1  0.722039  CrisisFACTS-011\n",
       "1  precision  0.735012  CrisisFACTS-011\n",
       "2     recall  0.709516  CrisisFACTS-011"
      ]
     },
     "metadata": {},
     "output_type": "display_data"
    },
    {
     "name": "stdout",
     "output_type": "stream",
     "text": [
      "event CrisisFACTS-012 - nist: 15799 - submitted: 13410\n"
     ]
    },
    {
     "name": "stderr",
     "output_type": "stream",
     "text": [
      "Warning: Empty reference sentence detected; setting raw BERTScores to 0.\n"
     ]
    },
    {
     "data": {
      "text/html": [
       "<div>\n",
       "<style scoped>\n",
       "    .dataframe tbody tr th:only-of-type {\n",
       "        vertical-align: middle;\n",
       "    }\n",
       "\n",
       "    .dataframe tbody tr th {\n",
       "        vertical-align: top;\n",
       "    }\n",
       "\n",
       "    .dataframe thead th {\n",
       "        text-align: right;\n",
       "    }\n",
       "</style>\n",
       "<table border=\"1\" class=\"dataframe\">\n",
       "  <thead>\n",
       "    <tr style=\"text-align: right;\">\n",
       "      <th></th>\n",
       "      <th>metric</th>\n",
       "      <th>value</th>\n",
       "      <th>event</th>\n",
       "    </tr>\n",
       "  </thead>\n",
       "  <tbody>\n",
       "    <tr>\n",
       "      <th>0</th>\n",
       "      <td>f1</td>\n",
       "      <td>0.888745</td>\n",
       "      <td>CrisisFACTS-012</td>\n",
       "    </tr>\n",
       "    <tr>\n",
       "      <th>1</th>\n",
       "      <td>precision</td>\n",
       "      <td>0.884823</td>\n",
       "      <td>CrisisFACTS-012</td>\n",
       "    </tr>\n",
       "    <tr>\n",
       "      <th>2</th>\n",
       "      <td>recall</td>\n",
       "      <td>0.892702</td>\n",
       "      <td>CrisisFACTS-012</td>\n",
       "    </tr>\n",
       "  </tbody>\n",
       "</table>\n",
       "</div>"
      ],
      "text/plain": [
       "      metric     value            event\n",
       "0         f1  0.888745  CrisisFACTS-012\n",
       "1  precision  0.884823  CrisisFACTS-012\n",
       "2     recall  0.892702  CrisisFACTS-012"
      ]
     },
     "metadata": {},
     "output_type": "display_data"
    },
    {
     "name": "stdout",
     "output_type": "stream",
     "text": [
      "event CrisisFACTS-013 - nist: 17062 - submitted: 17131\n"
     ]
    },
    {
     "data": {
      "text/html": [
       "<div>\n",
       "<style scoped>\n",
       "    .dataframe tbody tr th:only-of-type {\n",
       "        vertical-align: middle;\n",
       "    }\n",
       "\n",
       "    .dataframe tbody tr th {\n",
       "        vertical-align: top;\n",
       "    }\n",
       "\n",
       "    .dataframe thead th {\n",
       "        text-align: right;\n",
       "    }\n",
       "</style>\n",
       "<table border=\"1\" class=\"dataframe\">\n",
       "  <thead>\n",
       "    <tr style=\"text-align: right;\">\n",
       "      <th></th>\n",
       "      <th>metric</th>\n",
       "      <th>value</th>\n",
       "      <th>event</th>\n",
       "    </tr>\n",
       "  </thead>\n",
       "  <tbody>\n",
       "    <tr>\n",
       "      <th>0</th>\n",
       "      <td>f1</td>\n",
       "      <td>0.896717</td>\n",
       "      <td>CrisisFACTS-013</td>\n",
       "    </tr>\n",
       "    <tr>\n",
       "      <th>1</th>\n",
       "      <td>precision</td>\n",
       "      <td>0.896853</td>\n",
       "      <td>CrisisFACTS-013</td>\n",
       "    </tr>\n",
       "    <tr>\n",
       "      <th>2</th>\n",
       "      <td>recall</td>\n",
       "      <td>0.896581</td>\n",
       "      <td>CrisisFACTS-013</td>\n",
       "    </tr>\n",
       "  </tbody>\n",
       "</table>\n",
       "</div>"
      ],
      "text/plain": [
       "      metric     value            event\n",
       "0         f1  0.896717  CrisisFACTS-013\n",
       "1  precision  0.896853  CrisisFACTS-013\n",
       "2     recall  0.896581  CrisisFACTS-013"
      ]
     },
     "metadata": {},
     "output_type": "display_data"
    },
    {
     "name": "stdout",
     "output_type": "stream",
     "text": [
      "event CrisisFACTS-014 - nist: 36760 - submitted: 0\n",
      "Skipping empty summary\n",
      "event CrisisFACTS-015 - nist: 21998 - submitted: 37637\n"
     ]
    },
    {
     "ename": "OutOfMemoryError",
     "evalue": "CUDA out of memory. Tried to allocate 3.93 GiB. GPU 0 has a total capacity of 6.00 GiB of which 0 bytes is free. Of the allocated memory 8.48 GiB is allocated by PyTorch, and 419.55 MiB is reserved by PyTorch but unallocated. If reserved but unallocated memory is large try setting PYTORCH_CUDA_ALLOC_CONF=expandable_segments:True to avoid fragmentation.  See documentation for Memory Management  (https://pytorch.org/docs/stable/notes/cuda.html#environment-variables)",
     "output_type": "error",
     "traceback": [
      "\u001b[1;31m---------------------------------------------------------------------------\u001b[0m",
      "\u001b[1;31mOutOfMemoryError\u001b[0m                          Traceback (most recent call last)",
      "Cell \u001b[1;32mIn[119], line 47\u001b[0m\n\u001b[0;32m     45\u001b[0m     \u001b[38;5;28mprint\u001b[39m(\u001b[38;5;124m\"\u001b[39m\u001b[38;5;124mSkipping empty summary\u001b[39m\u001b[38;5;124m\"\u001b[39m)\n\u001b[0;32m     46\u001b[0m     \u001b[38;5;28;01mcontinue\u001b[39;00m\n\u001b[1;32m---> 47\u001b[0m nist_metric_ \u001b[38;5;241m=\u001b[39m \u001b[43mbert_score\u001b[49m\u001b[38;5;241;43m.\u001b[39;49m\u001b[43mscore\u001b[49m\u001b[43m(\u001b[49m\u001b[43m[\u001b[49m\u001b[43mthis_summary_text\u001b[49m\u001b[43m]\u001b[49m\u001b[43m,\u001b[49m\u001b[43m \u001b[49m\u001b[43m[\u001b[49m\u001b[43mnist_summary\u001b[49m\u001b[43m]\u001b[49m\u001b[43m,\u001b[49m\u001b[43m \u001b[49m\u001b[43mmodel_type\u001b[49m\u001b[38;5;241;43m=\u001b[39;49m\u001b[43mbert_model\u001b[49m\u001b[43m,\u001b[49m\u001b[43m \u001b[49m\u001b[43mdevice\u001b[49m\u001b[38;5;241;43m=\u001b[39;49m\u001b[43mdevice\u001b[49m\u001b[43m,\u001b[49m\u001b[43m \u001b[49m\u001b[43mbatch_size\u001b[49m\u001b[38;5;241;43m=\u001b[39;49m\u001b[38;5;241;43m1\u001b[39;49m\u001b[43m,\u001b[49m\u001b[43m \u001b[49m\u001b[43mnthreads\u001b[49m\u001b[38;5;241;43m=\u001b[39;49m\u001b[38;5;241;43m2\u001b[39;49m\u001b[43m)\u001b[49m\n\u001b[0;32m     48\u001b[0m torch\u001b[38;5;241m.\u001b[39mcuda\u001b[38;5;241m.\u001b[39mempty_cache()\n\u001b[0;32m     49\u001b[0m wiki_metric_ \u001b[38;5;241m=\u001b[39m bert_score\u001b[38;5;241m.\u001b[39mscore([this_summary_text], [wiki_summary], model_type\u001b[38;5;241m=\u001b[39mbert_model, device\u001b[38;5;241m=\u001b[39mdevice, batch_size\u001b[38;5;241m=\u001b[39m\u001b[38;5;241m1\u001b[39m, nthreads\u001b[38;5;241m=\u001b[39m\u001b[38;5;241m2\u001b[39m)\n",
      "File \u001b[1;32mc:\\Users\\tcaci\\Documents\\GitHub\\utilities\\.venv\\Lib\\site-packages\\bert_score\\score.py:123\u001b[0m, in \u001b[0;36mscore\u001b[1;34m(cands, refs, model_type, num_layers, verbose, idf, device, batch_size, nthreads, all_layers, lang, return_hash, rescale_with_baseline, baseline_path, use_fast_tokenizer)\u001b[0m\n\u001b[0;32m    121\u001b[0m     \u001b[38;5;28mprint\u001b[39m(\u001b[38;5;124m\"\u001b[39m\u001b[38;5;124mcalculating scores...\u001b[39m\u001b[38;5;124m\"\u001b[39m)\n\u001b[0;32m    122\u001b[0m start \u001b[38;5;241m=\u001b[39m time\u001b[38;5;241m.\u001b[39mperf_counter()\n\u001b[1;32m--> 123\u001b[0m all_preds \u001b[38;5;241m=\u001b[39m \u001b[43mbert_cos_score_idf\u001b[49m\u001b[43m(\u001b[49m\n\u001b[0;32m    124\u001b[0m \u001b[43m    \u001b[49m\u001b[43mmodel\u001b[49m\u001b[43m,\u001b[49m\n\u001b[0;32m    125\u001b[0m \u001b[43m    \u001b[49m\u001b[43mrefs\u001b[49m\u001b[43m,\u001b[49m\n\u001b[0;32m    126\u001b[0m \u001b[43m    \u001b[49m\u001b[43mcands\u001b[49m\u001b[43m,\u001b[49m\n\u001b[0;32m    127\u001b[0m \u001b[43m    \u001b[49m\u001b[43mtokenizer\u001b[49m\u001b[43m,\u001b[49m\n\u001b[0;32m    128\u001b[0m \u001b[43m    \u001b[49m\u001b[43midf_dict\u001b[49m\u001b[43m,\u001b[49m\n\u001b[0;32m    129\u001b[0m \u001b[43m    \u001b[49m\u001b[43mverbose\u001b[49m\u001b[38;5;241;43m=\u001b[39;49m\u001b[43mverbose\u001b[49m\u001b[43m,\u001b[49m\n\u001b[0;32m    130\u001b[0m \u001b[43m    \u001b[49m\u001b[43mdevice\u001b[49m\u001b[38;5;241;43m=\u001b[39;49m\u001b[43mdevice\u001b[49m\u001b[43m,\u001b[49m\n\u001b[0;32m    131\u001b[0m \u001b[43m    \u001b[49m\u001b[43mbatch_size\u001b[49m\u001b[38;5;241;43m=\u001b[39;49m\u001b[43mbatch_size\u001b[49m\u001b[43m,\u001b[49m\n\u001b[0;32m    132\u001b[0m \u001b[43m    \u001b[49m\u001b[43mall_layers\u001b[49m\u001b[38;5;241;43m=\u001b[39;49m\u001b[43mall_layers\u001b[49m\u001b[43m,\u001b[49m\n\u001b[0;32m    133\u001b[0m \u001b[43m\u001b[49m\u001b[43m)\u001b[49m\u001b[38;5;241m.\u001b[39mcpu()\n\u001b[0;32m    135\u001b[0m \u001b[38;5;28;01mif\u001b[39;00m ref_group_boundaries \u001b[38;5;129;01mis\u001b[39;00m \u001b[38;5;129;01mnot\u001b[39;00m \u001b[38;5;28;01mNone\u001b[39;00m:\n\u001b[0;32m    136\u001b[0m     max_preds \u001b[38;5;241m=\u001b[39m []\n",
      "File \u001b[1;32mc:\\Users\\tcaci\\Documents\\GitHub\\utilities\\.venv\\Lib\\site-packages\\bert_score\\utils.py:616\u001b[0m, in \u001b[0;36mbert_cos_score_idf\u001b[1;34m(model, refs, hyps, tokenizer, idf_dict, verbose, batch_size, device, all_layers)\u001b[0m\n\u001b[0;32m    614\u001b[0m \u001b[38;5;28;01mfor\u001b[39;00m batch_start \u001b[38;5;129;01min\u001b[39;00m iter_range:\n\u001b[0;32m    615\u001b[0m     sen_batch \u001b[38;5;241m=\u001b[39m sentences[batch_start : batch_start \u001b[38;5;241m+\u001b[39m batch_size]\n\u001b[1;32m--> 616\u001b[0m     embs, masks, padded_idf \u001b[38;5;241m=\u001b[39m \u001b[43mget_bert_embedding\u001b[49m\u001b[43m(\u001b[49m\n\u001b[0;32m    617\u001b[0m \u001b[43m        \u001b[49m\u001b[43msen_batch\u001b[49m\u001b[43m,\u001b[49m\u001b[43m \u001b[49m\u001b[43mmodel\u001b[49m\u001b[43m,\u001b[49m\u001b[43m \u001b[49m\u001b[43mtokenizer\u001b[49m\u001b[43m,\u001b[49m\u001b[43m \u001b[49m\u001b[43midf_dict\u001b[49m\u001b[43m,\u001b[49m\u001b[43m \u001b[49m\u001b[43mdevice\u001b[49m\u001b[38;5;241;43m=\u001b[39;49m\u001b[43mdevice\u001b[49m\u001b[43m,\u001b[49m\u001b[43m \u001b[49m\u001b[43mall_layers\u001b[49m\u001b[38;5;241;43m=\u001b[39;49m\u001b[43mall_layers\u001b[49m\n\u001b[0;32m    618\u001b[0m \u001b[43m    \u001b[49m\u001b[43m)\u001b[49m\n\u001b[0;32m    619\u001b[0m     embs \u001b[38;5;241m=\u001b[39m embs\u001b[38;5;241m.\u001b[39mcpu()\n\u001b[0;32m    620\u001b[0m     masks \u001b[38;5;241m=\u001b[39m masks\u001b[38;5;241m.\u001b[39mcpu()\n",
      "File \u001b[1;32mc:\\Users\\tcaci\\Documents\\GitHub\\utilities\\.venv\\Lib\\site-packages\\bert_score\\utils.py:455\u001b[0m, in \u001b[0;36mget_bert_embedding\u001b[1;34m(all_sens, model, tokenizer, idf_dict, batch_size, device, all_layers)\u001b[0m\n\u001b[0;32m    453\u001b[0m \u001b[38;5;28;01mwith\u001b[39;00m torch\u001b[38;5;241m.\u001b[39mno_grad():\n\u001b[0;32m    454\u001b[0m     \u001b[38;5;28;01mfor\u001b[39;00m i \u001b[38;5;129;01min\u001b[39;00m \u001b[38;5;28mrange\u001b[39m(\u001b[38;5;241m0\u001b[39m, \u001b[38;5;28mlen\u001b[39m(all_sens), batch_size):\n\u001b[1;32m--> 455\u001b[0m         batch_embedding \u001b[38;5;241m=\u001b[39m \u001b[43mbert_encode\u001b[49m\u001b[43m(\u001b[49m\n\u001b[0;32m    456\u001b[0m \u001b[43m            \u001b[49m\u001b[43mmodel\u001b[49m\u001b[43m,\u001b[49m\n\u001b[0;32m    457\u001b[0m \u001b[43m            \u001b[49m\u001b[43mpadded_sens\u001b[49m\u001b[43m[\u001b[49m\u001b[43mi\u001b[49m\u001b[43m \u001b[49m\u001b[43m:\u001b[49m\u001b[43m \u001b[49m\u001b[43mi\u001b[49m\u001b[43m \u001b[49m\u001b[38;5;241;43m+\u001b[39;49m\u001b[43m \u001b[49m\u001b[43mbatch_size\u001b[49m\u001b[43m]\u001b[49m\u001b[43m,\u001b[49m\n\u001b[0;32m    458\u001b[0m \u001b[43m            \u001b[49m\u001b[43mattention_mask\u001b[49m\u001b[38;5;241;43m=\u001b[39;49m\u001b[43mmask\u001b[49m\u001b[43m[\u001b[49m\u001b[43mi\u001b[49m\u001b[43m \u001b[49m\u001b[43m:\u001b[49m\u001b[43m \u001b[49m\u001b[43mi\u001b[49m\u001b[43m \u001b[49m\u001b[38;5;241;43m+\u001b[39;49m\u001b[43m \u001b[49m\u001b[43mbatch_size\u001b[49m\u001b[43m]\u001b[49m\u001b[43m,\u001b[49m\n\u001b[0;32m    459\u001b[0m \u001b[43m            \u001b[49m\u001b[43mall_layers\u001b[49m\u001b[38;5;241;43m=\u001b[39;49m\u001b[43mall_layers\u001b[49m\u001b[43m,\u001b[49m\n\u001b[0;32m    460\u001b[0m \u001b[43m        \u001b[49m\u001b[43m)\u001b[49m\n\u001b[0;32m    461\u001b[0m         embeddings\u001b[38;5;241m.\u001b[39mappend(batch_embedding)\n\u001b[0;32m    462\u001b[0m         \u001b[38;5;28;01mdel\u001b[39;00m batch_embedding\n",
      "File \u001b[1;32mc:\\Users\\tcaci\\Documents\\GitHub\\utilities\\.venv\\Lib\\site-packages\\bert_score\\utils.py:351\u001b[0m, in \u001b[0;36mbert_encode\u001b[1;34m(model, x, attention_mask, all_layers)\u001b[0m\n\u001b[0;32m    349\u001b[0m model\u001b[38;5;241m.\u001b[39meval()\n\u001b[0;32m    350\u001b[0m \u001b[38;5;28;01mwith\u001b[39;00m torch\u001b[38;5;241m.\u001b[39mno_grad():\n\u001b[1;32m--> 351\u001b[0m     out \u001b[38;5;241m=\u001b[39m \u001b[43mmodel\u001b[49m\u001b[43m(\u001b[49m\u001b[43mx\u001b[49m\u001b[43m,\u001b[49m\u001b[43m \u001b[49m\u001b[43mattention_mask\u001b[49m\u001b[38;5;241;43m=\u001b[39;49m\u001b[43mattention_mask\u001b[49m\u001b[43m,\u001b[49m\u001b[43m \u001b[49m\u001b[43moutput_hidden_states\u001b[49m\u001b[38;5;241;43m=\u001b[39;49m\u001b[43mall_layers\u001b[49m\u001b[43m)\u001b[49m\n\u001b[0;32m    352\u001b[0m \u001b[38;5;28;01mif\u001b[39;00m all_layers:\n\u001b[0;32m    353\u001b[0m     emb \u001b[38;5;241m=\u001b[39m torch\u001b[38;5;241m.\u001b[39mstack(out[\u001b[38;5;241m-\u001b[39m\u001b[38;5;241m1\u001b[39m], dim\u001b[38;5;241m=\u001b[39m\u001b[38;5;241m2\u001b[39m)\n",
      "File \u001b[1;32mc:\\Users\\tcaci\\Documents\\GitHub\\utilities\\.venv\\Lib\\site-packages\\torch\\nn\\modules\\module.py:1736\u001b[0m, in \u001b[0;36mModule._wrapped_call_impl\u001b[1;34m(self, *args, **kwargs)\u001b[0m\n\u001b[0;32m   1734\u001b[0m     \u001b[38;5;28;01mreturn\u001b[39;00m \u001b[38;5;28mself\u001b[39m\u001b[38;5;241m.\u001b[39m_compiled_call_impl(\u001b[38;5;241m*\u001b[39margs, \u001b[38;5;241m*\u001b[39m\u001b[38;5;241m*\u001b[39mkwargs)  \u001b[38;5;66;03m# type: ignore[misc]\u001b[39;00m\n\u001b[0;32m   1735\u001b[0m \u001b[38;5;28;01melse\u001b[39;00m:\n\u001b[1;32m-> 1736\u001b[0m     \u001b[38;5;28;01mreturn\u001b[39;00m \u001b[38;5;28;43mself\u001b[39;49m\u001b[38;5;241;43m.\u001b[39;49m\u001b[43m_call_impl\u001b[49m\u001b[43m(\u001b[49m\u001b[38;5;241;43m*\u001b[39;49m\u001b[43margs\u001b[49m\u001b[43m,\u001b[49m\u001b[43m \u001b[49m\u001b[38;5;241;43m*\u001b[39;49m\u001b[38;5;241;43m*\u001b[39;49m\u001b[43mkwargs\u001b[49m\u001b[43m)\u001b[49m\n",
      "File \u001b[1;32mc:\\Users\\tcaci\\Documents\\GitHub\\utilities\\.venv\\Lib\\site-packages\\torch\\nn\\modules\\module.py:1747\u001b[0m, in \u001b[0;36mModule._call_impl\u001b[1;34m(self, *args, **kwargs)\u001b[0m\n\u001b[0;32m   1742\u001b[0m \u001b[38;5;66;03m# If we don't have any hooks, we want to skip the rest of the logic in\u001b[39;00m\n\u001b[0;32m   1743\u001b[0m \u001b[38;5;66;03m# this function, and just call forward.\u001b[39;00m\n\u001b[0;32m   1744\u001b[0m \u001b[38;5;28;01mif\u001b[39;00m \u001b[38;5;129;01mnot\u001b[39;00m (\u001b[38;5;28mself\u001b[39m\u001b[38;5;241m.\u001b[39m_backward_hooks \u001b[38;5;129;01mor\u001b[39;00m \u001b[38;5;28mself\u001b[39m\u001b[38;5;241m.\u001b[39m_backward_pre_hooks \u001b[38;5;129;01mor\u001b[39;00m \u001b[38;5;28mself\u001b[39m\u001b[38;5;241m.\u001b[39m_forward_hooks \u001b[38;5;129;01mor\u001b[39;00m \u001b[38;5;28mself\u001b[39m\u001b[38;5;241m.\u001b[39m_forward_pre_hooks\n\u001b[0;32m   1745\u001b[0m         \u001b[38;5;129;01mor\u001b[39;00m _global_backward_pre_hooks \u001b[38;5;129;01mor\u001b[39;00m _global_backward_hooks\n\u001b[0;32m   1746\u001b[0m         \u001b[38;5;129;01mor\u001b[39;00m _global_forward_hooks \u001b[38;5;129;01mor\u001b[39;00m _global_forward_pre_hooks):\n\u001b[1;32m-> 1747\u001b[0m     \u001b[38;5;28;01mreturn\u001b[39;00m \u001b[43mforward_call\u001b[49m\u001b[43m(\u001b[49m\u001b[38;5;241;43m*\u001b[39;49m\u001b[43margs\u001b[49m\u001b[43m,\u001b[49m\u001b[43m \u001b[49m\u001b[38;5;241;43m*\u001b[39;49m\u001b[38;5;241;43m*\u001b[39;49m\u001b[43mkwargs\u001b[49m\u001b[43m)\u001b[49m\n\u001b[0;32m   1749\u001b[0m result \u001b[38;5;241m=\u001b[39m \u001b[38;5;28;01mNone\u001b[39;00m\n\u001b[0;32m   1750\u001b[0m called_always_called_hooks \u001b[38;5;241m=\u001b[39m \u001b[38;5;28mset\u001b[39m()\n",
      "File \u001b[1;32mc:\\Users\\tcaci\\Documents\\GitHub\\utilities\\.venv\\Lib\\site-packages\\transformers\\models\\deberta\\modeling_deberta.py:798\u001b[0m, in \u001b[0;36mDebertaModel.forward\u001b[1;34m(self, input_ids, attention_mask, token_type_ids, position_ids, inputs_embeds, output_attentions, output_hidden_states, return_dict)\u001b[0m\n\u001b[0;32m    788\u001b[0m     token_type_ids \u001b[38;5;241m=\u001b[39m torch\u001b[38;5;241m.\u001b[39mzeros(input_shape, dtype\u001b[38;5;241m=\u001b[39mtorch\u001b[38;5;241m.\u001b[39mlong, device\u001b[38;5;241m=\u001b[39mdevice)\n\u001b[0;32m    790\u001b[0m embedding_output \u001b[38;5;241m=\u001b[39m \u001b[38;5;28mself\u001b[39m\u001b[38;5;241m.\u001b[39membeddings(\n\u001b[0;32m    791\u001b[0m     input_ids\u001b[38;5;241m=\u001b[39minput_ids,\n\u001b[0;32m    792\u001b[0m     token_type_ids\u001b[38;5;241m=\u001b[39mtoken_type_ids,\n\u001b[1;32m   (...)\u001b[0m\n\u001b[0;32m    795\u001b[0m     inputs_embeds\u001b[38;5;241m=\u001b[39minputs_embeds,\n\u001b[0;32m    796\u001b[0m )\n\u001b[1;32m--> 798\u001b[0m encoder_outputs \u001b[38;5;241m=\u001b[39m \u001b[38;5;28;43mself\u001b[39;49m\u001b[38;5;241;43m.\u001b[39;49m\u001b[43mencoder\u001b[49m\u001b[43m(\u001b[49m\n\u001b[0;32m    799\u001b[0m \u001b[43m    \u001b[49m\u001b[43membedding_output\u001b[49m\u001b[43m,\u001b[49m\n\u001b[0;32m    800\u001b[0m \u001b[43m    \u001b[49m\u001b[43mattention_mask\u001b[49m\u001b[43m,\u001b[49m\n\u001b[0;32m    801\u001b[0m \u001b[43m    \u001b[49m\u001b[43moutput_hidden_states\u001b[49m\u001b[38;5;241;43m=\u001b[39;49m\u001b[38;5;28;43;01mTrue\u001b[39;49;00m\u001b[43m,\u001b[49m\n\u001b[0;32m    802\u001b[0m \u001b[43m    \u001b[49m\u001b[43moutput_attentions\u001b[49m\u001b[38;5;241;43m=\u001b[39;49m\u001b[43moutput_attentions\u001b[49m\u001b[43m,\u001b[49m\n\u001b[0;32m    803\u001b[0m \u001b[43m    \u001b[49m\u001b[43mreturn_dict\u001b[49m\u001b[38;5;241;43m=\u001b[39;49m\u001b[43mreturn_dict\u001b[49m\u001b[43m,\u001b[49m\n\u001b[0;32m    804\u001b[0m \u001b[43m\u001b[49m\u001b[43m)\u001b[49m\n\u001b[0;32m    805\u001b[0m encoded_layers \u001b[38;5;241m=\u001b[39m encoder_outputs[\u001b[38;5;241m1\u001b[39m]\n\u001b[0;32m    807\u001b[0m \u001b[38;5;28;01mif\u001b[39;00m \u001b[38;5;28mself\u001b[39m\u001b[38;5;241m.\u001b[39mz_steps \u001b[38;5;241m>\u001b[39m \u001b[38;5;241m1\u001b[39m:\n",
      "File \u001b[1;32mc:\\Users\\tcaci\\Documents\\GitHub\\utilities\\.venv\\Lib\\site-packages\\torch\\nn\\modules\\module.py:1736\u001b[0m, in \u001b[0;36mModule._wrapped_call_impl\u001b[1;34m(self, *args, **kwargs)\u001b[0m\n\u001b[0;32m   1734\u001b[0m     \u001b[38;5;28;01mreturn\u001b[39;00m \u001b[38;5;28mself\u001b[39m\u001b[38;5;241m.\u001b[39m_compiled_call_impl(\u001b[38;5;241m*\u001b[39margs, \u001b[38;5;241m*\u001b[39m\u001b[38;5;241m*\u001b[39mkwargs)  \u001b[38;5;66;03m# type: ignore[misc]\u001b[39;00m\n\u001b[0;32m   1735\u001b[0m \u001b[38;5;28;01melse\u001b[39;00m:\n\u001b[1;32m-> 1736\u001b[0m     \u001b[38;5;28;01mreturn\u001b[39;00m \u001b[38;5;28;43mself\u001b[39;49m\u001b[38;5;241;43m.\u001b[39;49m\u001b[43m_call_impl\u001b[49m\u001b[43m(\u001b[49m\u001b[38;5;241;43m*\u001b[39;49m\u001b[43margs\u001b[49m\u001b[43m,\u001b[49m\u001b[43m \u001b[49m\u001b[38;5;241;43m*\u001b[39;49m\u001b[38;5;241;43m*\u001b[39;49m\u001b[43mkwargs\u001b[49m\u001b[43m)\u001b[49m\n",
      "File \u001b[1;32mc:\\Users\\tcaci\\Documents\\GitHub\\utilities\\.venv\\Lib\\site-packages\\torch\\nn\\modules\\module.py:1747\u001b[0m, in \u001b[0;36mModule._call_impl\u001b[1;34m(self, *args, **kwargs)\u001b[0m\n\u001b[0;32m   1742\u001b[0m \u001b[38;5;66;03m# If we don't have any hooks, we want to skip the rest of the logic in\u001b[39;00m\n\u001b[0;32m   1743\u001b[0m \u001b[38;5;66;03m# this function, and just call forward.\u001b[39;00m\n\u001b[0;32m   1744\u001b[0m \u001b[38;5;28;01mif\u001b[39;00m \u001b[38;5;129;01mnot\u001b[39;00m (\u001b[38;5;28mself\u001b[39m\u001b[38;5;241m.\u001b[39m_backward_hooks \u001b[38;5;129;01mor\u001b[39;00m \u001b[38;5;28mself\u001b[39m\u001b[38;5;241m.\u001b[39m_backward_pre_hooks \u001b[38;5;129;01mor\u001b[39;00m \u001b[38;5;28mself\u001b[39m\u001b[38;5;241m.\u001b[39m_forward_hooks \u001b[38;5;129;01mor\u001b[39;00m \u001b[38;5;28mself\u001b[39m\u001b[38;5;241m.\u001b[39m_forward_pre_hooks\n\u001b[0;32m   1745\u001b[0m         \u001b[38;5;129;01mor\u001b[39;00m _global_backward_pre_hooks \u001b[38;5;129;01mor\u001b[39;00m _global_backward_hooks\n\u001b[0;32m   1746\u001b[0m         \u001b[38;5;129;01mor\u001b[39;00m _global_forward_hooks \u001b[38;5;129;01mor\u001b[39;00m _global_forward_pre_hooks):\n\u001b[1;32m-> 1747\u001b[0m     \u001b[38;5;28;01mreturn\u001b[39;00m \u001b[43mforward_call\u001b[49m\u001b[43m(\u001b[49m\u001b[38;5;241;43m*\u001b[39;49m\u001b[43margs\u001b[49m\u001b[43m,\u001b[49m\u001b[43m \u001b[49m\u001b[38;5;241;43m*\u001b[39;49m\u001b[38;5;241;43m*\u001b[39;49m\u001b[43mkwargs\u001b[49m\u001b[43m)\u001b[49m\n\u001b[0;32m   1749\u001b[0m result \u001b[38;5;241m=\u001b[39m \u001b[38;5;28;01mNone\u001b[39;00m\n\u001b[0;32m   1750\u001b[0m called_always_called_hooks \u001b[38;5;241m=\u001b[39m \u001b[38;5;28mset\u001b[39m()\n",
      "File \u001b[1;32mc:\\Users\\tcaci\\Documents\\GitHub\\utilities\\.venv\\Lib\\site-packages\\transformers\\models\\deberta\\modeling_deberta.py:609\u001b[0m, in \u001b[0;36mDebertaEncoder.forward\u001b[1;34m(self, hidden_states, attention_mask, output_hidden_states, output_attentions, query_states, relative_pos, return_dict)\u001b[0m\n\u001b[0;32m    599\u001b[0m     hidden_states, att_m \u001b[38;5;241m=\u001b[39m \u001b[38;5;28mself\u001b[39m\u001b[38;5;241m.\u001b[39m_gradient_checkpointing_func(\n\u001b[0;32m    600\u001b[0m         layer_module\u001b[38;5;241m.\u001b[39m\u001b[38;5;21m__call__\u001b[39m,\n\u001b[0;32m    601\u001b[0m         next_kv,\n\u001b[1;32m   (...)\u001b[0m\n\u001b[0;32m    606\u001b[0m         output_attentions,\n\u001b[0;32m    607\u001b[0m     )\n\u001b[0;32m    608\u001b[0m \u001b[38;5;28;01melse\u001b[39;00m:\n\u001b[1;32m--> 609\u001b[0m     hidden_states, att_m \u001b[38;5;241m=\u001b[39m \u001b[43mlayer_module\u001b[49m\u001b[43m(\u001b[49m\n\u001b[0;32m    610\u001b[0m \u001b[43m        \u001b[49m\u001b[43mnext_kv\u001b[49m\u001b[43m,\u001b[49m\n\u001b[0;32m    611\u001b[0m \u001b[43m        \u001b[49m\u001b[43mattention_mask\u001b[49m\u001b[43m,\u001b[49m\n\u001b[0;32m    612\u001b[0m \u001b[43m        \u001b[49m\u001b[43mquery_states\u001b[49m\u001b[38;5;241;43m=\u001b[39;49m\u001b[43mquery_states\u001b[49m\u001b[43m,\u001b[49m\n\u001b[0;32m    613\u001b[0m \u001b[43m        \u001b[49m\u001b[43mrelative_pos\u001b[49m\u001b[38;5;241;43m=\u001b[39;49m\u001b[43mrelative_pos\u001b[49m\u001b[43m,\u001b[49m\n\u001b[0;32m    614\u001b[0m \u001b[43m        \u001b[49m\u001b[43mrel_embeddings\u001b[49m\u001b[38;5;241;43m=\u001b[39;49m\u001b[43mrel_embeddings\u001b[49m\u001b[43m,\u001b[49m\n\u001b[0;32m    615\u001b[0m \u001b[43m        \u001b[49m\u001b[43moutput_attentions\u001b[49m\u001b[38;5;241;43m=\u001b[39;49m\u001b[43moutput_attentions\u001b[49m\u001b[43m,\u001b[49m\n\u001b[0;32m    616\u001b[0m \u001b[43m    \u001b[49m\u001b[43m)\u001b[49m\n\u001b[0;32m    618\u001b[0m \u001b[38;5;28;01mif\u001b[39;00m output_hidden_states:\n\u001b[0;32m    619\u001b[0m     all_hidden_states \u001b[38;5;241m=\u001b[39m all_hidden_states \u001b[38;5;241m+\u001b[39m (hidden_states,)\n",
      "File \u001b[1;32mc:\\Users\\tcaci\\Documents\\GitHub\\utilities\\.venv\\Lib\\site-packages\\torch\\nn\\modules\\module.py:1736\u001b[0m, in \u001b[0;36mModule._wrapped_call_impl\u001b[1;34m(self, *args, **kwargs)\u001b[0m\n\u001b[0;32m   1734\u001b[0m     \u001b[38;5;28;01mreturn\u001b[39;00m \u001b[38;5;28mself\u001b[39m\u001b[38;5;241m.\u001b[39m_compiled_call_impl(\u001b[38;5;241m*\u001b[39margs, \u001b[38;5;241m*\u001b[39m\u001b[38;5;241m*\u001b[39mkwargs)  \u001b[38;5;66;03m# type: ignore[misc]\u001b[39;00m\n\u001b[0;32m   1735\u001b[0m \u001b[38;5;28;01melse\u001b[39;00m:\n\u001b[1;32m-> 1736\u001b[0m     \u001b[38;5;28;01mreturn\u001b[39;00m \u001b[38;5;28;43mself\u001b[39;49m\u001b[38;5;241;43m.\u001b[39;49m\u001b[43m_call_impl\u001b[49m\u001b[43m(\u001b[49m\u001b[38;5;241;43m*\u001b[39;49m\u001b[43margs\u001b[49m\u001b[43m,\u001b[49m\u001b[43m \u001b[49m\u001b[38;5;241;43m*\u001b[39;49m\u001b[38;5;241;43m*\u001b[39;49m\u001b[43mkwargs\u001b[49m\u001b[43m)\u001b[49m\n",
      "File \u001b[1;32mc:\\Users\\tcaci\\Documents\\GitHub\\utilities\\.venv\\Lib\\site-packages\\torch\\nn\\modules\\module.py:1747\u001b[0m, in \u001b[0;36mModule._call_impl\u001b[1;34m(self, *args, **kwargs)\u001b[0m\n\u001b[0;32m   1742\u001b[0m \u001b[38;5;66;03m# If we don't have any hooks, we want to skip the rest of the logic in\u001b[39;00m\n\u001b[0;32m   1743\u001b[0m \u001b[38;5;66;03m# this function, and just call forward.\u001b[39;00m\n\u001b[0;32m   1744\u001b[0m \u001b[38;5;28;01mif\u001b[39;00m \u001b[38;5;129;01mnot\u001b[39;00m (\u001b[38;5;28mself\u001b[39m\u001b[38;5;241m.\u001b[39m_backward_hooks \u001b[38;5;129;01mor\u001b[39;00m \u001b[38;5;28mself\u001b[39m\u001b[38;5;241m.\u001b[39m_backward_pre_hooks \u001b[38;5;129;01mor\u001b[39;00m \u001b[38;5;28mself\u001b[39m\u001b[38;5;241m.\u001b[39m_forward_hooks \u001b[38;5;129;01mor\u001b[39;00m \u001b[38;5;28mself\u001b[39m\u001b[38;5;241m.\u001b[39m_forward_pre_hooks\n\u001b[0;32m   1745\u001b[0m         \u001b[38;5;129;01mor\u001b[39;00m _global_backward_pre_hooks \u001b[38;5;129;01mor\u001b[39;00m _global_backward_hooks\n\u001b[0;32m   1746\u001b[0m         \u001b[38;5;129;01mor\u001b[39;00m _global_forward_hooks \u001b[38;5;129;01mor\u001b[39;00m _global_forward_pre_hooks):\n\u001b[1;32m-> 1747\u001b[0m     \u001b[38;5;28;01mreturn\u001b[39;00m \u001b[43mforward_call\u001b[49m\u001b[43m(\u001b[49m\u001b[38;5;241;43m*\u001b[39;49m\u001b[43margs\u001b[49m\u001b[43m,\u001b[49m\u001b[43m \u001b[49m\u001b[38;5;241;43m*\u001b[39;49m\u001b[38;5;241;43m*\u001b[39;49m\u001b[43mkwargs\u001b[49m\u001b[43m)\u001b[49m\n\u001b[0;32m   1749\u001b[0m result \u001b[38;5;241m=\u001b[39m \u001b[38;5;28;01mNone\u001b[39;00m\n\u001b[0;32m   1750\u001b[0m called_always_called_hooks \u001b[38;5;241m=\u001b[39m \u001b[38;5;28mset\u001b[39m()\n",
      "File \u001b[1;32mc:\\Users\\tcaci\\Documents\\GitHub\\utilities\\.venv\\Lib\\site-packages\\transformers\\models\\deberta\\modeling_deberta.py:526\u001b[0m, in \u001b[0;36mDebertaLayer.forward\u001b[1;34m(self, hidden_states, attention_mask, query_states, relative_pos, rel_embeddings, output_attentions)\u001b[0m\n\u001b[0;32m    517\u001b[0m \u001b[38;5;28;01mdef\u001b[39;00m \u001b[38;5;21mforward\u001b[39m(\n\u001b[0;32m    518\u001b[0m     \u001b[38;5;28mself\u001b[39m,\n\u001b[0;32m    519\u001b[0m     hidden_states,\n\u001b[1;32m   (...)\u001b[0m\n\u001b[0;32m    524\u001b[0m     output_attentions: \u001b[38;5;28mbool\u001b[39m \u001b[38;5;241m=\u001b[39m \u001b[38;5;28;01mFalse\u001b[39;00m,\n\u001b[0;32m    525\u001b[0m ) \u001b[38;5;241m-\u001b[39m\u001b[38;5;241m>\u001b[39m Tuple[torch\u001b[38;5;241m.\u001b[39mTensor, Optional[torch\u001b[38;5;241m.\u001b[39mTensor]]:\n\u001b[1;32m--> 526\u001b[0m     attention_output, att_matrix \u001b[38;5;241m=\u001b[39m \u001b[38;5;28;43mself\u001b[39;49m\u001b[38;5;241;43m.\u001b[39;49m\u001b[43mattention\u001b[49m\u001b[43m(\u001b[49m\n\u001b[0;32m    527\u001b[0m \u001b[43m        \u001b[49m\u001b[43mhidden_states\u001b[49m\u001b[43m,\u001b[49m\n\u001b[0;32m    528\u001b[0m \u001b[43m        \u001b[49m\u001b[43mattention_mask\u001b[49m\u001b[43m,\u001b[49m\n\u001b[0;32m    529\u001b[0m \u001b[43m        \u001b[49m\u001b[43moutput_attentions\u001b[49m\u001b[38;5;241;43m=\u001b[39;49m\u001b[43moutput_attentions\u001b[49m\u001b[43m,\u001b[49m\n\u001b[0;32m    530\u001b[0m \u001b[43m        \u001b[49m\u001b[43mquery_states\u001b[49m\u001b[38;5;241;43m=\u001b[39;49m\u001b[43mquery_states\u001b[49m\u001b[43m,\u001b[49m\n\u001b[0;32m    531\u001b[0m \u001b[43m        \u001b[49m\u001b[43mrelative_pos\u001b[49m\u001b[38;5;241;43m=\u001b[39;49m\u001b[43mrelative_pos\u001b[49m\u001b[43m,\u001b[49m\n\u001b[0;32m    532\u001b[0m \u001b[43m        \u001b[49m\u001b[43mrel_embeddings\u001b[49m\u001b[38;5;241;43m=\u001b[39;49m\u001b[43mrel_embeddings\u001b[49m\u001b[43m,\u001b[49m\n\u001b[0;32m    533\u001b[0m \u001b[43m    \u001b[49m\u001b[43m)\u001b[49m\n\u001b[0;32m    534\u001b[0m     intermediate_output \u001b[38;5;241m=\u001b[39m \u001b[38;5;28mself\u001b[39m\u001b[38;5;241m.\u001b[39mintermediate(attention_output)\n\u001b[0;32m    535\u001b[0m     layer_output \u001b[38;5;241m=\u001b[39m \u001b[38;5;28mself\u001b[39m\u001b[38;5;241m.\u001b[39moutput(intermediate_output, attention_output)\n",
      "File \u001b[1;32mc:\\Users\\tcaci\\Documents\\GitHub\\utilities\\.venv\\Lib\\site-packages\\torch\\nn\\modules\\module.py:1736\u001b[0m, in \u001b[0;36mModule._wrapped_call_impl\u001b[1;34m(self, *args, **kwargs)\u001b[0m\n\u001b[0;32m   1734\u001b[0m     \u001b[38;5;28;01mreturn\u001b[39;00m \u001b[38;5;28mself\u001b[39m\u001b[38;5;241m.\u001b[39m_compiled_call_impl(\u001b[38;5;241m*\u001b[39margs, \u001b[38;5;241m*\u001b[39m\u001b[38;5;241m*\u001b[39mkwargs)  \u001b[38;5;66;03m# type: ignore[misc]\u001b[39;00m\n\u001b[0;32m   1735\u001b[0m \u001b[38;5;28;01melse\u001b[39;00m:\n\u001b[1;32m-> 1736\u001b[0m     \u001b[38;5;28;01mreturn\u001b[39;00m \u001b[38;5;28;43mself\u001b[39;49m\u001b[38;5;241;43m.\u001b[39;49m\u001b[43m_call_impl\u001b[49m\u001b[43m(\u001b[49m\u001b[38;5;241;43m*\u001b[39;49m\u001b[43margs\u001b[49m\u001b[43m,\u001b[49m\u001b[43m \u001b[49m\u001b[38;5;241;43m*\u001b[39;49m\u001b[38;5;241;43m*\u001b[39;49m\u001b[43mkwargs\u001b[49m\u001b[43m)\u001b[49m\n",
      "File \u001b[1;32mc:\\Users\\tcaci\\Documents\\GitHub\\utilities\\.venv\\Lib\\site-packages\\torch\\nn\\modules\\module.py:1747\u001b[0m, in \u001b[0;36mModule._call_impl\u001b[1;34m(self, *args, **kwargs)\u001b[0m\n\u001b[0;32m   1742\u001b[0m \u001b[38;5;66;03m# If we don't have any hooks, we want to skip the rest of the logic in\u001b[39;00m\n\u001b[0;32m   1743\u001b[0m \u001b[38;5;66;03m# this function, and just call forward.\u001b[39;00m\n\u001b[0;32m   1744\u001b[0m \u001b[38;5;28;01mif\u001b[39;00m \u001b[38;5;129;01mnot\u001b[39;00m (\u001b[38;5;28mself\u001b[39m\u001b[38;5;241m.\u001b[39m_backward_hooks \u001b[38;5;129;01mor\u001b[39;00m \u001b[38;5;28mself\u001b[39m\u001b[38;5;241m.\u001b[39m_backward_pre_hooks \u001b[38;5;129;01mor\u001b[39;00m \u001b[38;5;28mself\u001b[39m\u001b[38;5;241m.\u001b[39m_forward_hooks \u001b[38;5;129;01mor\u001b[39;00m \u001b[38;5;28mself\u001b[39m\u001b[38;5;241m.\u001b[39m_forward_pre_hooks\n\u001b[0;32m   1745\u001b[0m         \u001b[38;5;129;01mor\u001b[39;00m _global_backward_pre_hooks \u001b[38;5;129;01mor\u001b[39;00m _global_backward_hooks\n\u001b[0;32m   1746\u001b[0m         \u001b[38;5;129;01mor\u001b[39;00m _global_forward_hooks \u001b[38;5;129;01mor\u001b[39;00m _global_forward_pre_hooks):\n\u001b[1;32m-> 1747\u001b[0m     \u001b[38;5;28;01mreturn\u001b[39;00m \u001b[43mforward_call\u001b[49m\u001b[43m(\u001b[49m\u001b[38;5;241;43m*\u001b[39;49m\u001b[43margs\u001b[49m\u001b[43m,\u001b[49m\u001b[43m \u001b[49m\u001b[38;5;241;43m*\u001b[39;49m\u001b[38;5;241;43m*\u001b[39;49m\u001b[43mkwargs\u001b[49m\u001b[43m)\u001b[49m\n\u001b[0;32m   1749\u001b[0m result \u001b[38;5;241m=\u001b[39m \u001b[38;5;28;01mNone\u001b[39;00m\n\u001b[0;32m   1750\u001b[0m called_always_called_hooks \u001b[38;5;241m=\u001b[39m \u001b[38;5;28mset\u001b[39m()\n",
      "File \u001b[1;32mc:\\Users\\tcaci\\Documents\\GitHub\\utilities\\.venv\\Lib\\site-packages\\transformers\\models\\deberta\\modeling_deberta.py:461\u001b[0m, in \u001b[0;36mDebertaAttention.forward\u001b[1;34m(self, hidden_states, attention_mask, output_attentions, query_states, relative_pos, rel_embeddings)\u001b[0m\n\u001b[0;32m    452\u001b[0m \u001b[38;5;28;01mdef\u001b[39;00m \u001b[38;5;21mforward\u001b[39m(\n\u001b[0;32m    453\u001b[0m     \u001b[38;5;28mself\u001b[39m,\n\u001b[0;32m    454\u001b[0m     hidden_states,\n\u001b[1;32m   (...)\u001b[0m\n\u001b[0;32m    459\u001b[0m     rel_embeddings\u001b[38;5;241m=\u001b[39m\u001b[38;5;28;01mNone\u001b[39;00m,\n\u001b[0;32m    460\u001b[0m ) \u001b[38;5;241m-\u001b[39m\u001b[38;5;241m>\u001b[39m Tuple[torch\u001b[38;5;241m.\u001b[39mTensor, Optional[torch\u001b[38;5;241m.\u001b[39mTensor]]:\n\u001b[1;32m--> 461\u001b[0m     self_output, att_matrix \u001b[38;5;241m=\u001b[39m \u001b[38;5;28;43mself\u001b[39;49m\u001b[38;5;241;43m.\u001b[39;49m\u001b[43mself\u001b[49m\u001b[43m(\u001b[49m\n\u001b[0;32m    462\u001b[0m \u001b[43m        \u001b[49m\u001b[43mhidden_states\u001b[49m\u001b[43m,\u001b[49m\n\u001b[0;32m    463\u001b[0m \u001b[43m        \u001b[49m\u001b[43mattention_mask\u001b[49m\u001b[43m,\u001b[49m\n\u001b[0;32m    464\u001b[0m \u001b[43m        \u001b[49m\u001b[43moutput_attentions\u001b[49m\u001b[43m,\u001b[49m\n\u001b[0;32m    465\u001b[0m \u001b[43m        \u001b[49m\u001b[43mquery_states\u001b[49m\u001b[38;5;241;43m=\u001b[39;49m\u001b[43mquery_states\u001b[49m\u001b[43m,\u001b[49m\n\u001b[0;32m    466\u001b[0m \u001b[43m        \u001b[49m\u001b[43mrelative_pos\u001b[49m\u001b[38;5;241;43m=\u001b[39;49m\u001b[43mrelative_pos\u001b[49m\u001b[43m,\u001b[49m\n\u001b[0;32m    467\u001b[0m \u001b[43m        \u001b[49m\u001b[43mrel_embeddings\u001b[49m\u001b[38;5;241;43m=\u001b[39;49m\u001b[43mrel_embeddings\u001b[49m\u001b[43m,\u001b[49m\n\u001b[0;32m    468\u001b[0m \u001b[43m    \u001b[49m\u001b[43m)\u001b[49m\n\u001b[0;32m    469\u001b[0m     \u001b[38;5;28;01mif\u001b[39;00m query_states \u001b[38;5;129;01mis\u001b[39;00m \u001b[38;5;28;01mNone\u001b[39;00m:\n\u001b[0;32m    470\u001b[0m         query_states \u001b[38;5;241m=\u001b[39m hidden_states\n",
      "File \u001b[1;32mc:\\Users\\tcaci\\Documents\\GitHub\\utilities\\.venv\\Lib\\site-packages\\torch\\nn\\modules\\module.py:1736\u001b[0m, in \u001b[0;36mModule._wrapped_call_impl\u001b[1;34m(self, *args, **kwargs)\u001b[0m\n\u001b[0;32m   1734\u001b[0m     \u001b[38;5;28;01mreturn\u001b[39;00m \u001b[38;5;28mself\u001b[39m\u001b[38;5;241m.\u001b[39m_compiled_call_impl(\u001b[38;5;241m*\u001b[39margs, \u001b[38;5;241m*\u001b[39m\u001b[38;5;241m*\u001b[39mkwargs)  \u001b[38;5;66;03m# type: ignore[misc]\u001b[39;00m\n\u001b[0;32m   1735\u001b[0m \u001b[38;5;28;01melse\u001b[39;00m:\n\u001b[1;32m-> 1736\u001b[0m     \u001b[38;5;28;01mreturn\u001b[39;00m \u001b[38;5;28;43mself\u001b[39;49m\u001b[38;5;241;43m.\u001b[39;49m\u001b[43m_call_impl\u001b[49m\u001b[43m(\u001b[49m\u001b[38;5;241;43m*\u001b[39;49m\u001b[43margs\u001b[49m\u001b[43m,\u001b[49m\u001b[43m \u001b[49m\u001b[38;5;241;43m*\u001b[39;49m\u001b[38;5;241;43m*\u001b[39;49m\u001b[43mkwargs\u001b[49m\u001b[43m)\u001b[49m\n",
      "File \u001b[1;32mc:\\Users\\tcaci\\Documents\\GitHub\\utilities\\.venv\\Lib\\site-packages\\torch\\nn\\modules\\module.py:1747\u001b[0m, in \u001b[0;36mModule._call_impl\u001b[1;34m(self, *args, **kwargs)\u001b[0m\n\u001b[0;32m   1742\u001b[0m \u001b[38;5;66;03m# If we don't have any hooks, we want to skip the rest of the logic in\u001b[39;00m\n\u001b[0;32m   1743\u001b[0m \u001b[38;5;66;03m# this function, and just call forward.\u001b[39;00m\n\u001b[0;32m   1744\u001b[0m \u001b[38;5;28;01mif\u001b[39;00m \u001b[38;5;129;01mnot\u001b[39;00m (\u001b[38;5;28mself\u001b[39m\u001b[38;5;241m.\u001b[39m_backward_hooks \u001b[38;5;129;01mor\u001b[39;00m \u001b[38;5;28mself\u001b[39m\u001b[38;5;241m.\u001b[39m_backward_pre_hooks \u001b[38;5;129;01mor\u001b[39;00m \u001b[38;5;28mself\u001b[39m\u001b[38;5;241m.\u001b[39m_forward_hooks \u001b[38;5;129;01mor\u001b[39;00m \u001b[38;5;28mself\u001b[39m\u001b[38;5;241m.\u001b[39m_forward_pre_hooks\n\u001b[0;32m   1745\u001b[0m         \u001b[38;5;129;01mor\u001b[39;00m _global_backward_pre_hooks \u001b[38;5;129;01mor\u001b[39;00m _global_backward_hooks\n\u001b[0;32m   1746\u001b[0m         \u001b[38;5;129;01mor\u001b[39;00m _global_forward_hooks \u001b[38;5;129;01mor\u001b[39;00m _global_forward_pre_hooks):\n\u001b[1;32m-> 1747\u001b[0m     \u001b[38;5;28;01mreturn\u001b[39;00m \u001b[43mforward_call\u001b[49m\u001b[43m(\u001b[49m\u001b[38;5;241;43m*\u001b[39;49m\u001b[43margs\u001b[49m\u001b[43m,\u001b[49m\u001b[43m \u001b[49m\u001b[38;5;241;43m*\u001b[39;49m\u001b[38;5;241;43m*\u001b[39;49m\u001b[43mkwargs\u001b[49m\u001b[43m)\u001b[49m\n\u001b[0;32m   1749\u001b[0m result \u001b[38;5;241m=\u001b[39m \u001b[38;5;28;01mNone\u001b[39;00m\n\u001b[0;32m   1750\u001b[0m called_always_called_hooks \u001b[38;5;241m=\u001b[39m \u001b[38;5;28mset\u001b[39m()\n",
      "File \u001b[1;32mc:\\Users\\tcaci\\Documents\\GitHub\\utilities\\.venv\\Lib\\site-packages\\transformers\\models\\deberta\\modeling_deberta.py:280\u001b[0m, in \u001b[0;36mDisentangledSelfAttention.forward\u001b[1;34m(self, hidden_states, attention_mask, output_attentions, query_states, relative_pos, rel_embeddings)\u001b[0m\n\u001b[0;32m    278\u001b[0m \u001b[38;5;28;01mif\u001b[39;00m \u001b[38;5;28mself\u001b[39m\u001b[38;5;241m.\u001b[39mrelative_attention \u001b[38;5;129;01mand\u001b[39;00m rel_embeddings \u001b[38;5;129;01mis\u001b[39;00m \u001b[38;5;129;01mnot\u001b[39;00m \u001b[38;5;28;01mNone\u001b[39;00m \u001b[38;5;129;01mand\u001b[39;00m relative_pos \u001b[38;5;129;01mis\u001b[39;00m \u001b[38;5;129;01mnot\u001b[39;00m \u001b[38;5;28;01mNone\u001b[39;00m:\n\u001b[0;32m    279\u001b[0m     rel_embeddings \u001b[38;5;241m=\u001b[39m \u001b[38;5;28mself\u001b[39m\u001b[38;5;241m.\u001b[39mpos_dropout(rel_embeddings)\n\u001b[1;32m--> 280\u001b[0m     rel_att \u001b[38;5;241m=\u001b[39m \u001b[38;5;28;43mself\u001b[39;49m\u001b[38;5;241;43m.\u001b[39;49m\u001b[43mdisentangled_att_bias\u001b[49m\u001b[43m(\u001b[49m\u001b[43mquery_layer\u001b[49m\u001b[43m,\u001b[49m\u001b[43m \u001b[49m\u001b[43mkey_layer\u001b[49m\u001b[43m,\u001b[49m\u001b[43m \u001b[49m\u001b[43mrelative_pos\u001b[49m\u001b[43m,\u001b[49m\u001b[43m \u001b[49m\u001b[43mrel_embeddings\u001b[49m\u001b[43m,\u001b[49m\u001b[43m \u001b[49m\u001b[43mscale_factor\u001b[49m\u001b[43m)\u001b[49m\n\u001b[0;32m    282\u001b[0m \u001b[38;5;28;01mif\u001b[39;00m rel_att \u001b[38;5;129;01mis\u001b[39;00m \u001b[38;5;129;01mnot\u001b[39;00m \u001b[38;5;28;01mNone\u001b[39;00m:\n\u001b[0;32m    283\u001b[0m     attention_scores \u001b[38;5;241m=\u001b[39m attention_scores \u001b[38;5;241m+\u001b[39m rel_att\n",
      "File \u001b[1;32mc:\\Users\\tcaci\\Documents\\GitHub\\utilities\\.venv\\Lib\\site-packages\\transformers\\models\\deberta\\modeling_deberta.py:339\u001b[0m, in \u001b[0;36mDisentangledSelfAttention.disentangled_att_bias\u001b[1;34m(self, query_layer, key_layer, relative_pos, rel_embeddings, scale_factor)\u001b[0m\n\u001b[0;32m    337\u001b[0m     c2p_att \u001b[38;5;241m=\u001b[39m torch\u001b[38;5;241m.\u001b[39mmatmul(query_layer, pos_key_layer\u001b[38;5;241m.\u001b[39mtranspose(\u001b[38;5;241m-\u001b[39m\u001b[38;5;241m1\u001b[39m, \u001b[38;5;241m-\u001b[39m\u001b[38;5;241m2\u001b[39m))\n\u001b[0;32m    338\u001b[0m     c2p_pos \u001b[38;5;241m=\u001b[39m torch\u001b[38;5;241m.\u001b[39mclamp(relative_pos \u001b[38;5;241m+\u001b[39m att_span, \u001b[38;5;241m0\u001b[39m, att_span \u001b[38;5;241m*\u001b[39m \u001b[38;5;241m2\u001b[39m \u001b[38;5;241m-\u001b[39m \u001b[38;5;241m1\u001b[39m)\n\u001b[1;32m--> 339\u001b[0m     c2p_att \u001b[38;5;241m=\u001b[39m \u001b[43mtorch\u001b[49m\u001b[38;5;241;43m.\u001b[39;49m\u001b[43mgather\u001b[49m\u001b[43m(\u001b[49m\u001b[43mc2p_att\u001b[49m\u001b[43m,\u001b[49m\u001b[43m \u001b[49m\u001b[43mdim\u001b[49m\u001b[38;5;241;43m=\u001b[39;49m\u001b[38;5;241;43m-\u001b[39;49m\u001b[38;5;241;43m1\u001b[39;49m\u001b[43m,\u001b[49m\u001b[43m \u001b[49m\u001b[43mindex\u001b[49m\u001b[38;5;241;43m=\u001b[39;49m\u001b[43mc2p_dynamic_expand\u001b[49m\u001b[43m(\u001b[49m\u001b[43mc2p_pos\u001b[49m\u001b[43m,\u001b[49m\u001b[43m \u001b[49m\u001b[43mquery_layer\u001b[49m\u001b[43m,\u001b[49m\u001b[43m \u001b[49m\u001b[43mrelative_pos\u001b[49m\u001b[43m)\u001b[49m\u001b[43m)\u001b[49m\n\u001b[0;32m    340\u001b[0m     score \u001b[38;5;241m+\u001b[39m\u001b[38;5;241m=\u001b[39m c2p_att\n\u001b[0;32m    342\u001b[0m \u001b[38;5;66;03m# position->content\u001b[39;00m\n",
      "\u001b[1;31mOutOfMemoryError\u001b[0m: CUDA out of memory. Tried to allocate 3.93 GiB. GPU 0 has a total capacity of 6.00 GiB of which 0 bytes is free. Of the allocated memory 8.48 GiB is allocated by PyTorch, and 419.55 MiB is reserved by PyTorch but unallocated. If reserved but unallocated memory is large try setting PYTORCH_CUDA_ALLOC_CONF=expandable_segments:True to avoid fragmentation.  See documentation for Memory Management  (https://pytorch.org/docs/stable/notes/cuda.html#environment-variables)"
     ]
    }
   ],
   "source": [
    "submission_metrics = {}\n",
    "\n",
    "for f in glob.glob(\"submissions/*.gz\"):\n",
    "    \n",
    "    this_run_id = f.partition(\"/\")[-1].replace(\".gz\", \"\")\n",
    "    print(f, \"-->\", this_run_id)\n",
    "    \n",
    "    this_run_event_request_facts = {k:[] for k in all_req_ids}\n",
    "    with gzip.open(f, \"r\") as in_file:\n",
    "        for line_ in in_file:\n",
    "            line = line_.decode(\"utf8\")\n",
    "            \n",
    "            entry = json.loads(line)\n",
    "            this_req_id = entry[\"requestID\"]\n",
    "            \n",
    "            # We skip days where we have no relevant facts from assessors\n",
    "            if this_req_id not in all_req_ids:\n",
    "                continue\n",
    "            \n",
    "            this_run_event_request_facts[this_req_id].append(entry)\n",
    "            \n",
    "    local_event_summaries = {e_id:[] for e_id in event_df.index}\n",
    "    for event_request,this_fact_list in this_run_event_request_facts.items():\n",
    "        event_id = event_request.rpartition(\"-\")[0]\n",
    "        \n",
    "        sorted_fact_list = sorted(this_fact_list, key=lambda v: v[\"importance\"], reverse=True)\n",
    "        this_day_summary = [this_top_fact[\"factText\"] for this_top_fact in sorted_fact_list[:TOP_K]]\n",
    "        \n",
    "        local_event_summaries[event_id] = local_event_summaries[event_id] + this_day_summary\n",
    "        \n",
    "\n",
    "    wiki_dfs = []\n",
    "    nist_dfs = []\n",
    "    for event_id,event in event_df.iterrows():\n",
    "        \n",
    "        this_submitted_summary = local_event_summaries[event_id]\n",
    "\n",
    "        this_summary_text = \". \".join(this_submitted_summary).replace(\"..\", \".\")\n",
    "        if len(this_summary_text) == 0:\n",
    "            continue\n",
    "        \n",
    "        nist_summary = event[\"nist.summary\"]\n",
    "        wiki_summary = event[\"wiki.summary\"]\n",
    "\n",
    "        print(f\"event {event_id} - nist: {len(nist_summary)} - submitted: {len(this_summary_text)}\")\n",
    "        \n",
    "        nist_metric_ = bert_score.score([this_summary_text], [nist_summary], model_type=bert_model, device=device, batch_size=1, nthreads=2)\n",
    "        torch.cuda.empty_cache()\n",
    "        wiki_metric_ = bert_score.score([this_summary_text], [wiki_summary], model_type=bert_model, device=device, batch_size=1, nthreads=2)\n",
    "        torch.cuda.empty_cache()\n",
    "        \n",
    "        nist_metric = {\n",
    "            \"f1\": nist_metric_[2],\n",
    "            \"precision\": nist_metric_[0],\n",
    "            \"recall\": nist_metric_[1],\n",
    "        }\n",
    "        \n",
    "        wiki_metric = {\n",
    "            \"f1\": wiki_metric_[2],\n",
    "            \"precision\": wiki_metric_[0],\n",
    "            \"recall\": wiki_metric_[1],\n",
    "        }\n",
    "        \n",
    "        this_wiki_df = pd.DataFrame([{\"metric\":k, \"value\":v.item(), \"event\": event_id} for k,v in wiki_metric.items()])\n",
    "        this_nist_df = pd.DataFrame([{\"metric\":k, \"value\":v.item(), \"event\": event_id} for k,v in nist_metric.items()])\n",
    "        \n",
    "        display(this_nist_df)\n",
    "        \n",
    "        wiki_dfs.append(this_wiki_df)\n",
    "        nist_dfs.append(this_nist_df)\n",
    "        \n",
    "    full_wiki_df = pd.concat(wiki_dfs)\n",
    "    full_nist_df = pd.concat(nist_dfs)\n",
    "    \n",
    "    submission_metrics[this_run_id] = {\n",
    "        \"wiki\": full_wiki_df,\n",
    "        \"nist\": full_nist_df,\n",
    "    }\n",
    "    \n",
    "    display(full_nist_df.groupby(\"metric\")[\"value\"].mean())\n",
    "\n"
   ]
  },
  {
   "cell_type": "code",
   "execution_count": null,
   "id": "bc93d833",
   "metadata": {},
   "outputs": [],
   "source": []
  },
  {
   "cell_type": "code",
   "execution_count": null,
   "id": "13c81f81",
   "metadata": {},
   "outputs": [
    {
     "name": "stdout",
     "output_type": "stream",
     "text": [
      "\n"
     ]
    }
   ],
   "source": [
    "all_runs = []\n",
    "for k,v in submission_metrics.items():\n",
    "    print(k)\n",
    "    \n",
    "    stackable = []\n",
    "    for comparator,ldf in v.items():\n",
    "        stackable_ldf = ldf.copy()\n",
    "        stackable_ldf[\"target.summary\"] = comparator\n",
    "\n",
    "        stackable.append(stackable_ldf)\n",
    "\n",
    "    this_run_df = pd.concat(stackable)\n",
    "    this_run_df[\"run\"] = k\n",
    "    \n",
    "    all_runs.append(this_run_df)\n",
    "    this_run_df.to_csv(\"evaluation.output.bertscore/%s.csv\" % k, index=False)\n",
    "    \n",
    "all_runs_df = pd.concat(all_runs)\n",
    "all_runs_df.to_csv(\"evaluation.output.bertscore/all_runs.csv\", index=False)"
   ]
  },
  {
   "cell_type": "code",
   "execution_count": null,
   "id": "d6eaf04b",
   "metadata": {},
   "outputs": [],
   "source": []
  },
  {
   "cell_type": "code",
   "execution_count": null,
   "id": "cd743bda",
   "metadata": {},
   "outputs": [
    {
     "name": "stdout",
     "output_type": "stream",
     "text": [
      "\n",
      "\n"
     ]
    }
   ],
   "source": [
    "target_summaries = {}\n",
    "for target in [\"wiki\", \"nist\"]:\n",
    "    this_target_df = all_runs_df[all_runs_df[\"target.summary\"] == target]\n",
    "    \n",
    "    index = []\n",
    "    rows = []\n",
    "    for run_name,group in this_target_df.groupby(\"run\"):\n",
    "        print(run_name)\n",
    "        # this_row = group.pivot(\"event\", \"metric\", \"value\").mean()\n",
    "        this_row = group.pivot(index=\"event\", columns=\"metric\", values=\"value\").mean()\n",
    "        rows.append(this_row)\n",
    "        index.append(run_name)\n",
    "\n",
    "    summary_df = pd.DataFrame(rows, index=index)[[\n",
    "        \"f1\", \n",
    "    ]]\n",
    "\n",
    "    final_df = summary_df.sort_values(by=\"f1\", ascending=False)\n",
    "    final_df.to_csv(\"evaluation.output.bertscore/%s.summary.csv\" % target)\n",
    "    \n",
    "    target_summaries[target] = final_df"
   ]
  },
  {
   "cell_type": "code",
   "execution_count": null,
   "id": "d81ac222",
   "metadata": {},
   "outputs": [],
   "source": []
  },
  {
   "cell_type": "code",
   "execution_count": null,
   "id": "42682b70",
   "metadata": {},
   "outputs": [],
   "source": [
    "rel2023_events = [\n",
    "    'CrisisFACTS-009',\n",
    "    'CrisisFACTS-010',\n",
    "    'CrisisFACTS-011',\n",
    "    'CrisisFACTS-012',\n",
    "    'CrisisFACTS-013',\n",
    "    'CrisisFACTS-014',\n",
    "    'CrisisFACTS-015',\n",
    "    'CrisisFACTS-016',\n",
    "    'CrisisFACTS-017',\n",
    "    'CrisisFACTS-018'\n",
    "\n",
    "]"
   ]
  },
  {
   "cell_type": "code",
   "execution_count": null,
   "id": "dcd28381",
   "metadata": {
    "scrolled": false
   },
   "outputs": [
    {
     "name": "stdout",
     "output_type": "stream",
     "text": [
      "\n",
      "\t nist\n",
      "\t\t f1 0.8119206577539444\n",
      "\t\t precision 0.8105234801769257\n",
      "\t\t recall 0.8134236857295036\n",
      "\t wiki\n",
      "\t\t f1 0.7466365794340769\n",
      "\t\t precision 0.7262659172217051\n",
      "\t\t recall 0.7687798241774241\n"
     ]
    }
   ],
   "source": [
    "rows = []\n",
    "for runtag,group in all_runs_df[all_runs_df[\"event\"].isin(rel2023_events)].groupby(\"run\"):\n",
    "    print(runtag)\n",
    "    t_map = {\"run\": runtag}\n",
    "    for target,t_group in group.groupby(\"target.summary\"):\n",
    "        print(\"\\t\", target)\n",
    "        \n",
    "        if target == \"wiki\":\n",
    "            t_group = t_group[~t_group[\"event\"].isin([\"CrisisFACTS-011\", \"CrisisFACTS-012\"])]\n",
    "        for metric,m_group in t_group.groupby(\"metric\"):\n",
    "            print(\"\\t\\t\", metric, m_group[\"value\"].mean())\n",
    "            \n",
    "            t_map[\"%s.%s\" % (target,metric)] = m_group[\"value\"].mean()\n",
    "            \n",
    "    rows.append(t_map)"
   ]
  },
  {
   "cell_type": "code",
   "execution_count": null,
   "id": "779b6388",
   "metadata": {},
   "outputs": [
    {
     "data": {
      "text/html": [
       "<div>\n",
       "<style scoped>\n",
       "    .dataframe tbody tr th:only-of-type {\n",
       "        vertical-align: middle;\n",
       "    }\n",
       "\n",
       "    .dataframe tbody tr th {\n",
       "        vertical-align: top;\n",
       "    }\n",
       "\n",
       "    .dataframe thead th {\n",
       "        text-align: right;\n",
       "    }\n",
       "</style>\n",
       "<table border=\"1\" class=\"dataframe\">\n",
       "  <thead>\n",
       "    <tr style=\"text-align: right;\">\n",
       "      <th></th>\n",
       "      <th>nist.f1</th>\n",
       "      <th>wiki.f1</th>\n",
       "    </tr>\n",
       "    <tr>\n",
       "      <th>run</th>\n",
       "      <th></th>\n",
       "      <th></th>\n",
       "    </tr>\n",
       "  </thead>\n",
       "  <tbody>\n",
       "    <tr>\n",
       "      <th></th>\n",
       "      <td>0.811921</td>\n",
       "      <td>0.746637</td>\n",
       "    </tr>\n",
       "  </tbody>\n",
       "</table>\n",
       "</div>"
      ],
      "text/plain": [
       "      nist.f1   wiki.f1\n",
       "run                    \n",
       "     0.811921  0.746637"
      ]
     },
     "execution_count": 91,
     "metadata": {},
     "output_type": "execute_result"
    }
   ],
   "source": [
    "by_run_df = pd.DataFrame(rows).set_index(\"run\")\n",
    "by_run_df.to_csv(\"by_run.bertscore.summary.csv\")\n",
    "by_run_df[[\"nist.f1\", \"wiki.f1\"]]"
   ]
  },
  {
   "cell_type": "code",
   "execution_count": null,
   "id": "78fb3cb1",
   "metadata": {},
   "outputs": [
    {
     "data": {
      "text/html": [
       "<div>\n",
       "<style scoped>\n",
       "    .dataframe tbody tr th:only-of-type {\n",
       "        vertical-align: middle;\n",
       "    }\n",
       "\n",
       "    .dataframe tbody tr th {\n",
       "        vertical-align: top;\n",
       "    }\n",
       "\n",
       "    .dataframe thead th {\n",
       "        text-align: right;\n",
       "    }\n",
       "</style>\n",
       "<table border=\"1\" class=\"dataframe\">\n",
       "  <thead>\n",
       "    <tr style=\"text-align: right;\">\n",
       "      <th></th>\n",
       "      <th>nist.f1</th>\n",
       "      <th>wiki.f1</th>\n",
       "    </tr>\n",
       "  </thead>\n",
       "  <tbody>\n",
       "    <tr>\n",
       "      <th>nist.f1</th>\n",
       "      <td>NaN</td>\n",
       "      <td>NaN</td>\n",
       "    </tr>\n",
       "    <tr>\n",
       "      <th>wiki.f1</th>\n",
       "      <td>NaN</td>\n",
       "      <td>NaN</td>\n",
       "    </tr>\n",
       "  </tbody>\n",
       "</table>\n",
       "</div>"
      ],
      "text/plain": [
       "         nist.f1  wiki.f1\n",
       "nist.f1      NaN      NaN\n",
       "wiki.f1      NaN      NaN"
      ]
     },
     "execution_count": 92,
     "metadata": {},
     "output_type": "execute_result"
    }
   ],
   "source": [
    "by_run_df[[\"nist.f1\", \"wiki.f1\"]].corr()"
   ]
  },
  {
   "cell_type": "code",
   "execution_count": null,
   "id": "321a7435",
   "metadata": {},
   "outputs": [
    {
     "data": {
      "text/plain": [
       "<Axes: xlabel='nist.f1', ylabel='wiki.f1'>"
      ]
     },
     "execution_count": 93,
     "metadata": {},
     "output_type": "execute_result"
    },
    {
     "data": {
      "image/png": "[encoded data removed]",
      "text/plain": [
       "<Figure size 640x480 with 1 Axes>"
      ]
     },
     "metadata": {},
     "output_type": "display_data"
    }
   ],
   "source": [
    "by_run_df[[\"nist.f1\", \"wiki.f1\"]].plot.scatter(x=\"nist.f1\", y=\"wiki.f1\")"
   ]
  },
  {
   "cell_type": "code",
   "execution_count": null,
   "id": "7a4ee445",
   "metadata": {
    "scrolled": false
   },
   "outputs": [
    {
     "data": {
      "text/plain": [
       "<Axes: ylabel='run'>"
      ]
     },
     "execution_count": 94,
     "metadata": {},
     "output_type": "execute_result"
    },
    {
     "data": {
      "image/png": "[encoded data removed]",
      "text/plain": [
       "<Figure size 900x1600 with 1 Axes>"
      ]
     },
     "metadata": {},
     "output_type": "display_data"
    }
   ],
   "source": [
    "fig = plt.figure(figsize=(9,16))\n",
    "ax = fig.add_subplot(1,1,1)\n",
    "\n",
    "by_run_df[[\"nist.f1\", \"wiki.f1\"]].sort_values(by=\"nist.f1\").plot.barh(ax=ax)"
   ]
  },
  {
   "cell_type": "code",
   "execution_count": null,
   "id": "e2a30a0b",
   "metadata": {},
   "outputs": [],
   "source": []
  },
  {
   "cell_type": "markdown",
   "id": "66a6d6a2",
   "metadata": {},
   "source": [
    "## By Day"
   ]
  },
  {
   "cell_type": "code",
   "execution_count": null,
   "id": "29ff267e",
   "metadata": {},
   "outputs": [
    {
     "name": "stdout",
     "output_type": "stream",
     "text": [
      "CrisisFACTS-010\n",
      "\t nist\n",
      "\t\t f1 0.8052867650985718\n",
      "\t\t precision 0.8006007075309753\n",
      "\t\t recall 0.810028076171875\n",
      "\t wiki\n",
      "\t\t f1 0.7424697875976562\n",
      "\t\t precision 0.7310268878936768\n",
      "\t\t recall 0.754276692867279\n",
      "CrisisFACTS-011\n",
      "\t nist\n",
      "\t\t f1 0.7731232643127441\n",
      "\t\t precision 0.7658663988113403\n",
      "\t\t recall 0.7805190086364746\n",
      "\t wiki\n",
      "CrisisFACTS-012\n",
      "\t nist\n",
      "\t\t f1 0.8085600137710571\n",
      "\t\t precision 0.803749680519104\n",
      "\t\t recall 0.8134282827377319\n",
      "\t wiki\n",
      "CrisisFACTS-013\n",
      "\t nist\n",
      "\t\t f1 0.7996808290481567\n",
      "\t\t precision 0.7993745803833008\n",
      "\t\t recall 0.7999874353408813\n",
      "\t wiki\n",
      "\t\t f1 0.7252477407455444\n",
      "\t\t precision 0.7079290151596069\n",
      "\t\t recall 0.7434351444244385\n",
      "CrisisFACTS-015\n",
      "\t nist\n",
      "\t\t f1 0.8038163185119629\n",
      "\t\t precision 0.8186014294624329\n",
      "\t\t recall 0.7895557880401611\n",
      "\t wiki\n",
      "\t\t f1 0.7661961317062378\n",
      "\t\t precision 0.7463946342468262\n",
      "\t\t recall 0.7870768308639526\n",
      "CrisisFACTS-016\n",
      "\t nist\n",
      "\t\t f1 0.8385006189346313\n",
      "\t\t precision 0.8358165621757507\n",
      "\t\t recall 0.8412019610404968\n",
      "\t wiki\n",
      "\t\t f1 0.7550361752510071\n",
      "\t\t precision 0.7560154795646667\n",
      "\t\t recall 0.754059374332428\n",
      "CrisisFACTS-017\n",
      "\t nist\n",
      "\t\t f1 0.8342010378837585\n",
      "\t\t precision 0.8300163745880127\n",
      "\t\t recall 0.8384281396865845\n",
      "\t wiki\n",
      "\t\t f1 0.7517049312591553\n",
      "\t\t precision 0.7126069068908691\n",
      "\t\t recall 0.7953423261642456\n",
      "CrisisFACTS-018\n",
      "\t nist\n",
      "\t\t f1 0.8321964144706726\n",
      "\t\t precision 0.8301621079444885\n",
      "\t\t recall 0.8342407941818237\n",
      "\t wiki\n",
      "\t\t f1 0.7391647100448608\n",
      "\t\t precision 0.703622579574585\n",
      "\t\t recall 0.7784885764122009\n"
     ]
    }
   ],
   "source": [
    "rows = []\n",
    "for event,group in all_runs_df[all_runs_df[\"event\"].isin(rel2023_events)].groupby(\"event\"):\n",
    "    print(event)\n",
    "    t_map = {\"event\": event}\n",
    "    for target,t_group in group.groupby(\"target.summary\"):\n",
    "        print(\"\\t\", target)\n",
    "        \n",
    "        if target == \"wiki\":\n",
    "            t_group = t_group[~t_group[\"event\"].isin([\"CrisisFACTS-011\", \"CrisisFACTS-012\"])]\n",
    "        for metric,m_group in t_group.groupby(\"metric\"):\n",
    "            print(\"\\t\\t\", metric, m_group[\"value\"].mean())\n",
    "            \n",
    "            t_map[\"%s.%s\" % (target,metric)] = m_group[\"value\"].mean()\n",
    "            \n",
    "    rows.append(t_map)"
   ]
  },
  {
   "cell_type": "code",
   "execution_count": null,
   "id": "94577ba5",
   "metadata": {},
   "outputs": [
    {
     "data": {
      "text/html": [
       "<div>\n",
       "<style scoped>\n",
       "    .dataframe tbody tr th:only-of-type {\n",
       "        vertical-align: middle;\n",
       "    }\n",
       "\n",
       "    .dataframe tbody tr th {\n",
       "        vertical-align: top;\n",
       "    }\n",
       "\n",
       "    .dataframe thead th {\n",
       "        text-align: right;\n",
       "    }\n",
       "</style>\n",
       "<table border=\"1\" class=\"dataframe\">\n",
       "  <thead>\n",
       "    <tr style=\"text-align: right;\">\n",
       "      <th></th>\n",
       "      <th>nist.f1</th>\n",
       "      <th>wiki.f1</th>\n",
       "    </tr>\n",
       "    <tr>\n",
       "      <th>event</th>\n",
       "      <th></th>\n",
       "      <th></th>\n",
       "    </tr>\n",
       "  </thead>\n",
       "  <tbody>\n",
       "    <tr>\n",
       "      <th>CrisisFACTS-010</th>\n",
       "      <td>0.805287</td>\n",
       "      <td>0.742470</td>\n",
       "    </tr>\n",
       "    <tr>\n",
       "      <th>CrisisFACTS-011</th>\n",
       "      <td>0.773123</td>\n",
       "      <td>NaN</td>\n",
       "    </tr>\n",
       "    <tr>\n",
       "      <th>CrisisFACTS-012</th>\n",
       "      <td>0.808560</td>\n",
       "      <td>NaN</td>\n",
       "    </tr>\n",
       "    <tr>\n",
       "      <th>CrisisFACTS-013</th>\n",
       "      <td>0.799681</td>\n",
       "      <td>0.725248</td>\n",
       "    </tr>\n",
       "    <tr>\n",
       "      <th>CrisisFACTS-015</th>\n",
       "      <td>0.803816</td>\n",
       "      <td>0.766196</td>\n",
       "    </tr>\n",
       "    <tr>\n",
       "      <th>CrisisFACTS-016</th>\n",
       "      <td>0.838501</td>\n",
       "      <td>0.755036</td>\n",
       "    </tr>\n",
       "    <tr>\n",
       "      <th>CrisisFACTS-017</th>\n",
       "      <td>0.834201</td>\n",
       "      <td>0.751705</td>\n",
       "    </tr>\n",
       "    <tr>\n",
       "      <th>CrisisFACTS-018</th>\n",
       "      <td>0.832196</td>\n",
       "      <td>0.739165</td>\n",
       "    </tr>\n",
       "  </tbody>\n",
       "</table>\n",
       "</div>"
      ],
      "text/plain": [
       "                  nist.f1   wiki.f1\n",
       "event                              \n",
       "CrisisFACTS-010  0.805287  0.742470\n",
       "CrisisFACTS-011  0.773123       NaN\n",
       "CrisisFACTS-012  0.808560       NaN\n",
       "CrisisFACTS-013  0.799681  0.725248\n",
       "CrisisFACTS-015  0.803816  0.766196\n",
       "CrisisFACTS-016  0.838501  0.755036\n",
       "CrisisFACTS-017  0.834201  0.751705\n",
       "CrisisFACTS-018  0.832196  0.739165"
      ]
     },
     "execution_count": 96,
     "metadata": {},
     "output_type": "execute_result"
    }
   ],
   "source": [
    "by_event_df = pd.DataFrame(rows).set_index(\"event\")\n",
    "by_event_df.to_csv(\"by_event.bertscore.summary.csv\")\n",
    "by_event_df[[\"nist.f1\", \"wiki.f1\"]]"
   ]
  },
  {
   "cell_type": "code",
   "execution_count": null,
   "id": "3242999d",
   "metadata": {},
   "outputs": [
    {
     "data": {
      "text/plain": [
       "<Axes: ylabel='event'>"
      ]
     },
     "execution_count": 97,
     "metadata": {},
     "output_type": "execute_result"
    },
    {
     "data": {
      "image/png": "[encoded data removed]",
      "text/plain": [
       "<Figure size 900x1600 with 1 Axes>"
      ]
     },
     "metadata": {},
     "output_type": "display_data"
    }
   ],
   "source": [
    "fig = plt.figure(figsize=(9,16))\n",
    "ax = fig.add_subplot(1,1,1)\n",
    "\n",
    "by_event_df[[\"nist.f1\", \"wiki.f1\"]].plot.barh(ax=ax)"
   ]
  },
  {
   "cell_type": "code",
   "execution_count": null,
   "id": "60afedd5",
   "metadata": {},
   "outputs": [],
   "source": []
  },
  {
   "cell_type": "code",
   "execution_count": null,
   "id": "0f0b4512",
   "metadata": {},
   "outputs": [
    {
     "name": "stdout",
     "output_type": "stream",
     "text": [
      "\\begin{tabular}{lrrrrrr}\n",
      " & nist.f1 & nist.precision & nist.recall & wiki.f1 & wiki.precision & wiki.recall \\\\\n",
      "event &  &  &  &  &  &  \\\\\n",
      "CrisisFACTS-010 & 0.805287 & 0.800601 & 0.810028 & 0.742470 & 0.731027 & 0.754277 \\\\\n",
      "CrisisFACTS-011 & 0.773123 & 0.765866 & 0.780519 & nan & nan & nan \\\\\n",
      "CrisisFACTS-012 & 0.808560 & 0.803750 & 0.813428 & nan & nan & nan \\\\\n",
      "CrisisFACTS-013 & 0.799681 & 0.799375 & 0.799987 & 0.725248 & 0.707929 & 0.743435 \\\\\n",
      "CrisisFACTS-015 & 0.803816 & 0.818601 & 0.789556 & 0.766196 & 0.746395 & 0.787077 \\\\\n",
      "CrisisFACTS-016 & 0.838501 & 0.835817 & 0.841202 & 0.755036 & 0.756015 & 0.754059 \\\\\n",
      "CrisisFACTS-017 & 0.834201 & 0.830016 & 0.838428 & 0.751705 & 0.712607 & 0.795342 \\\\\n",
      "CrisisFACTS-018 & 0.832196 & 0.830162 & 0.834241 & 0.739165 & 0.703623 & 0.778489 \\\\\n",
      "\\end{tabular}\n",
      "\n"
     ]
    }
   ],
   "source": [
    "score_df = pd.read_csv(\"by_event.bertscore.summary.csv\", index_col=0)\n",
    "print(score_df.groupby(\"event\").mean().style.to_latex())"
   ]
  },
  {
   "cell_type": "code",
   "execution_count": null,
   "id": "c4709d84",
   "metadata": {},
   "outputs": [
    {
     "name": "stdout",
     "output_type": "stream",
     "text": [
      "\\begin{tabular}{lrrrrrr}\n",
      " & nist.f1 & nist.precision & nist.recall & wiki.f1 & wiki.precision & wiki.recall \\\\\n",
      "event &  &  &  &  &  &  \\\\\n",
      "CrisisFACTS-010 & 0.805287 & 0.800601 & 0.810028 & 0.742470 & 0.731027 & 0.754277 \\\\\n",
      "CrisisFACTS-011 & 0.773123 & 0.765866 & 0.780519 & nan & nan & nan \\\\\n",
      "CrisisFACTS-012 & 0.808560 & 0.803750 & 0.813428 & nan & nan & nan \\\\\n",
      "CrisisFACTS-013 & 0.799681 & 0.799375 & 0.799987 & 0.725248 & 0.707929 & 0.743435 \\\\\n",
      "CrisisFACTS-015 & 0.803816 & 0.818601 & 0.789556 & 0.766196 & 0.746395 & 0.787077 \\\\\n",
      "CrisisFACTS-016 & 0.838501 & 0.835817 & 0.841202 & 0.755036 & 0.756015 & 0.754059 \\\\\n",
      "CrisisFACTS-017 & 0.834201 & 0.830016 & 0.838428 & 0.751705 & 0.712607 & 0.795342 \\\\\n",
      "CrisisFACTS-018 & 0.832196 & 0.830162 & 0.834241 & 0.739165 & 0.703623 & 0.778489 \\\\\n",
      "\\end{tabular}\n",
      "\n"
     ]
    }
   ],
   "source": [
    "print(score_df.groupby(\"event\").mean().style.to_latex())"
   ]
  },
  {
   "cell_type": "code",
   "execution_count": null,
   "id": "9998ed11",
   "metadata": {},
   "outputs": [],
   "source": []
  }
 ],
 "metadata": {
  "kernelspec": {
   "display_name": ".venv",
   "language": "python",
   "name": "python3"
  },
  "language_info": {
   "codemirror_mode": {
    "name": "ipython",
    "version": 3
   },
   "file_extension": ".py",
   "mimetype": "text/x-python",
   "name": "python",
   "nbconvert_exporter": "python",
   "pygments_lexer": "ipython3",
   "version": "3.11.2"
  }
 },
 "nbformat": 4,
 "nbformat_minor": 5
}
