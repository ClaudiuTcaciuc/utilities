{
 "cells": [
  {
   "cell_type": "markdown",
   "id": "9d9faabc",
   "metadata": {},
   "source": [
    "# ROUGE Scoring Against NIST and Wikipedia\n",
    "\n",
    "Duplicating CrisisFACTS 2022 assessment via ROUGE"
   ]
  },
  {
   "cell_type": "code",
   "execution_count": 57,
   "id": "db0b332e",
   "metadata": {},
   "outputs": [],
   "source": [
    "%matplotlib inline"
   ]
  },
  {
   "cell_type": "code",
   "execution_count": 58,
   "id": "44a96521",
   "metadata": {},
   "outputs": [],
   "source": [
    "import pandas as pd\n",
    "import numpy as np\n",
    "import json\n",
    "import glob\n",
    "import gzip\n",
    "\n",
    "import scipy.stats\n",
    "\n",
    "import matplotlib.pyplot as plt"
   ]
  },
  {
   "cell_type": "code",
   "execution_count": 59,
   "id": "73bd29a3",
   "metadata": {},
   "outputs": [],
   "source": [
    "import wikipedia"
   ]
  },
  {
   "cell_type": "code",
   "execution_count": 60,
   "id": "c556aa5c",
   "metadata": {},
   "outputs": [],
   "source": [
    "from torchmetrics.text.rouge import ROUGEScore"
   ]
  },
  {
   "cell_type": "code",
   "execution_count": null,
   "id": "3a6d5ee5",
   "metadata": {},
   "outputs": [],
   "source": []
  },
  {
   "cell_type": "markdown",
   "id": "1f344b8d",
   "metadata": {},
   "source": [
    "## Get CrisisFACTS Event Metadata"
   ]
  },
  {
   "cell_type": "code",
   "execution_count": 61,
   "id": "fa982806",
   "metadata": {},
   "outputs": [],
   "source": [
    "event_df = pd.read_json(\"CrisisFACTs-2022to2023.topics.json\", lines=False).set_index(\"eventID\")"
   ]
  },
  {
   "cell_type": "markdown",
   "id": "bfbd2d79",
   "metadata": {},
   "source": [
    "### Get Summaries from Wikipedia"
   ]
  },
  {
   "cell_type": "code",
   "execution_count": 62,
   "id": "26edb077",
   "metadata": {},
   "outputs": [
    {
     "name": "stdout",
     "output_type": "stream",
     "text": [
      "https://en.wikipedia.org/wiki/Lilac_Fire\n",
      "https://en.wikipedia.org/wiki/Cranston_Fire\n",
      "https://en.wikipedia.org/wiki/Holy_Fire_(2018)\n",
      "https://en.wikipedia.org/wiki/Hurricane_Florence\n",
      "https://en.wikipedia.org/wiki/2018_Maryland_flood\n",
      "https://en.wikipedia.org/wiki/Saddleridge_Fire\n",
      "https://en.wikipedia.org/wiki/Hurricane_Laura\n",
      "https://en.wikipedia.org/wiki/Hurricane_Sally\n",
      "https://en.wikipedia.org/wiki/2020_Beirut_explosion\n",
      "https://en.wikipedia.org/wiki/2020_Houston_explosion\n",
      "https://en.wikipedia.org/wiki/Edenville_Dam#Dam_failure\n",
      "https://en.wikipedia.org/wiki/Hurricane_Dorian\n",
      "https://en.wikipedia.org/wiki/Kincade_Fire\n",
      "https://en.wikipedia.org/wiki/2020_Easter_tornado_outbreak\n",
      "https://en.wikipedia.org/wiki/Tornado_outbreak_of_April_22-23,_2020\n",
      "https://en.wikipedia.org/wiki/Tornado_outbreak_of_March_2-3,_2020\n"
     ]
    }
   ],
   "source": [
    "def get_wiki_summary(url):\n",
    "    \n",
    "    if \"wikipedia.org\" not in url:\n",
    "        return \"\"\n",
    "    \n",
    "    page_title = url.rpartition(\"/\")[-1]\n",
    "    print(url)\n",
    "    page = wikipedia.page(title=page_title, auto_suggest=False)\n",
    "    \n",
    "    return page.summary\n",
    "\n",
    "event_df[\"wiki.summary\"] = event_df[\"url\"].apply(get_wiki_summary)"
   ]
  },
  {
   "cell_type": "markdown",
   "id": "972f2f1c",
   "metadata": {},
   "source": [
    "### Get Summaries from Assessors"
   ]
  },
  {
   "cell_type": "code",
   "execution_count": 63,
   "id": "a2e097d1",
   "metadata": {},
   "outputs": [],
   "source": [
    "with open(\"final-annotated-facts-results.json\", \"r\") as in_file:\n",
    "    annotation_data = json.load(in_file)"
   ]
  },
  {
   "cell_type": "code",
   "execution_count": 64,
   "id": "85afc64c",
   "metadata": {},
   "outputs": [],
   "source": [
    "event_fact_lists = {}\n",
    "\n",
    "for req_id,req_data in annotation_data.items():\n",
    "    event_id = req_id.rpartition(\"-\")[0]\n",
    "    local_fact_set = {f[0] for f in req_data[\"fact_list\"] if f[2] == \"USEFUL_FACT\"}\n",
    "    \n",
    "    with open(\"../00-createSummaries/collapsed-event-days/Collapsed-%s.json\" % req_id) as in_file:\n",
    "        local_fact_data = json.load(in_file)\n",
    "        \n",
    "    local_fact_text = [\n",
    "        fact[\"fact_text\"] for fact in local_fact_data \n",
    "        if fact[\"collapsed_fact_id\"] in local_fact_set\n",
    "    ]\n",
    "    \n",
    "    local_fact_list = event_fact_lists.get(event_id, [])\n",
    "    local_fact_list = local_fact_list + local_fact_text\n",
    "    event_fact_lists[event_id] = local_fact_list"
   ]
  },
  {
   "cell_type": "code",
   "execution_count": 65,
   "id": "3632d5ee",
   "metadata": {},
   "outputs": [],
   "source": [
    "event_df[\"nist.summary\"] = [\". \".join(event_fact_lists[event_id]).replace(\"..\", \".\") for event_id in event_df.index]\n"
   ]
  },
  {
   "cell_type": "markdown",
   "id": "8bdff41e",
   "metadata": {},
   "source": [
    "## Save the Summaries"
   ]
  },
  {
   "cell_type": "code",
   "execution_count": 66,
   "id": "c18718ec",
   "metadata": {},
   "outputs": [],
   "source": [
    "event_df.to_json(\"CrisisFACTs-2022to2023.topics.withSummaries.json\")"
   ]
  },
  {
   "cell_type": "code",
   "execution_count": null,
   "id": "1a7db79a",
   "metadata": {},
   "outputs": [],
   "source": []
  },
  {
   "cell_type": "code",
   "execution_count": 67,
   "id": "dfbd1459",
   "metadata": {},
   "outputs": [],
   "source": [
    "rouge = ROUGEScore(\n",
    "    use_stemmer=True,\n",
    "    rouge_keys=(\"rouge2\",)\n",
    ")"
   ]
  },
  {
   "cell_type": "code",
   "execution_count": null,
   "id": "133e3127",
   "metadata": {},
   "outputs": [],
   "source": []
  },
  {
   "cell_type": "code",
   "execution_count": 68,
   "id": "73ec2e14",
   "metadata": {},
   "outputs": [],
   "source": [
    "TOP_K = 32"
   ]
  },
  {
   "cell_type": "code",
   "execution_count": null,
   "id": "835e1d0f",
   "metadata": {},
   "outputs": [],
   "source": []
  },
  {
   "cell_type": "code",
   "execution_count": 69,
   "id": "cb52e8d3",
   "metadata": {},
   "outputs": [],
   "source": [
    "all_req_ids = list(annotation_data.keys())"
   ]
  },
  {
   "cell_type": "code",
   "execution_count": 70,
   "id": "0a658b39",
   "metadata": {
    "scrolled": true
   },
   "outputs": [
    {
     "name": "stdout",
     "output_type": "stream",
     "text": [
      "submissions\\Thesis_Retriver.gz --> \n",
      "CrisisFACTS-010 13117\n"
     ]
    },
    {
     "data": {
      "text/html": [
       "<div>\n",
       "<style scoped>\n",
       "    .dataframe tbody tr th:only-of-type {\n",
       "        vertical-align: middle;\n",
       "    }\n",
       "\n",
       "    .dataframe tbody tr th {\n",
       "        vertical-align: top;\n",
       "    }\n",
       "\n",
       "    .dataframe thead th {\n",
       "        text-align: right;\n",
       "    }\n",
       "</style>\n",
       "<table border=\"1\" class=\"dataframe\">\n",
       "  <thead>\n",
       "    <tr style=\"text-align: right;\">\n",
       "      <th></th>\n",
       "      <th>metric</th>\n",
       "      <th>value</th>\n",
       "      <th>event</th>\n",
       "    </tr>\n",
       "  </thead>\n",
       "  <tbody>\n",
       "    <tr>\n",
       "      <th>0</th>\n",
       "      <td>f1</td>\n",
       "      <td>0.276243</td>\n",
       "      <td>CrisisFACTS-010</td>\n",
       "    </tr>\n",
       "    <tr>\n",
       "      <th>1</th>\n",
       "      <td>precision</td>\n",
       "      <td>0.358240</td>\n",
       "      <td>CrisisFACTS-010</td>\n",
       "    </tr>\n",
       "    <tr>\n",
       "      <th>2</th>\n",
       "      <td>recall</td>\n",
       "      <td>0.224791</td>\n",
       "      <td>CrisisFACTS-010</td>\n",
       "    </tr>\n",
       "  </tbody>\n",
       "</table>\n",
       "</div>"
      ],
      "text/plain": [
       "      metric     value            event\n",
       "0         f1  0.276243  CrisisFACTS-010\n",
       "1  precision  0.358240  CrisisFACTS-010\n",
       "2     recall  0.224791  CrisisFACTS-010"
      ]
     },
     "metadata": {},
     "output_type": "display_data"
    },
    {
     "name": "stdout",
     "output_type": "stream",
     "text": [
      "CrisisFACTS-011 16730\n"
     ]
    },
    {
     "data": {
      "text/html": [
       "<div>\n",
       "<style scoped>\n",
       "    .dataframe tbody tr th:only-of-type {\n",
       "        vertical-align: middle;\n",
       "    }\n",
       "\n",
       "    .dataframe tbody tr th {\n",
       "        vertical-align: top;\n",
       "    }\n",
       "\n",
       "    .dataframe thead th {\n",
       "        text-align: right;\n",
       "    }\n",
       "</style>\n",
       "<table border=\"1\" class=\"dataframe\">\n",
       "  <thead>\n",
       "    <tr style=\"text-align: right;\">\n",
       "      <th></th>\n",
       "      <th>metric</th>\n",
       "      <th>value</th>\n",
       "      <th>event</th>\n",
       "    </tr>\n",
       "  </thead>\n",
       "  <tbody>\n",
       "    <tr>\n",
       "      <th>0</th>\n",
       "      <td>f1</td>\n",
       "      <td>0.167432</td>\n",
       "      <td>CrisisFACTS-011</td>\n",
       "    </tr>\n",
       "    <tr>\n",
       "      <th>1</th>\n",
       "      <td>precision</td>\n",
       "      <td>0.147364</td>\n",
       "      <td>CrisisFACTS-011</td>\n",
       "    </tr>\n",
       "    <tr>\n",
       "      <th>2</th>\n",
       "      <td>recall</td>\n",
       "      <td>0.193826</td>\n",
       "      <td>CrisisFACTS-011</td>\n",
       "    </tr>\n",
       "  </tbody>\n",
       "</table>\n",
       "</div>"
      ],
      "text/plain": [
       "      metric     value            event\n",
       "0         f1  0.167432  CrisisFACTS-011\n",
       "1  precision  0.147364  CrisisFACTS-011\n",
       "2     recall  0.193826  CrisisFACTS-011"
      ]
     },
     "metadata": {},
     "output_type": "display_data"
    },
    {
     "name": "stdout",
     "output_type": "stream",
     "text": [
      "CrisisFACTS-012 13410\n"
     ]
    },
    {
     "data": {
      "text/html": [
       "<div>\n",
       "<style scoped>\n",
       "    .dataframe tbody tr th:only-of-type {\n",
       "        vertical-align: middle;\n",
       "    }\n",
       "\n",
       "    .dataframe tbody tr th {\n",
       "        vertical-align: top;\n",
       "    }\n",
       "\n",
       "    .dataframe thead th {\n",
       "        text-align: right;\n",
       "    }\n",
       "</style>\n",
       "<table border=\"1\" class=\"dataframe\">\n",
       "  <thead>\n",
       "    <tr style=\"text-align: right;\">\n",
       "      <th></th>\n",
       "      <th>metric</th>\n",
       "      <th>value</th>\n",
       "      <th>event</th>\n",
       "    </tr>\n",
       "  </thead>\n",
       "  <tbody>\n",
       "    <tr>\n",
       "      <th>0</th>\n",
       "      <td>f1</td>\n",
       "      <td>0.233537</td>\n",
       "      <td>CrisisFACTS-012</td>\n",
       "    </tr>\n",
       "    <tr>\n",
       "      <th>1</th>\n",
       "      <td>precision</td>\n",
       "      <td>0.510815</td>\n",
       "      <td>CrisisFACTS-012</td>\n",
       "    </tr>\n",
       "    <tr>\n",
       "      <th>2</th>\n",
       "      <td>recall</td>\n",
       "      <td>0.151371</td>\n",
       "      <td>CrisisFACTS-012</td>\n",
       "    </tr>\n",
       "  </tbody>\n",
       "</table>\n",
       "</div>"
      ],
      "text/plain": [
       "      metric     value            event\n",
       "0         f1  0.233537  CrisisFACTS-012\n",
       "1  precision  0.510815  CrisisFACTS-012\n",
       "2     recall  0.151371  CrisisFACTS-012"
      ]
     },
     "metadata": {},
     "output_type": "display_data"
    },
    {
     "name": "stdout",
     "output_type": "stream",
     "text": [
      "CrisisFACTS-013 17131\n"
     ]
    },
    {
     "data": {
      "text/html": [
       "<div>\n",
       "<style scoped>\n",
       "    .dataframe tbody tr th:only-of-type {\n",
       "        vertical-align: middle;\n",
       "    }\n",
       "\n",
       "    .dataframe tbody tr th {\n",
       "        vertical-align: top;\n",
       "    }\n",
       "\n",
       "    .dataframe thead th {\n",
       "        text-align: right;\n",
       "    }\n",
       "</style>\n",
       "<table border=\"1\" class=\"dataframe\">\n",
       "  <thead>\n",
       "    <tr style=\"text-align: right;\">\n",
       "      <th></th>\n",
       "      <th>metric</th>\n",
       "      <th>value</th>\n",
       "      <th>event</th>\n",
       "    </tr>\n",
       "  </thead>\n",
       "  <tbody>\n",
       "    <tr>\n",
       "      <th>0</th>\n",
       "      <td>f1</td>\n",
       "      <td>0.237083</td>\n",
       "      <td>CrisisFACTS-013</td>\n",
       "    </tr>\n",
       "    <tr>\n",
       "      <th>1</th>\n",
       "      <td>precision</td>\n",
       "      <td>0.510107</td>\n",
       "      <td>CrisisFACTS-013</td>\n",
       "    </tr>\n",
       "    <tr>\n",
       "      <th>2</th>\n",
       "      <td>recall</td>\n",
       "      <td>0.154428</td>\n",
       "      <td>CrisisFACTS-013</td>\n",
       "    </tr>\n",
       "  </tbody>\n",
       "</table>\n",
       "</div>"
      ],
      "text/plain": [
       "      metric     value            event\n",
       "0         f1  0.237083  CrisisFACTS-013\n",
       "1  precision  0.510107  CrisisFACTS-013\n",
       "2     recall  0.154428  CrisisFACTS-013"
      ]
     },
     "metadata": {},
     "output_type": "display_data"
    },
    {
     "name": "stdout",
     "output_type": "stream",
     "text": [
      "CrisisFACTS-015 37637\n"
     ]
    },
    {
     "data": {
      "text/html": [
       "<div>\n",
       "<style scoped>\n",
       "    .dataframe tbody tr th:only-of-type {\n",
       "        vertical-align: middle;\n",
       "    }\n",
       "\n",
       "    .dataframe tbody tr th {\n",
       "        vertical-align: top;\n",
       "    }\n",
       "\n",
       "    .dataframe thead th {\n",
       "        text-align: right;\n",
       "    }\n",
       "</style>\n",
       "<table border=\"1\" class=\"dataframe\">\n",
       "  <thead>\n",
       "    <tr style=\"text-align: right;\">\n",
       "      <th></th>\n",
       "      <th>metric</th>\n",
       "      <th>value</th>\n",
       "      <th>event</th>\n",
       "    </tr>\n",
       "  </thead>\n",
       "  <tbody>\n",
       "    <tr>\n",
       "      <th>0</th>\n",
       "      <td>f1</td>\n",
       "      <td>0.313051</td>\n",
       "      <td>CrisisFACTS-015</td>\n",
       "    </tr>\n",
       "    <tr>\n",
       "      <th>1</th>\n",
       "      <td>precision</td>\n",
       "      <td>0.386482</td>\n",
       "      <td>CrisisFACTS-015</td>\n",
       "    </tr>\n",
       "    <tr>\n",
       "      <th>2</th>\n",
       "      <td>recall</td>\n",
       "      <td>0.263068</td>\n",
       "      <td>CrisisFACTS-015</td>\n",
       "    </tr>\n",
       "  </tbody>\n",
       "</table>\n",
       "</div>"
      ],
      "text/plain": [
       "      metric     value            event\n",
       "0         f1  0.313051  CrisisFACTS-015\n",
       "1  precision  0.386482  CrisisFACTS-015\n",
       "2     recall  0.263068  CrisisFACTS-015"
      ]
     },
     "metadata": {},
     "output_type": "display_data"
    },
    {
     "name": "stdout",
     "output_type": "stream",
     "text": [
      "CrisisFACTS-016 13502\n"
     ]
    },
    {
     "data": {
      "text/html": [
       "<div>\n",
       "<style scoped>\n",
       "    .dataframe tbody tr th:only-of-type {\n",
       "        vertical-align: middle;\n",
       "    }\n",
       "\n",
       "    .dataframe tbody tr th {\n",
       "        vertical-align: top;\n",
       "    }\n",
       "\n",
       "    .dataframe thead th {\n",
       "        text-align: right;\n",
       "    }\n",
       "</style>\n",
       "<table border=\"1\" class=\"dataframe\">\n",
       "  <thead>\n",
       "    <tr style=\"text-align: right;\">\n",
       "      <th></th>\n",
       "      <th>metric</th>\n",
       "      <th>value</th>\n",
       "      <th>event</th>\n",
       "    </tr>\n",
       "  </thead>\n",
       "  <tbody>\n",
       "    <tr>\n",
       "      <th>0</th>\n",
       "      <td>f1</td>\n",
       "      <td>0.206650</td>\n",
       "      <td>CrisisFACTS-016</td>\n",
       "    </tr>\n",
       "    <tr>\n",
       "      <th>1</th>\n",
       "      <td>precision</td>\n",
       "      <td>0.382757</td>\n",
       "      <td>CrisisFACTS-016</td>\n",
       "    </tr>\n",
       "    <tr>\n",
       "      <th>2</th>\n",
       "      <td>recall</td>\n",
       "      <td>0.141531</td>\n",
       "      <td>CrisisFACTS-016</td>\n",
       "    </tr>\n",
       "  </tbody>\n",
       "</table>\n",
       "</div>"
      ],
      "text/plain": [
       "      metric     value            event\n",
       "0         f1  0.206650  CrisisFACTS-016\n",
       "1  precision  0.382757  CrisisFACTS-016\n",
       "2     recall  0.141531  CrisisFACTS-016"
      ]
     },
     "metadata": {},
     "output_type": "display_data"
    },
    {
     "name": "stdout",
     "output_type": "stream",
     "text": [
      "CrisisFACTS-017 16200\n"
     ]
    },
    {
     "data": {
      "text/html": [
       "<div>\n",
       "<style scoped>\n",
       "    .dataframe tbody tr th:only-of-type {\n",
       "        vertical-align: middle;\n",
       "    }\n",
       "\n",
       "    .dataframe tbody tr th {\n",
       "        vertical-align: top;\n",
       "    }\n",
       "\n",
       "    .dataframe thead th {\n",
       "        text-align: right;\n",
       "    }\n",
       "</style>\n",
       "<table border=\"1\" class=\"dataframe\">\n",
       "  <thead>\n",
       "    <tr style=\"text-align: right;\">\n",
       "      <th></th>\n",
       "      <th>metric</th>\n",
       "      <th>value</th>\n",
       "      <th>event</th>\n",
       "    </tr>\n",
       "  </thead>\n",
       "  <tbody>\n",
       "    <tr>\n",
       "      <th>0</th>\n",
       "      <td>f1</td>\n",
       "      <td>0.261992</td>\n",
       "      <td>CrisisFACTS-017</td>\n",
       "    </tr>\n",
       "    <tr>\n",
       "      <th>1</th>\n",
       "      <td>precision</td>\n",
       "      <td>0.563985</td>\n",
       "      <td>CrisisFACTS-017</td>\n",
       "    </tr>\n",
       "    <tr>\n",
       "      <th>2</th>\n",
       "      <td>recall</td>\n",
       "      <td>0.170627</td>\n",
       "      <td>CrisisFACTS-017</td>\n",
       "    </tr>\n",
       "  </tbody>\n",
       "</table>\n",
       "</div>"
      ],
      "text/plain": [
       "      metric     value            event\n",
       "0         f1  0.261992  CrisisFACTS-017\n",
       "1  precision  0.563985  CrisisFACTS-017\n",
       "2     recall  0.170627  CrisisFACTS-017"
      ]
     },
     "metadata": {},
     "output_type": "display_data"
    },
    {
     "name": "stdout",
     "output_type": "stream",
     "text": [
      "CrisisFACTS-018 15325\n"
     ]
    },
    {
     "data": {
      "text/html": [
       "<div>\n",
       "<style scoped>\n",
       "    .dataframe tbody tr th:only-of-type {\n",
       "        vertical-align: middle;\n",
       "    }\n",
       "\n",
       "    .dataframe tbody tr th {\n",
       "        vertical-align: top;\n",
       "    }\n",
       "\n",
       "    .dataframe thead th {\n",
       "        text-align: right;\n",
       "    }\n",
       "</style>\n",
       "<table border=\"1\" class=\"dataframe\">\n",
       "  <thead>\n",
       "    <tr style=\"text-align: right;\">\n",
       "      <th></th>\n",
       "      <th>metric</th>\n",
       "      <th>value</th>\n",
       "      <th>event</th>\n",
       "    </tr>\n",
       "  </thead>\n",
       "  <tbody>\n",
       "    <tr>\n",
       "      <th>0</th>\n",
       "      <td>f1</td>\n",
       "      <td>0.168174</td>\n",
       "      <td>CrisisFACTS-018</td>\n",
       "    </tr>\n",
       "    <tr>\n",
       "      <th>1</th>\n",
       "      <td>precision</td>\n",
       "      <td>0.494484</td>\n",
       "      <td>CrisisFACTS-018</td>\n",
       "    </tr>\n",
       "    <tr>\n",
       "      <th>2</th>\n",
       "      <td>recall</td>\n",
       "      <td>0.101316</td>\n",
       "      <td>CrisisFACTS-018</td>\n",
       "    </tr>\n",
       "  </tbody>\n",
       "</table>\n",
       "</div>"
      ],
      "text/plain": [
       "      metric     value            event\n",
       "0         f1  0.168174  CrisisFACTS-018\n",
       "1  precision  0.494484  CrisisFACTS-018\n",
       "2     recall  0.101316  CrisisFACTS-018"
      ]
     },
     "metadata": {},
     "output_type": "display_data"
    },
    {
     "data": {
      "text/plain": [
       "metric\n",
       "f1           0.233020\n",
       "precision    0.419279\n",
       "recall       0.175120\n",
       "Name: value, dtype: float64"
      ]
     },
     "metadata": {},
     "output_type": "display_data"
    }
   ],
   "source": [
    "submission_metrics = {}\n",
    "\n",
    "for f in glob.glob(\"submissions/*.gz\"):\n",
    "    \n",
    "    this_run_id = f.partition(\"/\")[-1].replace(\".gz\", \"\")\n",
    "    print(f, \"-->\", this_run_id)\n",
    "    \n",
    "    this_run_event_request_facts = {k:[] for k in all_req_ids}\n",
    "    with gzip.open(f, \"r\") as in_file:\n",
    "        for line_ in in_file:\n",
    "            line = line_.decode(\"utf8\")\n",
    "            \n",
    "            entry = json.loads(line)\n",
    "            this_req_id = entry[\"requestID\"]\n",
    "            \n",
    "            # We skip days where we have no relevant facts from assessors\n",
    "            if this_req_id not in all_req_ids:\n",
    "                continue\n",
    "            \n",
    "            this_run_event_request_facts[this_req_id].append(entry)\n",
    "            \n",
    "    local_event_summaries = {e_id:[] for e_id in event_df.index}\n",
    "    for event_request,this_fact_list in this_run_event_request_facts.items():\n",
    "        event_id = event_request.rpartition(\"-\")[0]\n",
    "        \n",
    "        sorted_fact_list = sorted(this_fact_list, key=lambda v: v[\"importance\"], reverse=True)\n",
    "        this_day_summary = [this_top_fact[\"factText\"] for this_top_fact in sorted_fact_list[:TOP_K]]\n",
    "        \n",
    "        local_event_summaries[event_id] = local_event_summaries[event_id] + this_day_summary\n",
    "        \n",
    "\n",
    "    wiki_dfs = []\n",
    "    nist_dfs = []\n",
    "    for event_id,event in event_df.iterrows():\n",
    "        \n",
    "        this_submitted_summary = local_event_summaries[event_id]\n",
    "        if len(this_submitted_summary) == 0:\n",
    "            continue\n",
    "\n",
    "        this_summary_text = \". \".join(this_submitted_summary).replace(\"..\", \".\")\n",
    "        print(event_id, len(this_summary_text))\n",
    "        \n",
    "        nist_summary = event[\"nist.summary\"]\n",
    "        wiki_summary = event[\"wiki.summary\"]\n",
    "\n",
    "        nist_metric_ = rouge(this_summary_text, nist_summary)\n",
    "        wiki_metric_ = rouge(this_summary_text, wiki_summary)\n",
    "        \n",
    "        nist_metric = {\n",
    "            \"f1\": nist_metric_[\"rouge2_fmeasure\"],\n",
    "            \"precision\": nist_metric_[\"rouge2_precision\"],\n",
    "            \"recall\": nist_metric_[\"rouge2_recall\"],\n",
    "        }\n",
    "        \n",
    "        wiki_metric = {\n",
    "            \"f1\": wiki_metric_[\"rouge2_fmeasure\"],\n",
    "            \"precision\": wiki_metric_[\"rouge2_precision\"],\n",
    "            \"recall\": wiki_metric_[\"rouge2_recall\"],\n",
    "        }\n",
    "        \n",
    "        this_wiki_df = pd.DataFrame([{\"metric\":k, \"value\":v.item(), \"event\": event_id} for k,v in wiki_metric.items()])\n",
    "        this_nist_df = pd.DataFrame([{\"metric\":k, \"value\":v.item(), \"event\": event_id} for k,v in nist_metric.items()])\n",
    "\n",
    "        display(this_nist_df)\n",
    "        \n",
    "        wiki_dfs.append(this_wiki_df)\n",
    "        nist_dfs.append(this_nist_df)\n",
    "        \n",
    "    full_wiki_df = pd.concat(wiki_dfs)\n",
    "    full_nist_df = pd.concat(nist_dfs)\n",
    "    \n",
    "    submission_metrics[this_run_id] = {\n",
    "        \"wiki\": full_wiki_df,\n",
    "        \"nist\": full_nist_df,\n",
    "    }\n",
    "    \n",
    "    display(full_nist_df.groupby(\"metric\")[\"value\"].mean())\n",
    "\n"
   ]
  },
  {
   "cell_type": "code",
   "execution_count": null,
   "id": "bc93d833",
   "metadata": {},
   "outputs": [],
   "source": []
  },
  {
   "cell_type": "code",
   "execution_count": 71,
   "id": "13c81f81",
   "metadata": {},
   "outputs": [
    {
     "name": "stdout",
     "output_type": "stream",
     "text": [
      "\n"
     ]
    }
   ],
   "source": [
    "all_runs = []\n",
    "for k,v in submission_metrics.items():\n",
    "    print(k)\n",
    "    \n",
    "    stackable = []\n",
    "    for comparator,ldf in v.items():\n",
    "        stackable_ldf = ldf.copy()\n",
    "        stackable_ldf[\"target.summary\"] = comparator\n",
    "\n",
    "        stackable.append(stackable_ldf)\n",
    "\n",
    "    this_run_df = pd.concat(stackable)\n",
    "    this_run_df[\"run\"] = k\n",
    "    \n",
    "    all_runs.append(this_run_df)\n",
    "    this_run_df.to_csv(\"evaluation.output.rouge/%s.csv\" % k, index=False)\n",
    "    \n",
    "all_runs_df = pd.concat(all_runs)\n",
    "all_runs_df.to_csv(\"evaluation.output.rouge/all_runs.csv\", index=False)"
   ]
  },
  {
   "cell_type": "code",
   "execution_count": null,
   "id": "d6eaf04b",
   "metadata": {},
   "outputs": [],
   "source": []
  },
  {
   "cell_type": "code",
   "execution_count": 72,
   "id": "cd743bda",
   "metadata": {},
   "outputs": [
    {
     "name": "stdout",
     "output_type": "stream",
     "text": [
      "\n",
      "\n"
     ]
    }
   ],
   "source": [
    "target_summaries = {}\n",
    "for target in [\"wiki\", \"nist\"]:\n",
    "    this_target_df = all_runs_df[all_runs_df[\"target.summary\"] == target]\n",
    "    \n",
    "    index = []\n",
    "    rows = []\n",
    "    for run_name,group in this_target_df.groupby(\"run\"):\n",
    "        print(run_name)\n",
    "        # this_row = group.pivot(\"event\", \"metric\", \"value\").mean()\n",
    "        this_row = group.pivot(index=\"event\", columns=\"metric\", values=\"value\").mean()\n",
    "        rows.append(this_row)\n",
    "        index.append(run_name)\n",
    "\n",
    "    summary_df = pd.DataFrame(rows, index=index)[[\n",
    "        \"f1\", \n",
    "    ]]\n",
    "\n",
    "    final_df = summary_df.sort_values(by=\"f1\", ascending=False)\n",
    "    final_df.to_csv(\"evaluation.output.rouge/%s.summary.csv\" % target)\n",
    "    \n",
    "    target_summaries[target] = final_df"
   ]
  },
  {
   "cell_type": "code",
   "execution_count": null,
   "id": "d81ac222",
   "metadata": {},
   "outputs": [],
   "source": []
  },
  {
   "cell_type": "code",
   "execution_count": 73,
   "id": "42682b70",
   "metadata": {},
   "outputs": [],
   "source": [
    "rel2023_events = [\n",
    "    'CrisisFACTS-009',\n",
    "    'CrisisFACTS-010',\n",
    "    'CrisisFACTS-011',\n",
    "    'CrisisFACTS-012',\n",
    "    'CrisisFACTS-013',\n",
    "    'CrisisFACTS-014',\n",
    "    'CrisisFACTS-015',\n",
    "    'CrisisFACTS-016',\n",
    "    'CrisisFACTS-017',\n",
    "    'CrisisFACTS-018'\n",
    "\n",
    "]"
   ]
  },
  {
   "cell_type": "code",
   "execution_count": 74,
   "id": "dcd28381",
   "metadata": {
    "scrolled": false
   },
   "outputs": [
    {
     "name": "stdout",
     "output_type": "stream",
     "text": [
      "\n",
      "\t nist\n",
      "\t\t f1 0.2330200094729662\n",
      "\t\t precision 0.4192790053784847\n",
      "\t\t recall 0.1751197138801217\n",
      "\t wiki\n",
      "\t\t f1 0.03317537438124418\n",
      "\t\t precision 0.01783913280814886\n",
      "\t\t recall 0.3048176219065984\n"
     ]
    }
   ],
   "source": [
    "rows = []\n",
    "for runtag,group in all_runs_df[all_runs_df[\"event\"].isin(rel2023_events)].groupby(\"run\"):\n",
    "    print(runtag)\n",
    "    t_map = {\"run\": runtag}\n",
    "    for target,t_group in group.groupby(\"target.summary\"):\n",
    "        print(\"\\t\", target)\n",
    "        \n",
    "        if target == \"wiki\":\n",
    "            t_group = t_group[~t_group[\"event\"].isin([\"CrisisFACTS-011\", \"CrisisFACTS-012\"])]\n",
    "        for metric,m_group in t_group.groupby(\"metric\"):\n",
    "            print(\"\\t\\t\", metric, m_group[\"value\"].mean())\n",
    "            \n",
    "            t_map[\"%s.%s\" % (target,metric)] = m_group[\"value\"].mean()\n",
    "            \n",
    "    rows.append(t_map)"
   ]
  },
  {
   "cell_type": "code",
   "execution_count": 90,
   "id": "779b6388",
   "metadata": {},
   "outputs": [
    {
     "data": {
      "text/html": [
       "<div>\n",
       "<style scoped>\n",
       "    .dataframe tbody tr th:only-of-type {\n",
       "        vertical-align: middle;\n",
       "    }\n",
       "\n",
       "    .dataframe tbody tr th {\n",
       "        vertical-align: top;\n",
       "    }\n",
       "\n",
       "    .dataframe thead th {\n",
       "        text-align: right;\n",
       "    }\n",
       "</style>\n",
       "<table border=\"1\" class=\"dataframe\">\n",
       "  <thead>\n",
       "    <tr style=\"text-align: right;\">\n",
       "      <th></th>\n",
       "      <th>nist.f1</th>\n",
       "      <th>wiki.f1</th>\n",
       "    </tr>\n",
       "  </thead>\n",
       "  <tbody>\n",
       "    <tr>\n",
       "      <th>0</th>\n",
       "      <td>0.276243</td>\n",
       "      <td>0.050926</td>\n",
       "    </tr>\n",
       "    <tr>\n",
       "      <th>1</th>\n",
       "      <td>0.167432</td>\n",
       "      <td>NaN</td>\n",
       "    </tr>\n",
       "    <tr>\n",
       "      <th>2</th>\n",
       "      <td>0.233537</td>\n",
       "      <td>NaN</td>\n",
       "    </tr>\n",
       "    <tr>\n",
       "      <th>3</th>\n",
       "      <td>0.237083</td>\n",
       "      <td>0.022385</td>\n",
       "    </tr>\n",
       "    <tr>\n",
       "      <th>4</th>\n",
       "      <td>0.313051</td>\n",
       "      <td>0.019617</td>\n",
       "    </tr>\n",
       "    <tr>\n",
       "      <th>5</th>\n",
       "      <td>0.206650</td>\n",
       "      <td>0.041490</td>\n",
       "    </tr>\n",
       "    <tr>\n",
       "      <th>6</th>\n",
       "      <td>0.261992</td>\n",
       "      <td>0.027166</td>\n",
       "    </tr>\n",
       "    <tr>\n",
       "      <th>7</th>\n",
       "      <td>0.168174</td>\n",
       "      <td>0.037467</td>\n",
       "    </tr>\n",
       "  </tbody>\n",
       "</table>\n",
       "</div>"
      ],
      "text/plain": [
       "    nist.f1   wiki.f1\n",
       "0  0.276243  0.050926\n",
       "1  0.167432       NaN\n",
       "2  0.233537       NaN\n",
       "3  0.237083  0.022385\n",
       "4  0.313051  0.019617\n",
       "5  0.206650  0.041490\n",
       "6  0.261992  0.027166\n",
       "7  0.168174  0.037467"
      ]
     },
     "execution_count": 90,
     "metadata": {},
     "output_type": "execute_result"
    }
   ],
   "source": [
    "by_run_df = pd.DataFrame(rows)#.set_index(\"run\")\n",
    "by_run_df.to_csv(\"by_run.rouge.summary.csv\")\n",
    "by_run_df[[\"nist.f1\", \"wiki.f1\"]]"
   ]
  },
  {
   "cell_type": "code",
   "execution_count": 93,
   "id": "78fb3cb1",
   "metadata": {},
   "outputs": [
    {
     "data": {
      "text/html": [
       "<div>\n",
       "<style scoped>\n",
       "    .dataframe tbody tr th:only-of-type {\n",
       "        vertical-align: middle;\n",
       "    }\n",
       "\n",
       "    .dataframe tbody tr th {\n",
       "        vertical-align: top;\n",
       "    }\n",
       "\n",
       "    .dataframe thead th {\n",
       "        text-align: right;\n",
       "    }\n",
       "</style>\n",
       "<table border=\"1\" class=\"dataframe\">\n",
       "  <thead>\n",
       "    <tr style=\"text-align: right;\">\n",
       "      <th></th>\n",
       "      <th>nist.f1</th>\n",
       "      <th>wiki.f1</th>\n",
       "    </tr>\n",
       "  </thead>\n",
       "  <tbody>\n",
       "    <tr>\n",
       "      <th>nist.f1</th>\n",
       "      <td>1.000000</td>\n",
       "      <td>-0.329311</td>\n",
       "    </tr>\n",
       "    <tr>\n",
       "      <th>wiki.f1</th>\n",
       "      <td>-0.329311</td>\n",
       "      <td>1.000000</td>\n",
       "    </tr>\n",
       "  </tbody>\n",
       "</table>\n",
       "</div>"
      ],
      "text/plain": [
       "          nist.f1   wiki.f1\n",
       "nist.f1  1.000000 -0.329311\n",
       "wiki.f1 -0.329311  1.000000"
      ]
     },
     "execution_count": 93,
     "metadata": {},
     "output_type": "execute_result"
    }
   ],
   "source": [
    "# correlation between wiki and nist\n",
    "by_run_df[[\"nist.f1\", \"wiki.f1\"]].corr()"
   ]
  },
  {
   "cell_type": "code",
   "execution_count": 77,
   "id": "321a7435",
   "metadata": {},
   "outputs": [
    {
     "data": {
      "text/plain": [
       "<Axes: xlabel='nist.f1', ylabel='wiki.f1'>"
      ]
     },
     "execution_count": 77,
     "metadata": {},
     "output_type": "execute_result"
    },
    {
     "data": {
      "image/png": "[encoded data removed]",
      "text/plain": [
       "<Figure size 640x480 with 1 Axes>"
      ]
     },
     "metadata": {},
     "output_type": "display_data"
    }
   ],
   "source": [
    "by_run_df[[\"nist.f1\", \"wiki.f1\"]].plot.scatter(x=\"nist.f1\", y=\"wiki.f1\")"
   ]
  },
  {
   "cell_type": "code",
   "execution_count": 78,
   "id": "7a4ee445",
   "metadata": {
    "scrolled": false
   },
   "outputs": [
    {
     "data": {
      "text/plain": [
       "<Axes: ylabel='run'>"
      ]
     },
     "execution_count": 78,
     "metadata": {},
     "output_type": "execute_result"
    },
    {
     "data": {
      "image/png": "[encoded data removed]",
      "text/plain": [
       "<Figure size 900x1600 with 1 Axes>"
      ]
     },
     "metadata": {},
     "output_type": "display_data"
    }
   ],
   "source": [
    "fig = plt.figure(figsize=(9,16))\n",
    "ax = fig.add_subplot(1,1,1)\n",
    "\n",
    "by_run_df[[\"nist.f1\", \"wiki.f1\"]].sort_values(by=\"nist.f1\").plot.barh(ax=ax)"
   ]
  },
  {
   "cell_type": "code",
   "execution_count": 79,
   "id": "9f34544a",
   "metadata": {},
   "outputs": [
    {
     "data": {
      "text/html": [
       "<div>\n",
       "<style scoped>\n",
       "    .dataframe tbody tr th:only-of-type {\n",
       "        vertical-align: middle;\n",
       "    }\n",
       "\n",
       "    .dataframe tbody tr th {\n",
       "        vertical-align: top;\n",
       "    }\n",
       "\n",
       "    .dataframe thead th {\n",
       "        text-align: right;\n",
       "    }\n",
       "</style>\n",
       "<table border=\"1\" class=\"dataframe\">\n",
       "  <thead>\n",
       "    <tr style=\"text-align: right;\">\n",
       "      <th></th>\n",
       "      <th>nist.f1</th>\n",
       "      <th>nist.precision</th>\n",
       "      <th>nist.recall</th>\n",
       "      <th>wiki.f1</th>\n",
       "      <th>wiki.precision</th>\n",
       "      <th>wiki.recall</th>\n",
       "    </tr>\n",
       "    <tr>\n",
       "      <th>run</th>\n",
       "      <th></th>\n",
       "      <th></th>\n",
       "      <th></th>\n",
       "      <th></th>\n",
       "      <th></th>\n",
       "      <th></th>\n",
       "    </tr>\n",
       "  </thead>\n",
       "  <tbody>\n",
       "    <tr>\n",
       "      <th></th>\n",
       "      <td>0.23302</td>\n",
       "      <td>0.419279</td>\n",
       "      <td>0.17512</td>\n",
       "      <td>0.033175</td>\n",
       "      <td>0.017839</td>\n",
       "      <td>0.304818</td>\n",
       "    </tr>\n",
       "  </tbody>\n",
       "</table>\n",
       "</div>"
      ],
      "text/plain": [
       "     nist.f1  nist.precision  nist.recall   wiki.f1  wiki.precision  \\\n",
       "run                                                                   \n",
       "     0.23302        0.419279      0.17512  0.033175        0.017839   \n",
       "\n",
       "     wiki.recall  \n",
       "run               \n",
       "        0.304818  "
      ]
     },
     "execution_count": 79,
     "metadata": {},
     "output_type": "execute_result"
    }
   ],
   "source": [
    "by_run_df"
   ]
  },
  {
   "cell_type": "code",
   "execution_count": null,
   "id": "5e78dc3f",
   "metadata": {},
   "outputs": [],
   "source": []
  },
  {
   "cell_type": "markdown",
   "id": "588c6f9d",
   "metadata": {},
   "source": [
    "## By Day"
   ]
  },
  {
   "cell_type": "code",
   "execution_count": 80,
   "id": "42a9a7ac",
   "metadata": {},
   "outputs": [
    {
     "name": "stdout",
     "output_type": "stream",
     "text": [
      "CrisisFACTS-010\n",
      "\t nist\n",
      "\t\t f1 0.27624309062957764\n",
      "\t\t precision 0.3582395017147064\n",
      "\t\t recall 0.2247912585735321\n",
      "\t wiki\n",
      "\t\t f1 0.05092592537403107\n",
      "\t\t precision 0.028147390112280846\n",
      "\t\t recall 0.2669903039932251\n",
      "CrisisFACTS-011\n",
      "\t nist\n",
      "\t\t f1 0.16743169724941254\n",
      "\t\t precision 0.14736437797546387\n",
      "\t\t recall 0.19382591545581818\n",
      "\t wiki\n",
      "CrisisFACTS-012\n",
      "\t nist\n",
      "\t\t f1 0.2335367202758789\n",
      "\t\t precision 0.5108145475387573\n",
      "\t\t recall 0.15137051045894623\n",
      "\t wiki\n",
      "CrisisFACTS-013\n",
      "\t nist\n",
      "\t\t f1 0.2370825856924057\n",
      "\t\t precision 0.5101065635681152\n",
      "\t\t recall 0.1544281244277954\n",
      "\t wiki\n",
      "\t\t f1 0.022385450080037117\n",
      "\t\t precision 0.011760381981730461\n",
      "\t\t recall 0.23188406229019165\n",
      "CrisisFACTS-015\n",
      "\t nist\n",
      "\t\t f1 0.3130505383014679\n",
      "\t\t precision 0.38648152351379395\n",
      "\t\t recall 0.26306799054145813\n",
      "\t wiki\n",
      "\t\t f1 0.019617458805441856\n",
      "\t\t precision 0.010038481093943119\n",
      "\t\t recall 0.4285714328289032\n",
      "CrisisFACTS-016\n",
      "\t nist\n",
      "\t\t f1 0.20664961636066437\n",
      "\t\t precision 0.3827569782733917\n",
      "\t\t recall 0.14153091609477997\n",
      "\t wiki\n",
      "\t\t f1 0.04149026423692703\n",
      "\t\t precision 0.023211747407913208\n",
      "\t\t recall 0.19521912932395935\n",
      "CrisisFACTS-017\n",
      "\t nist\n",
      "\t\t f1 0.26199162006378174\n",
      "\t\t precision 0.5639846920967102\n",
      "\t\t recall 0.17062710225582123\n",
      "\t wiki\n",
      "\t\t f1 0.027165932580828667\n",
      "\t\t precision 0.014176244847476482\n",
      "\t\t recall 0.3245614171028137\n",
      "CrisisFACTS-018\n",
      "\t nist\n",
      "\t\t f1 0.16817420721054077\n",
      "\t\t precision 0.4944838583469391\n",
      "\t\t recall 0.10131589323282242\n",
      "\t wiki\n",
      "\t\t f1 0.037467215210199356\n",
      "\t\t precision 0.01970055140554905\n",
      "\t\t recall 0.38167938590049744\n"
     ]
    }
   ],
   "source": [
    "rows = []\n",
    "for event,group in all_runs_df[all_runs_df[\"event\"].isin(rel2023_events)].groupby(\"event\"):\n",
    "    print(event)\n",
    "    t_map = {\"event\": event}\n",
    "    for target,t_group in group.groupby(\"target.summary\"):\n",
    "        print(\"\\t\", target)\n",
    "        \n",
    "        if target == \"wiki\":\n",
    "            t_group = t_group[~t_group[\"event\"].isin([\"CrisisFACTS-011\", \"CrisisFACTS-012\"])]\n",
    "        for metric,m_group in t_group.groupby(\"metric\"):\n",
    "            print(\"\\t\\t\", metric, m_group[\"value\"].mean())\n",
    "            \n",
    "            t_map[\"%s.%s\" % (target,metric)] = m_group[\"value\"].mean()\n",
    "            \n",
    "    rows.append(t_map)"
   ]
  },
  {
   "cell_type": "code",
   "execution_count": 81,
   "id": "e1aa6316",
   "metadata": {},
   "outputs": [
    {
     "data": {
      "text/html": [
       "<div>\n",
       "<style scoped>\n",
       "    .dataframe tbody tr th:only-of-type {\n",
       "        vertical-align: middle;\n",
       "    }\n",
       "\n",
       "    .dataframe tbody tr th {\n",
       "        vertical-align: top;\n",
       "    }\n",
       "\n",
       "    .dataframe thead th {\n",
       "        text-align: right;\n",
       "    }\n",
       "</style>\n",
       "<table border=\"1\" class=\"dataframe\">\n",
       "  <thead>\n",
       "    <tr style=\"text-align: right;\">\n",
       "      <th></th>\n",
       "      <th>nist.f1</th>\n",
       "      <th>wiki.f1</th>\n",
       "    </tr>\n",
       "    <tr>\n",
       "      <th>event</th>\n",
       "      <th></th>\n",
       "      <th></th>\n",
       "    </tr>\n",
       "  </thead>\n",
       "  <tbody>\n",
       "    <tr>\n",
       "      <th>CrisisFACTS-010</th>\n",
       "      <td>0.276243</td>\n",
       "      <td>0.050926</td>\n",
       "    </tr>\n",
       "    <tr>\n",
       "      <th>CrisisFACTS-011</th>\n",
       "      <td>0.167432</td>\n",
       "      <td>NaN</td>\n",
       "    </tr>\n",
       "    <tr>\n",
       "      <th>CrisisFACTS-012</th>\n",
       "      <td>0.233537</td>\n",
       "      <td>NaN</td>\n",
       "    </tr>\n",
       "    <tr>\n",
       "      <th>CrisisFACTS-013</th>\n",
       "      <td>0.237083</td>\n",
       "      <td>0.022385</td>\n",
       "    </tr>\n",
       "    <tr>\n",
       "      <th>CrisisFACTS-015</th>\n",
       "      <td>0.313051</td>\n",
       "      <td>0.019617</td>\n",
       "    </tr>\n",
       "    <tr>\n",
       "      <th>CrisisFACTS-016</th>\n",
       "      <td>0.206650</td>\n",
       "      <td>0.041490</td>\n",
       "    </tr>\n",
       "    <tr>\n",
       "      <th>CrisisFACTS-017</th>\n",
       "      <td>0.261992</td>\n",
       "      <td>0.027166</td>\n",
       "    </tr>\n",
       "    <tr>\n",
       "      <th>CrisisFACTS-018</th>\n",
       "      <td>0.168174</td>\n",
       "      <td>0.037467</td>\n",
       "    </tr>\n",
       "  </tbody>\n",
       "</table>\n",
       "</div>"
      ],
      "text/plain": [
       "                  nist.f1   wiki.f1\n",
       "event                              \n",
       "CrisisFACTS-010  0.276243  0.050926\n",
       "CrisisFACTS-011  0.167432       NaN\n",
       "CrisisFACTS-012  0.233537       NaN\n",
       "CrisisFACTS-013  0.237083  0.022385\n",
       "CrisisFACTS-015  0.313051  0.019617\n",
       "CrisisFACTS-016  0.206650  0.041490\n",
       "CrisisFACTS-017  0.261992  0.027166\n",
       "CrisisFACTS-018  0.168174  0.037467"
      ]
     },
     "execution_count": 81,
     "metadata": {},
     "output_type": "execute_result"
    }
   ],
   "source": [
    "by_event_df = pd.DataFrame(rows).set_index(\"event\")\n",
    "by_event_df.to_csv(\"by_event.rouge.summary.csv\")\n",
    "by_event_df[[\"nist.f1\", \"wiki.f1\"]]"
   ]
  },
  {
   "cell_type": "code",
   "execution_count": 82,
   "id": "07c1adc7",
   "metadata": {},
   "outputs": [
    {
     "data": {
      "text/plain": [
       "<Axes: ylabel='event'>"
      ]
     },
     "execution_count": 82,
     "metadata": {},
     "output_type": "execute_result"
    },
    {
     "data": {
      "image/png": "[encoded data removed]",
      "text/plain": [
       "<Figure size 900x1600 with 1 Axes>"
      ]
     },
     "metadata": {},
     "output_type": "display_data"
    }
   ],
   "source": [
    "fig = plt.figure(figsize=(9,16))\n",
    "ax = fig.add_subplot(1,1,1)\n",
    "\n",
    "by_event_df[[\"nist.f1\", \"wiki.f1\"]].plot.barh(ax=ax)"
   ]
  },
  {
   "cell_type": "code",
   "execution_count": null,
   "id": "183210c3",
   "metadata": {},
   "outputs": [],
   "source": []
  },
  {
   "cell_type": "code",
   "execution_count": 83,
   "id": "d3a9ef18",
   "metadata": {},
   "outputs": [
    {
     "name": "stdout",
     "output_type": "stream",
     "text": [
      "\\begin{tabular}{lrrrrrr}\n",
      " & nist.f1 & nist.precision & nist.recall & wiki.f1 & wiki.precision & wiki.recall \\\\\n",
      "event &  &  &  &  &  &  \\\\\n",
      "CrisisFACTS-010 & 0.276243 & 0.358240 & 0.224791 & 0.050926 & 0.028147 & 0.266990 \\\\\n",
      "CrisisFACTS-011 & 0.167432 & 0.147364 & 0.193826 & nan & nan & nan \\\\\n",
      "CrisisFACTS-012 & 0.233537 & 0.510815 & 0.151371 & nan & nan & nan \\\\\n",
      "CrisisFACTS-013 & 0.237083 & 0.510107 & 0.154428 & 0.022385 & 0.011760 & 0.231884 \\\\\n",
      "CrisisFACTS-015 & 0.313051 & 0.386482 & 0.263068 & 0.019617 & 0.010038 & 0.428571 \\\\\n",
      "CrisisFACTS-016 & 0.206650 & 0.382757 & 0.141531 & 0.041490 & 0.023212 & 0.195219 \\\\\n",
      "CrisisFACTS-017 & 0.261992 & 0.563985 & 0.170627 & 0.027166 & 0.014176 & 0.324561 \\\\\n",
      "CrisisFACTS-018 & 0.168174 & 0.494484 & 0.101316 & 0.037467 & 0.019701 & 0.381679 \\\\\n",
      "\\end{tabular}\n",
      "\n"
     ]
    }
   ],
   "source": [
    "score_df = pd.read_csv(\"by_event.rouge.summary.csv\", index_col=0)\n",
    "print(score_df.groupby(\"event\").mean().style.to_latex())"
   ]
  },
  {
   "cell_type": "code",
   "execution_count": null,
   "id": "cf631582",
   "metadata": {},
   "outputs": [],
   "source": []
  }
 ],
 "metadata": {
  "kernelspec": {
   "display_name": ".venv",
   "language": "python",
   "name": "python3"
  },
  "language_info": {
   "codemirror_mode": {
    "name": "ipython",
    "version": 3
   },
   "file_extension": ".py",
   "mimetype": "text/x-python",
   "name": "python",
   "nbconvert_exporter": "python",
   "pygments_lexer": "ipython3",
   "version": "3.11.2"
  }
 },
 "nbformat": 4,
 "nbformat_minor": 5
}
