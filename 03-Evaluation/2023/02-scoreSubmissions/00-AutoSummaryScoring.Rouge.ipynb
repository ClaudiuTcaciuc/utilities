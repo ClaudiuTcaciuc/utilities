{
 "cells": [
  {
   "cell_type": "markdown",
   "id": "9d9faabc",
   "metadata": {},
   "source": [
    "# ROUGE Scoring Against NIST and Wikipedia\n",
    "\n",
    "Duplicating CrisisFACTS 2022 assessment via ROUGE"
   ]
  },
  {
   "cell_type": "code",
   "execution_count": 85,
   "id": "db0b332e",
   "metadata": {},
   "outputs": [],
   "source": [
    "%matplotlib inline"
   ]
  },
  {
   "cell_type": "code",
   "execution_count": 86,
   "id": "44a96521",
   "metadata": {},
   "outputs": [],
   "source": [
    "import pandas as pd\n",
    "import numpy as np\n",
    "import json\n",
    "import glob\n",
    "import gzip\n",
    "\n",
    "import scipy.stats\n",
    "\n",
    "import matplotlib.pyplot as plt"
   ]
  },
  {
   "cell_type": "code",
   "execution_count": 87,
   "id": "73bd29a3",
   "metadata": {},
   "outputs": [],
   "source": [
    "import wikipedia"
   ]
  },
  {
   "cell_type": "code",
   "execution_count": 88,
   "id": "c556aa5c",
   "metadata": {},
   "outputs": [],
   "source": [
    "from torchmetrics.text.rouge import ROUGEScore"
   ]
  },
  {
   "cell_type": "code",
   "execution_count": null,
   "id": "3a6d5ee5",
   "metadata": {},
   "outputs": [],
   "source": []
  },
  {
   "cell_type": "markdown",
   "id": "1f344b8d",
   "metadata": {},
   "source": [
    "## Get CrisisFACTS Event Metadata"
   ]
  },
  {
   "cell_type": "code",
   "execution_count": 89,
   "id": "fa982806",
   "metadata": {},
   "outputs": [],
   "source": [
    "event_df = pd.read_json(\"CrisisFACTs-2022to2023.topics.json\", lines=False).set_index(\"eventID\")"
   ]
  },
  {
   "cell_type": "markdown",
   "id": "bfbd2d79",
   "metadata": {},
   "source": [
    "### Get Summaries from Wikipedia"
   ]
  },
  {
   "cell_type": "code",
   "execution_count": 90,
   "id": "26edb077",
   "metadata": {},
   "outputs": [
    {
     "name": "stdout",
     "output_type": "stream",
     "text": [
      "https://en.wikipedia.org/wiki/Lilac_Fire\n"
     ]
    },
    {
     "name": "stdout",
     "output_type": "stream",
     "text": [
      "https://en.wikipedia.org/wiki/Cranston_Fire\n",
      "https://en.wikipedia.org/wiki/Holy_Fire_(2018)\n",
      "https://en.wikipedia.org/wiki/Hurricane_Florence\n",
      "https://en.wikipedia.org/wiki/2018_Maryland_flood\n",
      "https://en.wikipedia.org/wiki/Saddleridge_Fire\n",
      "https://en.wikipedia.org/wiki/Hurricane_Laura\n",
      "https://en.wikipedia.org/wiki/Hurricane_Sally\n",
      "https://en.wikipedia.org/wiki/2020_Beirut_explosion\n",
      "https://en.wikipedia.org/wiki/2020_Houston_explosion\n",
      "https://en.wikipedia.org/wiki/Edenville_Dam#Dam_failure\n",
      "https://en.wikipedia.org/wiki/Hurricane_Dorian\n",
      "https://en.wikipedia.org/wiki/Kincade_Fire\n",
      "https://en.wikipedia.org/wiki/2020_Easter_tornado_outbreak\n",
      "https://en.wikipedia.org/wiki/Tornado_outbreak_of_April_22-23,_2020\n",
      "https://en.wikipedia.org/wiki/Tornado_outbreak_of_March_2-3,_2020\n"
     ]
    }
   ],
   "source": [
    "def get_wiki_summary(url):\n",
    "    \n",
    "    if \"wikipedia.org\" not in url:\n",
    "        return \"\"\n",
    "    \n",
    "    page_title = url.rpartition(\"/\")[-1]\n",
    "    print(url)\n",
    "    page = wikipedia.page(title=page_title, auto_suggest=False)\n",
    "    \n",
    "    return page.summary\n",
    "\n",
    "event_df[\"wiki.summary\"] = event_df[\"url\"].apply(get_wiki_summary)"
   ]
  },
  {
   "cell_type": "markdown",
   "id": "972f2f1c",
   "metadata": {},
   "source": [
    "### Get Summaries from Assessors"
   ]
  },
  {
   "cell_type": "code",
   "execution_count": 91,
   "id": "a2e097d1",
   "metadata": {},
   "outputs": [],
   "source": [
    "with open(\"final-annotated-facts-results.json\", \"r\") as in_file:\n",
    "    annotation_data = json.load(in_file)"
   ]
  },
  {
   "cell_type": "code",
   "execution_count": 92,
   "id": "85afc64c",
   "metadata": {},
   "outputs": [],
   "source": [
    "event_fact_lists = {}\n",
    "\n",
    "for req_id,req_data in annotation_data.items():\n",
    "    event_id = req_id.rpartition(\"-\")[0]\n",
    "    local_fact_set = {f[0] for f in req_data[\"fact_list\"] if f[2] == \"USEFUL_FACT\"}\n",
    "    \n",
    "    with open(\"../00-createSummaries/collapsed-event-days/Collapsed-%s.json\" % req_id) as in_file:\n",
    "        local_fact_data = json.load(in_file)\n",
    "        \n",
    "    local_fact_text = [\n",
    "        fact[\"fact_text\"] for fact in local_fact_data \n",
    "        if fact[\"collapsed_fact_id\"] in local_fact_set\n",
    "    ]\n",
    "    \n",
    "    local_fact_list = event_fact_lists.get(event_id, [])\n",
    "    local_fact_list = local_fact_list + local_fact_text\n",
    "    event_fact_lists[event_id] = local_fact_list"
   ]
  },
  {
   "cell_type": "code",
   "execution_count": 93,
   "id": "3632d5ee",
   "metadata": {},
   "outputs": [],
   "source": [
    "event_df[\"nist.summary\"] = [\". \".join(event_fact_lists[event_id]).replace(\"..\", \".\") for event_id in event_df.index]\n"
   ]
  },
  {
   "cell_type": "markdown",
   "id": "8bdff41e",
   "metadata": {},
   "source": [
    "## Save the Summaries"
   ]
  },
  {
   "cell_type": "code",
   "execution_count": 94,
   "id": "c18718ec",
   "metadata": {},
   "outputs": [],
   "source": [
    "event_df.to_json(\"CrisisFACTs-2022to2023.topics.withSummaries.json\")"
   ]
  },
  {
   "cell_type": "code",
   "execution_count": 95,
   "id": "1a7db79a",
   "metadata": {},
   "outputs": [],
   "source": [
    "# event_df = pd.read_json(\"CrisisFACTs-2022to2023.topics.withSummaries_smaller.json\", lines=False)"
   ]
  },
  {
   "cell_type": "code",
   "execution_count": 96,
   "id": "dfbd1459",
   "metadata": {},
   "outputs": [],
   "source": [
    "rouge = ROUGEScore(\n",
    "    use_stemmer=True,\n",
    "    rouge_keys=(\"rouge2\",)\n",
    ")"
   ]
  },
  {
   "cell_type": "code",
   "execution_count": null,
   "id": "133e3127",
   "metadata": {},
   "outputs": [],
   "source": []
  },
  {
   "cell_type": "code",
   "execution_count": 97,
   "id": "73ec2e14",
   "metadata": {},
   "outputs": [],
   "source": [
    "TOP_K = 150"
   ]
  },
  {
   "cell_type": "code",
   "execution_count": null,
   "id": "835e1d0f",
   "metadata": {},
   "outputs": [],
   "source": []
  },
  {
   "cell_type": "code",
   "execution_count": 98,
   "id": "cb52e8d3",
   "metadata": {},
   "outputs": [],
   "source": [
    "all_req_ids = list(annotation_data.keys())"
   ]
  },
  {
   "cell_type": "code",
   "execution_count": 99,
   "id": "0a658b39",
   "metadata": {
    "scrolled": true
   },
   "outputs": [
    {
     "name": "stdout",
     "output_type": "stream",
     "text": [
      "submissions\\Thesis_Retriver.gz --> \n",
      "CrisisFACTS-010 22487\n"
     ]
    },
    {
     "data": {
      "text/html": [
       "<div>\n",
       "<style scoped>\n",
       "    .dataframe tbody tr th:only-of-type {\n",
       "        vertical-align: middle;\n",
       "    }\n",
       "\n",
       "    .dataframe tbody tr th {\n",
       "        vertical-align: top;\n",
       "    }\n",
       "\n",
       "    .dataframe thead th {\n",
       "        text-align: right;\n",
       "    }\n",
       "</style>\n",
       "<table border=\"1\" class=\"dataframe\">\n",
       "  <thead>\n",
       "    <tr style=\"text-align: right;\">\n",
       "      <th></th>\n",
       "      <th>metric</th>\n",
       "      <th>value</th>\n",
       "      <th>event</th>\n",
       "    </tr>\n",
       "  </thead>\n",
       "  <tbody>\n",
       "    <tr>\n",
       "      <th>0</th>\n",
       "      <td>f1</td>\n",
       "      <td>0.309681</td>\n",
       "      <td>CrisisFACTS-010</td>\n",
       "    </tr>\n",
       "    <tr>\n",
       "      <th>1</th>\n",
       "      <td>precision</td>\n",
       "      <td>0.297369</td>\n",
       "      <td>CrisisFACTS-010</td>\n",
       "    </tr>\n",
       "    <tr>\n",
       "      <th>2</th>\n",
       "      <td>recall</td>\n",
       "      <td>0.323057</td>\n",
       "      <td>CrisisFACTS-010</td>\n",
       "    </tr>\n",
       "  </tbody>\n",
       "</table>\n",
       "</div>"
      ],
      "text/plain": [
       "      metric     value            event\n",
       "0         f1  0.309681  CrisisFACTS-010\n",
       "1  precision  0.297369  CrisisFACTS-010\n",
       "2     recall  0.323057  CrisisFACTS-010"
      ]
     },
     "metadata": {},
     "output_type": "display_data"
    },
    {
     "name": "stdout",
     "output_type": "stream",
     "text": [
      "CrisisFACTS-011 32392\n"
     ]
    },
    {
     "data": {
      "text/html": [
       "<div>\n",
       "<style scoped>\n",
       "    .dataframe tbody tr th:only-of-type {\n",
       "        vertical-align: middle;\n",
       "    }\n",
       "\n",
       "    .dataframe tbody tr th {\n",
       "        vertical-align: top;\n",
       "    }\n",
       "\n",
       "    .dataframe thead th {\n",
       "        text-align: right;\n",
       "    }\n",
       "</style>\n",
       "<table border=\"1\" class=\"dataframe\">\n",
       "  <thead>\n",
       "    <tr style=\"text-align: right;\">\n",
       "      <th></th>\n",
       "      <th>metric</th>\n",
       "      <th>value</th>\n",
       "      <th>event</th>\n",
       "    </tr>\n",
       "  </thead>\n",
       "  <tbody>\n",
       "    <tr>\n",
       "      <th>0</th>\n",
       "      <td>f1</td>\n",
       "      <td>0.243669</td>\n",
       "      <td>CrisisFACTS-011</td>\n",
       "    </tr>\n",
       "    <tr>\n",
       "      <th>1</th>\n",
       "      <td>precision</td>\n",
       "      <td>0.168745</td>\n",
       "      <td>CrisisFACTS-011</td>\n",
       "    </tr>\n",
       "    <tr>\n",
       "      <th>2</th>\n",
       "      <td>recall</td>\n",
       "      <td>0.438259</td>\n",
       "      <td>CrisisFACTS-011</td>\n",
       "    </tr>\n",
       "  </tbody>\n",
       "</table>\n",
       "</div>"
      ],
      "text/plain": [
       "      metric     value            event\n",
       "0         f1  0.243669  CrisisFACTS-011\n",
       "1  precision  0.168745  CrisisFACTS-011\n",
       "2     recall  0.438259  CrisisFACTS-011"
      ]
     },
     "metadata": {},
     "output_type": "display_data"
    },
    {
     "name": "stdout",
     "output_type": "stream",
     "text": [
      "CrisisFACTS-012 33304\n"
     ]
    },
    {
     "data": {
      "text/html": [
       "<div>\n",
       "<style scoped>\n",
       "    .dataframe tbody tr th:only-of-type {\n",
       "        vertical-align: middle;\n",
       "    }\n",
       "\n",
       "    .dataframe tbody tr th {\n",
       "        vertical-align: top;\n",
       "    }\n",
       "\n",
       "    .dataframe thead th {\n",
       "        text-align: right;\n",
       "    }\n",
       "</style>\n",
       "<table border=\"1\" class=\"dataframe\">\n",
       "  <thead>\n",
       "    <tr style=\"text-align: right;\">\n",
       "      <th></th>\n",
       "      <th>metric</th>\n",
       "      <th>value</th>\n",
       "      <th>event</th>\n",
       "    </tr>\n",
       "  </thead>\n",
       "  <tbody>\n",
       "    <tr>\n",
       "      <th>0</th>\n",
       "      <td>f1</td>\n",
       "      <td>0.370907</td>\n",
       "      <td>CrisisFACTS-012</td>\n",
       "    </tr>\n",
       "    <tr>\n",
       "      <th>1</th>\n",
       "      <td>precision</td>\n",
       "      <td>0.438652</td>\n",
       "      <td>CrisisFACTS-012</td>\n",
       "    </tr>\n",
       "    <tr>\n",
       "      <th>2</th>\n",
       "      <td>recall</td>\n",
       "      <td>0.321287</td>\n",
       "      <td>CrisisFACTS-012</td>\n",
       "    </tr>\n",
       "  </tbody>\n",
       "</table>\n",
       "</div>"
      ],
      "text/plain": [
       "      metric     value            event\n",
       "0         f1  0.370907  CrisisFACTS-012\n",
       "1  precision  0.438652  CrisisFACTS-012\n",
       "2     recall  0.321287  CrisisFACTS-012"
      ]
     },
     "metadata": {},
     "output_type": "display_data"
    },
    {
     "name": "stdout",
     "output_type": "stream",
     "text": [
      "CrisisFACTS-013 37419\n"
     ]
    },
    {
     "data": {
      "text/html": [
       "<div>\n",
       "<style scoped>\n",
       "    .dataframe tbody tr th:only-of-type {\n",
       "        vertical-align: middle;\n",
       "    }\n",
       "\n",
       "    .dataframe tbody tr th {\n",
       "        vertical-align: top;\n",
       "    }\n",
       "\n",
       "    .dataframe thead th {\n",
       "        text-align: right;\n",
       "    }\n",
       "</style>\n",
       "<table border=\"1\" class=\"dataframe\">\n",
       "  <thead>\n",
       "    <tr style=\"text-align: right;\">\n",
       "      <th></th>\n",
       "      <th>metric</th>\n",
       "      <th>value</th>\n",
       "      <th>event</th>\n",
       "    </tr>\n",
       "  </thead>\n",
       "  <tbody>\n",
       "    <tr>\n",
       "      <th>0</th>\n",
       "      <td>f1</td>\n",
       "      <td>0.377331</td>\n",
       "      <td>CrisisFACTS-013</td>\n",
       "    </tr>\n",
       "    <tr>\n",
       "      <th>1</th>\n",
       "      <td>precision</td>\n",
       "      <td>0.475008</td>\n",
       "      <td>CrisisFACTS-013</td>\n",
       "    </tr>\n",
       "    <tr>\n",
       "      <th>2</th>\n",
       "      <td>recall</td>\n",
       "      <td>0.312973</td>\n",
       "      <td>CrisisFACTS-013</td>\n",
       "    </tr>\n",
       "  </tbody>\n",
       "</table>\n",
       "</div>"
      ],
      "text/plain": [
       "      metric     value            event\n",
       "0         f1  0.377331  CrisisFACTS-013\n",
       "1  precision  0.475008  CrisisFACTS-013\n",
       "2     recall  0.312973  CrisisFACTS-013"
      ]
     },
     "metadata": {},
     "output_type": "display_data"
    },
    {
     "name": "stdout",
     "output_type": "stream",
     "text": [
      "CrisisFACTS-015 113932\n"
     ]
    },
    {
     "data": {
      "text/html": [
       "<div>\n",
       "<style scoped>\n",
       "    .dataframe tbody tr th:only-of-type {\n",
       "        vertical-align: middle;\n",
       "    }\n",
       "\n",
       "    .dataframe tbody tr th {\n",
       "        vertical-align: top;\n",
       "    }\n",
       "\n",
       "    .dataframe thead th {\n",
       "        text-align: right;\n",
       "    }\n",
       "</style>\n",
       "<table border=\"1\" class=\"dataframe\">\n",
       "  <thead>\n",
       "    <tr style=\"text-align: right;\">\n",
       "      <th></th>\n",
       "      <th>metric</th>\n",
       "      <th>value</th>\n",
       "      <th>event</th>\n",
       "    </tr>\n",
       "  </thead>\n",
       "  <tbody>\n",
       "    <tr>\n",
       "      <th>0</th>\n",
       "      <td>f1</td>\n",
       "      <td>0.326145</td>\n",
       "      <td>CrisisFACTS-015</td>\n",
       "    </tr>\n",
       "    <tr>\n",
       "      <th>1</th>\n",
       "      <td>precision</td>\n",
       "      <td>0.242523</td>\n",
       "      <td>CrisisFACTS-015</td>\n",
       "    </tr>\n",
       "    <tr>\n",
       "      <th>2</th>\n",
       "      <td>recall</td>\n",
       "      <td>0.497779</td>\n",
       "      <td>CrisisFACTS-015</td>\n",
       "    </tr>\n",
       "  </tbody>\n",
       "</table>\n",
       "</div>"
      ],
      "text/plain": [
       "      metric     value            event\n",
       "0         f1  0.326145  CrisisFACTS-015\n",
       "1  precision  0.242523  CrisisFACTS-015\n",
       "2     recall  0.497779  CrisisFACTS-015"
      ]
     },
     "metadata": {},
     "output_type": "display_data"
    },
    {
     "name": "stdout",
     "output_type": "stream",
     "text": [
      "CrisisFACTS-016 46513\n"
     ]
    },
    {
     "data": {
      "text/html": [
       "<div>\n",
       "<style scoped>\n",
       "    .dataframe tbody tr th:only-of-type {\n",
       "        vertical-align: middle;\n",
       "    }\n",
       "\n",
       "    .dataframe tbody tr th {\n",
       "        vertical-align: top;\n",
       "    }\n",
       "\n",
       "    .dataframe thead th {\n",
       "        text-align: right;\n",
       "    }\n",
       "</style>\n",
       "<table border=\"1\" class=\"dataframe\">\n",
       "  <thead>\n",
       "    <tr style=\"text-align: right;\">\n",
       "      <th></th>\n",
       "      <th>metric</th>\n",
       "      <th>value</th>\n",
       "      <th>event</th>\n",
       "    </tr>\n",
       "  </thead>\n",
       "  <tbody>\n",
       "    <tr>\n",
       "      <th>0</th>\n",
       "      <td>f1</td>\n",
       "      <td>0.318256</td>\n",
       "      <td>CrisisFACTS-016</td>\n",
       "    </tr>\n",
       "    <tr>\n",
       "      <th>1</th>\n",
       "      <td>precision</td>\n",
       "      <td>0.284884</td>\n",
       "      <td>CrisisFACTS-016</td>\n",
       "    </tr>\n",
       "    <tr>\n",
       "      <th>2</th>\n",
       "      <td>recall</td>\n",
       "      <td>0.360483</td>\n",
       "      <td>CrisisFACTS-016</td>\n",
       "    </tr>\n",
       "  </tbody>\n",
       "</table>\n",
       "</div>"
      ],
      "text/plain": [
       "      metric     value            event\n",
       "0         f1  0.318256  CrisisFACTS-016\n",
       "1  precision  0.284884  CrisisFACTS-016\n",
       "2     recall  0.360483  CrisisFACTS-016"
      ]
     },
     "metadata": {},
     "output_type": "display_data"
    },
    {
     "name": "stdout",
     "output_type": "stream",
     "text": [
      "CrisisFACTS-017 36529\n"
     ]
    },
    {
     "data": {
      "text/html": [
       "<div>\n",
       "<style scoped>\n",
       "    .dataframe tbody tr th:only-of-type {\n",
       "        vertical-align: middle;\n",
       "    }\n",
       "\n",
       "    .dataframe tbody tr th {\n",
       "        vertical-align: top;\n",
       "    }\n",
       "\n",
       "    .dataframe thead th {\n",
       "        text-align: right;\n",
       "    }\n",
       "</style>\n",
       "<table border=\"1\" class=\"dataframe\">\n",
       "  <thead>\n",
       "    <tr style=\"text-align: right;\">\n",
       "      <th></th>\n",
       "      <th>metric</th>\n",
       "      <th>value</th>\n",
       "      <th>event</th>\n",
       "    </tr>\n",
       "  </thead>\n",
       "  <tbody>\n",
       "    <tr>\n",
       "      <th>0</th>\n",
       "      <td>f1</td>\n",
       "      <td>0.394034</td>\n",
       "      <td>CrisisFACTS-017</td>\n",
       "    </tr>\n",
       "    <tr>\n",
       "      <th>1</th>\n",
       "      <td>precision</td>\n",
       "      <td>0.487359</td>\n",
       "      <td>CrisisFACTS-017</td>\n",
       "    </tr>\n",
       "    <tr>\n",
       "      <th>2</th>\n",
       "      <td>recall</td>\n",
       "      <td>0.330706</td>\n",
       "      <td>CrisisFACTS-017</td>\n",
       "    </tr>\n",
       "  </tbody>\n",
       "</table>\n",
       "</div>"
      ],
      "text/plain": [
       "      metric     value            event\n",
       "0         f1  0.394034  CrisisFACTS-017\n",
       "1  precision  0.487359  CrisisFACTS-017\n",
       "2     recall  0.330706  CrisisFACTS-017"
      ]
     },
     "metadata": {},
     "output_type": "display_data"
    },
    {
     "name": "stdout",
     "output_type": "stream",
     "text": [
      "CrisisFACTS-018 59773\n"
     ]
    },
    {
     "data": {
      "text/html": [
       "<div>\n",
       "<style scoped>\n",
       "    .dataframe tbody tr th:only-of-type {\n",
       "        vertical-align: middle;\n",
       "    }\n",
       "\n",
       "    .dataframe tbody tr th {\n",
       "        vertical-align: top;\n",
       "    }\n",
       "\n",
       "    .dataframe thead th {\n",
       "        text-align: right;\n",
       "    }\n",
       "</style>\n",
       "<table border=\"1\" class=\"dataframe\">\n",
       "  <thead>\n",
       "    <tr style=\"text-align: right;\">\n",
       "      <th></th>\n",
       "      <th>metric</th>\n",
       "      <th>value</th>\n",
       "      <th>event</th>\n",
       "    </tr>\n",
       "  </thead>\n",
       "  <tbody>\n",
       "    <tr>\n",
       "      <th>0</th>\n",
       "      <td>f1</td>\n",
       "      <td>0.340808</td>\n",
       "      <td>CrisisFACTS-018</td>\n",
       "    </tr>\n",
       "    <tr>\n",
       "      <th>1</th>\n",
       "      <td>precision</td>\n",
       "      <td>0.389298</td>\n",
       "      <td>CrisisFACTS-018</td>\n",
       "    </tr>\n",
       "    <tr>\n",
       "      <th>2</th>\n",
       "      <td>recall</td>\n",
       "      <td>0.303060</td>\n",
       "      <td>CrisisFACTS-018</td>\n",
       "    </tr>\n",
       "  </tbody>\n",
       "</table>\n",
       "</div>"
      ],
      "text/plain": [
       "      metric     value            event\n",
       "0         f1  0.340808  CrisisFACTS-018\n",
       "1  precision  0.389298  CrisisFACTS-018\n",
       "2     recall  0.303060  CrisisFACTS-018"
      ]
     },
     "metadata": {},
     "output_type": "display_data"
    },
    {
     "data": {
      "text/plain": [
       "metric\n",
       "f1           0.335104\n",
       "precision    0.347980\n",
       "recall       0.360951\n",
       "Name: value, dtype: float64"
      ]
     },
     "metadata": {},
     "output_type": "display_data"
    }
   ],
   "source": [
    "submission_metrics = {}\n",
    "\n",
    "for f in glob.glob(\"submissions/*.gz\"):\n",
    "    \n",
    "    this_run_id = f.partition(\"/\")[-1].replace(\".gz\", \"\")\n",
    "    print(f, \"-->\", this_run_id)\n",
    "    \n",
    "    this_run_event_request_facts = {k:[] for k in all_req_ids}\n",
    "    with gzip.open(f, \"r\") as in_file:\n",
    "        for line_ in in_file:\n",
    "            line = line_.decode(\"utf8\")\n",
    "            \n",
    "            entry = json.loads(line)\n",
    "            this_req_id = entry[\"requestID\"]\n",
    "            \n",
    "            # We skip days where we have no relevant facts from assessors\n",
    "            if this_req_id not in all_req_ids:\n",
    "                continue\n",
    "            \n",
    "            this_run_event_request_facts[this_req_id].append(entry)\n",
    "            \n",
    "    local_event_summaries = {e_id:[] for e_id in event_df.index}\n",
    "    for event_request,this_fact_list in this_run_event_request_facts.items():\n",
    "        event_id = event_request.rpartition(\"-\")[0]\n",
    "        \n",
    "        sorted_fact_list = sorted(this_fact_list, key=lambda v: v[\"importance\"], reverse=True)\n",
    "        this_day_summary = [this_top_fact[\"factText\"] for this_top_fact in sorted_fact_list[:TOP_K]]\n",
    "        \n",
    "        local_event_summaries[event_id] = local_event_summaries[event_id] + this_day_summary\n",
    "        \n",
    "\n",
    "    wiki_dfs = []\n",
    "    nist_dfs = []\n",
    "    for event_id,event in event_df.iterrows():\n",
    "        \n",
    "        this_submitted_summary = local_event_summaries[event_id]\n",
    "        if len(this_submitted_summary) == 0:\n",
    "            continue\n",
    "\n",
    "        this_summary_text = \". \".join(this_submitted_summary).replace(\"..\", \".\")\n",
    "        print(event_id, len(this_summary_text))\n",
    "        \n",
    "        nist_summary = event[\"nist.summary\"]\n",
    "        wiki_summary = event[\"wiki.summary\"]\n",
    "\n",
    "        nist_metric_ = rouge(this_summary_text, nist_summary)\n",
    "        wiki_metric_ = rouge(this_summary_text, wiki_summary)\n",
    "        \n",
    "        nist_metric = {\n",
    "            \"f1\": nist_metric_[\"rouge2_fmeasure\"],\n",
    "            \"precision\": nist_metric_[\"rouge2_precision\"],\n",
    "            \"recall\": nist_metric_[\"rouge2_recall\"],\n",
    "        }\n",
    "        \n",
    "        wiki_metric = {\n",
    "            \"f1\": wiki_metric_[\"rouge2_fmeasure\"],\n",
    "            \"precision\": wiki_metric_[\"rouge2_precision\"],\n",
    "            \"recall\": wiki_metric_[\"rouge2_recall\"],\n",
    "        }\n",
    "        \n",
    "        this_wiki_df = pd.DataFrame([{\"metric\":k, \"value\":v.item(), \"event\": event_id} for k,v in wiki_metric.items()])\n",
    "        this_nist_df = pd.DataFrame([{\"metric\":k, \"value\":v.item(), \"event\": event_id} for k,v in nist_metric.items()])\n",
    "\n",
    "        display(this_nist_df)\n",
    "        \n",
    "        wiki_dfs.append(this_wiki_df)\n",
    "        nist_dfs.append(this_nist_df)\n",
    "        \n",
    "    full_wiki_df = pd.concat(wiki_dfs)\n",
    "    full_nist_df = pd.concat(nist_dfs)\n",
    "    \n",
    "    submission_metrics[this_run_id] = {\n",
    "        \"wiki\": full_wiki_df,\n",
    "        \"nist\": full_nist_df,\n",
    "    }\n",
    "    \n",
    "    display(full_nist_df.groupby(\"metric\")[\"value\"].mean())\n",
    "\n"
   ]
  },
  {
   "cell_type": "code",
   "execution_count": null,
   "id": "bc93d833",
   "metadata": {},
   "outputs": [],
   "source": []
  },
  {
   "cell_type": "code",
   "execution_count": 100,
   "id": "13c81f81",
   "metadata": {},
   "outputs": [
    {
     "name": "stdout",
     "output_type": "stream",
     "text": [
      "\n"
     ]
    }
   ],
   "source": [
    "all_runs = []\n",
    "for k,v in submission_metrics.items():\n",
    "    print(k)\n",
    "    \n",
    "    stackable = []\n",
    "    for comparator,ldf in v.items():\n",
    "        stackable_ldf = ldf.copy()\n",
    "        stackable_ldf[\"target.summary\"] = comparator\n",
    "\n",
    "        stackable.append(stackable_ldf)\n",
    "\n",
    "    this_run_df = pd.concat(stackable)\n",
    "    this_run_df[\"run\"] = k\n",
    "    \n",
    "    all_runs.append(this_run_df)\n",
    "    this_run_df.to_csv(\"evaluation.output.rouge/%s.csv\" % k, index=False)\n",
    "    \n",
    "all_runs_df = pd.concat(all_runs)\n",
    "all_runs_df.to_csv(\"evaluation.output.rouge/all_runs.csv\", index=False)"
   ]
  },
  {
   "cell_type": "code",
   "execution_count": null,
   "id": "d6eaf04b",
   "metadata": {},
   "outputs": [],
   "source": []
  },
  {
   "cell_type": "code",
   "execution_count": 101,
   "id": "cd743bda",
   "metadata": {},
   "outputs": [
    {
     "name": "stdout",
     "output_type": "stream",
     "text": [
      "\n",
      "\n"
     ]
    }
   ],
   "source": [
    "target_summaries = {}\n",
    "for target in [\"wiki\", \"nist\"]:\n",
    "    this_target_df = all_runs_df[all_runs_df[\"target.summary\"] == target]\n",
    "    \n",
    "    index = []\n",
    "    rows = []\n",
    "    for run_name,group in this_target_df.groupby(\"run\"):\n",
    "        print(run_name)\n",
    "        # this_row = group.pivot(\"event\", \"metric\", \"value\").mean()\n",
    "        this_row = group.pivot(index=\"event\", columns=\"metric\", values=\"value\").mean()\n",
    "        rows.append(this_row)\n",
    "        index.append(run_name)\n",
    "\n",
    "    summary_df = pd.DataFrame(rows, index=index)[[\n",
    "        \"f1\", \n",
    "    ]]\n",
    "\n",
    "    final_df = summary_df.sort_values(by=\"f1\", ascending=False)\n",
    "    final_df.to_csv(\"evaluation.output.rouge/%s.summary.csv\" % target)\n",
    "    \n",
    "    target_summaries[target] = final_df"
   ]
  },
  {
   "cell_type": "code",
   "execution_count": null,
   "id": "d81ac222",
   "metadata": {},
   "outputs": [],
   "source": []
  },
  {
   "cell_type": "code",
   "execution_count": 102,
   "id": "42682b70",
   "metadata": {},
   "outputs": [],
   "source": [
    "rel2023_events = [\n",
    "    'CrisisFACTS-009',\n",
    "    'CrisisFACTS-010',\n",
    "    'CrisisFACTS-011',\n",
    "    'CrisisFACTS-012',\n",
    "    'CrisisFACTS-013',\n",
    "    'CrisisFACTS-014',\n",
    "    'CrisisFACTS-015',\n",
    "    'CrisisFACTS-016',\n",
    "    'CrisisFACTS-017',\n",
    "    'CrisisFACTS-018'\n",
    "\n",
    "]"
   ]
  },
  {
   "cell_type": "code",
   "execution_count": 103,
   "id": "dcd28381",
   "metadata": {
    "scrolled": false
   },
   "outputs": [
    {
     "name": "stdout",
     "output_type": "stream",
     "text": [
      "\n",
      "\t nist\n",
      "\t\t f1 0.33510380797088146\n",
      "\t\t precision 0.34797987155616283\n",
      "\t\t recall 0.3609505966305733\n",
      "\t wiki\n",
      "\t\t f1 0.0176377488921086\n",
      "\t\t precision 0.009120996110141277\n",
      "\t\t recall 0.39749795695145923\n"
     ]
    }
   ],
   "source": [
    "rows = []\n",
    "for runtag,group in all_runs_df[all_runs_df[\"event\"].isin(rel2023_events)].groupby(\"run\"):\n",
    "    print(runtag)\n",
    "    t_map = {\"run\": runtag}\n",
    "    for target,t_group in group.groupby(\"target.summary\"):\n",
    "        print(\"\\t\", target)\n",
    "        \n",
    "        if target == \"wiki\":\n",
    "            t_group = t_group[~t_group[\"event\"].isin([\"CrisisFACTS-011\", \"CrisisFACTS-012\"])]\n",
    "        for metric,m_group in t_group.groupby(\"metric\"):\n",
    "            print(\"\\t\\t\", metric, m_group[\"value\"].mean())\n",
    "            \n",
    "            t_map[\"%s.%s\" % (target,metric)] = m_group[\"value\"].mean()\n",
    "            \n",
    "    rows.append(t_map)"
   ]
  },
  {
   "cell_type": "code",
   "execution_count": 104,
   "id": "779b6388",
   "metadata": {},
   "outputs": [
    {
     "data": {
      "text/html": [
       "<div>\n",
       "<style scoped>\n",
       "    .dataframe tbody tr th:only-of-type {\n",
       "        vertical-align: middle;\n",
       "    }\n",
       "\n",
       "    .dataframe tbody tr th {\n",
       "        vertical-align: top;\n",
       "    }\n",
       "\n",
       "    .dataframe thead th {\n",
       "        text-align: right;\n",
       "    }\n",
       "</style>\n",
       "<table border=\"1\" class=\"dataframe\">\n",
       "  <thead>\n",
       "    <tr style=\"text-align: right;\">\n",
       "      <th></th>\n",
       "      <th>nist.f1</th>\n",
       "      <th>wiki.f1</th>\n",
       "    </tr>\n",
       "  </thead>\n",
       "  <tbody>\n",
       "    <tr>\n",
       "      <th>0</th>\n",
       "      <td>0.335104</td>\n",
       "      <td>0.017638</td>\n",
       "    </tr>\n",
       "  </tbody>\n",
       "</table>\n",
       "</div>"
      ],
      "text/plain": [
       "    nist.f1   wiki.f1\n",
       "0  0.335104  0.017638"
      ]
     },
     "execution_count": 104,
     "metadata": {},
     "output_type": "execute_result"
    }
   ],
   "source": [
    "by_run_df = pd.DataFrame(rows)#.set_index(\"run\")\n",
    "by_run_df.to_csv(\"by_run.rouge.summary.csv\")\n",
    "by_run_df[[\"nist.f1\", \"wiki.f1\"]]"
   ]
  },
  {
   "cell_type": "code",
   "execution_count": 105,
   "id": "78fb3cb1",
   "metadata": {},
   "outputs": [
    {
     "data": {
      "text/html": [
       "<div>\n",
       "<style scoped>\n",
       "    .dataframe tbody tr th:only-of-type {\n",
       "        vertical-align: middle;\n",
       "    }\n",
       "\n",
       "    .dataframe tbody tr th {\n",
       "        vertical-align: top;\n",
       "    }\n",
       "\n",
       "    .dataframe thead th {\n",
       "        text-align: right;\n",
       "    }\n",
       "</style>\n",
       "<table border=\"1\" class=\"dataframe\">\n",
       "  <thead>\n",
       "    <tr style=\"text-align: right;\">\n",
       "      <th></th>\n",
       "      <th>nist.f1</th>\n",
       "      <th>wiki.f1</th>\n",
       "    </tr>\n",
       "  </thead>\n",
       "  <tbody>\n",
       "    <tr>\n",
       "      <th>nist.f1</th>\n",
       "      <td>NaN</td>\n",
       "      <td>NaN</td>\n",
       "    </tr>\n",
       "    <tr>\n",
       "      <th>wiki.f1</th>\n",
       "      <td>NaN</td>\n",
       "      <td>NaN</td>\n",
       "    </tr>\n",
       "  </tbody>\n",
       "</table>\n",
       "</div>"
      ],
      "text/plain": [
       "         nist.f1  wiki.f1\n",
       "nist.f1      NaN      NaN\n",
       "wiki.f1      NaN      NaN"
      ]
     },
     "execution_count": 105,
     "metadata": {},
     "output_type": "execute_result"
    }
   ],
   "source": [
    "# correlation between wiki and nist\n",
    "by_run_df[[\"nist.f1\", \"wiki.f1\"]].corr()"
   ]
  },
  {
   "cell_type": "code",
   "execution_count": 106,
   "id": "321a7435",
   "metadata": {},
   "outputs": [
    {
     "data": {
      "text/plain": [
       "<Axes: xlabel='nist.f1', ylabel='wiki.f1'>"
      ]
     },
     "execution_count": 106,
     "metadata": {},
     "output_type": "execute_result"
    },
    {
     "data": {
      "image/png": "[encoded data removed]",
      "text/plain": [
       "<Figure size 640x480 with 1 Axes>"
      ]
     },
     "metadata": {},
     "output_type": "display_data"
    }
   ],
   "source": [
    "by_run_df[[\"nist.f1\", \"wiki.f1\"]].plot.scatter(x=\"nist.f1\", y=\"wiki.f1\")"
   ]
  },
  {
   "cell_type": "code",
   "execution_count": 107,
   "id": "7a4ee445",
   "metadata": {
    "scrolled": false
   },
   "outputs": [
    {
     "data": {
      "text/plain": [
       "<Axes: >"
      ]
     },
     "execution_count": 107,
     "metadata": {},
     "output_type": "execute_result"
    },
    {
     "data": {
      "image/png": "[encoded data removed]",
      "text/plain": [
       "<Figure size 900x1600 with 1 Axes>"
      ]
     },
     "metadata": {},
     "output_type": "display_data"
    }
   ],
   "source": [
    "fig = plt.figure(figsize=(9,16))\n",
    "ax = fig.add_subplot(1,1,1)\n",
    "\n",
    "by_run_df[[\"nist.f1\", \"wiki.f1\"]].sort_values(by=\"nist.f1\").plot.barh(ax=ax)"
   ]
  },
  {
   "cell_type": "code",
   "execution_count": 108,
   "id": "9f34544a",
   "metadata": {},
   "outputs": [
    {
     "data": {
      "text/html": [
       "<div>\n",
       "<style scoped>\n",
       "    .dataframe tbody tr th:only-of-type {\n",
       "        vertical-align: middle;\n",
       "    }\n",
       "\n",
       "    .dataframe tbody tr th {\n",
       "        vertical-align: top;\n",
       "    }\n",
       "\n",
       "    .dataframe thead th {\n",
       "        text-align: right;\n",
       "    }\n",
       "</style>\n",
       "<table border=\"1\" class=\"dataframe\">\n",
       "  <thead>\n",
       "    <tr style=\"text-align: right;\">\n",
       "      <th></th>\n",
       "      <th>run</th>\n",
       "      <th>nist.f1</th>\n",
       "      <th>nist.precision</th>\n",
       "      <th>nist.recall</th>\n",
       "      <th>wiki.f1</th>\n",
       "      <th>wiki.precision</th>\n",
       "      <th>wiki.recall</th>\n",
       "    </tr>\n",
       "  </thead>\n",
       "  <tbody>\n",
       "    <tr>\n",
       "      <th>0</th>\n",
       "      <td></td>\n",
       "      <td>0.335104</td>\n",
       "      <td>0.34798</td>\n",
       "      <td>0.360951</td>\n",
       "      <td>0.017638</td>\n",
       "      <td>0.009121</td>\n",
       "      <td>0.397498</td>\n",
       "    </tr>\n",
       "  </tbody>\n",
       "</table>\n",
       "</div>"
      ],
      "text/plain": [
       "  run   nist.f1  nist.precision  nist.recall   wiki.f1  wiki.precision  \\\n",
       "0      0.335104         0.34798     0.360951  0.017638        0.009121   \n",
       "\n",
       "   wiki.recall  \n",
       "0     0.397498  "
      ]
     },
     "execution_count": 108,
     "metadata": {},
     "output_type": "execute_result"
    }
   ],
   "source": [
    "by_run_df"
   ]
  },
  {
   "cell_type": "code",
   "execution_count": null,
   "id": "5e78dc3f",
   "metadata": {},
   "outputs": [],
   "source": []
  },
  {
   "cell_type": "markdown",
   "id": "588c6f9d",
   "metadata": {},
   "source": [
    "## By Day"
   ]
  },
  {
   "cell_type": "code",
   "execution_count": 109,
   "id": "42a9a7ac",
   "metadata": {},
   "outputs": [
    {
     "name": "stdout",
     "output_type": "stream",
     "text": [
      "CrisisFACTS-010\n",
      "\t nist\n",
      "\t\t f1 0.30968138575553894\n",
      "\t\t precision 0.29736921191215515\n",
      "\t\t recall 0.3230571746826172\n",
      "\t wiki\n",
      "\t\t f1 0.03343549743294716\n",
      "\t\t precision 0.017735738307237625\n",
      "\t\t recall 0.291262149810791\n",
      "CrisisFACTS-011\n",
      "\t nist\n",
      "\t\t f1 0.24366910755634308\n",
      "\t\t precision 0.16874513030052185\n",
      "\t\t recall 0.438259094953537\n",
      "\t wiki\n",
      "CrisisFACTS-012\n",
      "\t nist\n",
      "\t\t f1 0.370906800031662\n",
      "\t\t precision 0.43865200877189636\n",
      "\t\t recall 0.3212873339653015\n",
      "\t wiki\n",
      "CrisisFACTS-013\n",
      "\t nist\n",
      "\t\t f1 0.3773306608200073\n",
      "\t\t precision 0.47500845789909363\n",
      "\t\t recall 0.3129728436470032\n",
      "\t wiki\n",
      "\t\t f1 0.01287128683179617\n",
      "\t\t precision 0.006585612893104553\n",
      "\t\t recall 0.28260868787765503\n",
      "CrisisFACTS-015\n",
      "\t nist\n",
      "\t\t f1 0.32614535093307495\n",
      "\t\t precision 0.2425234466791153\n",
      "\t\t recall 0.49777930974960327\n",
      "\t wiki\n",
      "\t\t f1 0.008588889613747597\n",
      "\t\t precision 0.004327803384512663\n",
      "\t\t recall 0.5571428537368774\n",
      "CrisisFACTS-016\n",
      "\t nist\n",
      "\t\t f1 0.31825563311576843\n",
      "\t\t precision 0.2848837077617645\n",
      "\t\t recall 0.36048343777656555\n",
      "\t wiki\n",
      "\t\t f1 0.020334448665380478\n",
      "\t\t precision 0.01052048709243536\n",
      "\t\t recall 0.3027888536453247\n",
      "CrisisFACTS-017\n",
      "\t nist\n",
      "\t\t f1 0.3940335512161255\n",
      "\t\t precision 0.48735907673835754\n",
      "\t\t recall 0.3307059109210968\n",
      "\t wiki\n",
      "\t\t f1 0.01709115318953991\n",
      "\t\t precision 0.00871199183166027\n",
      "\t\t recall 0.44736841320991516\n",
      "CrisisFACTS-018\n",
      "\t nist\n",
      "\t\t f1 0.3408079743385315\n",
      "\t\t precision 0.3892979323863983\n",
      "\t\t recall 0.3030596673488617\n",
      "\t wiki\n",
      "\t\t f1 0.013505217619240284\n",
      "\t\t precision 0.006844343151897192\n",
      "\t\t recall 0.5038167834281921\n"
     ]
    }
   ],
   "source": [
    "rows = []\n",
    "for event,group in all_runs_df[all_runs_df[\"event\"].isin(rel2023_events)].groupby(\"event\"):\n",
    "    print(event)\n",
    "    t_map = {\"event\": event}\n",
    "    for target,t_group in group.groupby(\"target.summary\"):\n",
    "        print(\"\\t\", target)\n",
    "        \n",
    "        if target == \"wiki\":\n",
    "            t_group = t_group[~t_group[\"event\"].isin([\"CrisisFACTS-011\", \"CrisisFACTS-012\"])]\n",
    "        for metric,m_group in t_group.groupby(\"metric\"):\n",
    "            print(\"\\t\\t\", metric, m_group[\"value\"].mean())\n",
    "            \n",
    "            t_map[\"%s.%s\" % (target,metric)] = m_group[\"value\"].mean()\n",
    "            \n",
    "    rows.append(t_map)"
   ]
  },
  {
   "cell_type": "code",
   "execution_count": 110,
   "id": "e1aa6316",
   "metadata": {},
   "outputs": [
    {
     "data": {
      "text/html": [
       "<div>\n",
       "<style scoped>\n",
       "    .dataframe tbody tr th:only-of-type {\n",
       "        vertical-align: middle;\n",
       "    }\n",
       "\n",
       "    .dataframe tbody tr th {\n",
       "        vertical-align: top;\n",
       "    }\n",
       "\n",
       "    .dataframe thead th {\n",
       "        text-align: right;\n",
       "    }\n",
       "</style>\n",
       "<table border=\"1\" class=\"dataframe\">\n",
       "  <thead>\n",
       "    <tr style=\"text-align: right;\">\n",
       "      <th></th>\n",
       "      <th>nist.f1</th>\n",
       "      <th>wiki.f1</th>\n",
       "    </tr>\n",
       "    <tr>\n",
       "      <th>event</th>\n",
       "      <th></th>\n",
       "      <th></th>\n",
       "    </tr>\n",
       "  </thead>\n",
       "  <tbody>\n",
       "    <tr>\n",
       "      <th>CrisisFACTS-010</th>\n",
       "      <td>0.309681</td>\n",
       "      <td>0.033435</td>\n",
       "    </tr>\n",
       "    <tr>\n",
       "      <th>CrisisFACTS-011</th>\n",
       "      <td>0.243669</td>\n",
       "      <td>NaN</td>\n",
       "    </tr>\n",
       "    <tr>\n",
       "      <th>CrisisFACTS-012</th>\n",
       "      <td>0.370907</td>\n",
       "      <td>NaN</td>\n",
       "    </tr>\n",
       "    <tr>\n",
       "      <th>CrisisFACTS-013</th>\n",
       "      <td>0.377331</td>\n",
       "      <td>0.012871</td>\n",
       "    </tr>\n",
       "    <tr>\n",
       "      <th>CrisisFACTS-015</th>\n",
       "      <td>0.326145</td>\n",
       "      <td>0.008589</td>\n",
       "    </tr>\n",
       "    <tr>\n",
       "      <th>CrisisFACTS-016</th>\n",
       "      <td>0.318256</td>\n",
       "      <td>0.020334</td>\n",
       "    </tr>\n",
       "    <tr>\n",
       "      <th>CrisisFACTS-017</th>\n",
       "      <td>0.394034</td>\n",
       "      <td>0.017091</td>\n",
       "    </tr>\n",
       "    <tr>\n",
       "      <th>CrisisFACTS-018</th>\n",
       "      <td>0.340808</td>\n",
       "      <td>0.013505</td>\n",
       "    </tr>\n",
       "  </tbody>\n",
       "</table>\n",
       "</div>"
      ],
      "text/plain": [
       "                  nist.f1   wiki.f1\n",
       "event                              \n",
       "CrisisFACTS-010  0.309681  0.033435\n",
       "CrisisFACTS-011  0.243669       NaN\n",
       "CrisisFACTS-012  0.370907       NaN\n",
       "CrisisFACTS-013  0.377331  0.012871\n",
       "CrisisFACTS-015  0.326145  0.008589\n",
       "CrisisFACTS-016  0.318256  0.020334\n",
       "CrisisFACTS-017  0.394034  0.017091\n",
       "CrisisFACTS-018  0.340808  0.013505"
      ]
     },
     "execution_count": 110,
     "metadata": {},
     "output_type": "execute_result"
    }
   ],
   "source": [
    "by_event_df = pd.DataFrame(rows).set_index(\"event\")\n",
    "by_event_df.to_csv(\"by_event.rouge.summary.csv\")\n",
    "by_event_df[[\"nist.f1\", \"wiki.f1\"]]"
   ]
  },
  {
   "cell_type": "code",
   "execution_count": 111,
   "id": "07c1adc7",
   "metadata": {},
   "outputs": [
    {
     "data": {
      "text/plain": [
       "<Axes: ylabel='event'>"
      ]
     },
     "execution_count": 111,
     "metadata": {},
     "output_type": "execute_result"
    },
    {
     "data": {
      "image/png": "[encoded data removed]",
      "text/plain": [
       "<Figure size 900x1600 with 1 Axes>"
      ]
     },
     "metadata": {},
     "output_type": "display_data"
    }
   ],
   "source": [
    "fig = plt.figure(figsize=(9,16))\n",
    "ax = fig.add_subplot(1,1,1)\n",
    "\n",
    "by_event_df[[\"nist.f1\", \"wiki.f1\"]].plot.barh(ax=ax)"
   ]
  },
  {
   "cell_type": "code",
   "execution_count": null,
   "id": "183210c3",
   "metadata": {},
   "outputs": [],
   "source": []
  },
  {
   "cell_type": "code",
   "execution_count": 112,
   "id": "d3a9ef18",
   "metadata": {},
   "outputs": [
    {
     "name": "stdout",
     "output_type": "stream",
     "text": [
      "\\begin{tabular}{lrrrrrr}\n",
      " & nist.f1 & nist.precision & nist.recall & wiki.f1 & wiki.precision & wiki.recall \\\\\n",
      "event &  &  &  &  &  &  \\\\\n",
      "CrisisFACTS-010 & 0.309681 & 0.297369 & 0.323057 & 0.033435 & 0.017736 & 0.291262 \\\\\n",
      "CrisisFACTS-011 & 0.243669 & 0.168745 & 0.438259 & nan & nan & nan \\\\\n",
      "CrisisFACTS-012 & 0.370907 & 0.438652 & 0.321287 & nan & nan & nan \\\\\n",
      "CrisisFACTS-013 & 0.377331 & 0.475008 & 0.312973 & 0.012871 & 0.006586 & 0.282609 \\\\\n",
      "CrisisFACTS-015 & 0.326145 & 0.242523 & 0.497779 & 0.008589 & 0.004328 & 0.557143 \\\\\n",
      "CrisisFACTS-016 & 0.318256 & 0.284884 & 0.360483 & 0.020334 & 0.010520 & 0.302789 \\\\\n",
      "CrisisFACTS-017 & 0.394034 & 0.487359 & 0.330706 & 0.017091 & 0.008712 & 0.447368 \\\\\n",
      "CrisisFACTS-018 & 0.340808 & 0.389298 & 0.303060 & 0.013505 & 0.006844 & 0.503817 \\\\\n",
      "\\end{tabular}\n",
      "\n"
     ]
    }
   ],
   "source": [
    "score_df = pd.read_csv(\"by_event.rouge.summary.csv\", index_col=0)\n",
    "print(score_df.groupby(\"event\").mean().style.to_latex())"
   ]
  },
  {
   "cell_type": "code",
   "execution_count": null,
   "id": "cf631582",
   "metadata": {},
   "outputs": [],
   "source": []
  }
 ],
 "metadata": {
  "kernelspec": {
   "display_name": ".venv",
   "language": "python",
   "name": "python3"
  },
  "language_info": {
   "codemirror_mode": {
    "name": "ipython",
    "version": 3
   },
   "file_extension": ".py",
   "mimetype": "text/x-python",
   "name": "python",
   "nbconvert_exporter": "python",
   "pygments_lexer": "ipython3",
   "version": "3.11.2"
  }
 },
 "nbformat": 4,
 "nbformat_minor": 5
}
