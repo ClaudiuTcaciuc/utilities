{
 "cells": [
  {
   "cell_type": "markdown",
   "id": "9d9faabc",
   "metadata": {},
   "source": [
    "# ROUGE Scoring Against NIST and Wikipedia\n",
    "\n",
    "Duplicating CrisisFACTS 2022 assessment via ROUGE"
   ]
  },
  {
   "cell_type": "code",
   "execution_count": 141,
   "id": "db0b332e",
   "metadata": {},
   "outputs": [],
   "source": [
    "%matplotlib inline"
   ]
  },
  {
   "cell_type": "code",
   "execution_count": 142,
   "id": "44a96521",
   "metadata": {},
   "outputs": [],
   "source": [
    "import pandas as pd\n",
    "import numpy as np\n",
    "import json\n",
    "import glob\n",
    "import gzip\n",
    "import os\n",
    "\n",
    "import scipy.stats\n",
    "\n",
    "import matplotlib.pyplot as plt"
   ]
  },
  {
   "cell_type": "code",
   "execution_count": 143,
   "id": "73bd29a3",
   "metadata": {},
   "outputs": [],
   "source": [
    "import wikipedia"
   ]
  },
  {
   "cell_type": "code",
   "execution_count": 144,
   "id": "c556aa5c",
   "metadata": {},
   "outputs": [],
   "source": [
    "from torchmetrics.text.rouge import ROUGEScore"
   ]
  },
  {
   "cell_type": "code",
   "execution_count": null,
   "id": "3a6d5ee5",
   "metadata": {},
   "outputs": [],
   "source": []
  },
  {
   "cell_type": "markdown",
   "id": "1f344b8d",
   "metadata": {},
   "source": [
    "## Get CrisisFACTS Event Metadata"
   ]
  },
  {
   "cell_type": "code",
   "execution_count": 145,
   "id": "fa982806",
   "metadata": {},
   "outputs": [],
   "source": [
    "event_df = pd.read_json(\"CrisisFACTs-2022to2023.topics.json\", lines=False).set_index(\"eventID\")"
   ]
  },
  {
   "cell_type": "markdown",
   "id": "bfbd2d79",
   "metadata": {},
   "source": [
    "### Get Summaries from Wikipedia"
   ]
  },
  {
   "cell_type": "code",
   "execution_count": 146,
   "id": "26edb077",
   "metadata": {},
   "outputs": [
    {
     "name": "stdout",
     "output_type": "stream",
     "text": [
      "https://en.wikipedia.org/wiki/Lilac_Fire\n",
      "https://en.wikipedia.org/wiki/Cranston_Fire\n",
      "https://en.wikipedia.org/wiki/Holy_Fire_(2018)\n",
      "https://en.wikipedia.org/wiki/Hurricane_Florence\n",
      "https://en.wikipedia.org/wiki/2018_Maryland_flood\n",
      "https://en.wikipedia.org/wiki/Saddleridge_Fire\n",
      "https://en.wikipedia.org/wiki/Hurricane_Laura\n",
      "https://en.wikipedia.org/wiki/Hurricane_Sally\n",
      "https://en.wikipedia.org/wiki/2020_Beirut_explosion\n",
      "https://en.wikipedia.org/wiki/2020_Houston_explosion\n",
      "https://en.wikipedia.org/wiki/Edenville_Dam#Dam_failure\n",
      "https://en.wikipedia.org/wiki/Hurricane_Dorian\n",
      "https://en.wikipedia.org/wiki/Kincade_Fire\n",
      "https://en.wikipedia.org/wiki/2020_Easter_tornado_outbreak\n",
      "https://en.wikipedia.org/wiki/Tornado_outbreak_of_April_22-23,_2020\n",
      "https://en.wikipedia.org/wiki/Tornado_outbreak_of_March_2-3,_2020\n"
     ]
    }
   ],
   "source": [
    "def get_wiki_summary(url):\n",
    "    \n",
    "    if \"wikipedia.org\" not in url:\n",
    "        return \"\"\n",
    "    \n",
    "    page_title = url.rpartition(\"/\")[-1]\n",
    "    print(url)\n",
    "    page = wikipedia.page(title=page_title, auto_suggest=False)\n",
    "    \n",
    "    return page.summary\n",
    "\n",
    "event_df[\"wiki.summary\"] = event_df[\"url\"].apply(get_wiki_summary)"
   ]
  },
  {
   "cell_type": "markdown",
   "id": "972f2f1c",
   "metadata": {},
   "source": [
    "### Get Summaries from Assessors"
   ]
  },
  {
   "cell_type": "code",
   "execution_count": 147,
   "id": "a2e097d1",
   "metadata": {},
   "outputs": [],
   "source": [
    "with open(\"final-annotated-facts-results.json\", \"r\") as in_file:\n",
    "    annotation_data = json.load(in_file)"
   ]
  },
  {
   "cell_type": "code",
   "execution_count": 148,
   "id": "85afc64c",
   "metadata": {},
   "outputs": [],
   "source": [
    "event_fact_lists = {}\n",
    "event_fact_per_req = {}\n",
    "\n",
    "for req_id,req_data in annotation_data.items():\n",
    "    event_id = req_id.rpartition(\"-\")[0]\n",
    "    local_fact_set = {f[0] for f in req_data[\"fact_list\"] if f[2] == \"USEFUL_FACT\"}\n",
    "    \n",
    "    if not os.path.exists(\"../00-createSummaries/collapsed-event-days-new/Collapsed-%s.json\" % req_id):\n",
    "        print(\"CAUTION: No collapsed data for [%s]\" % req_id)\n",
    "        continue\n",
    "    \n",
    "    with open(\"../00-createSummaries/collapsed-event-days-new/Collapsed-%s.json\" % req_id) as in_file:\n",
    "        local_fact_data = json.load(in_file)\n",
    "        \n",
    "    local_fact_text = [\n",
    "        fact[\"fact_text\"] for fact in local_fact_data \n",
    "        if fact[\"collapsed_fact_id\"] in local_fact_set\n",
    "    ]\n",
    "    \n",
    "    local_fact_list = event_fact_lists.get(event_id, [])\n",
    "    local_fact_list = local_fact_list + local_fact_text\n",
    "    event_fact_lists[event_id] = local_fact_list\n",
    "    \n",
    "    event_fact_per_req.setdefault(event_id, {})[req_id] = \". \".join(local_fact_text).replace(\"..\", \".\")\n"
   ]
  },
  {
   "cell_type": "code",
   "execution_count": 149,
   "id": "3632d5ee",
   "metadata": {},
   "outputs": [],
   "source": [
    "event_df[\"nist.summary\"] = [\". \".join(event_fact_lists[event_id]).replace(\"..\", \".\") for event_id in event_df.index]\n",
    "event_df[\"nist.summary.per.req\"] = [event_fact_per_req.get(event_id, {}) for event_id in event_df.index]"
   ]
  },
  {
   "cell_type": "markdown",
   "id": "8bdff41e",
   "metadata": {},
   "source": [
    "## Save the Summaries"
   ]
  },
  {
   "cell_type": "code",
   "execution_count": 150,
   "id": "c18718ec",
   "metadata": {},
   "outputs": [],
   "source": [
    "event_df.to_json(\"CrisisFACTs-2022to2023.topics.withSummaries_perRequest.json\")"
   ]
  },
  {
   "cell_type": "code",
   "execution_count": 151,
   "id": "1a7db79a",
   "metadata": {},
   "outputs": [],
   "source": [
    "# event_df = pd.read_json(\"CrisisFACTs-2022to2023.topics.withSummaries_smaller.json\", lines=False)"
   ]
  },
  {
   "cell_type": "code",
   "execution_count": 152,
   "id": "dfbd1459",
   "metadata": {},
   "outputs": [],
   "source": [
    "rouge = ROUGEScore(\n",
    "    use_stemmer=True,\n",
    "    rouge_keys=(\"rouge2\",)\n",
    ")"
   ]
  },
  {
   "cell_type": "code",
   "execution_count": null,
   "id": "133e3127",
   "metadata": {},
   "outputs": [],
   "source": []
  },
  {
   "cell_type": "code",
   "execution_count": 153,
   "id": "73ec2e14",
   "metadata": {},
   "outputs": [],
   "source": [
    "TOP_K = 32"
   ]
  },
  {
   "cell_type": "code",
   "execution_count": null,
   "id": "835e1d0f",
   "metadata": {},
   "outputs": [],
   "source": []
  },
  {
   "cell_type": "code",
   "execution_count": 154,
   "id": "cb52e8d3",
   "metadata": {},
   "outputs": [
    {
     "data": {
      "text/plain": [
       "['CrisisFACTS-003-r5',\n",
       " 'CrisisFACTS-003-r6',\n",
       " 'CrisisFACTS-003-r7',\n",
       " 'CrisisFACTS-003-r8',\n",
       " 'CrisisFACTS-003-r9',\n",
       " 'CrisisFACTS-003-r10',\n",
       " 'CrisisFACTS-003-r11',\n",
       " 'CrisisFACTS-004-r8',\n",
       " 'CrisisFACTS-004-r9',\n",
       " 'CrisisFACTS-004-r10',\n",
       " 'CrisisFACTS-004-r11',\n",
       " 'CrisisFACTS-004-r12',\n",
       " 'CrisisFACTS-004-r13',\n",
       " 'CrisisFACTS-004-r14',\n",
       " 'CrisisFACTS-004-r15',\n",
       " 'CrisisFACTS-004-r16',\n",
       " 'CrisisFACTS-004-r17',\n",
       " 'CrisisFACTS-004-r18',\n",
       " 'CrisisFACTS-004-r19',\n",
       " 'CrisisFACTS-004-r20',\n",
       " 'CrisisFACTS-004-r21',\n",
       " 'CrisisFACTS-004-r22',\n",
       " 'CrisisFACTS-006-r4',\n",
       " 'CrisisFACTS-006-r5',\n",
       " 'CrisisFACTS-006-r6',\n",
       " 'CrisisFACTS-006-r7',\n",
       " 'CrisisFACTS-007-r13',\n",
       " 'CrisisFACTS-007-r14',\n",
       " 'CrisisFACTS-013-r0',\n",
       " 'CrisisFACTS-013-r1',\n",
       " 'CrisisFACTS-013-r2',\n",
       " 'CrisisFACTS-013-r3',\n",
       " 'CrisisFACTS-013-r4',\n",
       " 'CrisisFACTS-013-r5',\n",
       " 'CrisisFACTS-014-r0',\n",
       " 'CrisisFACTS-014-r1',\n",
       " 'CrisisFACTS-014-r2',\n",
       " 'CrisisFACTS-014-r3',\n",
       " 'CrisisFACTS-014-r4',\n",
       " 'CrisisFACTS-014-r5',\n",
       " 'CrisisFACTS-014-r6',\n",
       " 'CrisisFACTS-001-r3',\n",
       " 'CrisisFACTS-001-r4',\n",
       " 'CrisisFACTS-001-r5',\n",
       " 'CrisisFACTS-001-r6',\n",
       " 'CrisisFACTS-001-r7',\n",
       " 'CrisisFACTS-001-r8',\n",
       " 'CrisisFACTS-001-r9',\n",
       " 'CrisisFACTS-001-r10',\n",
       " 'CrisisFACTS-001-r11',\n",
       " 'CrisisFACTS-011-r0',\n",
       " 'CrisisFACTS-011-r1',\n",
       " 'CrisisFACTS-011-r2',\n",
       " 'CrisisFACTS-011-r3',\n",
       " 'CrisisFACTS-012-r0',\n",
       " 'CrisisFACTS-012-r1',\n",
       " 'CrisisFACTS-012-r2',\n",
       " 'CrisisFACTS-012-r3',\n",
       " 'CrisisFACTS-012-r4',\n",
       " 'CrisisFACTS-012-r5',\n",
       " 'CrisisFACTS-012-r6',\n",
       " 'CrisisFACTS-016-r0',\n",
       " 'CrisisFACTS-016-r1',\n",
       " 'CrisisFACTS-016-r2',\n",
       " 'CrisisFACTS-016-r3',\n",
       " 'CrisisFACTS-017-r0',\n",
       " 'CrisisFACTS-017-r1',\n",
       " 'CrisisFACTS-017-r2',\n",
       " 'CrisisFACTS-017-r3',\n",
       " 'CrisisFACTS-017-r4',\n",
       " 'CrisisFACTS-017-r5',\n",
       " 'CrisisFACTS-018-r0',\n",
       " 'CrisisFACTS-018-r1',\n",
       " 'CrisisFACTS-018-r2',\n",
       " 'CrisisFACTS-018-r3',\n",
       " 'CrisisFACTS-018-r4',\n",
       " 'CrisisFACTS-002-r2',\n",
       " 'CrisisFACTS-002-r1',\n",
       " 'CrisisFACTS-002-r3',\n",
       " 'CrisisFACTS-002-r4',\n",
       " 'CrisisFACTS-002-r5',\n",
       " 'CrisisFACTS-002-r6',\n",
       " 'CrisisFACTS-008-r3',\n",
       " 'CrisisFACTS-008-r4',\n",
       " 'CrisisFACTS-008-r5',\n",
       " 'CrisisFACTS-008-r6',\n",
       " 'CrisisFACTS-008-r7',\n",
       " 'CrisisFACTS-008-r9',\n",
       " 'CrisisFACTS-008-r8',\n",
       " 'CrisisFACTS-008-r10',\n",
       " 'CrisisFACTS-013-r6',\n",
       " 'CrisisFACTS-005-r3',\n",
       " 'CrisisFACTS-005-r4',\n",
       " 'CrisisFACTS-005-r5',\n",
       " 'CrisisFACTS-005-r6',\n",
       " 'CrisisFACTS-010-r0',\n",
       " 'CrisisFACTS-010-r1',\n",
       " 'CrisisFACTS-010-r2',\n",
       " 'CrisisFACTS-010-r3',\n",
       " 'CrisisFACTS-010-r4',\n",
       " 'CrisisFACTS-010-r5',\n",
       " 'CrisisFACTS-011-r4',\n",
       " 'CrisisFACTS-015-r0',\n",
       " 'CrisisFACTS-015-r1',\n",
       " 'CrisisFACTS-015-r2',\n",
       " 'CrisisFACTS-015-r3',\n",
       " 'CrisisFACTS-015-r4',\n",
       " 'CrisisFACTS-015-r5',\n",
       " 'CrisisFACTS-015-r6',\n",
       " 'CrisisFACTS-016-r4',\n",
       " 'CrisisFACTS-009-r1',\n",
       " 'CrisisFACTS-009-r2',\n",
       " 'CrisisFACTS-009-r3',\n",
       " 'CrisisFACTS-009-r4',\n",
       " 'CrisisFACTS-009-r5',\n",
       " 'CrisisFACTS-009-r6',\n",
       " 'CrisisFACTS-018-r5',\n",
       " 'CrisisFACTS-009-r0']"
      ]
     },
     "execution_count": 154,
     "metadata": {},
     "output_type": "execute_result"
    }
   ],
   "source": [
    "all_req_ids = list(annotation_data.keys())\n",
    "all_req_ids"
   ]
  },
  {
   "cell_type": "code",
   "execution_count": 155,
   "id": "0a658b39",
   "metadata": {
    "scrolled": true
   },
   "outputs": [
    {
     "name": "stdout",
     "output_type": "stream",
     "text": [
      "submissions\\Thesis_Retriver.gz --> Thesis_Retriver\n",
      "Event CrisisFACTS-001 -- NIST: 9999 -- Submitted: 83129\n"
     ]
    },
    {
     "data": {
      "application/vnd.microsoft.datawrangler.viewer.v0+json": {
       "columns": [
        {
         "name": "index",
         "rawType": "int64",
         "type": "integer"
        },
        {
         "name": "metric",
         "rawType": "object",
         "type": "string"
        },
        {
         "name": "value",
         "rawType": "float64",
         "type": "float"
        },
        {
         "name": "event",
         "rawType": "object",
         "type": "string"
        }
       ],
       "conversionMethod": "pd.DataFrame",
       "ref": "4391e42d-4ba5-4e60-9ea6-7a54b7458983",
       "rows": [
        [
         "0",
         "f1",
         "0.21236920356750488",
         "CrisisFACTS-001"
        ],
        [
         "1",
         "precision",
         "0.11898677051067352",
         "CrisisFACTS-001"
        ],
        [
         "2",
         "recall",
         "0.9869077205657959",
         "CrisisFACTS-001"
        ]
       ],
       "shape": {
        "columns": 3,
        "rows": 3
       }
      },
      "text/html": [
       "<div>\n",
       "<style scoped>\n",
       "    .dataframe tbody tr th:only-of-type {\n",
       "        vertical-align: middle;\n",
       "    }\n",
       "\n",
       "    .dataframe tbody tr th {\n",
       "        vertical-align: top;\n",
       "    }\n",
       "\n",
       "    .dataframe thead th {\n",
       "        text-align: right;\n",
       "    }\n",
       "</style>\n",
       "<table border=\"1\" class=\"dataframe\">\n",
       "  <thead>\n",
       "    <tr style=\"text-align: right;\">\n",
       "      <th></th>\n",
       "      <th>metric</th>\n",
       "      <th>value</th>\n",
       "      <th>event</th>\n",
       "    </tr>\n",
       "  </thead>\n",
       "  <tbody>\n",
       "    <tr>\n",
       "      <th>0</th>\n",
       "      <td>f1</td>\n",
       "      <td>0.212369</td>\n",
       "      <td>CrisisFACTS-001</td>\n",
       "    </tr>\n",
       "    <tr>\n",
       "      <th>1</th>\n",
       "      <td>precision</td>\n",
       "      <td>0.118987</td>\n",
       "      <td>CrisisFACTS-001</td>\n",
       "    </tr>\n",
       "    <tr>\n",
       "      <th>2</th>\n",
       "      <td>recall</td>\n",
       "      <td>0.986908</td>\n",
       "      <td>CrisisFACTS-001</td>\n",
       "    </tr>\n",
       "  </tbody>\n",
       "</table>\n",
       "</div>"
      ],
      "text/plain": [
       "      metric     value            event\n",
       "0         f1  0.212369  CrisisFACTS-001\n",
       "1  precision  0.118987  CrisisFACTS-001\n",
       "2     recall  0.986908  CrisisFACTS-001"
      ]
     },
     "metadata": {},
     "output_type": "display_data"
    },
    {
     "name": "stdout",
     "output_type": "stream",
     "text": [
      "Event CrisisFACTS-002 -- NIST: 9588 -- Submitted: 51633\n"
     ]
    },
    {
     "data": {
      "application/vnd.microsoft.datawrangler.viewer.v0+json": {
       "columns": [
        {
         "name": "index",
         "rawType": "int64",
         "type": "integer"
        },
        {
         "name": "metric",
         "rawType": "object",
         "type": "string"
        },
        {
         "name": "value",
         "rawType": "float64",
         "type": "float"
        },
        {
         "name": "event",
         "rawType": "object",
         "type": "string"
        }
       ],
       "conversionMethod": "pd.DataFrame",
       "ref": "c50b610c-07b4-4a3c-acad-932dbf5c6911",
       "rows": [
        [
         "0",
         "f1",
         "0.3121258318424225",
         "CrisisFACTS-002"
        ],
        [
         "1",
         "precision",
         "0.18541289865970612",
         "CrisisFACTS-002"
        ],
        [
         "2",
         "recall",
         "0.985897421836853",
         "CrisisFACTS-002"
        ]
       ],
       "shape": {
        "columns": 3,
        "rows": 3
       }
      },
      "text/html": [
       "<div>\n",
       "<style scoped>\n",
       "    .dataframe tbody tr th:only-of-type {\n",
       "        vertical-align: middle;\n",
       "    }\n",
       "\n",
       "    .dataframe tbody tr th {\n",
       "        vertical-align: top;\n",
       "    }\n",
       "\n",
       "    .dataframe thead th {\n",
       "        text-align: right;\n",
       "    }\n",
       "</style>\n",
       "<table border=\"1\" class=\"dataframe\">\n",
       "  <thead>\n",
       "    <tr style=\"text-align: right;\">\n",
       "      <th></th>\n",
       "      <th>metric</th>\n",
       "      <th>value</th>\n",
       "      <th>event</th>\n",
       "    </tr>\n",
       "  </thead>\n",
       "  <tbody>\n",
       "    <tr>\n",
       "      <th>0</th>\n",
       "      <td>f1</td>\n",
       "      <td>0.312126</td>\n",
       "      <td>CrisisFACTS-002</td>\n",
       "    </tr>\n",
       "    <tr>\n",
       "      <th>1</th>\n",
       "      <td>precision</td>\n",
       "      <td>0.185413</td>\n",
       "      <td>CrisisFACTS-002</td>\n",
       "    </tr>\n",
       "    <tr>\n",
       "      <th>2</th>\n",
       "      <td>recall</td>\n",
       "      <td>0.985897</td>\n",
       "      <td>CrisisFACTS-002</td>\n",
       "    </tr>\n",
       "  </tbody>\n",
       "</table>\n",
       "</div>"
      ],
      "text/plain": [
       "      metric     value            event\n",
       "0         f1  0.312126  CrisisFACTS-002\n",
       "1  precision  0.185413  CrisisFACTS-002\n",
       "2     recall  0.985897  CrisisFACTS-002"
      ]
     },
     "metadata": {},
     "output_type": "display_data"
    },
    {
     "name": "stdout",
     "output_type": "stream",
     "text": [
      "Event CrisisFACTS-003 -- NIST: 22809 -- Submitted: 53415\n"
     ]
    },
    {
     "data": {
      "application/vnd.microsoft.datawrangler.viewer.v0+json": {
       "columns": [
        {
         "name": "index",
         "rawType": "int64",
         "type": "integer"
        },
        {
         "name": "metric",
         "rawType": "object",
         "type": "string"
        },
        {
         "name": "value",
         "rawType": "float64",
         "type": "float"
        },
        {
         "name": "event",
         "rawType": "object",
         "type": "string"
        }
       ],
       "conversionMethod": "pd.DataFrame",
       "ref": "8ba45454-639f-4e98-8e0e-c92647a6139a",
       "rows": [
        [
         "0",
         "f1",
         "0.5884273052215576",
         "CrisisFACTS-003"
        ],
        [
         "1",
         "precision",
         "0.4193323254585266",
         "CrisisFACTS-003"
        ],
        [
         "2",
         "recall",
         "0.9860503077507019",
         "CrisisFACTS-003"
        ]
       ],
       "shape": {
        "columns": 3,
        "rows": 3
       }
      },
      "text/html": [
       "<div>\n",
       "<style scoped>\n",
       "    .dataframe tbody tr th:only-of-type {\n",
       "        vertical-align: middle;\n",
       "    }\n",
       "\n",
       "    .dataframe tbody tr th {\n",
       "        vertical-align: top;\n",
       "    }\n",
       "\n",
       "    .dataframe thead th {\n",
       "        text-align: right;\n",
       "    }\n",
       "</style>\n",
       "<table border=\"1\" class=\"dataframe\">\n",
       "  <thead>\n",
       "    <tr style=\"text-align: right;\">\n",
       "      <th></th>\n",
       "      <th>metric</th>\n",
       "      <th>value</th>\n",
       "      <th>event</th>\n",
       "    </tr>\n",
       "  </thead>\n",
       "  <tbody>\n",
       "    <tr>\n",
       "      <th>0</th>\n",
       "      <td>f1</td>\n",
       "      <td>0.588427</td>\n",
       "      <td>CrisisFACTS-003</td>\n",
       "    </tr>\n",
       "    <tr>\n",
       "      <th>1</th>\n",
       "      <td>precision</td>\n",
       "      <td>0.419332</td>\n",
       "      <td>CrisisFACTS-003</td>\n",
       "    </tr>\n",
       "    <tr>\n",
       "      <th>2</th>\n",
       "      <td>recall</td>\n",
       "      <td>0.986050</td>\n",
       "      <td>CrisisFACTS-003</td>\n",
       "    </tr>\n",
       "  </tbody>\n",
       "</table>\n",
       "</div>"
      ],
      "text/plain": [
       "      metric     value            event\n",
       "0         f1  0.588427  CrisisFACTS-003\n",
       "1  precision  0.419332  CrisisFACTS-003\n",
       "2     recall  0.986050  CrisisFACTS-003"
      ]
     },
     "metadata": {},
     "output_type": "display_data"
    },
    {
     "name": "stdout",
     "output_type": "stream",
     "text": [
      "Event CrisisFACTS-004 -- NIST: 29148 -- Submitted: 144427\n"
     ]
    },
    {
     "data": {
      "application/vnd.microsoft.datawrangler.viewer.v0+json": {
       "columns": [
        {
         "name": "index",
         "rawType": "int64",
         "type": "integer"
        },
        {
         "name": "metric",
         "rawType": "object",
         "type": "string"
        },
        {
         "name": "value",
         "rawType": "float64",
         "type": "float"
        },
        {
         "name": "event",
         "rawType": "object",
         "type": "string"
        }
       ],
       "conversionMethod": "pd.DataFrame",
       "ref": "f9956bef-e987-48cc-8095-d91a07a341cd",
       "rows": [
        [
         "0",
         "f1",
         "0.321731835603714",
         "CrisisFACTS-004"
        ],
        [
         "1",
         "precision",
         "0.19322361052036285",
         "CrisisFACTS-004"
        ],
        [
         "2",
         "recall",
         "0.9606093764305115",
         "CrisisFACTS-004"
        ]
       ],
       "shape": {
        "columns": 3,
        "rows": 3
       }
      },
      "text/html": [
       "<div>\n",
       "<style scoped>\n",
       "    .dataframe tbody tr th:only-of-type {\n",
       "        vertical-align: middle;\n",
       "    }\n",
       "\n",
       "    .dataframe tbody tr th {\n",
       "        vertical-align: top;\n",
       "    }\n",
       "\n",
       "    .dataframe thead th {\n",
       "        text-align: right;\n",
       "    }\n",
       "</style>\n",
       "<table border=\"1\" class=\"dataframe\">\n",
       "  <thead>\n",
       "    <tr style=\"text-align: right;\">\n",
       "      <th></th>\n",
       "      <th>metric</th>\n",
       "      <th>value</th>\n",
       "      <th>event</th>\n",
       "    </tr>\n",
       "  </thead>\n",
       "  <tbody>\n",
       "    <tr>\n",
       "      <th>0</th>\n",
       "      <td>f1</td>\n",
       "      <td>0.321732</td>\n",
       "      <td>CrisisFACTS-004</td>\n",
       "    </tr>\n",
       "    <tr>\n",
       "      <th>1</th>\n",
       "      <td>precision</td>\n",
       "      <td>0.193224</td>\n",
       "      <td>CrisisFACTS-004</td>\n",
       "    </tr>\n",
       "    <tr>\n",
       "      <th>2</th>\n",
       "      <td>recall</td>\n",
       "      <td>0.960609</td>\n",
       "      <td>CrisisFACTS-004</td>\n",
       "    </tr>\n",
       "  </tbody>\n",
       "</table>\n",
       "</div>"
      ],
      "text/plain": [
       "      metric     value            event\n",
       "0         f1  0.321732  CrisisFACTS-004\n",
       "1  precision  0.193224  CrisisFACTS-004\n",
       "2     recall  0.960609  CrisisFACTS-004"
      ]
     },
     "metadata": {},
     "output_type": "display_data"
    },
    {
     "name": "stdout",
     "output_type": "stream",
     "text": [
      "Event CrisisFACTS-005 -- NIST: 10447 -- Submitted: 45438\n"
     ]
    },
    {
     "data": {
      "application/vnd.microsoft.datawrangler.viewer.v0+json": {
       "columns": [
        {
         "name": "index",
         "rawType": "int64",
         "type": "integer"
        },
        {
         "name": "metric",
         "rawType": "object",
         "type": "string"
        },
        {
         "name": "value",
         "rawType": "float64",
         "type": "float"
        },
        {
         "name": "event",
         "rawType": "object",
         "type": "string"
        }
       ],
       "conversionMethod": "pd.DataFrame",
       "ref": "3cf732c3-e52c-4c0a-9c97-5c03d78179eb",
       "rows": [
        [
         "0",
         "f1",
         "0.3730756342411041",
         "CrisisFACTS-005"
        ],
        [
         "1",
         "precision",
         "0.22991690039634705",
         "CrisisFACTS-005"
        ],
        [
         "2",
         "recall",
         "0.9886837601661682",
         "CrisisFACTS-005"
        ]
       ],
       "shape": {
        "columns": 3,
        "rows": 3
       }
      },
      "text/html": [
       "<div>\n",
       "<style scoped>\n",
       "    .dataframe tbody tr th:only-of-type {\n",
       "        vertical-align: middle;\n",
       "    }\n",
       "\n",
       "    .dataframe tbody tr th {\n",
       "        vertical-align: top;\n",
       "    }\n",
       "\n",
       "    .dataframe thead th {\n",
       "        text-align: right;\n",
       "    }\n",
       "</style>\n",
       "<table border=\"1\" class=\"dataframe\">\n",
       "  <thead>\n",
       "    <tr style=\"text-align: right;\">\n",
       "      <th></th>\n",
       "      <th>metric</th>\n",
       "      <th>value</th>\n",
       "      <th>event</th>\n",
       "    </tr>\n",
       "  </thead>\n",
       "  <tbody>\n",
       "    <tr>\n",
       "      <th>0</th>\n",
       "      <td>f1</td>\n",
       "      <td>0.373076</td>\n",
       "      <td>CrisisFACTS-005</td>\n",
       "    </tr>\n",
       "    <tr>\n",
       "      <th>1</th>\n",
       "      <td>precision</td>\n",
       "      <td>0.229917</td>\n",
       "      <td>CrisisFACTS-005</td>\n",
       "    </tr>\n",
       "    <tr>\n",
       "      <th>2</th>\n",
       "      <td>recall</td>\n",
       "      <td>0.988684</td>\n",
       "      <td>CrisisFACTS-005</td>\n",
       "    </tr>\n",
       "  </tbody>\n",
       "</table>\n",
       "</div>"
      ],
      "text/plain": [
       "      metric     value            event\n",
       "0         f1  0.373076  CrisisFACTS-005\n",
       "1  precision  0.229917  CrisisFACTS-005\n",
       "2     recall  0.988684  CrisisFACTS-005"
      ]
     },
     "metadata": {},
     "output_type": "display_data"
    },
    {
     "name": "stdout",
     "output_type": "stream",
     "text": [
      "Event CrisisFACTS-006 -- NIST: 12315 -- Submitted: 34894\n"
     ]
    },
    {
     "data": {
      "application/vnd.microsoft.datawrangler.viewer.v0+json": {
       "columns": [
        {
         "name": "index",
         "rawType": "int64",
         "type": "integer"
        },
        {
         "name": "metric",
         "rawType": "object",
         "type": "string"
        },
        {
         "name": "value",
         "rawType": "float64",
         "type": "float"
        },
        {
         "name": "event",
         "rawType": "object",
         "type": "string"
        }
       ],
       "conversionMethod": "pd.DataFrame",
       "ref": "45d77f4d-6f00-4874-b0d6-427b0a6859fc",
       "rows": [
        [
         "0",
         "f1",
         "0.29834842681884766",
         "CrisisFACTS-006"
        ],
        [
         "1",
         "precision",
         "0.20326678454875946",
         "CrisisFACTS-006"
        ],
        [
         "2",
         "recall",
         "0.5605605840682983",
         "CrisisFACTS-006"
        ]
       ],
       "shape": {
        "columns": 3,
        "rows": 3
       }
      },
      "text/html": [
       "<div>\n",
       "<style scoped>\n",
       "    .dataframe tbody tr th:only-of-type {\n",
       "        vertical-align: middle;\n",
       "    }\n",
       "\n",
       "    .dataframe tbody tr th {\n",
       "        vertical-align: top;\n",
       "    }\n",
       "\n",
       "    .dataframe thead th {\n",
       "        text-align: right;\n",
       "    }\n",
       "</style>\n",
       "<table border=\"1\" class=\"dataframe\">\n",
       "  <thead>\n",
       "    <tr style=\"text-align: right;\">\n",
       "      <th></th>\n",
       "      <th>metric</th>\n",
       "      <th>value</th>\n",
       "      <th>event</th>\n",
       "    </tr>\n",
       "  </thead>\n",
       "  <tbody>\n",
       "    <tr>\n",
       "      <th>0</th>\n",
       "      <td>f1</td>\n",
       "      <td>0.298348</td>\n",
       "      <td>CrisisFACTS-006</td>\n",
       "    </tr>\n",
       "    <tr>\n",
       "      <th>1</th>\n",
       "      <td>precision</td>\n",
       "      <td>0.203267</td>\n",
       "      <td>CrisisFACTS-006</td>\n",
       "    </tr>\n",
       "    <tr>\n",
       "      <th>2</th>\n",
       "      <td>recall</td>\n",
       "      <td>0.560561</td>\n",
       "      <td>CrisisFACTS-006</td>\n",
       "    </tr>\n",
       "  </tbody>\n",
       "</table>\n",
       "</div>"
      ],
      "text/plain": [
       "      metric     value            event\n",
       "0         f1  0.298348  CrisisFACTS-006\n",
       "1  precision  0.203267  CrisisFACTS-006\n",
       "2     recall  0.560561  CrisisFACTS-006"
      ]
     },
     "metadata": {},
     "output_type": "display_data"
    },
    {
     "name": "stdout",
     "output_type": "stream",
     "text": [
      "Event CrisisFACTS-007 -- NIST: 10726 -- Submitted: 26602\n"
     ]
    },
    {
     "data": {
      "application/vnd.microsoft.datawrangler.viewer.v0+json": {
       "columns": [
        {
         "name": "index",
         "rawType": "int64",
         "type": "integer"
        },
        {
         "name": "metric",
         "rawType": "object",
         "type": "string"
        },
        {
         "name": "value",
         "rawType": "float64",
         "type": "float"
        },
        {
         "name": "event",
         "rawType": "object",
         "type": "string"
        }
       ],
       "conversionMethod": "pd.DataFrame",
       "ref": "269c8909-a132-4a0d-903a-4196df0a8971",
       "rows": [
        [
         "0",
         "f1",
         "0.56639564037323",
         "CrisisFACTS-007"
        ],
        [
         "1",
         "precision",
         "0.39724400639533997",
         "CrisisFACTS-007"
        ],
        [
         "2",
         "recall",
         "0.9864307045936584",
         "CrisisFACTS-007"
        ]
       ],
       "shape": {
        "columns": 3,
        "rows": 3
       }
      },
      "text/html": [
       "<div>\n",
       "<style scoped>\n",
       "    .dataframe tbody tr th:only-of-type {\n",
       "        vertical-align: middle;\n",
       "    }\n",
       "\n",
       "    .dataframe tbody tr th {\n",
       "        vertical-align: top;\n",
       "    }\n",
       "\n",
       "    .dataframe thead th {\n",
       "        text-align: right;\n",
       "    }\n",
       "</style>\n",
       "<table border=\"1\" class=\"dataframe\">\n",
       "  <thead>\n",
       "    <tr style=\"text-align: right;\">\n",
       "      <th></th>\n",
       "      <th>metric</th>\n",
       "      <th>value</th>\n",
       "      <th>event</th>\n",
       "    </tr>\n",
       "  </thead>\n",
       "  <tbody>\n",
       "    <tr>\n",
       "      <th>0</th>\n",
       "      <td>f1</td>\n",
       "      <td>0.566396</td>\n",
       "      <td>CrisisFACTS-007</td>\n",
       "    </tr>\n",
       "    <tr>\n",
       "      <th>1</th>\n",
       "      <td>precision</td>\n",
       "      <td>0.397244</td>\n",
       "      <td>CrisisFACTS-007</td>\n",
       "    </tr>\n",
       "    <tr>\n",
       "      <th>2</th>\n",
       "      <td>recall</td>\n",
       "      <td>0.986431</td>\n",
       "      <td>CrisisFACTS-007</td>\n",
       "    </tr>\n",
       "  </tbody>\n",
       "</table>\n",
       "</div>"
      ],
      "text/plain": [
       "      metric     value            event\n",
       "0         f1  0.566396  CrisisFACTS-007\n",
       "1  precision  0.397244  CrisisFACTS-007\n",
       "2     recall  0.986431  CrisisFACTS-007"
      ]
     },
     "metadata": {},
     "output_type": "display_data"
    },
    {
     "name": "stdout",
     "output_type": "stream",
     "text": [
      "Event CrisisFACTS-008 -- NIST: 24872 -- Submitted: 77658\n"
     ]
    },
    {
     "data": {
      "application/vnd.microsoft.datawrangler.viewer.v0+json": {
       "columns": [
        {
         "name": "index",
         "rawType": "int64",
         "type": "integer"
        },
        {
         "name": "metric",
         "rawType": "object",
         "type": "string"
        },
        {
         "name": "value",
         "rawType": "float64",
         "type": "float"
        },
        {
         "name": "event",
         "rawType": "object",
         "type": "string"
        }
       ],
       "conversionMethod": "pd.DataFrame",
       "ref": "ede31cf4-7266-4c9d-96e6-81bc64c039ef",
       "rows": [
        [
         "0",
         "f1",
         "0.4697904586791992",
         "CrisisFACTS-008"
        ],
        [
         "1",
         "precision",
         "0.31020572781562805",
         "CrisisFACTS-008"
        ],
        [
         "2",
         "recall",
         "0.9675390124320984",
         "CrisisFACTS-008"
        ]
       ],
       "shape": {
        "columns": 3,
        "rows": 3
       }
      },
      "text/html": [
       "<div>\n",
       "<style scoped>\n",
       "    .dataframe tbody tr th:only-of-type {\n",
       "        vertical-align: middle;\n",
       "    }\n",
       "\n",
       "    .dataframe tbody tr th {\n",
       "        vertical-align: top;\n",
       "    }\n",
       "\n",
       "    .dataframe thead th {\n",
       "        text-align: right;\n",
       "    }\n",
       "</style>\n",
       "<table border=\"1\" class=\"dataframe\">\n",
       "  <thead>\n",
       "    <tr style=\"text-align: right;\">\n",
       "      <th></th>\n",
       "      <th>metric</th>\n",
       "      <th>value</th>\n",
       "      <th>event</th>\n",
       "    </tr>\n",
       "  </thead>\n",
       "  <tbody>\n",
       "    <tr>\n",
       "      <th>0</th>\n",
       "      <td>f1</td>\n",
       "      <td>0.469790</td>\n",
       "      <td>CrisisFACTS-008</td>\n",
       "    </tr>\n",
       "    <tr>\n",
       "      <th>1</th>\n",
       "      <td>precision</td>\n",
       "      <td>0.310206</td>\n",
       "      <td>CrisisFACTS-008</td>\n",
       "    </tr>\n",
       "    <tr>\n",
       "      <th>2</th>\n",
       "      <td>recall</td>\n",
       "      <td>0.967539</td>\n",
       "      <td>CrisisFACTS-008</td>\n",
       "    </tr>\n",
       "  </tbody>\n",
       "</table>\n",
       "</div>"
      ],
      "text/plain": [
       "      metric     value            event\n",
       "0         f1  0.469790  CrisisFACTS-008\n",
       "1  precision  0.310206  CrisisFACTS-008\n",
       "2     recall  0.967539  CrisisFACTS-008"
      ]
     },
     "metadata": {},
     "output_type": "display_data"
    },
    {
     "name": "stdout",
     "output_type": "stream",
     "text": [
      "Event CrisisFACTS-009 -- NIST: 4690 -- Submitted: 72980\n"
     ]
    },
    {
     "data": {
      "application/vnd.microsoft.datawrangler.viewer.v0+json": {
       "columns": [
        {
         "name": "index",
         "rawType": "int64",
         "type": "integer"
        },
        {
         "name": "metric",
         "rawType": "object",
         "type": "string"
        },
        {
         "name": "value",
         "rawType": "float64",
         "type": "float"
        },
        {
         "name": "event",
         "rawType": "object",
         "type": "string"
        }
       ],
       "conversionMethod": "pd.DataFrame",
       "ref": "e01f73d0-e06a-43be-b4aa-7d8b11b0395b",
       "rows": [
        [
         "0",
         "f1",
         "0.1178174763917923",
         "CrisisFACTS-009"
        ],
        [
         "1",
         "precision",
         "0.0626336932182312",
         "CrisisFACTS-009"
        ],
        [
         "2",
         "recall",
         "0.9905277490615845",
         "CrisisFACTS-009"
        ]
       ],
       "shape": {
        "columns": 3,
        "rows": 3
       }
      },
      "text/html": [
       "<div>\n",
       "<style scoped>\n",
       "    .dataframe tbody tr th:only-of-type {\n",
       "        vertical-align: middle;\n",
       "    }\n",
       "\n",
       "    .dataframe tbody tr th {\n",
       "        vertical-align: top;\n",
       "    }\n",
       "\n",
       "    .dataframe thead th {\n",
       "        text-align: right;\n",
       "    }\n",
       "</style>\n",
       "<table border=\"1\" class=\"dataframe\">\n",
       "  <thead>\n",
       "    <tr style=\"text-align: right;\">\n",
       "      <th></th>\n",
       "      <th>metric</th>\n",
       "      <th>value</th>\n",
       "      <th>event</th>\n",
       "    </tr>\n",
       "  </thead>\n",
       "  <tbody>\n",
       "    <tr>\n",
       "      <th>0</th>\n",
       "      <td>f1</td>\n",
       "      <td>0.117817</td>\n",
       "      <td>CrisisFACTS-009</td>\n",
       "    </tr>\n",
       "    <tr>\n",
       "      <th>1</th>\n",
       "      <td>precision</td>\n",
       "      <td>0.062634</td>\n",
       "      <td>CrisisFACTS-009</td>\n",
       "    </tr>\n",
       "    <tr>\n",
       "      <th>2</th>\n",
       "      <td>recall</td>\n",
       "      <td>0.990528</td>\n",
       "      <td>CrisisFACTS-009</td>\n",
       "    </tr>\n",
       "  </tbody>\n",
       "</table>\n",
       "</div>"
      ],
      "text/plain": [
       "      metric     value            event\n",
       "0         f1  0.117817  CrisisFACTS-009\n",
       "1  precision  0.062634  CrisisFACTS-009\n",
       "2     recall  0.990528  CrisisFACTS-009"
      ]
     },
     "metadata": {},
     "output_type": "display_data"
    },
    {
     "name": "stdout",
     "output_type": "stream",
     "text": [
      "Event CrisisFACTS-010 -- NIST: 2154 -- Submitted: 38310\n"
     ]
    },
    {
     "data": {
      "application/vnd.microsoft.datawrangler.viewer.v0+json": {
       "columns": [
        {
         "name": "index",
         "rawType": "int64",
         "type": "integer"
        },
        {
         "name": "metric",
         "rawType": "object",
         "type": "string"
        },
        {
         "name": "value",
         "rawType": "float64",
         "type": "float"
        },
        {
         "name": "event",
         "rawType": "object",
         "type": "string"
        }
       ],
       "conversionMethod": "pd.DataFrame",
       "ref": "9ae61b73-587e-421e-95c9-5ead1224c078",
       "rows": [
        [
         "0",
         "f1",
         "0.10675039142370224",
         "CrisisFACTS-010"
        ],
        [
         "1",
         "precision",
         "0.056403450667858124",
         "CrisisFACTS-010"
        ],
        [
         "2",
         "recall",
         "0.9941520690917969",
         "CrisisFACTS-010"
        ]
       ],
       "shape": {
        "columns": 3,
        "rows": 3
       }
      },
      "text/html": [
       "<div>\n",
       "<style scoped>\n",
       "    .dataframe tbody tr th:only-of-type {\n",
       "        vertical-align: middle;\n",
       "    }\n",
       "\n",
       "    .dataframe tbody tr th {\n",
       "        vertical-align: top;\n",
       "    }\n",
       "\n",
       "    .dataframe thead th {\n",
       "        text-align: right;\n",
       "    }\n",
       "</style>\n",
       "<table border=\"1\" class=\"dataframe\">\n",
       "  <thead>\n",
       "    <tr style=\"text-align: right;\">\n",
       "      <th></th>\n",
       "      <th>metric</th>\n",
       "      <th>value</th>\n",
       "      <th>event</th>\n",
       "    </tr>\n",
       "  </thead>\n",
       "  <tbody>\n",
       "    <tr>\n",
       "      <th>0</th>\n",
       "      <td>f1</td>\n",
       "      <td>0.106750</td>\n",
       "      <td>CrisisFACTS-010</td>\n",
       "    </tr>\n",
       "    <tr>\n",
       "      <th>1</th>\n",
       "      <td>precision</td>\n",
       "      <td>0.056403</td>\n",
       "      <td>CrisisFACTS-010</td>\n",
       "    </tr>\n",
       "    <tr>\n",
       "      <th>2</th>\n",
       "      <td>recall</td>\n",
       "      <td>0.994152</td>\n",
       "      <td>CrisisFACTS-010</td>\n",
       "    </tr>\n",
       "  </tbody>\n",
       "</table>\n",
       "</div>"
      ],
      "text/plain": [
       "      metric     value            event\n",
       "0         f1  0.106750  CrisisFACTS-010\n",
       "1  precision  0.056403  CrisisFACTS-010\n",
       "2     recall  0.994152  CrisisFACTS-010"
      ]
     },
     "metadata": {},
     "output_type": "display_data"
    },
    {
     "name": "stdout",
     "output_type": "stream",
     "text": [
      "Event CrisisFACTS-011 -- NIST: 1532 -- Submitted: 26752\n"
     ]
    },
    {
     "data": {
      "application/vnd.microsoft.datawrangler.viewer.v0+json": {
       "columns": [
        {
         "name": "index",
         "rawType": "int64",
         "type": "integer"
        },
        {
         "name": "metric",
         "rawType": "object",
         "type": "string"
        },
        {
         "name": "value",
         "rawType": "float64",
         "type": "float"
        },
        {
         "name": "event",
         "rawType": "object",
         "type": "string"
        }
       ],
       "conversionMethod": "pd.DataFrame",
       "ref": "22a5e01a-f0c6-48f1-a286-e4460c2604ed",
       "rows": [
        [
         "0",
         "f1",
         "0.10329047590494156",
         "CrisisFACTS-011"
        ],
        [
         "1",
         "precision",
         "0.05452035740017891",
         "CrisisFACTS-011"
        ],
        [
         "2",
         "recall",
         "0.9793388247489929",
         "CrisisFACTS-011"
        ]
       ],
       "shape": {
        "columns": 3,
        "rows": 3
       }
      },
      "text/html": [
       "<div>\n",
       "<style scoped>\n",
       "    .dataframe tbody tr th:only-of-type {\n",
       "        vertical-align: middle;\n",
       "    }\n",
       "\n",
       "    .dataframe tbody tr th {\n",
       "        vertical-align: top;\n",
       "    }\n",
       "\n",
       "    .dataframe thead th {\n",
       "        text-align: right;\n",
       "    }\n",
       "</style>\n",
       "<table border=\"1\" class=\"dataframe\">\n",
       "  <thead>\n",
       "    <tr style=\"text-align: right;\">\n",
       "      <th></th>\n",
       "      <th>metric</th>\n",
       "      <th>value</th>\n",
       "      <th>event</th>\n",
       "    </tr>\n",
       "  </thead>\n",
       "  <tbody>\n",
       "    <tr>\n",
       "      <th>0</th>\n",
       "      <td>f1</td>\n",
       "      <td>0.103290</td>\n",
       "      <td>CrisisFACTS-011</td>\n",
       "    </tr>\n",
       "    <tr>\n",
       "      <th>1</th>\n",
       "      <td>precision</td>\n",
       "      <td>0.054520</td>\n",
       "      <td>CrisisFACTS-011</td>\n",
       "    </tr>\n",
       "    <tr>\n",
       "      <th>2</th>\n",
       "      <td>recall</td>\n",
       "      <td>0.979339</td>\n",
       "      <td>CrisisFACTS-011</td>\n",
       "    </tr>\n",
       "  </tbody>\n",
       "</table>\n",
       "</div>"
      ],
      "text/plain": [
       "      metric     value            event\n",
       "0         f1  0.103290  CrisisFACTS-011\n",
       "1  precision  0.054520  CrisisFACTS-011\n",
       "2     recall  0.979339  CrisisFACTS-011"
      ]
     },
     "metadata": {},
     "output_type": "display_data"
    },
    {
     "name": "stdout",
     "output_type": "stream",
     "text": [
      "Event CrisisFACTS-012 -- NIST: 7206 -- Submitted: 38297\n"
     ]
    },
    {
     "data": {
      "application/vnd.microsoft.datawrangler.viewer.v0+json": {
       "columns": [
        {
         "name": "index",
         "rawType": "int64",
         "type": "integer"
        },
        {
         "name": "metric",
         "rawType": "object",
         "type": "string"
        },
        {
         "name": "value",
         "rawType": "float64",
         "type": "float"
        },
        {
         "name": "event",
         "rawType": "object",
         "type": "string"
        }
       ],
       "conversionMethod": "pd.DataFrame",
       "ref": "9eb83cc5-3789-4e21-9182-27be24655c59",
       "rows": [
        [
         "0",
         "f1",
         "0.310570627450943",
         "CrisisFACTS-012"
        ],
        [
         "1",
         "precision",
         "0.1842397302389145",
         "CrisisFACTS-012"
        ],
        [
         "2",
         "recall",
         "0.988095223903656",
         "CrisisFACTS-012"
        ]
       ],
       "shape": {
        "columns": 3,
        "rows": 3
       }
      },
      "text/html": [
       "<div>\n",
       "<style scoped>\n",
       "    .dataframe tbody tr th:only-of-type {\n",
       "        vertical-align: middle;\n",
       "    }\n",
       "\n",
       "    .dataframe tbody tr th {\n",
       "        vertical-align: top;\n",
       "    }\n",
       "\n",
       "    .dataframe thead th {\n",
       "        text-align: right;\n",
       "    }\n",
       "</style>\n",
       "<table border=\"1\" class=\"dataframe\">\n",
       "  <thead>\n",
       "    <tr style=\"text-align: right;\">\n",
       "      <th></th>\n",
       "      <th>metric</th>\n",
       "      <th>value</th>\n",
       "      <th>event</th>\n",
       "    </tr>\n",
       "  </thead>\n",
       "  <tbody>\n",
       "    <tr>\n",
       "      <th>0</th>\n",
       "      <td>f1</td>\n",
       "      <td>0.310571</td>\n",
       "      <td>CrisisFACTS-012</td>\n",
       "    </tr>\n",
       "    <tr>\n",
       "      <th>1</th>\n",
       "      <td>precision</td>\n",
       "      <td>0.184240</td>\n",
       "      <td>CrisisFACTS-012</td>\n",
       "    </tr>\n",
       "    <tr>\n",
       "      <th>2</th>\n",
       "      <td>recall</td>\n",
       "      <td>0.988095</td>\n",
       "      <td>CrisisFACTS-012</td>\n",
       "    </tr>\n",
       "  </tbody>\n",
       "</table>\n",
       "</div>"
      ],
      "text/plain": [
       "      metric     value            event\n",
       "0         f1  0.310571  CrisisFACTS-012\n",
       "1  precision  0.184240  CrisisFACTS-012\n",
       "2     recall  0.988095  CrisisFACTS-012"
      ]
     },
     "metadata": {},
     "output_type": "display_data"
    },
    {
     "name": "stdout",
     "output_type": "stream",
     "text": [
      "Event CrisisFACTS-013 -- NIST: 12409 -- Submitted: 40408\n"
     ]
    },
    {
     "data": {
      "application/vnd.microsoft.datawrangler.viewer.v0+json": {
       "columns": [
        {
         "name": "index",
         "rawType": "int64",
         "type": "integer"
        },
        {
         "name": "metric",
         "rawType": "object",
         "type": "string"
        },
        {
         "name": "value",
         "rawType": "float64",
         "type": "float"
        },
        {
         "name": "event",
         "rawType": "object",
         "type": "string"
        }
       ],
       "conversionMethod": "pd.DataFrame",
       "ref": "204dd596-296d-412b-bdcb-76da40c5db15",
       "rows": [
        [
         "0",
         "f1",
         "0.44423237442970276",
         "CrisisFACTS-013"
        ],
        [
         "1",
         "precision",
         "0.29048362374305725",
         "CrisisFACTS-013"
        ],
        [
         "2",
         "recall",
         "0.9437404870986938",
         "CrisisFACTS-013"
        ]
       ],
       "shape": {
        "columns": 3,
        "rows": 3
       }
      },
      "text/html": [
       "<div>\n",
       "<style scoped>\n",
       "    .dataframe tbody tr th:only-of-type {\n",
       "        vertical-align: middle;\n",
       "    }\n",
       "\n",
       "    .dataframe tbody tr th {\n",
       "        vertical-align: top;\n",
       "    }\n",
       "\n",
       "    .dataframe thead th {\n",
       "        text-align: right;\n",
       "    }\n",
       "</style>\n",
       "<table border=\"1\" class=\"dataframe\">\n",
       "  <thead>\n",
       "    <tr style=\"text-align: right;\">\n",
       "      <th></th>\n",
       "      <th>metric</th>\n",
       "      <th>value</th>\n",
       "      <th>event</th>\n",
       "    </tr>\n",
       "  </thead>\n",
       "  <tbody>\n",
       "    <tr>\n",
       "      <th>0</th>\n",
       "      <td>f1</td>\n",
       "      <td>0.444232</td>\n",
       "      <td>CrisisFACTS-013</td>\n",
       "    </tr>\n",
       "    <tr>\n",
       "      <th>1</th>\n",
       "      <td>precision</td>\n",
       "      <td>0.290484</td>\n",
       "      <td>CrisisFACTS-013</td>\n",
       "    </tr>\n",
       "    <tr>\n",
       "      <th>2</th>\n",
       "      <td>recall</td>\n",
       "      <td>0.943740</td>\n",
       "      <td>CrisisFACTS-013</td>\n",
       "    </tr>\n",
       "  </tbody>\n",
       "</table>\n",
       "</div>"
      ],
      "text/plain": [
       "      metric     value            event\n",
       "0         f1  0.444232  CrisisFACTS-013\n",
       "1  precision  0.290484  CrisisFACTS-013\n",
       "2     recall  0.943740  CrisisFACTS-013"
      ]
     },
     "metadata": {},
     "output_type": "display_data"
    },
    {
     "name": "stdout",
     "output_type": "stream",
     "text": [
      "Event CrisisFACTS-014 -- NIST: 12252 -- Submitted: 88700\n"
     ]
    },
    {
     "data": {
      "application/vnd.microsoft.datawrangler.viewer.v0+json": {
       "columns": [
        {
         "name": "index",
         "rawType": "int64",
         "type": "integer"
        },
        {
         "name": "metric",
         "rawType": "object",
         "type": "string"
        },
        {
         "name": "value",
         "rawType": "float64",
         "type": "float"
        },
        {
         "name": "event",
         "rawType": "object",
         "type": "string"
        }
       ],
       "conversionMethod": "pd.DataFrame",
       "ref": "3aa52348-cb4b-40e9-85da-58009940d6e6",
       "rows": [
        [
         "0",
         "f1",
         "0.240894615650177",
         "CrisisFACTS-014"
        ],
        [
         "1",
         "precision",
         "0.13713635504245758",
         "CrisisFACTS-014"
        ],
        [
         "2",
         "recall",
         "0.9897330403327942",
         "CrisisFACTS-014"
        ]
       ],
       "shape": {
        "columns": 3,
        "rows": 3
       }
      },
      "text/html": [
       "<div>\n",
       "<style scoped>\n",
       "    .dataframe tbody tr th:only-of-type {\n",
       "        vertical-align: middle;\n",
       "    }\n",
       "\n",
       "    .dataframe tbody tr th {\n",
       "        vertical-align: top;\n",
       "    }\n",
       "\n",
       "    .dataframe thead th {\n",
       "        text-align: right;\n",
       "    }\n",
       "</style>\n",
       "<table border=\"1\" class=\"dataframe\">\n",
       "  <thead>\n",
       "    <tr style=\"text-align: right;\">\n",
       "      <th></th>\n",
       "      <th>metric</th>\n",
       "      <th>value</th>\n",
       "      <th>event</th>\n",
       "    </tr>\n",
       "  </thead>\n",
       "  <tbody>\n",
       "    <tr>\n",
       "      <th>0</th>\n",
       "      <td>f1</td>\n",
       "      <td>0.240895</td>\n",
       "      <td>CrisisFACTS-014</td>\n",
       "    </tr>\n",
       "    <tr>\n",
       "      <th>1</th>\n",
       "      <td>precision</td>\n",
       "      <td>0.137136</td>\n",
       "      <td>CrisisFACTS-014</td>\n",
       "    </tr>\n",
       "    <tr>\n",
       "      <th>2</th>\n",
       "      <td>recall</td>\n",
       "      <td>0.989733</td>\n",
       "      <td>CrisisFACTS-014</td>\n",
       "    </tr>\n",
       "  </tbody>\n",
       "</table>\n",
       "</div>"
      ],
      "text/plain": [
       "      metric     value            event\n",
       "0         f1  0.240895  CrisisFACTS-014\n",
       "1  precision  0.137136  CrisisFACTS-014\n",
       "2     recall  0.989733  CrisisFACTS-014"
      ]
     },
     "metadata": {},
     "output_type": "display_data"
    },
    {
     "name": "stdout",
     "output_type": "stream",
     "text": [
      "Event CrisisFACTS-015 -- NIST: 8922 -- Submitted: 80034\n"
     ]
    },
    {
     "data": {
      "application/vnd.microsoft.datawrangler.viewer.v0+json": {
       "columns": [
        {
         "name": "index",
         "rawType": "int64",
         "type": "integer"
        },
        {
         "name": "metric",
         "rawType": "object",
         "type": "string"
        },
        {
         "name": "value",
         "rawType": "float64",
         "type": "float"
        },
        {
         "name": "event",
         "rawType": "object",
         "type": "string"
        }
       ],
       "conversionMethod": "pd.DataFrame",
       "ref": "368de3a8-a02e-4bf5-a325-da8e101e228d",
       "rows": [
        [
         "0",
         "f1",
         "0.18509463965892792",
         "CrisisFACTS-015"
        ],
        [
         "1",
         "precision",
         "0.10305669903755188",
         "CrisisFACTS-015"
        ],
        [
         "2",
         "recall",
         "0.9075342416763306",
         "CrisisFACTS-015"
        ]
       ],
       "shape": {
        "columns": 3,
        "rows": 3
       }
      },
      "text/html": [
       "<div>\n",
       "<style scoped>\n",
       "    .dataframe tbody tr th:only-of-type {\n",
       "        vertical-align: middle;\n",
       "    }\n",
       "\n",
       "    .dataframe tbody tr th {\n",
       "        vertical-align: top;\n",
       "    }\n",
       "\n",
       "    .dataframe thead th {\n",
       "        text-align: right;\n",
       "    }\n",
       "</style>\n",
       "<table border=\"1\" class=\"dataframe\">\n",
       "  <thead>\n",
       "    <tr style=\"text-align: right;\">\n",
       "      <th></th>\n",
       "      <th>metric</th>\n",
       "      <th>value</th>\n",
       "      <th>event</th>\n",
       "    </tr>\n",
       "  </thead>\n",
       "  <tbody>\n",
       "    <tr>\n",
       "      <th>0</th>\n",
       "      <td>f1</td>\n",
       "      <td>0.185095</td>\n",
       "      <td>CrisisFACTS-015</td>\n",
       "    </tr>\n",
       "    <tr>\n",
       "      <th>1</th>\n",
       "      <td>precision</td>\n",
       "      <td>0.103057</td>\n",
       "      <td>CrisisFACTS-015</td>\n",
       "    </tr>\n",
       "    <tr>\n",
       "      <th>2</th>\n",
       "      <td>recall</td>\n",
       "      <td>0.907534</td>\n",
       "      <td>CrisisFACTS-015</td>\n",
       "    </tr>\n",
       "  </tbody>\n",
       "</table>\n",
       "</div>"
      ],
      "text/plain": [
       "      metric     value            event\n",
       "0         f1  0.185095  CrisisFACTS-015\n",
       "1  precision  0.103057  CrisisFACTS-015\n",
       "2     recall  0.907534  CrisisFACTS-015"
      ]
     },
     "metadata": {},
     "output_type": "display_data"
    },
    {
     "name": "stdout",
     "output_type": "stream",
     "text": [
      "Event CrisisFACTS-016 -- NIST: 5943 -- Submitted: 31883\n"
     ]
    },
    {
     "data": {
      "application/vnd.microsoft.datawrangler.viewer.v0+json": {
       "columns": [
        {
         "name": "index",
         "rawType": "int64",
         "type": "integer"
        },
        {
         "name": "metric",
         "rawType": "object",
         "type": "string"
        },
        {
         "name": "value",
         "rawType": "float64",
         "type": "float"
        },
        {
         "name": "event",
         "rawType": "object",
         "type": "string"
        }
       ],
       "conversionMethod": "pd.DataFrame",
       "ref": "93e86cf7-aedc-47ba-bcb8-71e1c6d63169",
       "rows": [
        [
         "0",
         "f1",
         "0.3029184937477112",
         "CrisisFACTS-016"
        ],
        [
         "1",
         "precision",
         "0.17977304756641388",
         "CrisisFACTS-016"
        ],
        [
         "2",
         "recall",
         "0.9616613388061523",
         "CrisisFACTS-016"
        ]
       ],
       "shape": {
        "columns": 3,
        "rows": 3
       }
      },
      "text/html": [
       "<div>\n",
       "<style scoped>\n",
       "    .dataframe tbody tr th:only-of-type {\n",
       "        vertical-align: middle;\n",
       "    }\n",
       "\n",
       "    .dataframe tbody tr th {\n",
       "        vertical-align: top;\n",
       "    }\n",
       "\n",
       "    .dataframe thead th {\n",
       "        text-align: right;\n",
       "    }\n",
       "</style>\n",
       "<table border=\"1\" class=\"dataframe\">\n",
       "  <thead>\n",
       "    <tr style=\"text-align: right;\">\n",
       "      <th></th>\n",
       "      <th>metric</th>\n",
       "      <th>value</th>\n",
       "      <th>event</th>\n",
       "    </tr>\n",
       "  </thead>\n",
       "  <tbody>\n",
       "    <tr>\n",
       "      <th>0</th>\n",
       "      <td>f1</td>\n",
       "      <td>0.302918</td>\n",
       "      <td>CrisisFACTS-016</td>\n",
       "    </tr>\n",
       "    <tr>\n",
       "      <th>1</th>\n",
       "      <td>precision</td>\n",
       "      <td>0.179773</td>\n",
       "      <td>CrisisFACTS-016</td>\n",
       "    </tr>\n",
       "    <tr>\n",
       "      <th>2</th>\n",
       "      <td>recall</td>\n",
       "      <td>0.961661</td>\n",
       "      <td>CrisisFACTS-016</td>\n",
       "    </tr>\n",
       "  </tbody>\n",
       "</table>\n",
       "</div>"
      ],
      "text/plain": [
       "      metric     value            event\n",
       "0         f1  0.302918  CrisisFACTS-016\n",
       "1  precision  0.179773  CrisisFACTS-016\n",
       "2     recall  0.961661  CrisisFACTS-016"
      ]
     },
     "metadata": {},
     "output_type": "display_data"
    },
    {
     "name": "stdout",
     "output_type": "stream",
     "text": [
      "Event CrisisFACTS-017 -- NIST: 8773 -- Submitted: 50915\n"
     ]
    },
    {
     "data": {
      "application/vnd.microsoft.datawrangler.viewer.v0+json": {
       "columns": [
        {
         "name": "index",
         "rawType": "int64",
         "type": "integer"
        },
        {
         "name": "metric",
         "rawType": "object",
         "type": "string"
        },
        {
         "name": "value",
         "rawType": "float64",
         "type": "float"
        },
        {
         "name": "event",
         "rawType": "object",
         "type": "string"
        }
       ],
       "conversionMethod": "pd.DataFrame",
       "ref": "253cd090-d38f-4517-883b-5667346c2462",
       "rows": [
        [
         "0",
         "f1",
         "0.28636741638183594",
         "CrisisFACTS-017"
        ],
        [
         "1",
         "precision",
         "0.16751763224601746",
         "CrisisFACTS-017"
        ],
        [
         "2",
         "recall",
         "0.9856938719749451",
         "CrisisFACTS-017"
        ]
       ],
       "shape": {
        "columns": 3,
        "rows": 3
       }
      },
      "text/html": [
       "<div>\n",
       "<style scoped>\n",
       "    .dataframe tbody tr th:only-of-type {\n",
       "        vertical-align: middle;\n",
       "    }\n",
       "\n",
       "    .dataframe tbody tr th {\n",
       "        vertical-align: top;\n",
       "    }\n",
       "\n",
       "    .dataframe thead th {\n",
       "        text-align: right;\n",
       "    }\n",
       "</style>\n",
       "<table border=\"1\" class=\"dataframe\">\n",
       "  <thead>\n",
       "    <tr style=\"text-align: right;\">\n",
       "      <th></th>\n",
       "      <th>metric</th>\n",
       "      <th>value</th>\n",
       "      <th>event</th>\n",
       "    </tr>\n",
       "  </thead>\n",
       "  <tbody>\n",
       "    <tr>\n",
       "      <th>0</th>\n",
       "      <td>f1</td>\n",
       "      <td>0.286367</td>\n",
       "      <td>CrisisFACTS-017</td>\n",
       "    </tr>\n",
       "    <tr>\n",
       "      <th>1</th>\n",
       "      <td>precision</td>\n",
       "      <td>0.167518</td>\n",
       "      <td>CrisisFACTS-017</td>\n",
       "    </tr>\n",
       "    <tr>\n",
       "      <th>2</th>\n",
       "      <td>recall</td>\n",
       "      <td>0.985694</td>\n",
       "      <td>CrisisFACTS-017</td>\n",
       "    </tr>\n",
       "  </tbody>\n",
       "</table>\n",
       "</div>"
      ],
      "text/plain": [
       "      metric     value            event\n",
       "0         f1  0.286367  CrisisFACTS-017\n",
       "1  precision  0.167518  CrisisFACTS-017\n",
       "2     recall  0.985694  CrisisFACTS-017"
      ]
     },
     "metadata": {},
     "output_type": "display_data"
    },
    {
     "name": "stdout",
     "output_type": "stream",
     "text": [
      "Event CrisisFACTS-018 -- NIST: 23672 -- Submitted: 41956\n"
     ]
    },
    {
     "data": {
      "application/vnd.microsoft.datawrangler.viewer.v0+json": {
       "columns": [
        {
         "name": "index",
         "rawType": "int64",
         "type": "integer"
        },
        {
         "name": "metric",
         "rawType": "object",
         "type": "string"
        },
        {
         "name": "value",
         "rawType": "float64",
         "type": "float"
        },
        {
         "name": "event",
         "rawType": "object",
         "type": "string"
        }
       ],
       "conversionMethod": "pd.DataFrame",
       "ref": "cd28b174-1d28-4d3c-aa16-47a942fe3049",
       "rows": [
        [
         "0",
         "f1",
         "0.4677419364452362",
         "CrisisFACTS-018"
        ],
        [
         "1",
         "precision",
         "0.36595743894577026",
         "CrisisFACTS-018"
        ],
        [
         "2",
         "recall",
         "0.6479604840278625",
         "CrisisFACTS-018"
        ]
       ],
       "shape": {
        "columns": 3,
        "rows": 3
       }
      },
      "text/html": [
       "<div>\n",
       "<style scoped>\n",
       "    .dataframe tbody tr th:only-of-type {\n",
       "        vertical-align: middle;\n",
       "    }\n",
       "\n",
       "    .dataframe tbody tr th {\n",
       "        vertical-align: top;\n",
       "    }\n",
       "\n",
       "    .dataframe thead th {\n",
       "        text-align: right;\n",
       "    }\n",
       "</style>\n",
       "<table border=\"1\" class=\"dataframe\">\n",
       "  <thead>\n",
       "    <tr style=\"text-align: right;\">\n",
       "      <th></th>\n",
       "      <th>metric</th>\n",
       "      <th>value</th>\n",
       "      <th>event</th>\n",
       "    </tr>\n",
       "  </thead>\n",
       "  <tbody>\n",
       "    <tr>\n",
       "      <th>0</th>\n",
       "      <td>f1</td>\n",
       "      <td>0.467742</td>\n",
       "      <td>CrisisFACTS-018</td>\n",
       "    </tr>\n",
       "    <tr>\n",
       "      <th>1</th>\n",
       "      <td>precision</td>\n",
       "      <td>0.365957</td>\n",
       "      <td>CrisisFACTS-018</td>\n",
       "    </tr>\n",
       "    <tr>\n",
       "      <th>2</th>\n",
       "      <td>recall</td>\n",
       "      <td>0.647960</td>\n",
       "      <td>CrisisFACTS-018</td>\n",
       "    </tr>\n",
       "  </tbody>\n",
       "</table>\n",
       "</div>"
      ],
      "text/plain": [
       "      metric     value            event\n",
       "0         f1  0.467742  CrisisFACTS-018\n",
       "1  precision  0.365957  CrisisFACTS-018\n",
       "2     recall  0.647960  CrisisFACTS-018"
      ]
     },
     "metadata": {},
     "output_type": "display_data"
    },
    {
     "data": {
      "text/plain": [
       "metric\n",
       "f1           0.317108\n",
       "precision    0.203295\n",
       "recall       0.933951\n",
       "Name: value, dtype: float64"
      ]
     },
     "metadata": {},
     "output_type": "display_data"
    }
   ],
   "source": [
    "submission_metrics = {}\n",
    "\n",
    "for f in glob.glob(\"submissions/*.gz\"):\n",
    "    \n",
    "    this_run_id = f.partition(\"\\\\\")[-1].replace(\".gz\", \"\")\n",
    "    print(f, \"-->\", this_run_id)\n",
    "    \n",
    "    this_run_event_request_facts = {k:[] for k in all_req_ids}\n",
    "    with gzip.open(f, \"r\") as in_file:\n",
    "        for line_ in in_file:\n",
    "            line = line_.decode(\"utf8\")\n",
    "            \n",
    "            entry = json.loads(line)\n",
    "            this_req_id = entry[\"requestID\"]\n",
    "            \n",
    "            # We skip days where we have no relevant facts from assessors\n",
    "            if this_req_id not in all_req_ids:\n",
    "                continue\n",
    "            \n",
    "            this_run_event_request_facts[this_req_id].append(entry)\n",
    "            \n",
    "    local_event_summaries = {e_id:[] for e_id in event_df.index}\n",
    "    for event_request,this_fact_list in this_run_event_request_facts.items():\n",
    "        event_id = event_request.rpartition(\"-\")[0]\n",
    "        \n",
    "        sorted_fact_list = sorted(this_fact_list, key=lambda v: v[\"importance\"], reverse=True)\n",
    "        this_day_summary = [this_top_fact[\"factText\"] for this_top_fact in sorted_fact_list[:TOP_K]]\n",
    "        \n",
    "        local_event_summaries[event_id] = local_event_summaries[event_id] + this_day_summary\n",
    "        \n",
    "    wiki_dfs = []\n",
    "    nist_dfs = []\n",
    "    for event_id,event in event_df.iterrows():\n",
    "        \n",
    "        this_submitted_summary = local_event_summaries[event_id]\n",
    "        if len(this_submitted_summary) == 0:\n",
    "            continue\n",
    "\n",
    "        this_summary_text = \". \".join(this_submitted_summary).replace(\"..\", \".\")\n",
    "        \n",
    "        nist_summary = event[\"nist.summary\"]\n",
    "        wiki_summary = event[\"wiki.summary\"]\n",
    "\n",
    "        print(f\"Event {event_id} -- NIST: {len(nist_summary)} -- Submitted: {len(this_summary_text)}\")\n",
    "\n",
    "        nist_metric_ = rouge(this_summary_text, nist_summary)\n",
    "        wiki_metric_ = rouge(this_summary_text, wiki_summary)\n",
    "        \n",
    "        nist_metric = {\n",
    "            \"f1\": nist_metric_[\"rouge2_fmeasure\"],\n",
    "            \"precision\": nist_metric_[\"rouge2_precision\"],\n",
    "            \"recall\": nist_metric_[\"rouge2_recall\"],\n",
    "        }\n",
    "        \n",
    "        wiki_metric = {\n",
    "            \"f1\": wiki_metric_[\"rouge2_fmeasure\"],\n",
    "            \"precision\": wiki_metric_[\"rouge2_precision\"],\n",
    "            \"recall\": wiki_metric_[\"rouge2_recall\"],\n",
    "        }\n",
    "        \n",
    "        this_wiki_df = pd.DataFrame([{\"metric\":k, \"value\":v.item(), \"event\": event_id} for k,v in wiki_metric.items()])\n",
    "        this_nist_df = pd.DataFrame([{\"metric\":k, \"value\":v.item(), \"event\": event_id} for k,v in nist_metric.items()])\n",
    "\n",
    "        display(this_nist_df)\n",
    "        \n",
    "        wiki_dfs.append(this_wiki_df)\n",
    "        nist_dfs.append(this_nist_df)\n",
    "        \n",
    "    full_wiki_df = pd.concat(wiki_dfs)\n",
    "    full_nist_df = pd.concat(nist_dfs)\n",
    "    \n",
    "    submission_metrics[this_run_id] = {\n",
    "        \"wiki\": full_wiki_df,\n",
    "        \"nist\": full_nist_df,\n",
    "    }\n",
    "    \n",
    "    display(full_nist_df.groupby(\"metric\")[\"value\"].mean())\n",
    "\n"
   ]
  },
  {
   "cell_type": "code",
   "execution_count": 156,
   "id": "13c81f81",
   "metadata": {},
   "outputs": [
    {
     "name": "stdout",
     "output_type": "stream",
     "text": [
      "Thesis_Retriver\n"
     ]
    }
   ],
   "source": [
    "all_runs = []\n",
    "for k,v in submission_metrics.items():\n",
    "    print(k)\n",
    "    \n",
    "    stackable = []\n",
    "    for comparator,ldf in v.items():\n",
    "        stackable_ldf = ldf.copy()\n",
    "        stackable_ldf[\"target.summary\"] = comparator\n",
    "\n",
    "        stackable.append(stackable_ldf)\n",
    "\n",
    "    this_run_df = pd.concat(stackable)\n",
    "    this_run_df[\"run\"] = k\n",
    "    \n",
    "    all_runs.append(this_run_df)\n",
    "    this_run_df.to_csv(\"evaluation.output.rouge/%s.csv\" % k, index=False)\n",
    "    \n",
    "all_runs_df = pd.concat(all_runs)\n",
    "all_runs_df.to_csv(\"evaluation.output.rouge/all_runs.csv\", index=False)"
   ]
  },
  {
   "cell_type": "code",
   "execution_count": null,
   "id": "d6eaf04b",
   "metadata": {},
   "outputs": [],
   "source": []
  },
  {
   "cell_type": "code",
   "execution_count": 157,
   "id": "cd743bda",
   "metadata": {},
   "outputs": [
    {
     "name": "stdout",
     "output_type": "stream",
     "text": [
      "Thesis_Retriver\n",
      "Thesis_Retriver\n"
     ]
    }
   ],
   "source": [
    "target_summaries = {}\n",
    "for target in [\"wiki\", \"nist\"]:\n",
    "    this_target_df = all_runs_df[all_runs_df[\"target.summary\"] == target]\n",
    "    \n",
    "    index = []\n",
    "    rows = []\n",
    "    for run_name,group in this_target_df.groupby(\"run\"):\n",
    "        print(run_name)\n",
    "        # this_row = group.pivot(\"event\", \"metric\", \"value\").mean()\n",
    "        this_row = group.pivot(index=\"event\", columns=\"metric\", values=\"value\").mean()\n",
    "        rows.append(this_row)\n",
    "        index.append(run_name)\n",
    "\n",
    "    summary_df = pd.DataFrame(rows, index=index)[[\n",
    "        \"f1\", \n",
    "    ]]\n",
    "\n",
    "    final_df = summary_df.sort_values(by=\"f1\", ascending=False)\n",
    "    final_df.to_csv(\"evaluation.output.rouge/%s.summary.csv\" % target)\n",
    "    \n",
    "    target_summaries[target] = final_df"
   ]
  },
  {
   "cell_type": "code",
   "execution_count": null,
   "id": "d81ac222",
   "metadata": {},
   "outputs": [],
   "source": []
  },
  {
   "cell_type": "code",
   "execution_count": 158,
   "id": "42682b70",
   "metadata": {},
   "outputs": [],
   "source": [
    "rel2023_events = [\n",
    "    'CrisisFACTS-009',\n",
    "    'CrisisFACTS-010',\n",
    "    'CrisisFACTS-011',\n",
    "    'CrisisFACTS-012',\n",
    "    'CrisisFACTS-013',\n",
    "    'CrisisFACTS-014',\n",
    "    'CrisisFACTS-015',\n",
    "    'CrisisFACTS-016',\n",
    "    'CrisisFACTS-017',\n",
    "    'CrisisFACTS-018'\n",
    "\n",
    "]"
   ]
  },
  {
   "cell_type": "code",
   "execution_count": 159,
   "id": "dcd28381",
   "metadata": {
    "scrolled": false
   },
   "outputs": [
    {
     "name": "stdout",
     "output_type": "stream",
     "text": [
      "Thesis_Retriver\n",
      "\t nist\n",
      "\t\t f1 0.25656784474849703\n",
      "\t\t precision 0.1601722028106451\n",
      "\t\t recall 0.9388437330722809\n",
      "\t wiki\n",
      "\t\t f1 0.0202999907778576\n",
      "\t\t precision 0.010481141856871545\n",
      "\t\t recall 0.398652583360672\n"
     ]
    }
   ],
   "source": [
    "rows = []\n",
    "for runtag,group in all_runs_df[all_runs_df[\"event\"].isin(rel2023_events)].groupby(\"run\"):\n",
    "    print(runtag)\n",
    "    t_map = {\"run\": runtag}\n",
    "    for target,t_group in group.groupby(\"target.summary\"):\n",
    "        print(\"\\t\", target)\n",
    "        \n",
    "        if target == \"wiki\":\n",
    "            t_group = t_group[~t_group[\"event\"].isin([\"CrisisFACTS-011\", \"CrisisFACTS-012\"])]\n",
    "        for metric,m_group in t_group.groupby(\"metric\"):\n",
    "            print(\"\\t\\t\", metric, m_group[\"value\"].mean())\n",
    "            \n",
    "            t_map[\"%s.%s\" % (target,metric)] = m_group[\"value\"].mean()\n",
    "            \n",
    "    rows.append(t_map)"
   ]
  },
  {
   "cell_type": "code",
   "execution_count": 160,
   "id": "779b6388",
   "metadata": {},
   "outputs": [
    {
     "data": {
      "application/vnd.microsoft.datawrangler.viewer.v0+json": {
       "columns": [
        {
         "name": "index",
         "rawType": "int64",
         "type": "integer"
        },
        {
         "name": "nist.f1",
         "rawType": "float64",
         "type": "float"
        },
        {
         "name": "wiki.f1",
         "rawType": "float64",
         "type": "float"
        }
       ],
       "conversionMethod": "pd.DataFrame",
       "ref": "e4869d9f-ee98-4a04-a4cd-457e20e70951",
       "rows": [
        [
         "0",
         "0.25656784474849703",
         "0.0202999907778576"
        ]
       ],
       "shape": {
        "columns": 2,
        "rows": 1
       }
      },
      "text/html": [
       "<div>\n",
       "<style scoped>\n",
       "    .dataframe tbody tr th:only-of-type {\n",
       "        vertical-align: middle;\n",
       "    }\n",
       "\n",
       "    .dataframe tbody tr th {\n",
       "        vertical-align: top;\n",
       "    }\n",
       "\n",
       "    .dataframe thead th {\n",
       "        text-align: right;\n",
       "    }\n",
       "</style>\n",
       "<table border=\"1\" class=\"dataframe\">\n",
       "  <thead>\n",
       "    <tr style=\"text-align: right;\">\n",
       "      <th></th>\n",
       "      <th>nist.f1</th>\n",
       "      <th>wiki.f1</th>\n",
       "    </tr>\n",
       "  </thead>\n",
       "  <tbody>\n",
       "    <tr>\n",
       "      <th>0</th>\n",
       "      <td>0.256568</td>\n",
       "      <td>0.0203</td>\n",
       "    </tr>\n",
       "  </tbody>\n",
       "</table>\n",
       "</div>"
      ],
      "text/plain": [
       "    nist.f1  wiki.f1\n",
       "0  0.256568   0.0203"
      ]
     },
     "execution_count": 160,
     "metadata": {},
     "output_type": "execute_result"
    }
   ],
   "source": [
    "by_run_df = pd.DataFrame(rows)#.set_index(\"run\")\n",
    "by_run_df.to_csv(\"by_run.rouge.summary.csv\")\n",
    "by_run_df[[\"nist.f1\", \"wiki.f1\"]]"
   ]
  },
  {
   "cell_type": "code",
   "execution_count": 161,
   "id": "78fb3cb1",
   "metadata": {},
   "outputs": [
    {
     "data": {
      "application/vnd.microsoft.datawrangler.viewer.v0+json": {
       "columns": [
        {
         "name": "index",
         "rawType": "object",
         "type": "string"
        },
        {
         "name": "nist.f1",
         "rawType": "float64",
         "type": "float"
        },
        {
         "name": "wiki.f1",
         "rawType": "float64",
         "type": "float"
        }
       ],
       "conversionMethod": "pd.DataFrame",
       "ref": "890c2e3b-182f-45ba-9106-6da0b9e85cf2",
       "rows": [
        [
         "nist.f1",
         null,
         null
        ],
        [
         "wiki.f1",
         null,
         null
        ]
       ],
       "shape": {
        "columns": 2,
        "rows": 2
       }
      },
      "text/html": [
       "<div>\n",
       "<style scoped>\n",
       "    .dataframe tbody tr th:only-of-type {\n",
       "        vertical-align: middle;\n",
       "    }\n",
       "\n",
       "    .dataframe tbody tr th {\n",
       "        vertical-align: top;\n",
       "    }\n",
       "\n",
       "    .dataframe thead th {\n",
       "        text-align: right;\n",
       "    }\n",
       "</style>\n",
       "<table border=\"1\" class=\"dataframe\">\n",
       "  <thead>\n",
       "    <tr style=\"text-align: right;\">\n",
       "      <th></th>\n",
       "      <th>nist.f1</th>\n",
       "      <th>wiki.f1</th>\n",
       "    </tr>\n",
       "  </thead>\n",
       "  <tbody>\n",
       "    <tr>\n",
       "      <th>nist.f1</th>\n",
       "      <td>NaN</td>\n",
       "      <td>NaN</td>\n",
       "    </tr>\n",
       "    <tr>\n",
       "      <th>wiki.f1</th>\n",
       "      <td>NaN</td>\n",
       "      <td>NaN</td>\n",
       "    </tr>\n",
       "  </tbody>\n",
       "</table>\n",
       "</div>"
      ],
      "text/plain": [
       "         nist.f1  wiki.f1\n",
       "nist.f1      NaN      NaN\n",
       "wiki.f1      NaN      NaN"
      ]
     },
     "execution_count": 161,
     "metadata": {},
     "output_type": "execute_result"
    }
   ],
   "source": [
    "# correlation between wiki and nist\n",
    "by_run_df[[\"nist.f1\", \"wiki.f1\"]].corr()"
   ]
  },
  {
   "cell_type": "code",
   "execution_count": 162,
   "id": "321a7435",
   "metadata": {},
   "outputs": [
    {
     "data": {
      "text/plain": [
       "<Axes: xlabel='nist.f1', ylabel='wiki.f1'>"
      ]
     },
     "execution_count": 162,
     "metadata": {},
     "output_type": "execute_result"
    },
    {
     "data": {
      "image/png": "[encoded data removed]",
      "text/plain": [
       "<Figure size 640x480 with 1 Axes>"
      ]
     },
     "metadata": {},
     "output_type": "display_data"
    }
   ],
   "source": [
    "by_run_df[[\"nist.f1\", \"wiki.f1\"]].plot.scatter(x=\"nist.f1\", y=\"wiki.f1\")"
   ]
  },
  {
   "cell_type": "code",
   "execution_count": 163,
   "id": "7a4ee445",
   "metadata": {
    "scrolled": false
   },
   "outputs": [
    {
     "data": {
      "text/plain": [
       "<Axes: >"
      ]
     },
     "execution_count": 163,
     "metadata": {},
     "output_type": "execute_result"
    },
    {
     "data": {
      "image/png": "[encoded data removed]",
      "text/plain": [
       "<Figure size 900x1600 with 1 Axes>"
      ]
     },
     "metadata": {},
     "output_type": "display_data"
    }
   ],
   "source": [
    "fig = plt.figure(figsize=(9,16))\n",
    "ax = fig.add_subplot(1,1,1)\n",
    "\n",
    "by_run_df[[\"nist.f1\", \"wiki.f1\"]].sort_values(by=\"nist.f1\").plot.barh(ax=ax)"
   ]
  },
  {
   "cell_type": "code",
   "execution_count": 164,
   "id": "9f34544a",
   "metadata": {},
   "outputs": [
    {
     "data": {
      "application/vnd.microsoft.datawrangler.viewer.v0+json": {
       "columns": [
        {
         "name": "index",
         "rawType": "int64",
         "type": "integer"
        },
        {
         "name": "run",
         "rawType": "object",
         "type": "string"
        },
        {
         "name": "nist.f1",
         "rawType": "float64",
         "type": "float"
        },
        {
         "name": "nist.precision",
         "rawType": "float64",
         "type": "float"
        },
        {
         "name": "nist.recall",
         "rawType": "float64",
         "type": "float"
        },
        {
         "name": "wiki.f1",
         "rawType": "float64",
         "type": "float"
        },
        {
         "name": "wiki.precision",
         "rawType": "float64",
         "type": "float"
        },
        {
         "name": "wiki.recall",
         "rawType": "float64",
         "type": "float"
        }
       ],
       "conversionMethod": "pd.DataFrame",
       "ref": "c3ffab1d-5cae-44f8-9758-8ceb88708562",
       "rows": [
        [
         "0",
         "Thesis_Retriver",
         "0.25656784474849703",
         "0.1601722028106451",
         "0.9388437330722809",
         "0.0202999907778576",
         "0.010481141856871545",
         "0.398652583360672"
        ]
       ],
       "shape": {
        "columns": 7,
        "rows": 1
       }
      },
      "text/html": [
       "<div>\n",
       "<style scoped>\n",
       "    .dataframe tbody tr th:only-of-type {\n",
       "        vertical-align: middle;\n",
       "    }\n",
       "\n",
       "    .dataframe tbody tr th {\n",
       "        vertical-align: top;\n",
       "    }\n",
       "\n",
       "    .dataframe thead th {\n",
       "        text-align: right;\n",
       "    }\n",
       "</style>\n",
       "<table border=\"1\" class=\"dataframe\">\n",
       "  <thead>\n",
       "    <tr style=\"text-align: right;\">\n",
       "      <th></th>\n",
       "      <th>run</th>\n",
       "      <th>nist.f1</th>\n",
       "      <th>nist.precision</th>\n",
       "      <th>nist.recall</th>\n",
       "      <th>wiki.f1</th>\n",
       "      <th>wiki.precision</th>\n",
       "      <th>wiki.recall</th>\n",
       "    </tr>\n",
       "  </thead>\n",
       "  <tbody>\n",
       "    <tr>\n",
       "      <th>0</th>\n",
       "      <td>Thesis_Retriver</td>\n",
       "      <td>0.256568</td>\n",
       "      <td>0.160172</td>\n",
       "      <td>0.938844</td>\n",
       "      <td>0.0203</td>\n",
       "      <td>0.010481</td>\n",
       "      <td>0.398653</td>\n",
       "    </tr>\n",
       "  </tbody>\n",
       "</table>\n",
       "</div>"
      ],
      "text/plain": [
       "               run   nist.f1  nist.precision  nist.recall  wiki.f1  \\\n",
       "0  Thesis_Retriver  0.256568        0.160172     0.938844   0.0203   \n",
       "\n",
       "   wiki.precision  wiki.recall  \n",
       "0        0.010481     0.398653  "
      ]
     },
     "execution_count": 164,
     "metadata": {},
     "output_type": "execute_result"
    }
   ],
   "source": [
    "by_run_df"
   ]
  },
  {
   "cell_type": "code",
   "execution_count": null,
   "id": "5e78dc3f",
   "metadata": {},
   "outputs": [],
   "source": []
  },
  {
   "cell_type": "markdown",
   "id": "588c6f9d",
   "metadata": {},
   "source": [
    "## By Day"
   ]
  },
  {
   "cell_type": "code",
   "execution_count": 165,
   "id": "42a9a7ac",
   "metadata": {},
   "outputs": [
    {
     "name": "stdout",
     "output_type": "stream",
     "text": [
      "CrisisFACTS-009\n",
      "\t nist\n",
      "\t\t f1 0.1178174763917923\n",
      "\t\t precision 0.0626336932182312\n",
      "\t\t recall 0.9905277490615845\n",
      "\t wiki\n",
      "\t\t f1 0.020141489803791046\n",
      "\t\t precision 0.010353384539484978\n",
      "\t\t recall 0.36890244483947754\n",
      "CrisisFACTS-010\n",
      "\t nist\n",
      "\t\t f1 0.10675039142370224\n",
      "\t\t precision 0.056403450667858124\n",
      "\t\t recall 0.9941520690917969\n",
      "\t wiki\n",
      "\t\t f1 0.024703240022063255\n",
      "\t\t precision 0.012773722410202026\n",
      "\t\t recall 0.37378641963005066\n",
      "CrisisFACTS-011\n",
      "\t nist\n",
      "\t\t f1 0.10329047590494156\n",
      "\t\t precision 0.05452035740017891\n",
      "\t\t recall 0.9793388247489929\n",
      "\t wiki\n",
      "CrisisFACTS-012\n",
      "\t nist\n",
      "\t\t f1 0.310570627450943\n",
      "\t\t precision 0.1842397302389145\n",
      "\t\t recall 0.988095223903656\n",
      "\t wiki\n",
      "CrisisFACTS-013\n",
      "\t nist\n",
      "\t\t f1 0.44423237442970276\n",
      "\t\t precision 0.29048362374305725\n",
      "\t\t recall 0.9437404870986938\n",
      "\t wiki\n",
      "\t\t f1 0.01435552816838026\n",
      "\t\t precision 0.007332293316721916\n",
      "\t\t recall 0.34057971835136414\n",
      "CrisisFACTS-014\n",
      "\t nist\n",
      "\t\t f1 0.240894615650177\n",
      "\t\t precision 0.13713635504245758\n",
      "\t\t recall 0.9897330403327942\n",
      "\t wiki\n",
      "\t\t f1 0.036497343331575394\n",
      "\t\t precision 0.019062522798776627\n",
      "\t\t recall 0.42743220925331116\n",
      "CrisisFACTS-015\n",
      "\t nist\n",
      "\t\t f1 0.18509463965892792\n",
      "\t\t precision 0.10305669903755188\n",
      "\t\t recall 0.9075342416763306\n",
      "\t wiki\n",
      "\t\t f1 0.010463953018188477\n",
      "\t\t precision 0.005288947839289904\n",
      "\t\t recall 0.48571428656578064\n",
      "CrisisFACTS-016\n",
      "\t nist\n",
      "\t\t f1 0.3029184937477112\n",
      "\t\t precision 0.17977304756641388\n",
      "\t\t recall 0.9616613388061523\n",
      "\t wiki\n",
      "\t\t f1 0.026924535632133484\n",
      "\t\t precision 0.014134978875517845\n",
      "\t\t recall 0.28286853432655334\n",
      "CrisisFACTS-017\n",
      "\t nist\n",
      "\t\t f1 0.28636741638183594\n",
      "\t\t precision 0.16751763224601746\n",
      "\t\t recall 0.9856938719749451\n",
      "\t wiki\n",
      "\t\t f1 0.013189448043704033\n",
      "\t\t precision 0.00668611703440547\n",
      "\t\t recall 0.48245614767074585\n",
      "CrisisFACTS-018\n",
      "\t nist\n",
      "\t\t f1 0.4677419364452362\n",
      "\t\t precision 0.36595743894577026\n",
      "\t\t recall 0.6479604840278625\n",
      "\t wiki\n",
      "\t\t f1 0.016124388203024864\n",
      "\t\t precision 0.008217168040573597\n",
      "\t\t recall 0.42748090624809265\n"
     ]
    }
   ],
   "source": [
    "rows = []\n",
    "for event,group in all_runs_df[all_runs_df[\"event\"].isin(rel2023_events)].groupby(\"event\"):\n",
    "    print(event)\n",
    "    t_map = {\"event\": event}\n",
    "    for target,t_group in group.groupby(\"target.summary\"):\n",
    "        print(\"\\t\", target)\n",
    "        \n",
    "        if target == \"wiki\":\n",
    "            t_group = t_group[~t_group[\"event\"].isin([\"CrisisFACTS-011\", \"CrisisFACTS-012\"])]\n",
    "        for metric,m_group in t_group.groupby(\"metric\"):\n",
    "            print(\"\\t\\t\", metric, m_group[\"value\"].mean())\n",
    "            \n",
    "            t_map[\"%s.%s\" % (target,metric)] = m_group[\"value\"].mean()\n",
    "            \n",
    "    rows.append(t_map)"
   ]
  },
  {
   "cell_type": "code",
   "execution_count": 166,
   "id": "e1aa6316",
   "metadata": {},
   "outputs": [
    {
     "data": {
      "application/vnd.microsoft.datawrangler.viewer.v0+json": {
       "columns": [
        {
         "name": "event",
         "rawType": "object",
         "type": "string"
        },
        {
         "name": "nist.f1",
         "rawType": "float64",
         "type": "float"
        },
        {
         "name": "wiki.f1",
         "rawType": "float64",
         "type": "float"
        }
       ],
       "conversionMethod": "pd.DataFrame",
       "ref": "923c8aa5-7939-4679-be18-450fe1151ef7",
       "rows": [
        [
         "CrisisFACTS-009",
         "0.1178174763917923",
         "0.020141489803791046"
        ],
        [
         "CrisisFACTS-010",
         "0.10675039142370224",
         "0.024703240022063255"
        ],
        [
         "CrisisFACTS-011",
         "0.10329047590494156",
         null
        ],
        [
         "CrisisFACTS-012",
         "0.310570627450943",
         null
        ],
        [
         "CrisisFACTS-013",
         "0.44423237442970276",
         "0.01435552816838026"
        ],
        [
         "CrisisFACTS-014",
         "0.240894615650177",
         "0.036497343331575394"
        ],
        [
         "CrisisFACTS-015",
         "0.18509463965892792",
         "0.010463953018188477"
        ],
        [
         "CrisisFACTS-016",
         "0.3029184937477112",
         "0.026924535632133484"
        ],
        [
         "CrisisFACTS-017",
         "0.28636741638183594",
         "0.013189448043704033"
        ],
        [
         "CrisisFACTS-018",
         "0.4677419364452362",
         "0.016124388203024864"
        ]
       ],
       "shape": {
        "columns": 2,
        "rows": 10
       }
      },
      "text/html": [
       "<div>\n",
       "<style scoped>\n",
       "    .dataframe tbody tr th:only-of-type {\n",
       "        vertical-align: middle;\n",
       "    }\n",
       "\n",
       "    .dataframe tbody tr th {\n",
       "        vertical-align: top;\n",
       "    }\n",
       "\n",
       "    .dataframe thead th {\n",
       "        text-align: right;\n",
       "    }\n",
       "</style>\n",
       "<table border=\"1\" class=\"dataframe\">\n",
       "  <thead>\n",
       "    <tr style=\"text-align: right;\">\n",
       "      <th></th>\n",
       "      <th>nist.f1</th>\n",
       "      <th>wiki.f1</th>\n",
       "    </tr>\n",
       "    <tr>\n",
       "      <th>event</th>\n",
       "      <th></th>\n",
       "      <th></th>\n",
       "    </tr>\n",
       "  </thead>\n",
       "  <tbody>\n",
       "    <tr>\n",
       "      <th>CrisisFACTS-009</th>\n",
       "      <td>0.117817</td>\n",
       "      <td>0.020141</td>\n",
       "    </tr>\n",
       "    <tr>\n",
       "      <th>CrisisFACTS-010</th>\n",
       "      <td>0.106750</td>\n",
       "      <td>0.024703</td>\n",
       "    </tr>\n",
       "    <tr>\n",
       "      <th>CrisisFACTS-011</th>\n",
       "      <td>0.103290</td>\n",
       "      <td>NaN</td>\n",
       "    </tr>\n",
       "    <tr>\n",
       "      <th>CrisisFACTS-012</th>\n",
       "      <td>0.310571</td>\n",
       "      <td>NaN</td>\n",
       "    </tr>\n",
       "    <tr>\n",
       "      <th>CrisisFACTS-013</th>\n",
       "      <td>0.444232</td>\n",
       "      <td>0.014356</td>\n",
       "    </tr>\n",
       "    <tr>\n",
       "      <th>CrisisFACTS-014</th>\n",
       "      <td>0.240895</td>\n",
       "      <td>0.036497</td>\n",
       "    </tr>\n",
       "    <tr>\n",
       "      <th>CrisisFACTS-015</th>\n",
       "      <td>0.185095</td>\n",
       "      <td>0.010464</td>\n",
       "    </tr>\n",
       "    <tr>\n",
       "      <th>CrisisFACTS-016</th>\n",
       "      <td>0.302918</td>\n",
       "      <td>0.026925</td>\n",
       "    </tr>\n",
       "    <tr>\n",
       "      <th>CrisisFACTS-017</th>\n",
       "      <td>0.286367</td>\n",
       "      <td>0.013189</td>\n",
       "    </tr>\n",
       "    <tr>\n",
       "      <th>CrisisFACTS-018</th>\n",
       "      <td>0.467742</td>\n",
       "      <td>0.016124</td>\n",
       "    </tr>\n",
       "  </tbody>\n",
       "</table>\n",
       "</div>"
      ],
      "text/plain": [
       "                  nist.f1   wiki.f1\n",
       "event                              \n",
       "CrisisFACTS-009  0.117817  0.020141\n",
       "CrisisFACTS-010  0.106750  0.024703\n",
       "CrisisFACTS-011  0.103290       NaN\n",
       "CrisisFACTS-012  0.310571       NaN\n",
       "CrisisFACTS-013  0.444232  0.014356\n",
       "CrisisFACTS-014  0.240895  0.036497\n",
       "CrisisFACTS-015  0.185095  0.010464\n",
       "CrisisFACTS-016  0.302918  0.026925\n",
       "CrisisFACTS-017  0.286367  0.013189\n",
       "CrisisFACTS-018  0.467742  0.016124"
      ]
     },
     "execution_count": 166,
     "metadata": {},
     "output_type": "execute_result"
    }
   ],
   "source": [
    "by_event_df = pd.DataFrame(rows).set_index(\"event\")\n",
    "by_event_df.to_csv(\"by_event.rouge.summary.csv\")\n",
    "by_event_df[[\"nist.f1\", \"wiki.f1\"]]"
   ]
  },
  {
   "cell_type": "code",
   "execution_count": 167,
   "id": "07c1adc7",
   "metadata": {},
   "outputs": [
    {
     "data": {
      "text/plain": [
       "<Axes: ylabel='event'>"
      ]
     },
     "execution_count": 167,
     "metadata": {},
     "output_type": "execute_result"
    },
    {
     "data": {
      "image/png": "[encoded data removed]",
      "text/plain": [
       "<Figure size 900x1600 with 1 Axes>"
      ]
     },
     "metadata": {},
     "output_type": "display_data"
    }
   ],
   "source": [
    "fig = plt.figure(figsize=(9,16))\n",
    "ax = fig.add_subplot(1,1,1)\n",
    "\n",
    "by_event_df[[\"nist.f1\", \"wiki.f1\"]].plot.barh(ax=ax)"
   ]
  },
  {
   "cell_type": "code",
   "execution_count": null,
   "id": "183210c3",
   "metadata": {},
   "outputs": [],
   "source": []
  },
  {
   "cell_type": "code",
   "execution_count": 168,
   "id": "d3a9ef18",
   "metadata": {},
   "outputs": [
    {
     "name": "stdout",
     "output_type": "stream",
     "text": [
      "\\begin{tabular}{lrrrrrr}\n",
      " & nist.f1 & nist.precision & nist.recall & wiki.f1 & wiki.precision & wiki.recall \\\\\n",
      "event &  &  &  &  &  &  \\\\\n",
      "CrisisFACTS-009 & 0.117817 & 0.062634 & 0.990528 & 0.020141 & 0.010353 & 0.368902 \\\\\n",
      "CrisisFACTS-010 & 0.106750 & 0.056403 & 0.994152 & 0.024703 & 0.012774 & 0.373786 \\\\\n",
      "CrisisFACTS-011 & 0.103290 & 0.054520 & 0.979339 & nan & nan & nan \\\\\n",
      "CrisisFACTS-012 & 0.310571 & 0.184240 & 0.988095 & nan & nan & nan \\\\\n",
      "CrisisFACTS-013 & 0.444232 & 0.290484 & 0.943740 & 0.014356 & 0.007332 & 0.340580 \\\\\n",
      "CrisisFACTS-014 & 0.240895 & 0.137136 & 0.989733 & 0.036497 & 0.019063 & 0.427432 \\\\\n",
      "CrisisFACTS-015 & 0.185095 & 0.103057 & 0.907534 & 0.010464 & 0.005289 & 0.485714 \\\\\n",
      "CrisisFACTS-016 & 0.302918 & 0.179773 & 0.961661 & 0.026925 & 0.014135 & 0.282869 \\\\\n",
      "CrisisFACTS-017 & 0.286367 & 0.167518 & 0.985694 & 0.013189 & 0.006686 & 0.482456 \\\\\n",
      "CrisisFACTS-018 & 0.467742 & 0.365957 & 0.647960 & 0.016124 & 0.008217 & 0.427481 \\\\\n",
      "\\end{tabular}\n",
      "\n"
     ]
    }
   ],
   "source": [
    "score_df = pd.read_csv(\"by_event.rouge.summary.csv\", index_col=0)\n",
    "print(score_df.groupby(\"event\").mean().style.to_latex())"
   ]
  },
  {
   "cell_type": "code",
   "execution_count": null,
   "id": "cf631582",
   "metadata": {},
   "outputs": [],
   "source": []
  }
 ],
 "metadata": {
  "kernelspec": {
   "display_name": ".venv",
   "language": "python",
   "name": "python3"
  },
  "language_info": {
   "codemirror_mode": {
    "name": "ipython",
    "version": 3
   },
   "file_extension": ".py",
   "mimetype": "text/x-python",
   "name": "python",
   "nbconvert_exporter": "python",
   "pygments_lexer": "ipython3",
   "version": "3.11.2"
  }
 },
 "nbformat": 4,
 "nbformat_minor": 5
}
