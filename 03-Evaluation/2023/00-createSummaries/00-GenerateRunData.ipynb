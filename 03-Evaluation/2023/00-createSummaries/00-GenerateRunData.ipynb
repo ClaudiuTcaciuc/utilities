{
 "cells": [
  {
   "cell_type": "markdown",
   "id": "dd9834f4",
   "metadata": {},
   "source": [
    "# Process CrisisFACTS Submissions\n",
    "\n",
    "This notebook converts the NIST-provided submission metadata (`run.metadata.tsv`) in the `submissions.csv` file, which contains metadata associated with each submitted run. This metadata includes run tag, team, descriptions of how the submission operates (e.g., how it calculates importance, which platforms it uses, etc), and priority. We use this submissions file to determine which runs to include in manual evaluation, as we only include submissions with priority <= 2."
   ]
  },
  {
   "cell_type": "code",
   "execution_count": 26,
   "id": "56379b3a",
   "metadata": {},
   "outputs": [],
   "source": [
    "import gzip\n",
    "import glob\n",
    "\n",
    "import os.path\n",
    "\n",
    "import pandas as pd"
   ]
  },
  {
   "cell_type": "code",
   "execution_count": null,
   "id": "fa022ad8",
   "metadata": {},
   "outputs": [],
   "source": []
  },
  {
   "cell_type": "code",
   "execution_count": 27,
   "id": "bd7417f0",
   "metadata": {},
   "outputs": [
    {
     "name": "stdout",
     "output_type": "stream",
     "text": [
      "['Thesis_Retriver', 'thesis.v1', 'polito', 'cbuntain@umd.edu', 'automatic', '', '', '9/5/2023', 'no', 'Baseline 2', '1111', '1', '', 'extractive', 'Baseline 2', 'xxx', '']\n"
     ]
    }
   ],
   "source": [
    "runs = []\n",
    "\n",
    "with open(\"metadata\", \"r\") as in_file:\n",
    "    for line in in_file:\n",
    "        this_meta = line.split(\":\")\n",
    "        print(this_meta)\n",
    "        # 1 Run-ID: (runtag)\n",
    "        #  2 PID: (group)\n",
    "        #  3 SubmitterEmail: (email)\n",
    "        #  4 Track:crisis\n",
    "        #  5 RunType:automatic\n",
    "        #  6 Fields: (not used for crisis)\n",
    "        #  7 Task: (not used for crisis)\n",
    "        #  8 Date-Received:8/30/2023\n",
    "        #  9 OptionalField1: (did you use the TREC-IS tweet categories)\n",
    "        # 10 OptionalField2: (how does your system calculate importance)\n",
    "        # 11 OptionalField3: (streams: Twitter, FB, Reddit, news; 1=yes)\n",
    "        # 12 JudgingPrecedence:1\n",
    "        # 13 Sortmerge-100: (not used)\n",
    "        # 14 OptionalField4: (extractive or abstractive)\n",
    "        # 15 OptionalField5: (not used for crisis)\n",
    "        # 16 OptionalField6: (description of your run)\n",
    "        # 17 MD5-Sum:3cacd7daaaada168dace8e6df37766ab\n",
    "        # 18 Notes:\n",
    "        \n",
    "        runtag = this_meta[0]\n",
    "        team = this_meta[1]\n",
    "        email = this_meta[2]\n",
    "        \n",
    "        runtype = this_meta[4]\n",
    "        \n",
    "        rundate = this_meta[7]\n",
    "        uses_trecis = this_meta[8]\n",
    "        importance = this_meta[9]\n",
    "        platforms = this_meta[10]\n",
    "        priority = this_meta[11]\n",
    "        \n",
    "        summary_type = this_meta[13]\n",
    "        description = this_meta[15]\n",
    "        \n",
    "        filename = f\"submissions\\{runtag}.gz\"\n",
    "        if not os.path.exists(filename):\n",
    "            print(\"MISSING:\", filename)\n",
    "        \n",
    "        runs.append({\n",
    "            \"filename\": filename,\n",
    "            \"runtag\": runtag,\n",
    "            \"team\": team,\n",
    "            \"email\": email,\n",
    "            \"runtype\": runtype,\n",
    "            \"rundate\": rundate,\n",
    "            \"uses_trecis\": uses_trecis,\n",
    "            \"importance\": importance,\n",
    "            \"platforms\": platforms,\n",
    "            \"summary_type\": summary_type,\n",
    "            \"description\": description,\n",
    "            \"priority\": priority\n",
    "            \n",
    "        })"
   ]
  },
  {
   "cell_type": "code",
   "execution_count": null,
   "id": "10880a40",
   "metadata": {},
   "outputs": [],
   "source": []
  },
  {
   "cell_type": "code",
   "execution_count": 28,
   "id": "59c5ea1d",
   "metadata": {},
   "outputs": [],
   "source": [
    "run_df = pd.DataFrame(runs)"
   ]
  },
  {
   "cell_type": "code",
   "execution_count": 29,
   "id": "28fce283",
   "metadata": {},
   "outputs": [],
   "source": [
    "run_df.to_csv(\"submissions.csv\", index=None)"
   ]
  },
  {
   "cell_type": "code",
   "execution_count": null,
   "id": "8a24e653",
   "metadata": {},
   "outputs": [],
   "source": []
  },
  {
   "cell_type": "code",
   "execution_count": 30,
   "id": "a162ebb2",
   "metadata": {},
   "outputs": [
    {
     "data": {
      "text/plain": [
       "summary_type\n",
       "extractive    1\n",
       "Name: count, dtype: int64"
      ]
     },
     "execution_count": 30,
     "metadata": {},
     "output_type": "execute_result"
    }
   ],
   "source": [
    "run_df[\"summary_type\"].value_counts()"
   ]
  },
  {
   "cell_type": "code",
   "execution_count": 31,
   "id": "ea51987d",
   "metadata": {},
   "outputs": [
    {
     "data": {
      "text/plain": [
       "runtype\n",
       "automatic    1\n",
       "Name: count, dtype: int64"
      ]
     },
     "execution_count": 31,
     "metadata": {},
     "output_type": "execute_result"
    }
   ],
   "source": [
    "run_df[\"runtype\"].value_counts()"
   ]
  },
  {
   "cell_type": "code",
   "execution_count": 32,
   "id": "23012bea",
   "metadata": {},
   "outputs": [
    {
     "data": {
      "text/plain": [
       "platforms\n",
       "1111    1\n",
       "Name: count, dtype: int64"
      ]
     },
     "execution_count": 32,
     "metadata": {},
     "output_type": "execute_result"
    }
   ],
   "source": [
    "run_df[\"platforms\"].value_counts()"
   ]
  },
  {
   "cell_type": "code",
   "execution_count": null,
   "id": "a658ef34",
   "metadata": {},
   "outputs": [],
   "source": []
  }
 ],
 "metadata": {
  "kernelspec": {
   "display_name": ".venv",
   "language": "python",
   "name": "python3"
  },
  "language_info": {
   "codemirror_mode": {
    "name": "ipython",
    "version": 3
   },
   "file_extension": ".py",
   "mimetype": "text/x-python",
   "name": "python",
   "nbconvert_exporter": "python",
   "pygments_lexer": "ipython3",
   "version": "3.11.2"
  }
 },
 "nbformat": 4,
 "nbformat_minor": 5
}
