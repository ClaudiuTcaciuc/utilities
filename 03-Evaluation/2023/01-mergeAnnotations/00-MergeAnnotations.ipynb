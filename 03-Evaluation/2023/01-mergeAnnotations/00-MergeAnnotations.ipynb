{
 "cells": [
  {
   "cell_type": "markdown",
   "id": "f69ece5c",
   "metadata": {},
   "source": [
    "# Merge Annotations into One File\n",
    "\n",
    "Annotations occurred over several files, and here, we merge them into one, so all event-day pairs have a single set of annotations from all NIST assessors."
   ]
  },
  {
   "cell_type": "code",
   "execution_count": null,
   "id": "ccb1492f",
   "metadata": {},
   "outputs": [],
   "source": [
    "import collections\n",
    "import glob \n",
    "import json\n",
    "import pandas as pd\n",
    "\n",
    "import matplotlib.pyplot as plt"
   ]
  },
  {
   "cell_type": "code",
   "execution_count": null,
   "id": "ed3bf6c5",
   "metadata": {},
   "outputs": [],
   "source": []
  },
  {
   "cell_type": "code",
   "execution_count": null,
   "id": "54fc114e",
   "metadata": {},
   "outputs": [],
   "source": [
    "merged_annotation_data = {}\n",
    "\n",
    "for f in glob.glob(\"data/byAnnotator.*.json\") + [\"data/CrisisFACTS-all-r4.json\"]:\n",
    "    print(f)\n",
    "    with open(f, \"r\") as in_file:\n",
    "        for line in in_file:\n",
    "            annotations = json.loads(line)\n",
    "            \n",
    "            # Pull out assessor IDs\n",
    "            a_uid = annotations[\"_annotator_id\"].rpartition(\"-\")[-1]\n",
    "            a_title = annotations[\"title\"]\n",
    "            \n",
    "            if \"spans\" not in annotations:\n",
    "                print(\"\\t\", \"No annotations in:\", a_title)\n",
    "                continue\n",
    "\n",
    "            # Add names to spans\n",
    "            spans = annotations[\"spans\"]\n",
    "            [s.update({\"uid\": a_uid}) for s in spans]\n",
    "            \n",
    "            # Get the annotated data\n",
    "            this_annotation = merged_annotation_data.get(a_title, {\n",
    "                \"text\": annotations[\"text\"], \n",
    "                \"spans\": [],\n",
    "            })\n",
    "            \n",
    "            this_annotation[\"spans\"] = this_annotation[\"spans\"] + spans\n",
    "            \n",
    "            # Update the annotations\n",
    "            merged_annotation_data[a_title] = this_annotation"
   ]
  },
  {
   "cell_type": "code",
   "execution_count": null,
   "id": "81d11e9b",
   "metadata": {},
   "outputs": [],
   "source": [
    "# We have to take dfmcurry annotations separately\n",
    "for f in glob.glob(\"data/CrisisFACTS-0*.json\"):\n",
    "    print(f)\n",
    "    with open(f, \"r\") as in_file:\n",
    "        for line in in_file:\n",
    "            annotations = json.loads(line)\n",
    "            \n",
    "            a_uid = annotations[\"_annotator_id\"].rpartition(\"-\")[-1]\n",
    "            a_title = annotations[\"title\"]\n",
    "            \n",
    "            if a_uid != \"dfmcurry\":\n",
    "                continue\n",
    "\n",
    "            spans = annotations[\"spans\"]\n",
    "            [s.update({\"uid\": a_uid}) for s in spans]\n",
    "            \n",
    "            if a_title not in merged_annotation_data:\n",
    "                print(\"\\t\", \"UNIQUE ANNOTATIONS in:\", a_title)\n",
    "\n",
    "            # Get the annotated data\n",
    "            this_annotation = merged_annotation_data.get(a_title, {\n",
    "                \"text\": annotations[\"text\"], \n",
    "                \"spans\": [],\n",
    "            })\n",
    "            \n",
    "            this_annotation[\"spans\"] = this_annotation[\"spans\"] + spans\n",
    "            \n",
    "            # Update the annotations\n",
    "            merged_annotation_data[a_title] = this_annotation\n",
    "\n",
    "            "
   ]
  },
  {
   "cell_type": "code",
   "execution_count": null,
   "id": "0266bc63",
   "metadata": {},
   "outputs": [],
   "source": []
  },
  {
   "cell_type": "code",
   "execution_count": null,
   "id": "f309fee6",
   "metadata": {},
   "outputs": [],
   "source": [
    "with open(\"merged-annotations.json\", \"w\") as out_file:\n",
    "    json.dump(merged_annotation_data, out_file)"
   ]
  },
  {
   "cell_type": "code",
   "execution_count": null,
   "id": "1c76f612",
   "metadata": {},
   "outputs": [],
   "source": []
  }
 ],
 "metadata": {
  "kernelspec": {
   "display_name": ".venv",
   "language": "python",
   "name": "python3"
  },
  "language_info": {
   "codemirror_mode": {
    "name": "ipython",
    "version": 3
   },
   "file_extension": ".py",
   "mimetype": "text/x-python",
   "name": "python",
   "nbconvert_exporter": "python",
   "pygments_lexer": "ipython3",
   "version": "3.11.2"
  }
 },
 "nbformat": 4,
 "nbformat_minor": 5
}
