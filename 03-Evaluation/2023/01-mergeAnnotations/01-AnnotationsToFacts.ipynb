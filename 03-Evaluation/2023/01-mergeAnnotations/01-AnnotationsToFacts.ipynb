{
 "cells": [
  {
   "cell_type": "markdown",
   "id": "470768b5",
   "metadata": {},
   "source": [
    "# Merge Assessor Annotations\n",
    "\n",
    "Annotation occurs at the span level, and we want to map spans to the facts they overlap. \n",
    "\n",
    "We produce a file containing all the facts and related spans."
   ]
  },
  {
   "cell_type": "code",
   "execution_count": null,
   "id": "ce1c3809",
   "metadata": {},
   "outputs": [],
   "source": [
    "import collections\n",
    "import glob \n",
    "import json\n",
    "import pandas as pd"
   ]
  },
  {
   "cell_type": "code",
   "execution_count": null,
   "id": "ada5f7b0",
   "metadata": {},
   "outputs": [],
   "source": []
  },
  {
   "cell_type": "code",
   "execution_count": null,
   "id": "ff421247",
   "metadata": {},
   "outputs": [],
   "source": [
    "with open(\"collapsed-event-days-summaries.k=512.meta.json\", \"r\") as in_file:\n",
    "    summary_metadata = json.load(in_file)"
   ]
  },
  {
   "cell_type": "code",
   "execution_count": null,
   "id": "3c881328",
   "metadata": {},
   "outputs": [],
   "source": []
  },
  {
   "cell_type": "code",
   "execution_count": null,
   "id": "97aed253",
   "metadata": {},
   "outputs": [],
   "source": [
    "req_fact_span_map = {}\n",
    "\n",
    "for k,v in summary_metadata.items():\n",
    "\n",
    "    this_meta = v[\"meta\"]\n",
    "    loc_to_fact_map = {}\n",
    "\n",
    "    for f_id,(start,end) in zip(this_meta[\"spans_facts\"],this_meta[\"spans_list\"]):\n",
    "        for i in range(start,end):\n",
    "            loc_to_fact_map[i] = (f_id, start, end)\n",
    "            \n",
    "    req_fact_span_map[k] = loc_to_fact_map\n"
   ]
  },
  {
   "cell_type": "code",
   "execution_count": null,
   "id": "72fb24bd",
   "metadata": {},
   "outputs": [],
   "source": []
  },
  {
   "cell_type": "code",
   "execution_count": null,
   "id": "c8b7dd4f",
   "metadata": {},
   "outputs": [],
   "source": [
    "with open(\"merged-annotations.json\", \"r\") as in_file:\n",
    "    annotation_data = json.load(in_file)"
   ]
  },
  {
   "cell_type": "code",
   "execution_count": null,
   "id": "0bed6ec4",
   "metadata": {},
   "outputs": [],
   "source": []
  },
  {
   "cell_type": "code",
   "execution_count": null,
   "id": "21ea4824",
   "metadata": {},
   "outputs": [],
   "source": [
    "annotators = {\n",
    "    \"redacted_user_id_01\" : \"assr_01\",\n",
    "    \"redacted_user_id_02\" : \"assr_02\",\n",
    "    \"redacted_user_id_03\" : \"assr_03\",\n",
    "    \"redacted_user_id_04\" : \"assr_04\",\n",
    "    \"redacted_user_id_05\" : \"assr_05\",\n",
    "    \"redacted_user_id_06\" : \"assr_06\",\n",
    "}"
   ]
  },
  {
   "cell_type": "code",
   "execution_count": null,
   "id": "58b6671a",
   "metadata": {},
   "outputs": [],
   "source": []
  },
  {
   "cell_type": "code",
   "execution_count": null,
   "id": "ee8d51c3",
   "metadata": {},
   "outputs": [],
   "source": [
    "for req_id,req_data in annotation_data.items():\n",
    "    print(req_id)\n",
    "    \n",
    "    this_fact_span_map = req_fact_span_map[req_id]\n",
    "    \n",
    "    for span in req_data[\"spans\"]:\n",
    "        this_span_fact_set = set()\n",
    "        for i in range(span[\"start\"],span[\"end\"]):\n",
    "            this_span_fact_set.add(this_fact_span_map.get(i, (None,))[0])\n",
    "            \n",
    "        span[\"facts\"] = list(this_span_fact_set)\n",
    "        span[\"uid\"] = annotators.get(span[\"uid\"])\n",
    "\n",
    "    this_fact_list = [(f,s[\"uid\"],s[\"label\"]) for s in sorted(req_data[\"spans\"], key=lambda d: d[\"start\"]) for f in s[\"facts\"]]\n",
    "    req_data[\"fact_list\"] = this_fact_list"
   ]
  },
  {
   "cell_type": "code",
   "execution_count": null,
   "id": "b0f93f40",
   "metadata": {},
   "outputs": [],
   "source": []
  },
  {
   "cell_type": "code",
   "execution_count": null,
   "id": "bb967c65",
   "metadata": {},
   "outputs": [],
   "source": [
    "with open(\"final-annotated-facts-results.json\", \"w\") as out_file:\n",
    "    json.dump(annotation_data, out_file)"
   ]
  }
 ],
 "metadata": {
  "kernelspec": {
   "display_name": ".venv",
   "language": "python",
   "name": "python3"
  },
  "language_info": {
   "codemirror_mode": {
    "name": "ipython",
    "version": 3
   },
   "file_extension": ".py",
   "mimetype": "text/x-python",
   "name": "python",
   "nbconvert_exporter": "python",
   "pygments_lexer": "ipython3",
   "version": "3.11.2"
  }
 },
 "nbformat": 4,
 "nbformat_minor": 5
}
