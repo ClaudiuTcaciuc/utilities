{
 "cells": [
  {
   "cell_type": "markdown",
   "id": "470768b5",
   "metadata": {},
   "source": [
    "# Merge Assessor Annotations\n",
    "\n",
    "Annotation occurs at the span level, and we want to map spans to the facts they overlap. \n",
    "\n",
    "We produce a file containing all the facts and related spans."
   ]
  },
  {
   "cell_type": "code",
   "execution_count": 1,
   "id": "ce1c3809",
   "metadata": {},
   "outputs": [],
   "source": [
    "import collections\n",
    "import glob \n",
    "import json\n",
    "import pandas as pd"
   ]
  },
  {
   "cell_type": "code",
   "execution_count": null,
   "id": "ada5f7b0",
   "metadata": {},
   "outputs": [],
   "source": []
  },
  {
   "cell_type": "code",
   "execution_count": 2,
   "id": "ff421247",
   "metadata": {},
   "outputs": [],
   "source": [
    "with open(\"collapsed-event-days-summaries.k=512.meta.json\", \"r\") as in_file:\n",
    "    summary_metadata = json.load(in_file)"
   ]
  },
  {
   "cell_type": "code",
   "execution_count": null,
   "id": "3c881328",
   "metadata": {},
   "outputs": [],
   "source": []
  },
  {
   "cell_type": "code",
   "execution_count": 3,
   "id": "97aed253",
   "metadata": {},
   "outputs": [],
   "source": [
    "req_fact_span_map = {}\n",
    "\n",
    "for k,v in summary_metadata.items():\n",
    "\n",
    "    this_meta = v[\"meta\"]\n",
    "    loc_to_fact_map = {}\n",
    "\n",
    "    for f_id,(start,end) in zip(this_meta[\"spans_facts\"],this_meta[\"spans_list\"]):\n",
    "        for i in range(start,end):\n",
    "            loc_to_fact_map[i] = (f_id, start, end)\n",
    "            \n",
    "    req_fact_span_map[k] = loc_to_fact_map\n"
   ]
  },
  {
   "cell_type": "code",
   "execution_count": null,
   "id": "72fb24bd",
   "metadata": {},
   "outputs": [],
   "source": []
  },
  {
   "cell_type": "code",
   "execution_count": 4,
   "id": "c8b7dd4f",
   "metadata": {},
   "outputs": [],
   "source": [
    "with open(\"merged-annotations.json\", \"r\") as in_file:\n",
    "    annotation_data = json.load(in_file)"
   ]
  },
  {
   "cell_type": "code",
   "execution_count": null,
   "id": "0bed6ec4",
   "metadata": {},
   "outputs": [],
   "source": []
  },
  {
   "cell_type": "code",
   "execution_count": 5,
   "id": "21ea4824",
   "metadata": {},
   "outputs": [],
   "source": [
    "annotators = {\n",
    "    \"redacted_user_id_01\" : \"assr_01\",\n",
    "    \"redacted_user_id_02\" : \"assr_02\",\n",
    "    \"redacted_user_id_03\" : \"assr_03\",\n",
    "    \"redacted_user_id_04\" : \"assr_04\",\n",
    "    \"redacted_user_id_05\" : \"assr_05\",\n",
    "    \"redacted_user_id_06\" : \"assr_06\",\n",
    "}"
   ]
  },
  {
   "cell_type": "code",
   "execution_count": null,
   "id": "58b6671a",
   "metadata": {},
   "outputs": [],
   "source": []
  },
  {
   "cell_type": "code",
   "execution_count": 6,
   "id": "ee8d51c3",
   "metadata": {},
   "outputs": [
    {
     "name": "stdout",
     "output_type": "stream",
     "text": [
      "CrisisFACTS-003-r5\n",
      "CrisisFACTS-003-r6\n",
      "CrisisFACTS-003-r7\n",
      "CrisisFACTS-003-r8\n",
      "CrisisFACTS-003-r9\n",
      "CrisisFACTS-003-r10\n",
      "CrisisFACTS-003-r11\n",
      "CrisisFACTS-004-r8\n",
      "CrisisFACTS-004-r9\n",
      "CrisisFACTS-004-r10\n",
      "CrisisFACTS-004-r11\n",
      "CrisisFACTS-004-r12\n",
      "CrisisFACTS-004-r13\n",
      "CrisisFACTS-004-r14\n",
      "CrisisFACTS-004-r15\n",
      "CrisisFACTS-004-r16\n",
      "CrisisFACTS-004-r17\n",
      "CrisisFACTS-004-r18\n",
      "CrisisFACTS-004-r19\n",
      "CrisisFACTS-004-r20\n",
      "CrisisFACTS-004-r21\n",
      "CrisisFACTS-004-r22\n",
      "CrisisFACTS-006-r4\n",
      "CrisisFACTS-006-r5\n",
      "CrisisFACTS-006-r6\n",
      "CrisisFACTS-006-r7\n",
      "CrisisFACTS-007-r13\n",
      "CrisisFACTS-007-r14\n",
      "CrisisFACTS-013-r0\n",
      "CrisisFACTS-013-r1\n",
      "CrisisFACTS-013-r2\n",
      "CrisisFACTS-013-r3\n",
      "CrisisFACTS-013-r4\n",
      "CrisisFACTS-013-r5\n",
      "CrisisFACTS-014-r0\n",
      "CrisisFACTS-014-r1\n",
      "CrisisFACTS-014-r2\n",
      "CrisisFACTS-014-r3\n",
      "CrisisFACTS-014-r4\n",
      "CrisisFACTS-014-r5\n",
      "CrisisFACTS-014-r6\n",
      "CrisisFACTS-001-r3\n",
      "CrisisFACTS-001-r4\n",
      "CrisisFACTS-001-r5\n",
      "CrisisFACTS-001-r6\n",
      "CrisisFACTS-001-r7\n",
      "CrisisFACTS-001-r8\n",
      "CrisisFACTS-001-r9\n",
      "CrisisFACTS-001-r10\n",
      "CrisisFACTS-001-r11\n",
      "CrisisFACTS-011-r0\n",
      "CrisisFACTS-011-r1\n",
      "CrisisFACTS-011-r2\n",
      "CrisisFACTS-011-r3\n",
      "CrisisFACTS-012-r0\n",
      "CrisisFACTS-012-r1\n",
      "CrisisFACTS-012-r2\n",
      "CrisisFACTS-012-r3\n",
      "CrisisFACTS-012-r4\n",
      "CrisisFACTS-012-r5\n",
      "CrisisFACTS-012-r6\n",
      "CrisisFACTS-016-r0\n",
      "CrisisFACTS-016-r1\n",
      "CrisisFACTS-016-r2\n",
      "CrisisFACTS-016-r3\n",
      "CrisisFACTS-017-r0\n",
      "CrisisFACTS-017-r1\n",
      "CrisisFACTS-017-r2\n",
      "CrisisFACTS-017-r3\n",
      "CrisisFACTS-017-r4\n",
      "CrisisFACTS-017-r5\n",
      "CrisisFACTS-018-r0\n",
      "CrisisFACTS-018-r1\n",
      "CrisisFACTS-018-r2\n",
      "CrisisFACTS-018-r3\n",
      "CrisisFACTS-018-r4\n",
      "CrisisFACTS-002-r2\n",
      "CrisisFACTS-002-r1\n",
      "CrisisFACTS-002-r3\n",
      "CrisisFACTS-002-r4\n",
      "CrisisFACTS-002-r5\n",
      "CrisisFACTS-002-r6\n",
      "CrisisFACTS-008-r3\n",
      "CrisisFACTS-008-r4\n",
      "CrisisFACTS-008-r5\n",
      "CrisisFACTS-008-r6\n",
      "CrisisFACTS-008-r7\n",
      "CrisisFACTS-008-r9\n",
      "CrisisFACTS-008-r8\n",
      "CrisisFACTS-008-r10\n",
      "CrisisFACTS-013-r6\n",
      "CrisisFACTS-005-r3\n",
      "CrisisFACTS-005-r4\n",
      "CrisisFACTS-005-r5\n",
      "CrisisFACTS-005-r6\n",
      "CrisisFACTS-010-r0\n",
      "CrisisFACTS-010-r1\n",
      "CrisisFACTS-010-r2\n",
      "CrisisFACTS-010-r3\n",
      "CrisisFACTS-010-r4\n",
      "CrisisFACTS-010-r5\n",
      "CrisisFACTS-011-r4\n",
      "CrisisFACTS-015-r0\n",
      "CrisisFACTS-015-r1\n",
      "CrisisFACTS-015-r2\n",
      "CrisisFACTS-015-r3\n",
      "CrisisFACTS-015-r4\n",
      "CrisisFACTS-015-r5\n",
      "CrisisFACTS-015-r6\n",
      "CrisisFACTS-016-r4\n",
      "CrisisFACTS-009-r1\n",
      "CrisisFACTS-009-r2\n",
      "CrisisFACTS-009-r3\n",
      "CrisisFACTS-009-r4\n",
      "CrisisFACTS-009-r5\n",
      "CrisisFACTS-009-r6\n",
      "CrisisFACTS-018-r5\n",
      "CrisisFACTS-009-r0\n"
     ]
    }
   ],
   "source": [
    "for req_id,req_data in annotation_data.items():\n",
    "    print(req_id)\n",
    "    \n",
    "    this_fact_span_map = req_fact_span_map[req_id]\n",
    "    \n",
    "    for span in req_data[\"spans\"]:\n",
    "        this_span_fact_set = set()\n",
    "        for i in range(span[\"start\"],span[\"end\"]):\n",
    "            this_span_fact_set.add(this_fact_span_map.get(i, (None,))[0])\n",
    "            \n",
    "        span[\"facts\"] = list(this_span_fact_set)\n",
    "        span[\"uid\"] = annotators.get(span[\"uid\"])\n",
    "\n",
    "    this_fact_list = [(f,s[\"uid\"],s[\"label\"]) for s in sorted(req_data[\"spans\"], key=lambda d: d[\"start\"]) for f in s[\"facts\"]]\n",
    "    req_data[\"fact_list\"] = this_fact_list"
   ]
  },
  {
   "cell_type": "code",
   "execution_count": null,
   "id": "b0f93f40",
   "metadata": {},
   "outputs": [],
   "source": []
  },
  {
   "cell_type": "code",
   "execution_count": 8,
   "id": "bb967c65",
   "metadata": {},
   "outputs": [],
   "source": [
    "with open(\"final-annotated-facts-results.json\", \"w\") as out_file:\n",
    "    json.dump(annotation_data, out_file)"
   ]
  }
 ],
 "metadata": {
  "kernelspec": {
   "display_name": "Python 3 (ipykernel)",
   "language": "python",
   "name": "python3"
  },
  "language_info": {
   "codemirror_mode": {
    "name": "ipython",
    "version": 3
   },
   "file_extension": ".py",
   "mimetype": "text/x-python",
   "name": "python",
   "nbconvert_exporter": "python",
   "pygments_lexer": "ipython3",
   "version": "3.9.12"
  }
 },
 "nbformat": 4,
 "nbformat_minor": 5
}
